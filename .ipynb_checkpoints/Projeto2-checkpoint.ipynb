{
 "cells": [
  {
   "cell_type": "markdown",
   "metadata": {},
   "source": [
    "# Projeto 2 - Classificador Automático de Sentimento\n",
    "\n",
    "Você foi contratado por uma empresa parar analisar como os clientes estão reagindo a um determinado produto no Twitter. A empresa deseja que você crie um programa que irá analisar as mensagens disponíveis e classificará como \"relevante\" ou \"irrelevante\". Com isso ela deseja que mensagens negativas, que denigrem o nome do produto, ou que mereçam destaque, disparem um foco de atenção da área de marketing.<br /><br />\n",
    "Como aluno de Ciência dos Dados, você lembrou do Teorema de Bayes, mais especificamente do Classificador Naive-Bayes, que é largamente utilizado em filtros anti-spam de e-mails. O classificador permite calcular qual a probabilidade de uma mensagem ser relevante dadas as palavras em seu conteúdo.<br /><br />\n",
    "Para realizar o MVP (*minimum viable product*) do projeto, você precisa implementar uma versão do classificador que \"aprende\" o que é relevante com uma base de treinamento e compara a performance dos resultados com uma base de testes.<br /><br />\n",
    "Após validado, o seu protótipo poderá também capturar e classificar automaticamente as mensagens da plataforma.\n",
    "\n",
    "## Informações do Projeto\n",
    "\n",
    "Prazo: 13/Set até às 23:59.<br />\n",
    "Grupo: 1 ou 2 pessoas.<br /><br />\n",
    "Entregáveis via GitHub: \n",
    "* Arquivo notebook com o código do classificador, seguindo as orientações abaixo.\n",
    "* Arquivo Excel com as bases de treinamento e teste totalmente classificado.\n",
    "\n",
    "**NÃO disponibilizar o arquivo com os *access keys/tokens* do Twitter.**\n",
    "\n",
    "\n",
    "### Check 3: \n",
    "\n",
    "Até o dia 06 de Setembro às 23:59, o notebook e o xlsx devem estar no Github com as seguintes evidências: \n",
    "    * Conta no twitter criada.\n",
    "    * Produto escolhido.\n",
    "    * Arquivo Excel contendo a base de treinamento e teste já classificado.\n",
    "    \n",
    "\n",
    "Sugestão de leitura:<br />\n",
    "http://docs.tweepy.org/en/v3.5.0/index.html<br />\n",
    "https://monkeylearn.com/blog/practical-explanation-naive-bayes-classifier/"
   ]
  },
  {
   "cell_type": "markdown",
   "metadata": {},
   "source": [
    "___\n",
    "\n",
    "## Preparando o ambiente\n",
    "\n",
    "Instalando a biblioteca *tweepy* para realizar a conexão com o Twitter:"
   ]
  },
  {
   "cell_type": "code",
   "execution_count": 2,
   "metadata": {
    "collapsed": true
   },
   "outputs": [],
   "source": [
    "%%capture\n",
    "\n",
    "#Instalando o tweepy\n",
    "!pip install tweepy"
   ]
  },
  {
   "cell_type": "markdown",
   "metadata": {},
   "source": [
    "Importando as Bibliotecas que serão utilizadas. Esteja livre para adicionar outras."
   ]
  },
  {
   "cell_type": "code",
   "execution_count": 3,
   "metadata": {
    "collapsed": true
   },
   "outputs": [],
   "source": [
    "import tweepy\n",
    "import math\n",
    "import os.path\n",
    "import pandas as pd\n",
    "import json\n",
    "from random import shuffle"
   ]
  },
  {
   "cell_type": "markdown",
   "metadata": {},
   "source": [
    "___\n",
    "## Autenticando no  Twitter\n",
    "\n",
    "Para realizar a captura dos dados é necessário ter uma conta cadastrada no twitter:\n",
    "\n",
    "* Conta: ***[Preencha aqui o id da sua conta. Ex: @fulano ]***\n",
    "\n",
    "\n",
    "1. Caso ainda não tenha uma: https://twitter.com/signup\n",
    "1. Depois é necessário registrar um app para usar a biblioteca: https://apps.twitter.com/\n",
    "1. Dentro do registro do App, na aba Keys and Access Tokens, anotar os seguintes campos:\n",
    "    1. Consumer Key (API Key)\n",
    "    1. Consumer Secret (API Secret)\n",
    "1. Mais abaixo, gere um Token e anote também:\n",
    "    1. Access Token\n",
    "    1. Access Token Secret\n",
    "    \n",
    "1. Preencha os valores no arquivo \"auth.pass\"\n",
    "\n",
    "**ATENÇÃO**: Nunca divulgue os dados desse arquivo online (GitHub, etc). Ele contém as chaves necessárias para realizar as operações no twitter de forma automática e portanto é equivalente a ser \"hackeado\". De posse desses dados, pessoas mal intencionadas podem fazer todas as operações manuais (tweetar, seguir, bloquear/desbloquear, listar os seguidores, etc). Para efeito do projeto, esse arquivo não precisa ser entregue!!!"
   ]
  },
  {
   "cell_type": "code",
   "execution_count": 4,
   "metadata": {
    "collapsed": true
   },
   "outputs": [],
   "source": [
    "#Dados de autenticação do twitter:\n",
    "\n",
    "#Coloque aqui o identificador da conta no twitter: @dudabicalhocd\n",
    "\n",
    "#leitura do arquivo no formato JSON\n",
    "with open('auth.pass') as fp:    \n",
    "    data = json.load(fp)\n",
    "\n",
    "#Configurando a biblioteca. Não modificar\n",
    "auth = tweepy.OAuthHandler(data['consumer_key'], data['consumer_secret'])\n",
    "auth.set_access_token(data['access_token'], data['access_token_secret'])"
   ]
  },
  {
   "cell_type": "markdown",
   "metadata": {},
   "source": [
    "___\n",
    "## Coletando Dados\n",
    "\n",
    "Agora vamos coletar os dados. Tenha em mente que dependendo do produto escolhido, não haverá uma quantidade significativa de mensagens, ou ainda poder haver muitos retweets.<br /><br /> \n",
    "Configurando:"
   ]
  },
  {
   "cell_type": "code",
   "execution_count": 5,
   "metadata": {
    "collapsed": true
   },
   "outputs": [],
   "source": [
    "#Produto escolhido:\n",
    "produto = 'Bradesco'\n",
    "\n",
    "#Quantidade mínima de mensagens capturadas:\n",
    "n = 500\n",
    "#Quantidade mínima de mensagens para a base de treinamento:\n",
    "t = 300\n",
    "\n",
    "#Filtro de língua, escolha uma na tabela ISO 639-1.\n",
    "lang = 'pt'"
   ]
  },
  {
   "cell_type": "markdown",
   "metadata": {},
   "source": [
    "Capturando os dados do twitter:"
   ]
  },
  {
   "cell_type": "code",
   "execution_count": 6,
   "metadata": {},
   "outputs": [
    {
     "ename": "TweepError",
     "evalue": "Twitter error response: status code = 400",
     "output_type": "error",
     "traceback": [
      "\u001b[0;31m---------------------------------------------------------------------------\u001b[0m",
      "\u001b[0;31mTweepError\u001b[0m                                Traceback (most recent call last)",
      "\u001b[0;32m<ipython-input-6-910742af87dd>\u001b[0m in \u001b[0;36m<module>\u001b[0;34m()\u001b[0m\n\u001b[1;32m      5\u001b[0m \u001b[0mi\u001b[0m \u001b[1;33m=\u001b[0m \u001b[1;36m1\u001b[0m\u001b[1;33m\u001b[0m\u001b[0m\n\u001b[1;32m      6\u001b[0m \u001b[0mmsgs\u001b[0m \u001b[1;33m=\u001b[0m \u001b[1;33m[\u001b[0m\u001b[1;33m]\u001b[0m\u001b[1;33m\u001b[0m\u001b[0m\n\u001b[0;32m----> 7\u001b[0;31m \u001b[1;32mfor\u001b[0m \u001b[0mmsg\u001b[0m \u001b[1;32min\u001b[0m \u001b[0mtweepy\u001b[0m\u001b[1;33m.\u001b[0m\u001b[0mCursor\u001b[0m\u001b[1;33m(\u001b[0m\u001b[0mapi\u001b[0m\u001b[1;33m.\u001b[0m\u001b[0msearch\u001b[0m\u001b[1;33m,\u001b[0m \u001b[0mq\u001b[0m\u001b[1;33m=\u001b[0m\u001b[0mproduto\u001b[0m\u001b[1;33m,\u001b[0m \u001b[0mlang\u001b[0m\u001b[1;33m=\u001b[0m\u001b[0mlang\u001b[0m\u001b[1;33m)\u001b[0m\u001b[1;33m.\u001b[0m\u001b[0mitems\u001b[0m\u001b[1;33m(\u001b[0m\u001b[1;33m)\u001b[0m\u001b[1;33m:\u001b[0m\u001b[1;33m\u001b[0m\u001b[0m\n\u001b[0m\u001b[1;32m      8\u001b[0m     \u001b[0mmsgs\u001b[0m\u001b[1;33m.\u001b[0m\u001b[0mappend\u001b[0m\u001b[1;33m(\u001b[0m\u001b[0mmsg\u001b[0m\u001b[1;33m.\u001b[0m\u001b[0mtext\u001b[0m\u001b[1;33m.\u001b[0m\u001b[0mlower\u001b[0m\u001b[1;33m(\u001b[0m\u001b[1;33m)\u001b[0m\u001b[1;33m)\u001b[0m\u001b[1;33m\u001b[0m\u001b[0m\n\u001b[1;32m      9\u001b[0m     \u001b[0mi\u001b[0m \u001b[1;33m+=\u001b[0m \u001b[1;36m1\u001b[0m\u001b[1;33m\u001b[0m\u001b[0m\n",
      "\u001b[0;32mC:\\Users\\milen\\Anaconda3\\lib\\site-packages\\tweepy\\cursor.py\u001b[0m in \u001b[0;36m__next__\u001b[0;34m(self)\u001b[0m\n\u001b[1;32m     47\u001b[0m \u001b[1;33m\u001b[0m\u001b[0m\n\u001b[1;32m     48\u001b[0m     \u001b[1;32mdef\u001b[0m \u001b[0m__next__\u001b[0m\u001b[1;33m(\u001b[0m\u001b[0mself\u001b[0m\u001b[1;33m)\u001b[0m\u001b[1;33m:\u001b[0m\u001b[1;33m\u001b[0m\u001b[0m\n\u001b[0;32m---> 49\u001b[0;31m         \u001b[1;32mreturn\u001b[0m \u001b[0mself\u001b[0m\u001b[1;33m.\u001b[0m\u001b[0mnext\u001b[0m\u001b[1;33m(\u001b[0m\u001b[1;33m)\u001b[0m\u001b[1;33m\u001b[0m\u001b[0m\n\u001b[0m\u001b[1;32m     50\u001b[0m \u001b[1;33m\u001b[0m\u001b[0m\n\u001b[1;32m     51\u001b[0m     \u001b[1;32mdef\u001b[0m \u001b[0mnext\u001b[0m\u001b[1;33m(\u001b[0m\u001b[0mself\u001b[0m\u001b[1;33m)\u001b[0m\u001b[1;33m:\u001b[0m\u001b[1;33m\u001b[0m\u001b[0m\n",
      "\u001b[0;32mC:\\Users\\milen\\Anaconda3\\lib\\site-packages\\tweepy\\cursor.py\u001b[0m in \u001b[0;36mnext\u001b[0;34m(self)\u001b[0m\n\u001b[1;32m    195\u001b[0m         \u001b[1;32mif\u001b[0m \u001b[0mself\u001b[0m\u001b[1;33m.\u001b[0m\u001b[0mcurrent_page\u001b[0m \u001b[1;32mis\u001b[0m \u001b[1;32mNone\u001b[0m \u001b[1;32mor\u001b[0m \u001b[0mself\u001b[0m\u001b[1;33m.\u001b[0m\u001b[0mpage_index\u001b[0m \u001b[1;33m==\u001b[0m \u001b[0mlen\u001b[0m\u001b[1;33m(\u001b[0m\u001b[0mself\u001b[0m\u001b[1;33m.\u001b[0m\u001b[0mcurrent_page\u001b[0m\u001b[1;33m)\u001b[0m \u001b[1;33m-\u001b[0m \u001b[1;36m1\u001b[0m\u001b[1;33m:\u001b[0m\u001b[1;33m\u001b[0m\u001b[0m\n\u001b[1;32m    196\u001b[0m             \u001b[1;31m# Reached end of current page, get the next page...\u001b[0m\u001b[1;33m\u001b[0m\u001b[1;33m\u001b[0m\u001b[0m\n\u001b[0;32m--> 197\u001b[0;31m             \u001b[0mself\u001b[0m\u001b[1;33m.\u001b[0m\u001b[0mcurrent_page\u001b[0m \u001b[1;33m=\u001b[0m \u001b[0mself\u001b[0m\u001b[1;33m.\u001b[0m\u001b[0mpage_iterator\u001b[0m\u001b[1;33m.\u001b[0m\u001b[0mnext\u001b[0m\u001b[1;33m(\u001b[0m\u001b[1;33m)\u001b[0m\u001b[1;33m\u001b[0m\u001b[0m\n\u001b[0m\u001b[1;32m    198\u001b[0m             \u001b[0mself\u001b[0m\u001b[1;33m.\u001b[0m\u001b[0mpage_index\u001b[0m \u001b[1;33m=\u001b[0m \u001b[1;33m-\u001b[0m\u001b[1;36m1\u001b[0m\u001b[1;33m\u001b[0m\u001b[0m\n\u001b[1;32m    199\u001b[0m         \u001b[0mself\u001b[0m\u001b[1;33m.\u001b[0m\u001b[0mpage_index\u001b[0m \u001b[1;33m+=\u001b[0m \u001b[1;36m1\u001b[0m\u001b[1;33m\u001b[0m\u001b[0m\n",
      "\u001b[0;32mC:\\Users\\milen\\Anaconda3\\lib\\site-packages\\tweepy\\cursor.py\u001b[0m in \u001b[0;36mnext\u001b[0;34m(self)\u001b[0m\n\u001b[1;32m    106\u001b[0m \u001b[1;33m\u001b[0m\u001b[0m\n\u001b[1;32m    107\u001b[0m         \u001b[1;32mif\u001b[0m \u001b[0mself\u001b[0m\u001b[1;33m.\u001b[0m\u001b[0mindex\u001b[0m \u001b[1;33m>=\u001b[0m \u001b[0mlen\u001b[0m\u001b[1;33m(\u001b[0m\u001b[0mself\u001b[0m\u001b[1;33m.\u001b[0m\u001b[0mresults\u001b[0m\u001b[1;33m)\u001b[0m \u001b[1;33m-\u001b[0m \u001b[1;36m1\u001b[0m\u001b[1;33m:\u001b[0m\u001b[1;33m\u001b[0m\u001b[0m\n\u001b[0;32m--> 108\u001b[0;31m             \u001b[0mdata\u001b[0m \u001b[1;33m=\u001b[0m \u001b[0mself\u001b[0m\u001b[1;33m.\u001b[0m\u001b[0mmethod\u001b[0m\u001b[1;33m(\u001b[0m\u001b[0mmax_id\u001b[0m\u001b[1;33m=\u001b[0m\u001b[0mself\u001b[0m\u001b[1;33m.\u001b[0m\u001b[0mmax_id\u001b[0m\u001b[1;33m,\u001b[0m \u001b[0mparser\u001b[0m\u001b[1;33m=\u001b[0m\u001b[0mRawParser\u001b[0m\u001b[1;33m(\u001b[0m\u001b[1;33m)\u001b[0m\u001b[1;33m,\u001b[0m \u001b[1;33m*\u001b[0m\u001b[0mself\u001b[0m\u001b[1;33m.\u001b[0m\u001b[0margs\u001b[0m\u001b[1;33m,\u001b[0m \u001b[1;33m**\u001b[0m\u001b[0mself\u001b[0m\u001b[1;33m.\u001b[0m\u001b[0mkargs\u001b[0m\u001b[1;33m)\u001b[0m\u001b[1;33m\u001b[0m\u001b[0m\n\u001b[0m\u001b[1;32m    109\u001b[0m \u001b[1;33m\u001b[0m\u001b[0m\n\u001b[1;32m    110\u001b[0m             \u001b[1;32mif\u001b[0m \u001b[0mhasattr\u001b[0m\u001b[1;33m(\u001b[0m\u001b[0mself\u001b[0m\u001b[1;33m.\u001b[0m\u001b[0mmethod\u001b[0m\u001b[1;33m,\u001b[0m \u001b[1;34m'__self__'\u001b[0m\u001b[1;33m)\u001b[0m\u001b[1;33m:\u001b[0m\u001b[1;33m\u001b[0m\u001b[0m\n",
      "\u001b[0;32mC:\\Users\\milen\\Anaconda3\\lib\\site-packages\\tweepy\\binder.py\u001b[0m in \u001b[0;36m_call\u001b[0;34m(*args, **kwargs)\u001b[0m\n\u001b[1;32m    243\u001b[0m             \u001b[1;32mreturn\u001b[0m \u001b[0mmethod\u001b[0m\u001b[1;33m\u001b[0m\u001b[0m\n\u001b[1;32m    244\u001b[0m         \u001b[1;32melse\u001b[0m\u001b[1;33m:\u001b[0m\u001b[1;33m\u001b[0m\u001b[0m\n\u001b[0;32m--> 245\u001b[0;31m             \u001b[1;32mreturn\u001b[0m \u001b[0mmethod\u001b[0m\u001b[1;33m.\u001b[0m\u001b[0mexecute\u001b[0m\u001b[1;33m(\u001b[0m\u001b[1;33m)\u001b[0m\u001b[1;33m\u001b[0m\u001b[0m\n\u001b[0m\u001b[1;32m    246\u001b[0m \u001b[1;33m\u001b[0m\u001b[0m\n\u001b[1;32m    247\u001b[0m     \u001b[1;31m# Set pagination mode\u001b[0m\u001b[1;33m\u001b[0m\u001b[1;33m\u001b[0m\u001b[0m\n",
      "\u001b[0;32mC:\\Users\\milen\\Anaconda3\\lib\\site-packages\\tweepy\\binder.py\u001b[0m in \u001b[0;36mexecute\u001b[0;34m(self)\u001b[0m\n\u001b[1;32m    227\u001b[0m                     \u001b[1;32mraise\u001b[0m \u001b[0mRateLimitError\u001b[0m\u001b[1;33m(\u001b[0m\u001b[0merror_msg\u001b[0m\u001b[1;33m,\u001b[0m \u001b[0mresp\u001b[0m\u001b[1;33m)\u001b[0m\u001b[1;33m\u001b[0m\u001b[0m\n\u001b[1;32m    228\u001b[0m                 \u001b[1;32melse\u001b[0m\u001b[1;33m:\u001b[0m\u001b[1;33m\u001b[0m\u001b[0m\n\u001b[0;32m--> 229\u001b[0;31m                     \u001b[1;32mraise\u001b[0m \u001b[0mTweepError\u001b[0m\u001b[1;33m(\u001b[0m\u001b[0merror_msg\u001b[0m\u001b[1;33m,\u001b[0m \u001b[0mresp\u001b[0m\u001b[1;33m,\u001b[0m \u001b[0mapi_code\u001b[0m\u001b[1;33m=\u001b[0m\u001b[0mapi_error_code\u001b[0m\u001b[1;33m)\u001b[0m\u001b[1;33m\u001b[0m\u001b[0m\n\u001b[0m\u001b[1;32m    230\u001b[0m \u001b[1;33m\u001b[0m\u001b[0m\n\u001b[1;32m    231\u001b[0m             \u001b[1;31m# Parse the response payload\u001b[0m\u001b[1;33m\u001b[0m\u001b[1;33m\u001b[0m\u001b[0m\n",
      "\u001b[0;31mTweepError\u001b[0m: Twitter error response: status code = 400"
     ]
    }
   ],
   "source": [
    "#Cria um objeto para a captura\n",
    "api = tweepy.API(auth)\n",
    "\n",
    "#Inicia a captura, para mais detalhes: ver a documentação do tweepy\n",
    "i = 1\n",
    "msgs = []\n",
    "for msg in tweepy.Cursor(api.search, q=produto, lang=lang).items():    \n",
    "    msgs.append(msg.text.lower())\n",
    "    i += 1\n",
    "    if i > n:\n",
    "        break\n",
    "\n",
    "#Embaralhando as mensagens para reduzir um possível viés\n",
    "shuffle(msgs)"
   ]
  },
  {
   "cell_type": "markdown",
   "metadata": {},
   "source": [
    "Salvando os dados em uma planilha Excel:"
   ]
  },
  {
   "cell_type": "code",
   "execution_count": 7,
   "metadata": {
    "collapsed": true
   },
   "outputs": [],
   "source": [
    "#Verifica se o arquivo não existe para não substituir um conjunto pronto\n",
    "if not os.path.isfile('./{0}.xlsx'.format(produto)):\n",
    "    \n",
    "    #Abre o arquivo para escrita\n",
    "    writer = pd.ExcelWriter('{0}.xlsx'.format(produto))\n",
    "\n",
    "    #divide o conjunto de mensagens em duas planilhas\n",
    "    dft = pd.DataFrame({'Treinamento' : pd.Series(msgs[:t])})\n",
    "    dft.to_excel(excel_writer = writer, sheet_name = 'Treinamento', index = False)\n",
    "\n",
    "    dfc = pd.DataFrame({'Teste' : pd.Series(msgs[t:])})\n",
    "    dfc.to_excel(excel_writer = writer, sheet_name = 'Teste', index = False)\n",
    "\n",
    "    #fecha o arquivo\n",
    "    writer.save()"
   ]
  },
  {
   "cell_type": "markdown",
   "metadata": {},
   "source": [
    "___\n",
    "## Classificando as Mensagens\n",
    "\n",
    "Agora você deve abrir o arquivo Excel com as mensagens capturadas e classificar na Coluna B se a mensagem é relevante ou não.<br /> \n",
    "Não se esqueça de colocar um nome para a coluna na célula **B1**.<br /><br />\n",
    "Fazer o mesmo na planilha de Controle.\n",
    "\n",
    "___\n",
    "## Montando o Classificador Naive-Bayes\n",
    "\n",
    "Com a base de treinamento montada, comece a desenvolver o classificador. Escreva o seu código abaixo:\n",
    "\n",
    "Opcionalmente: \n",
    "* Limpar as mensagens removendo os caracteres: enter, :, \", ', (, ), etc. Não remover emojis.<br />\n",
    "* Corrigir separação de espaços entre palavras e/ou emojis.\n",
    "* Propor outras limpezas/transformações que não afetem a qualidade da informação.\n",
    "\n"
   ]
  },
  {
   "cell_type": "code",
   "execution_count": 8,
   "metadata": {},
   "outputs": [
    {
     "name": "stdout",
     "output_type": "stream",
     "text": [
      "C:\\Users\\milen\\OneDrive\\Documentos\\2o SEMESTRE\\CDD\\Projeto2-CD\n"
     ]
    }
   ],
   "source": [
    "print(os.getcwd())\n",
    "dados = pd.read_excel('Bradesco.xlsx')"
   ]
  },
  {
   "cell_type": "code",
   "execution_count": 9,
   "metadata": {},
   "outputs": [
    {
     "name": "stdout",
     "output_type": "stream",
     "text": [
      "91\n"
     ]
    }
   ],
   "source": [
    "#pegando os dados interessantes para nos, Relevantes\n",
    "dr= dados.Respostas[dados.Relevancia=='r']\n",
    "print(len(dr))\n",
    "probder= 91/300"
   ]
  },
  {
   "cell_type": "code",
   "execution_count": 10,
   "metadata": {},
   "outputs": [
    {
     "name": "stdout",
     "output_type": "stream",
     "text": [
      "209\n"
     ]
    }
   ],
   "source": [
    "#Irrelevantes\n",
    "di= dados.Respostas[dados.Relevancia=='i']\n",
    "print(len(di))\n",
    "probdei=209/300"
   ]
  },
  {
   "cell_type": "code",
   "execution_count": 14,
   "metadata": {
    "scrolled": true
   },
   "outputs": [
    {
     "name": "stdout",
     "output_type": "stream",
     "text": [
      "606\n"
     ]
    }
   ],
   "source": [
    "dicior={} #dicionario que contem a palavra e a quantidade de vezes que ela aparece.\n",
    "palavras=[]\n",
    "Desconsiderar=0 #palavras que podemos desconsiderar, como sites\n",
    "# limpando as palavras e as adicionando a um dicionario\n",
    "for x in dr:\n",
    "    nomes=x.split()\n",
    "    for y in nomes:\n",
    "        p2=[]\n",
    "        if y[0]=='h' and y[1]=='t':\n",
    "            y='.'\n",
    "            Desconsiderar+=1\n",
    "        if y[0]== '@':\n",
    "            y='.'\n",
    "            Desconsiderar+=1\n",
    "        for i in y : \n",
    "            if i!= \":\" and i!=\"'\" and i!='\"' and i!=' ' and i!= \",\" and i!= \".\" and i!='?'and i!='!' and i!='(' and i!=')' :\n",
    "                p2.append(i)\n",
    "        a=\"\".join(p2)\n",
    "        palavras.append(a)\n",
    "        if x in dicior:\n",
    "            dicior[y]+=1\n",
    "        else:\n",
    "            dicior[y]=1\n",
    "        \n",
    "            \n",
    "#print(dicior)\n",
    "#print(palavras)\n",
    "\n",
    "#total de palavras relevantes\n",
    "tr=sum(dicior.values())-Desconsiderar\n",
    "print(tr)     "
   ]
  },
  {
   "cell_type": "code",
   "execution_count": 15,
   "metadata": {},
   "outputs": [
    {
     "name": "stdout",
     "output_type": "stream",
     "text": [
      "2687\n"
     ]
    }
   ],
   "source": [
    "dicioi={} #dicionario que contem a palavra e a quantidade de vezes que ela aparece.\n",
    "palavrasi=[]\n",
    "Desconsiderari=0 #palavras que podemos desconsiderar, como sites\n",
    "# limpando as palavras e as adicionando a um dicionario\n",
    "for x in di:\n",
    "    nomes=x.split()\n",
    "    for y in nomes:\n",
    "        p2=[]\n",
    "        if y[0]=='h' and y[1]=='t':\n",
    "            y='.'\n",
    "            Desconsiderari+=1\n",
    "        if y[0]== '@':\n",
    "            y='.'\n",
    "            Desconsiderari+=1  \n",
    "        for i in y:\n",
    "            if i!= \":\" and i!=\"'\" and i!='\"' and i!=' ' and i!= \",\" and i!= \".\" and i!='?'and i!='!' and i!='(' and i!=')' and i!='…' :\n",
    "                p2.append(i)\n",
    "        a=\"\".join(p2)\n",
    "        palavrasi.append(a)\n",
    "        if y in dicioi:\n",
    "            dicioi[y]+=1\n",
    "        else:\n",
    "            dicioi[y]=1\n",
    "\n",
    "#print(dicioi)\n",
    "#print(palavrasi)\n",
    "\n",
    "#total de palavras irrelevantes\n",
    "ti=sum(dicioi.values())-Desconsiderari\n",
    "print(ti)"
   ]
  },
  {
   "cell_type": "code",
   "execution_count": 16,
   "metadata": {},
   "outputs": [
    {
     "name": "stdout",
     "output_type": "stream",
     "text": [
      "1295\n"
     ]
    }
   ],
   "source": [
    "#total de palavras existentes nos tweets\n",
    "soma=len(dicioi)\n",
    "for i in dicior:\n",
    "    if i in dicioi:\n",
    "        soma+=0\n",
    "    else:\n",
    "        soma+=1\n",
    "\n",
    "t=soma \n",
    "print(t)"
   ]
  },
  {
   "cell_type": "code",
   "execution_count": 22,
   "metadata": {},
   "outputs": [
    {
     "name": "stdout",
     "output_type": "stream",
     "text": [
      "5.534339051873636e-07\n"
     ]
    }
   ],
   "source": [
    "#probabilidade da frase ser relevante\n",
    "\n",
    "frase=\"muito ruim\" #frase de exemplo\n",
    "def probabr(frase,dicior,tr,t):\n",
    "    nomes=frase.split()\n",
    "    pfr=1\n",
    "    for i in nomes:\n",
    "        if i in dicior:\n",
    "            pa=(dicior[i]+1)/(tr+t)\n",
    "            pfr*=pa\n",
    "        else:\n",
    "            pa=1/(tr+t)\n",
    "            pfr*=pa\n",
    "    return pfr\n",
    "    \n",
    "print(probabr(frase,dicior,tr,t))"
   ]
  },
  {
   "cell_type": "code",
   "execution_count": 23,
   "metadata": {},
   "outputs": [
    {
     "name": "stdout",
     "output_type": "stream",
     "text": [
      "1.2613263957018036e-07\n"
     ]
    }
   ],
   "source": [
    "#probabilidade da frase ser irrelevante\n",
    "\n",
    "frase=\"muito ruim\"\n",
    "def probabi(frase,dicioi,ti,t):\n",
    "    nomes=frase.split()\n",
    "    pfi=1\n",
    "    for i in nomes:\n",
    "        if i in dicioi:\n",
    "            pa= (dicioi[i]+1)/(ti+t)\n",
    "            pfi*=pa\n",
    "        else:\n",
    "            pa=1/(ti+t)\n",
    "            pfi*=pa\n",
    "    return pfi\n",
    "print(probabi(frase,dicioi,ti,t))"
   ]
  },
  {
   "cell_type": "code",
   "execution_count": 24,
   "metadata": {},
   "outputs": [
    {
     "name": "stdout",
     "output_type": "stream",
     "text": [
      "É relevante\n"
     ]
    }
   ],
   "source": [
    "#comparando qual probabilidade é maior, para vermos se a frase é ou não releante\n",
    "if probabi(frase,dicioi,ti,t)<probabr(frase,dicior,tr,t):\n",
    "    print('É relevante')\n",
    "else:\n",
    "    print('É irrelevante')"
   ]
  },
  {
   "cell_type": "markdown",
   "metadata": {},
   "source": [
    "___\n",
    "## Verificando a performance\n",
    "\n",
    "Agora você deve testar o seu Classificador com a base de Testes.<br /><br /> \n",
    "\n",
    "Você deve extrair as seguintes medidas:\n",
    "* Porcentagem de positivos falsos (marcados como relevante mas não são relevantes)\n",
    "* Porcentagem de positivos verdadeiros (marcado como relevante e são relevantes)\n",
    "* Porcentagem de negativos verdadeiros (marcado como não relevante e não são relevantes)\n",
    "* Porcentagem de negativos falsos (marcado como não relevante e são relevantes)\n",
    "\n",
    "Opcionalmente:\n",
    "* Criar categorias intermediárias de relevância baseado na diferença de probabilidades. Exemplo: muito relevante, relevante, neutro, irrelevante e muito irrelevante."
   ]
  },
  {
   "cell_type": "code",
   "execution_count": 25,
   "metadata": {
    "scrolled": true
   },
   "outputs": [
    {
     "name": "stdout",
     "output_type": "stream",
     "text": [
      "C:\\Users\\milen\\OneDrive\\Documentos\\2o SEMESTRE\\CDD\\Projeto2-CD\n"
     ]
    }
   ],
   "source": [
    "print(os.getcwd())\n",
    "dados2 = pd.read_excel('Bradesco.xlsx', 1)"
   ]
  },
  {
   "cell_type": "code",
   "execution_count": 26,
   "metadata": {},
   "outputs": [
    {
     "name": "stdout",
     "output_type": "stream",
     "text": [
      "0          só o bradesco que n vai ter feriadão, q bosta\n",
      "1      novidades bradesco saúde. https://t.co/ndk1na7vag\n",
      "2      são 84 cursos grátis e com certificado da fund...\n",
      "3      @bradesco cheguei 12:05h agência cachambi em f...\n",
      "4      rt @bradesco: a história de orgulho dos gaúcho...\n",
      "5      eu oficialmente detesto o bradesco e essa agên...\n",
      "6      humilhada na chuva na porta do bradesco com um...\n",
      "7      @marcosrebello01 olá! por favor, nos passe ess...\n",
      "8      rt @bradesco: a história de orgulho dos gaúcho...\n",
      "9      meninas que confundem santander com bradesco s...\n",
      "10     vontade de tomar um chima pqp https://t.co/5g3...\n",
      "11     o banco do br ia voltar essa semana, aí explod...\n",
      "12     rt @marcelomassaobr: i'm at banco bradesco in ...\n",
      "13     salgueiro-pe: bandidos sequestram gerente admi...\n",
      "14     rt @bradesco: a história de orgulho dos gaúcho...\n",
      "15                      @oiayres olá! o que foi cobrado?\n",
      "16     rt @bradesco: a história de orgulho dos gaúcho...\n",
      "17     @bradesco bloquear e pedir uma nova via do meu...\n",
      "18     polícia prende dois suspeitos de participação ...\n",
      "19     @_musselli bradesco poupança salva o mc de cad...\n",
      "20     tentei sacar dinheiro no @bradesco mais de qui...\n",
      "21     $bbdc4+A23:A141 - bradesco (bbdc-n1) - ata reu...\n",
      "22     uma youtuber que despreza a tv não tem um cont...\n",
      "23     @bradesco olá, o nome é investifacil. tentei c...\n",
      "24                    @tridestilada oi! o que aconteceu?\n",
      "25     rt @umvesgo: e até quem me vê na fila do brade...\n",
      "26     ex-bancários do bec assinam acordo com o brade...\n",
      "27     @bradesco pq não tem se passou o mês tirando m...\n",
      "28     umburanas: com suspeita de vandalismo, dupla a...\n",
      "29     rt @umvesgo: e até quem me vê na fila do brade...\n",
      "                             ...                        \n",
      "170    @bradesco 🤔 \"ícone cartões\" https://t.co/b2cc0...\n",
      "171                  que saudade https://t.co/60yc5d7utp\n",
      "172         se eu pudesse explodir o bradesco eu faria 😒\n",
      "173    rt @bradesco: a história de orgulho dos gaúcho...\n",
      "174    @loongleo pelo site foi possível pagar o valor...\n",
      "175           sdds do meu rs ❤💚💛 https://t.co/sydtbp66jd\n",
      "176    @lucaasrf olá! qual a descrição do investiment...\n",
      "177    @fbnonato é conta do bradesco e em dinheiro me...\n",
      "178        @tomlopesx vc conseguiu falar na sua agência?\n",
      "179          @bradesco só conta salário e conta poupança\n",
      "180    rt @umvesgo: e até quem me vê na fila do brade...\n",
      "181    aposentados,pensionistas de órgãos federais  f...\n",
      "182    sempre que venho no bradesco eu passo raiva, m...\n",
      "183    rt @bradesco: a história de orgulho dos gaúcho...\n",
      "184    rt @cut_brasil: assinados 4 acordos coletivos ...\n",
      "185    bandidos roubam agência do bradesco no centro ...\n",
      "186     grcas a deus o ap do bradesco voltou a funcionar\n",
      "187    explosão da agência bancária do  bradesco da p...\n",
      "188    rt @gilbertosix: @bradesco @umcartao quem vai ...\n",
      "189    #timbeta #betaajudabeta #timbetaajudatimbeta #...\n",
      "190    @nery_mateus ...bradesco visa e mastercard e v...\n",
      "191    que isso @bradesco  eu que agradeço! ❤ https:/...\n",
      "192    rt @umvesgo: e até quem me vê na fila do brade...\n",
      "193    num aguento mais me estressar com o bradesco!!...\n",
      "194    acho incrivel a propaganda do bradesco que te ...\n",
      "195    rt @bradesco: a história de orgulho dos gaúcho...\n",
      "196    @bradesco minha conta é universitária, não ten...\n",
      "197    rt @rodpocket: adoçante\\n\\nbradesco\\ncc 770-6\\...\n",
      "198    não existe um banco com sistema mais \"indispon...\n",
      "199    bandidos explodem agência do bradesco na prefe...\n",
      "Name: Tweets, dtype: object\n"
     ]
    }
   ],
   "source": [
    "#pegando os dados para a analise\n",
    "dados2.head()\n",
    "d2= dados2.Tweets\n",
    "dad2=dados2.Relevancia\n",
    "print(d2)"
   ]
  },
  {
   "cell_type": "code",
   "execution_count": 34,
   "metadata": {},
   "outputs": [
    {
     "name": "stdout",
     "output_type": "stream",
     "text": [
      "só o bradesco que n vai ter feriadão, q bosta\n",
      "novidades bradesco saúde. https://t.co/ndk1na7vag\n",
      "são 84 cursos grátis e com certificado da fundação bradesco, aproveite para dar um up em sua carreira!\n",
      "marque... https://t.co/4hgfb79rsk\n",
      "rt @bradesco: a história de orgulho dos gaúchos vira festa em setembro. a semana farroupilha tá chegando! vem conhecer mais: https://t.co/h…\n",
      "eu oficialmente detesto o bradesco e essa agência 👌👌\n",
      "humilhada na chuva na porta do bradesco com uma mochila de 30 kg\n",
      "@marcosrebello01 olá! por favor, nos passe essas informações e envie mais detalhes para o e-mail 4165.patrocinios@bradesco.com.br. :)\n",
      "rt @bradesco: a história de orgulho dos gaúchos vira festa em setembro. a semana farroupilha tá chegando! vem conhecer mais: https://t.co/h…\n",
      "meninas que confundem santander com bradesco só pq é tudo vermelho me add\n",
      "o banco do br ia voltar essa semana, aí explodem o banco do bradesco, oh povo sem sorte\n",
      "rt @marcelomassaobr: i'm at banco bradesco in são paulo https://t.co/zwqdflsqd2\n",
      "rt @bradesco: a história de orgulho dos gaúchos vira festa em setembro. a semana farroupilha tá chegando! vem conhecer mais: https://t.co/h…\n",
      "@oiayres olá! o que foi cobrado?\n",
      "rt @bradesco: a história de orgulho dos gaúchos vira festa em setembro. a semana farroupilha tá chegando! vem conhecer mais: https://t.co/h…\n",
      "@bradesco bloquear e pedir uma nova via do meu cartão múltiplo\n",
      "polícia prende dois suspeitos de participação do assalto ao bradesco de brejo do cruz https://t.co/rolamf4exb via @blog do f. silva\n",
      "@_musselli bradesco poupança salva o mc de cada dia nos dai hoje\n",
      "$bbdc4+A23:A141 - bradesco (bbdc-n1) - ata reuniao do conselho de administracao - 29/08/17 https://t.co/ydzcj6xfsb\n",
      "uma youtuber que despreza a tv não tem um contrato há 5 meses (e recusou marca grande, tipo bradesco) e agora tá falindo\n",
      "\n",
      "estou rindo muito\n",
      "@bradesco olá, o nome é investifacil. tentei cancelar ontem e fui enrolado por 15 minutos pelo atendente do fonefacil....\n",
      "@tridestilada oi! o que aconteceu?\n",
      "rt @umvesgo: e até quem me vê na fila do bradesco sabe que eu te encontrei\n",
      "ex-bancários do bec assinam acordo com o bradesco – bancários joinville https://t.co/vfmnfkcgnv\n",
      "umburanas: com suspeita de vandalismo, dupla aciona explosivo e destrói posto do bradesco https://t.co/d5j3kufbve\n",
      "rt @umvesgo: e até quem me vê na fila do bradesco sabe que eu te encontrei\n",
      "rt @bradesco: a história de orgulho dos gaúchos vira festa em setembro. a semana farroupilha tá chegando! vem conhecer mais: https://t.co/h…\n",
      "ladrões explodem caixa eletrônico do bradesco na prefeitura de campina grande; pm ainda recupera… https://t.co/mz4pduasia\n",
      "rt @bradesco: a história de orgulho dos gaúchos vira festa em setembro. a semana farroupilha tá chegando! vem conhecer mais: https://t.co/h…\n",
      "@bradesco oi isa bom dia. cá estou na agencia do bradesco e apenas 2 cx funcionando em época de pgto de idosos e se… https://t.co/bbvr6jsccx\n",
      "rt @catracalivre: de vivaldi à anitta, família lima se apresenta no teatro bradesco https://t.co/snpobknylu via @catracalivrebh\n",
      "rt @bradesco: a história de orgulho dos gaúchos vira festa em setembro. a semana farroupilha tá chegando! vem conhecer mais: https://t.co/h…\n",
      "a história de orgulho dos gaúchos vira festa em setembro. a semana farroupilha tá chegando! vem conhecer mais:… https://t.co/xjztq6a3ge\n",
      "no bradesco tem 20 na minha frente santander tem 30. bancos são uma tortura!\n",
      "@bradesco esse erro é geral ou só o meu que tá assim? @alobradesco https://t.co/ylyfzyvn23\n",
      "rt @bradesco: a história de orgulho dos gaúchos vira festa em setembro. a semana farroupilha tá chegando! vem conhecer mais: https://t.co/h…\n",
      "aqui nesse bradesco expresso a fila é a pequena. aff\n",
      "rt @umvesgo: e até quem me vê na fila do bradesco sabe que eu te encontrei\n",
      "rt @umvesgo: e até quem me vê na fila do bradesco sabe que eu te encontrei\n",
      "rt @umvesgo: e até quem me vê na fila do bradesco sabe que eu te encontrei\n",
      "rt @umvesgo: e até quem me vê na fila do bradesco sabe que eu te encontrei\n",
      "eu achei que a festa do orgulho dos gaúchos era a parada gay\n",
      "\n",
      "kkk trollei jc cadê a tampa https://t.co/oojgarnesb\n",
      "eu tentei usar o banco da caixa mas sem condições, fui feita de palhaça duas vezes, estou transferindo tudo pro bradesco msm que ganho mais\n",
      "@flaviuspeu olá! por onde está tentando acessar? o que acontece quando tenta acessar?\n",
      "rt @bradesco: a história de orgulho dos gaúchos vira festa em setembro. a semana farroupilha tá chegando! vem conhecer mais: https://t.co/h…\n",
      "@ju_santiagoo itau e bradesco\n",
      "quadrilha explode banco bradesco em itanhandu/mg – portal mix vale | 12 981430089 (whatsapp) https://t.co/kkm4wrvxrs https://t.co/jn0kpkkef1\n",
      "alguém sabe onde tem traumato que atenda pelo bradesco?\n",
      "@tanuke agora vai ser possível pagar com débito também, restrito inicialmente a dois bancos (santander e bradesco s… https://t.co/fprpiccqou\n",
      "rt @bradesco: a história de orgulho dos gaúchos vira festa em setembro. a semana farroupilha tá chegando! vem conhecer mais: https://t.co/h…\n",
      "@yssacamaargo1 olá! em qual agência vc esteve e qual serviço precisava realizar?\n",
      "to realizando uma busca aqui pra ver onde foi que o bradesco enfiou o dinheiro q investi que nunca acho https://t.co/yfwiqzrs4a\n",
      "rt @kaizeira: @bradesco tive que entrar descalço na agência só pq tinha um prego no meu chinelo\n",
      "rt @bancariosbahia: explosão na agência bradesco de itanagra. https://t.co/9fsuuucpmd #itanagra #bancariosbahia #bradesco #explosao #ataque…\n",
      "rt @umvesgo: e até quem me vê na fila do bradesco sabe que eu te encontrei\n",
      "rt @bradesco: a história de orgulho dos gaúchos vira festa em setembro. a semana farroupilha tá chegando! vem conhecer mais: https://t.co/h…\n",
      "tem homem q é burro os cr meche , os cr pede p ficar no sigilo mas o besta tá la kkkk um do lado do outro igual bradesco lado a lado c vc 😂\n",
      "@karenccanuto oi! o que aconteceu? =/\n",
      "rt @bradesco: a história de orgulho dos gaúchos vira festa em setembro. a semana farroupilha tá chegando! vem conhecer mais: https://t.co/h…\n",
      "rt @micabitencourt: só o bradesco que n vai ter feriadão, q bosta\n",
      "rt @hpcharles77: alienado esse torcedor do bradesco, né? ebm não criou apenas a mentalidade derrotada no flamengo, criou um exército de zum…\n",
      "@joaoaugustojoy olá! vc já tentou acessar utilizando outra conexão? qual é a versão do app que está utilizando?\n",
      "@bradesco colegas, qual o horário limite p/ pagamento de boletos de outro banco pelo mobile? aconteceu algo estranho ontem, um erro acho\n",
      "impossível falar c a central de atendimentos do @bradesco. nas 2 tentativas a ligação caiu dps de 15 min de espera e o chat não ajuda em nda\n",
      "@cleberabrahao olá! sinto muito pelo ocorrido. =/ você fez o pedido de um novo através da central?\n",
      "trabalhadores assinam acordos específicos com o bradesco https://t.co/by94q0lzzv via @contrafcut https://t.co/gxz54zwskx\n",
      "@essesusersai fui pra frente do bradesco\n",
      "então aqueles 4 aviões que caíram(derrubados) não tem relação com essas denúncias ? eduardo campos, vice-pres bradesco, ex-pres vale e teori\n",
      "@bradesco tô com dificuldade de tirar o dinheiro da minha conta, me ajuda\n",
      "rt @micabitencourt: só o bradesco que n vai ter feriadão, q bosta\n",
      "@bradesco tem como cadastrar o token do app pelo telefone ou somente na agência?\n",
      "30min e não resolveu nada ta de sacanagem @bradesco\n",
      "vei, passei no bradesco ontem bêbado e disparei o alarme da agencia kkkkkkkķkkkk como eu fiz isso??\n",
      "@ramonkirida olá! o que houve exatamente?\n",
      "rt @umvesgo: e até quem me vê na fila do bradesco sabe que eu te encontrei\n",
      "cara, fiz a cotação de uma s10 aqui na zurich.. 12 mil bicho... 9 mais a mais comparado com a bradesco, que diferença absurda\n",
      "@madcamp @bradesco é impressionante como o internet banking não funciona\n",
      "rt @umvesgo: e até quem me vê na fila do bradesco sabe que eu te encontrei\n",
      "rt @umvesgo: e até quem me vê na fila do bradesco sabe que eu te encontrei\n",
      "rt @janainamx: i'm at bradesco - ag. jaboatão https://t.co/ck2tgwich9\n",
      "rt @betoaraujo20: se eu pudesse explodir o bradesco eu faria 😒\n",
      "estamos em 2017, e o @bradesco ainda demora 72h pra constar o pagamento no sistema.\n",
      "\n",
      "3 dias é tempo demais.\n",
      "gostei de um vídeo @youtube https://t.co/gmukvrlqtd comprar dash, bitcoin, z-cash no itau, bradesco, bb e outros bancos\n",
      "rt @bradesco: a história de orgulho dos gaúchos vira festa em setembro. a semana farroupilha tá chegando! vem conhecer mais: https://t.co/h…\n",
      "posto do bradesco é alvo de explosão nesta terça-feira https://t.co/brtvxqexsv https://t.co/ahjke280i3\n",
      "@ricardogomesrj @bradesco te mandei por inbox. talvez o @itau seja o banco que você precisa. não tenho do que reclamar...\n",
      "@nilberto_rocha posso registrar a reclamação para agência. qual o seu telefone com ddd, por favor? :)\n",
      "@ngbrito olá! você está ligando no fone fácil? qual serviço precisa realizar?\n",
      "@helioqueirozc @gugachacra trabalho no bradesco, to no horário de almoço, curso economia. se é pra fazer argumento… https://t.co/9rtskchfdd\n",
      "@sepulvedaweed ela explicou o que é a cesta de serviços e por qual motivo em um mês foi cobrada mais de uma cesta? ficou alguma dúvida?\n",
      "@dinardorc oi! você tem a chave de segurança e o cartão da conta ativo?\n",
      "bradesco soma cerca de 7 mil adesões no primeiro pdv de sua história. veja: https://t.co/tt7hx999ty\n",
      "@padecenzo olá! em qual agência você está/esteve?\n",
      "bad mesmo é essa fila do bradesco aff\n",
      "@bradesco então é o de débito, pedi um novo que o meu já era ela me deu 10 dias pra chegar mais já passou bem mais\n",
      "@bradesco_ não faz essa pergunta não kkkkkkjjj, olha que eu falo\n",
      "qnd a primeira coisa que vc faz no dia é pegar uma fila do bradesco https://t.co/flq0ysanxj\n",
      "tenho que ir no bradesco e na lotérica pqp\n",
      " deus me defenderay\n",
      "i'm at bradesco in mesquita, rj https://t.co/hwutrmcifm\n",
      "jovem aprendiz bradesco - pré inscrições 2017 https://t.co/wpauj59hge\n",
      "posto do bradesco é alvo de explosão nesta terça-feira no agreste - https://t.co/w5ctfelodi https://t.co/gdyozu3oo7\n",
      "@guis_les oi! o que aconteceu?\n",
      "@helenasbrissia @lezenhe tem nao, só bradesco\n",
      "\"é para sua segurança\"  \n",
      "segurança de cu é rola!  \n",
      "bradesco é seguro e bem + simples.  \n",
      "ñ precisa d trocentas senhas e de desbloq dispositiv\n",
      "falsidade é igual a bradesco lado a lado  cmg 😓\n",
      "i'm at bradesco in maceió, al w/ @lucivanioferre4 @deysemaciel2 https://t.co/loivnkwwno\n",
      "@bealriana oi! você precisa recadastrar o token? o que aconteceu?\n",
      "já aqui bem linda quebrando o pau com a @bradesco\n",
      "#meajuda @proconspoficial o @bradesco passou dos limites, total falta de respeito com clientes\n",
      "rt @umvesgo: e até quem me vê na fila do bradesco sabe que eu te encontrei\n",
      "jovem aprendiz bradesco - pré inscrições 2017 https://t.co/fm0fyqgqvo\n",
      "i'm at fundação bradesco in gravataí, rs https://t.co/pyrt5746ue\n",
      "@bryan_krauss olá! vc não recebeu o cartão? é o de crédito ou de débito?\n",
      "rt @bradesco: a história de orgulho dos gaúchos vira festa em setembro. a semana farroupilha tá chegando! vem conhecer mais: https://t.co/h…\n",
      "elementos explodiram a agência do bradesco em umburanas https://t.co/fitymlubby https://t.co/ps9gi472pw\n",
      "rt @bradesco: a história de orgulho dos gaúchos vira festa em setembro. a semana farroupilha tá chegando! vem conhecer mais: https://t.co/h…\n",
      "posto do bradesco é alvo de explosão em feira nova, no agreste https://t.co/7fq4yv5k0v\n",
      "rt @bradesco: a história de orgulho dos gaúchos vira festa em setembro. a semana farroupilha tá chegando! vem conhecer mais: https://t.co/h…\n",
      "$bbdc3 - bradesco (bbdc-n1) - ata reuniao do conselho de administracao - 29/08/17 https://t.co/inx9wgymdl\n",
      "a fila do bradesco acaba c o pouco de paciência q eu tenho\n",
      "@bradesco sim, já fui em todas as abas e aparece aquilo q mandei no print aqui\n",
      "rt @micabitencourt: só o bradesco que n vai ter feriadão, q bosta\n",
      "tô apaixonado na menina que vi no bradesco de manhã\n",
      "rt @umvesgo: e até quem me vê na fila do bradesco sabe que eu te encontrei\n",
      "talvez com um órgão de fiscalização justo e digno como o @proconspoficial , a minha solicitação com o @bradesco seja resolvida\n",
      "rt @umvesgo: e até quem me vê na fila do bradesco sabe que eu te encontrei\n",
      "rt @bahianoticias: umburanas: com suspeita de vandalismo, dupla aciona explosivo e destrói posto do bradesco https://t.co/xz4os4buvy https:…\n",
      "o teatro bradesco apresenta o musical “hey jude – the beatles tribute” no próximo dia 14 #teatrobradescorio… https://t.co/t31hrqiuzn\n",
      "rt @cleberabrahao: olá @bradesco \n",
      "meu cartão deu problema no chip, só este ano é a terceira vez. \n",
      "\n",
      "parabéns, pode pedir música no fantástic…\n",
      "@bradesco problemas ao cancelar a conta ...\n",
      "polícia prende dois suspeitos de participação do assalto ao banco bradesco de brejo do… https://t.co/h0tgje8uyf https://t.co/jdtxwsgys5\n",
      "umburanas: com suspeita de vandalismo, dupla aciona explosivo e destrói posto do bradesco https://t.co/xz4os4buvy https://t.co/pkdewo1xbo\n",
      "@sadboydotc0m olá! qual serviço precisa fazer através do fone fácil?\n",
      "3 série unibrad bradesco 5 de 6 desafios na avaliação de resultados: https://t.co/v8cow14gvk via @youtube\n",
      "é mto errado se apaixonar pela atendente do @bradesco ?\n",
      "cuidando do pouco que tenho.. (@ bradesco exclusive 1º andar) https://t.co/5ftogseqeu\n",
      "@halcke @waifinha @billy_mkii so os malucos que jogaram o bradesco conta corrente no mega drive\n",
      "$bbdc4 - bradesco (bbdc-n1) - ata reuniao do conselho de administracao - 29/08/17 https://t.co/4ydrbeuokc\n",
      "i'm at bradesco in são paulo https://t.co/bhnt60qes9\n",
      "rt @bradesco: a história de orgulho dos gaúchos vira festa em setembro. a semana farroupilha tá chegando! vem conhecer mais: https://t.co/h…\n",
      "nada do app bradesco cartões no windows 10 mobile né @bradesco\n",
      "rt @umvesgo: e até quem me vê na fila do bradesco sabe que eu te encontrei\n",
      "@bealriana pedi que verifiquem a possibilidade de cadastro e tentem contato com vc.\n",
      "um bradesco bem em frente da favela é viagem\n",
      "rt @bradesco: a história de orgulho dos gaúchos vira festa em setembro. a semana farroupilha tá chegando! vem conhecer mais: https://t.co/h…\n",
      "rt @bradesco: a história de orgulho dos gaúchos vira festa em setembro. a semana farroupilha tá chegando! vem conhecer mais: https://t.co/h…\n",
      "protocolo aberto há mais de 5 meses e até hoje o @bradesco não resolveu a situação que nós (cliente) solicitamos, me ajuda @proconspoficial\n",
      "rt @bradesco: a história de orgulho dos gaúchos vira festa em setembro. a semana farroupilha tá chegando! vem conhecer mais: https://t.co/h…\n",
      "polícia prende dois suspeitos de participação do assalto ao banco bradesco de brejo do cruz, pb https://t.co/q9eomrqqjd\n",
      "@bradesco precisa ter a chave tbm? pq mudei de celular e to sem :)\n",
      "@bealriana por aqui eu posso pedir para área responsável verificar a possibilidade do cadastro. o seu telefone continua o mesmo final 8074?\n",
      "rt @bradesco: a história de orgulho dos gaúchos vira festa em setembro. a semana farroupilha tá chegando! vem conhecer mais: https://t.co/h…\n",
      "alguém desse terceiro ano 2017 da fundação bradesco quer comunicação lá na unb? ou conhecem alguém de lá que queira? up up up\n",
      "@bradesco preciso da minha chave de segurança para acessar a minha conta pelo internet banking\n",
      "que saudade https://t.co/60yc5d7utp\n",
      "se eu pudesse explodir o bradesco eu faria 😒\n",
      "rt @bradesco: a história de orgulho dos gaúchos vira festa em setembro. a semana farroupilha tá chegando! vem conhecer mais: https://t.co/h…\n",
      "@lucaasrf olá! qual a descrição do investimento no extrato da conta?\n",
      "@fbnonato é conta do bradesco e em dinheiro mesmo. 😰\n",
      "@tomlopesx vc conseguiu falar na sua agência?\n",
      "@bradesco só conta salário e conta poupança\n",
      "rt @umvesgo: e até quem me vê na fila do bradesco sabe que eu te encontrei\n",
      "aposentados,pensionistas de órgãos federais  ficam sem receber salários do mês de agosto, que recebem nos bancos bradesco e itaú #foratemer\n",
      "sempre que venho no bradesco eu passo raiva, misericórdia\n",
      "rt @bradesco: a história de orgulho dos gaúchos vira festa em setembro. a semana farroupilha tá chegando! vem conhecer mais: https://t.co/h…\n",
      "rt @cut_brasil: assinados 4 acordos coletivos aditivos relacionados à direitos específicos conquistados pelos trabalhadores. https://t.co/x…\n",
      "bandidos roubam agência do bradesco no centro de niterói - niterói urgente https://t.co/cllfpgpnmv\n",
      "grcas a deus o ap do bradesco voltou a funcionar\n",
      "explosão da agência bancária do  bradesco da prefeitura de campina, av floriano peixoto. https://t.co/ni0xnnbh18\n",
      "rt @gilbertosix: @bradesco @umcartao quem vai agradecer a @lula e @dilmabr por terem trazido as olimpíadas p brasil ?\n",
      "@nery_mateus ...bradesco visa e mastercard e visa do banco do brasil  e cartões presentes netflix. *ap 3/3\n",
      "que isso @bradesco  eu que agradeço! ❤ https://t.co/rt06fxkwit\n",
      "rt @umvesgo: e até quem me vê na fila do bradesco sabe que eu te encontrei\n",
      "num aguento mais me estressar com o bradesco!!!!!!!!\n",
      "acho incrivel a propaganda do bradesco que te ensina a tomar decisões\n",
      "rt @bradesco: a história de orgulho dos gaúchos vira festa em setembro. a semana farroupilha tá chegando! vem conhecer mais: https://t.co/h…\n",
      "@bradesco minha conta é universitária, não tenho o cartão de crédito, e desconta \"encargos de limite de crédito\"? e… https://t.co/kd5o2gfdel\n",
      "rt @rodpocket: adoçante\n",
      "\n",
      "bradesco\n",
      "cc 770-6\n",
      "ag 2576 https://t.co/6utgiuhmh6\n",
      "não existe um banco com sistema mais \"indisponível no momento\" do que o bradesco.o cliente tem que mudar o conceito de momento. @alobradesco\n",
      "bandidos explodem agência do bradesco na prefeitura de cg https://t.co/y2knto4wgg\n",
      "137\n",
      "18\n",
      "3\n",
      "42\n",
      "-----\n",
      "200\n"
     ]
    }
   ],
   "source": [
    "Relevancia2=[]\n",
    "ii=0\n",
    "ir=0\n",
    "rr=0\n",
    "ri=0\n",
    "\n",
    "#definindo a relevancia de cada frase da base Teste calculada pelo nosso código\n",
    "for i in d2:\n",
    "    pi= probabi(i,dicioi,ti,t)\n",
    "    pr= probabr(i,dicior,tr,t)\n",
    "    if pi<pr:\n",
    "        Relevancia2.append('r')\n",
    "    else:\n",
    "        print(i)\n",
    "        Relevancia2.append('i')\n",
    "        \n",
    "#fazendo uma lista de relevancia marcada por nós da base Teste\n",
    "Relevancia=[]\n",
    "for i in dad2:\n",
    "    Relevancia.append(i)\n",
    "    \n",
    "#comparando os resultados    \n",
    "for x in range(len(Relevancia2)):\n",
    "    if Relevancia[x]=='i' and Relevancia2[x]=='i':\n",
    "        ii+=1\n",
    "    if Relevancia[x]=='i' and Relevancia2[x]=='r':\n",
    "        ir+=1\n",
    "    if Relevancia[x]=='r' and Relevancia2[x]=='r':\n",
    "        rr+=1\n",
    "    if Relevancia[x]=='r' and Relevancia2[x]=='i':\n",
    "        ri+=1\n",
    "            \n",
    "\n",
    "print(ii)\n",
    "print(ir)\n",
    "print(rr)\n",
    "print(ri)\n",
    "\n",
    "print('-----')\n",
    "print(ii+ir+rr+ri)\n",
    "\n"
   ]
  },
  {
   "cell_type": "code",
   "execution_count": 28,
   "metadata": {},
   "outputs": [
    {
     "name": "stdout",
     "output_type": "stream",
     "text": [
      "pri =\n",
      "93.33333333333333\n",
      "prr =\n",
      "6.666666666666667\n",
      "pii =\n",
      "88.38709677419355\n",
      "pir =\n",
      "11.612903225806452\n"
     ]
    }
   ],
   "source": [
    "#Porcentagem de positivos falsos (marcados como relevante mas não são relevantes)\n",
    "pri=ri/45 *100\n",
    "print('pri =')\n",
    "print(pri)\n",
    "#Porcentagem de positivos verdadeiros (marcado como relevante e são relevantes)\n",
    "prr=rr/45*100\n",
    "print('prr =')\n",
    "print(prr)\n",
    "#Porcentagem de negativos verdadeiros (marcado como não relevante e não são relevantes)\n",
    "pii=ii/155*100\n",
    "print('pii =')\n",
    "print(pii)\n",
    "#Porcentagem de negativos falsos (marcado como não relevante e são relevantes)\n",
    "pir=ir/155*100\n",
    "print('pir =')\n",
    "print(pir)"
   ]
  },
  {
   "cell_type": "markdown",
   "metadata": {
    "collapsed": true
   },
   "source": [
    "___\n",
    "## Concluindo\n",
    "\n",
    "Escreva sua conclusão aqui.<br />\n",
    "Faça um comparativo qualitativo sobre as medidas obtidas.<br />\n",
    "Explique como são tratadas as mensagens com dupla negação e sarcasmo.<br />\n",
    "Proponha um plano de expansão. Por que eles devem continuar financiando o seu projeto?<br />\n",
    "\n",
    "Opcionalmente: \n",
    "* Discorrer por que não posso alimentar minha base de Treinamento automaticamente usando o próprio classificador, aplicado a novos tweets.\n",
    "* Propor diferentes cenários de uso para o classificador Naive-Bayes. Cenários sem intersecção com este projeto.\n",
    "* Sugerir e explicar melhorias reais no classificador com indicações concretas de como implementar (não é preciso codificar, mas indicar como fazer e material de pesquisa sobre o assunto).\n"
   ]
  },
  {
   "cell_type": "markdown",
   "metadata": {},
   "source": [
    "<br />\n",
    "Podemos concluir que nosso Classificador pode analisar bem os dados considerados irrelevantes, apresentando uma porcentagem de aproximadamente 88,4% de acertos, mas que sua analise sobre os relevantes não foi tão boa, com apenas 6% de acertos. <br />\n",
    "<br />\n",
    "\n",
    "Podemos perceber que algumas frases consideradas relevantes pelo programa mas não por nós, acabam se tornando relevantes por apresentar palavras mais difíceis de nosso sistema reconhecer pela filtragem que fizemos nas palavras, explicando a ineficácia do programa. Alguns exemplos são:<br />\n",
    "-@robertolasilva @glaysinha @john_silva2 @anacec97 @xarope_bolado @josi_sborges @matheuscecmdm @daabragahttps://t.co/08emukfgyp<br />\n",
    "-@stevenstrogatz @jsellenberg @luisc @bancopaulista @bradesco @mobil @votorantim @citibank @billgates @batinaphttps://t.co/py2txblpse<br />\n",
    "-#timbeta #betaajudabeta #timbetaajudatimbeta #betaajudabeta  #betaquerlab  #timrepin #pinterest (@ bradesco)https://t.co/m0x0tscsy9<br />\n",
    "<br />\n",
    "<br />\n",
    "Já, podemos perceber que as palavras que por nós eram relevantes, mas consideradas irrelevantes pelo sistema, foram consideradas assim pela quantidade de palavras importantes ser grande e o dicionário que usamos como base para as irrelevantes terem maior número de palavras, por grande parte dos tweets da base de Treinamento ser considerada Irrelevante,209 de 300 frases, contando com 2687 palavras irrelevantes, e 91 de 300 frases eram relevantes, com 606 palavras diferentes. Alguns exeplos de frases relevantes consideradas irrelevantes são:<br />\n",
    "-@bradesco oi isa bom dia. cá estou na agencia do bradesco e apenas 2 cx funcionando em época de pgto de idosos e sehttps://t.co/bbvr6jsccx<br />\n",
    "-@bradesco tô com dificuldade de tirar o dinheiro da minha conta, me ajuda<br />\n",
    "<br />\n",
    "<br />\n",
    "(não sei o que falar das palavras de sarcasmo!!)<br />\n",
    "<br />\n",
    "Essa analise evidencia  a importância de uma melhora no projeto, contando com mais características para poder distinguir frases relevantes e irrelevantes, e para isso um maior investimento nele. Isso ajuda no desenvolvimento e melhoria do Banco, que consegue analisar diretamente as frases relevantes para seu estudo, e assim poder saber com mais facilidade os problemas enfrentados por seus  usuários.\n",
    "<br />"
   ]
  }
 ],
 "metadata": {
  "kernelspec": {
   "display_name": "Python 3",
   "language": "python",
   "name": "python3"
  },
  "language_info": {
   "codemirror_mode": {
    "name": "ipython",
    "version": 3
   },
   "file_extension": ".py",
   "mimetype": "text/x-python",
   "name": "python",
   "nbconvert_exporter": "python",
   "pygments_lexer": "ipython3",
   "version": "3.6.0"
  }
 },
 "nbformat": 4,
 "nbformat_minor": 1
}
