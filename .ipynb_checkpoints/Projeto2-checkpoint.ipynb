{
 "cells": [
  {
   "cell_type": "markdown",
   "metadata": {},
   "source": [
    "# Projeto 2 - Classificador Automático de Sentimento\n",
    "\n",
    "Você foi contratado por uma empresa parar analisar como os clientes estão reagindo a um determinado produto no Twitter. A empresa deseja que você crie um programa que irá analisar as mensagens disponíveis e classificará como \"relevante\" ou \"irrelevante\". Com isso ela deseja que mensagens negativas, que denigrem o nome do produto, ou que mereçam destaque, disparem um foco de atenção da área de marketing.<br /><br />\n",
    "Como aluno de Ciência dos Dados, você lembrou do Teorema de Bayes, mais especificamente do Classificador Naive-Bayes, que é largamente utilizado em filtros anti-spam de e-mails. O classificador permite calcular qual a probabilidade de uma mensagem ser relevante dadas as palavras em seu conteúdo.<br /><br />\n",
    "Para realizar o MVP (*minimum viable product*) do projeto, você precisa implementar uma versão do classificador que \"aprende\" o que é relevante com uma base de treinamento e compara a performance dos resultados com uma base de testes.<br /><br />\n",
    "Após validado, o seu protótipo poderá também capturar e classificar automaticamente as mensagens da plataforma.\n",
    "\n",
    "## Informações do Projeto\n",
    "\n",
    "Prazo: 13/Set até às 23:59.<br />\n",
    "Grupo: 1 ou 2 pessoas.<br /><br />\n",
    "Entregáveis via GitHub: \n",
    "* Arquivo notebook com o código do classificador, seguindo as orientações abaixo.\n",
    "* Arquivo Excel com as bases de treinamento e teste totalmente classificado.\n",
    "\n",
    "**NÃO disponibilizar o arquivo com os *access keys/tokens* do Twitter.**\n",
    "\n",
    "\n",
    "### Check 3: \n",
    "\n",
    "Até o dia 06 de Setembro às 23:59, o notebook e o xlsx devem estar no Github com as seguintes evidências: \n",
    "    * Conta no twitter criada.\n",
    "    * Produto escolhido.\n",
    "    * Arquivo Excel contendo a base de treinamento e teste já classificado.\n",
    "    \n",
    "\n",
    "Sugestão de leitura:<br />\n",
    "http://docs.tweepy.org/en/v3.5.0/index.html<br />\n",
    "https://monkeylearn.com/blog/practical-explanation-naive-bayes-classifier/"
   ]
  },
  {
   "cell_type": "markdown",
   "metadata": {},
   "source": [
    "___\n",
    "\n",
    "## Preparando o ambiente\n",
    "\n",
    "Instalando a biblioteca *tweepy* para realizar a conexão com o Twitter:"
   ]
  },
  {
   "cell_type": "code",
   "execution_count": 28,
   "metadata": {
    "collapsed": true
   },
   "outputs": [],
   "source": [
    "%%capture\n",
    "\n",
    "#Instalando o tweepy\n",
    "!pip install tweepy"
   ]
  },
  {
   "cell_type": "markdown",
   "metadata": {},
   "source": [
    "Importando as Bibliotecas que serão utilizadas. Esteja livre para adicionar outras."
   ]
  },
  {
   "cell_type": "code",
   "execution_count": 29,
   "metadata": {
    "collapsed": true
   },
   "outputs": [],
   "source": [
    "import tweepy\n",
    "import math\n",
    "import os.path\n",
    "import pandas as pd\n",
    "import json\n",
    "from random import shuffle"
   ]
  },
  {
   "cell_type": "markdown",
   "metadata": {},
   "source": [
    "___\n",
    "## Autenticando no  Twitter\n",
    "\n",
    "Para realizar a captura dos dados é necessário ter uma conta cadastrada no twitter:\n",
    "\n",
    "* Conta: ***[Preencha aqui o id da sua conta. Ex: @fulano ]***\n",
    "\n",
    "\n",
    "1. Caso ainda não tenha uma: https://twitter.com/signup\n",
    "1. Depois é necessário registrar um app para usar a biblioteca: https://apps.twitter.com/\n",
    "1. Dentro do registro do App, na aba Keys and Access Tokens, anotar os seguintes campos:\n",
    "    1. Consumer Key (API Key)\n",
    "    1. Consumer Secret (API Secret)\n",
    "1. Mais abaixo, gere um Token e anote também:\n",
    "    1. Access Token\n",
    "    1. Access Token Secret\n",
    "    \n",
    "1. Preencha os valores no arquivo \"auth.pass\"\n",
    "\n",
    "**ATENÇÃO**: Nunca divulgue os dados desse arquivo online (GitHub, etc). Ele contém as chaves necessárias para realizar as operações no twitter de forma automática e portanto é equivalente a ser \"hackeado\". De posse desses dados, pessoas mal intencionadas podem fazer todas as operações manuais (tweetar, seguir, bloquear/desbloquear, listar os seguidores, etc). Para efeito do projeto, esse arquivo não precisa ser entregue!!!"
   ]
  },
  {
   "cell_type": "code",
   "execution_count": 30,
   "metadata": {
    "collapsed": true
   },
   "outputs": [],
   "source": [
    "#Dados de autenticação do twitter:\n",
    "\n",
    "#Coloque aqui o identificador da conta no twitter: @dudabicalhocd\n",
    "\n",
    "#leitura do arquivo no formato JSON\n",
    "with open('auth.pass') as fp:    \n",
    "    data = json.load(fp)\n",
    "\n",
    "#Configurando a biblioteca. Não modificar\n",
    "auth = tweepy.OAuthHandler(data['consumer_key'], data['consumer_secret'])\n",
    "auth.set_access_token(data['access_token'], data['access_token_secret'])"
   ]
  },
  {
   "cell_type": "markdown",
   "metadata": {},
   "source": [
    "___\n",
    "## Coletando Dados\n",
    "\n",
    "Agora vamos coletar os dados. Tenha em mente que dependendo do produto escolhido, não haverá uma quantidade significativa de mensagens, ou ainda poder haver muitos retweets.<br /><br /> \n",
    "Configurando:"
   ]
  },
  {
   "cell_type": "code",
   "execution_count": 31,
   "metadata": {
    "collapsed": true
   },
   "outputs": [],
   "source": [
    "#Produto escolhido:\n",
    "produto = 'Bradesco'\n",
    "\n",
    "#Quantidade mínima de mensagens capturadas:\n",
    "n = 500\n",
    "#Quantidade mínima de mensagens para a base de treinamento:\n",
    "t = 300\n",
    "\n",
    "#Filtro de língua, escolha uma na tabela ISO 639-1.\n",
    "lang = 'pt'"
   ]
  },
  {
   "cell_type": "markdown",
   "metadata": {},
   "source": [
    "Capturando os dados do twitter:"
   ]
  },
  {
   "cell_type": "code",
   "execution_count": 32,
   "metadata": {},
   "outputs": [
    {
     "ename": "TweepError",
     "evalue": "Twitter error response: status code = 400",
     "output_type": "error",
     "traceback": [
      "\u001b[0;31m---------------------------------------------------------------------------\u001b[0m",
      "\u001b[0;31mTweepError\u001b[0m                                Traceback (most recent call last)",
      "\u001b[0;32m<ipython-input-32-910742af87dd>\u001b[0m in \u001b[0;36m<module>\u001b[0;34m()\u001b[0m\n\u001b[1;32m      5\u001b[0m \u001b[0mi\u001b[0m \u001b[1;33m=\u001b[0m \u001b[1;36m1\u001b[0m\u001b[1;33m\u001b[0m\u001b[0m\n\u001b[1;32m      6\u001b[0m \u001b[0mmsgs\u001b[0m \u001b[1;33m=\u001b[0m \u001b[1;33m[\u001b[0m\u001b[1;33m]\u001b[0m\u001b[1;33m\u001b[0m\u001b[0m\n\u001b[0;32m----> 7\u001b[0;31m \u001b[1;32mfor\u001b[0m \u001b[0mmsg\u001b[0m \u001b[1;32min\u001b[0m \u001b[0mtweepy\u001b[0m\u001b[1;33m.\u001b[0m\u001b[0mCursor\u001b[0m\u001b[1;33m(\u001b[0m\u001b[0mapi\u001b[0m\u001b[1;33m.\u001b[0m\u001b[0msearch\u001b[0m\u001b[1;33m,\u001b[0m \u001b[0mq\u001b[0m\u001b[1;33m=\u001b[0m\u001b[0mproduto\u001b[0m\u001b[1;33m,\u001b[0m \u001b[0mlang\u001b[0m\u001b[1;33m=\u001b[0m\u001b[0mlang\u001b[0m\u001b[1;33m)\u001b[0m\u001b[1;33m.\u001b[0m\u001b[0mitems\u001b[0m\u001b[1;33m(\u001b[0m\u001b[1;33m)\u001b[0m\u001b[1;33m:\u001b[0m\u001b[1;33m\u001b[0m\u001b[0m\n\u001b[0m\u001b[1;32m      8\u001b[0m     \u001b[0mmsgs\u001b[0m\u001b[1;33m.\u001b[0m\u001b[0mappend\u001b[0m\u001b[1;33m(\u001b[0m\u001b[0mmsg\u001b[0m\u001b[1;33m.\u001b[0m\u001b[0mtext\u001b[0m\u001b[1;33m.\u001b[0m\u001b[0mlower\u001b[0m\u001b[1;33m(\u001b[0m\u001b[1;33m)\u001b[0m\u001b[1;33m)\u001b[0m\u001b[1;33m\u001b[0m\u001b[0m\n\u001b[1;32m      9\u001b[0m     \u001b[0mi\u001b[0m \u001b[1;33m+=\u001b[0m \u001b[1;36m1\u001b[0m\u001b[1;33m\u001b[0m\u001b[0m\n",
      "\u001b[0;32mC:\\Users\\milen\\Anaconda3\\lib\\site-packages\\tweepy\\cursor.py\u001b[0m in \u001b[0;36m__next__\u001b[0;34m(self)\u001b[0m\n\u001b[1;32m     47\u001b[0m \u001b[1;33m\u001b[0m\u001b[0m\n\u001b[1;32m     48\u001b[0m     \u001b[1;32mdef\u001b[0m \u001b[0m__next__\u001b[0m\u001b[1;33m(\u001b[0m\u001b[0mself\u001b[0m\u001b[1;33m)\u001b[0m\u001b[1;33m:\u001b[0m\u001b[1;33m\u001b[0m\u001b[0m\n\u001b[0;32m---> 49\u001b[0;31m         \u001b[1;32mreturn\u001b[0m \u001b[0mself\u001b[0m\u001b[1;33m.\u001b[0m\u001b[0mnext\u001b[0m\u001b[1;33m(\u001b[0m\u001b[1;33m)\u001b[0m\u001b[1;33m\u001b[0m\u001b[0m\n\u001b[0m\u001b[1;32m     50\u001b[0m \u001b[1;33m\u001b[0m\u001b[0m\n\u001b[1;32m     51\u001b[0m     \u001b[1;32mdef\u001b[0m \u001b[0mnext\u001b[0m\u001b[1;33m(\u001b[0m\u001b[0mself\u001b[0m\u001b[1;33m)\u001b[0m\u001b[1;33m:\u001b[0m\u001b[1;33m\u001b[0m\u001b[0m\n",
      "\u001b[0;32mC:\\Users\\milen\\Anaconda3\\lib\\site-packages\\tweepy\\cursor.py\u001b[0m in \u001b[0;36mnext\u001b[0;34m(self)\u001b[0m\n\u001b[1;32m    195\u001b[0m         \u001b[1;32mif\u001b[0m \u001b[0mself\u001b[0m\u001b[1;33m.\u001b[0m\u001b[0mcurrent_page\u001b[0m \u001b[1;32mis\u001b[0m \u001b[1;32mNone\u001b[0m \u001b[1;32mor\u001b[0m \u001b[0mself\u001b[0m\u001b[1;33m.\u001b[0m\u001b[0mpage_index\u001b[0m \u001b[1;33m==\u001b[0m \u001b[0mlen\u001b[0m\u001b[1;33m(\u001b[0m\u001b[0mself\u001b[0m\u001b[1;33m.\u001b[0m\u001b[0mcurrent_page\u001b[0m\u001b[1;33m)\u001b[0m \u001b[1;33m-\u001b[0m \u001b[1;36m1\u001b[0m\u001b[1;33m:\u001b[0m\u001b[1;33m\u001b[0m\u001b[0m\n\u001b[1;32m    196\u001b[0m             \u001b[1;31m# Reached end of current page, get the next page...\u001b[0m\u001b[1;33m\u001b[0m\u001b[1;33m\u001b[0m\u001b[0m\n\u001b[0;32m--> 197\u001b[0;31m             \u001b[0mself\u001b[0m\u001b[1;33m.\u001b[0m\u001b[0mcurrent_page\u001b[0m \u001b[1;33m=\u001b[0m \u001b[0mself\u001b[0m\u001b[1;33m.\u001b[0m\u001b[0mpage_iterator\u001b[0m\u001b[1;33m.\u001b[0m\u001b[0mnext\u001b[0m\u001b[1;33m(\u001b[0m\u001b[1;33m)\u001b[0m\u001b[1;33m\u001b[0m\u001b[0m\n\u001b[0m\u001b[1;32m    198\u001b[0m             \u001b[0mself\u001b[0m\u001b[1;33m.\u001b[0m\u001b[0mpage_index\u001b[0m \u001b[1;33m=\u001b[0m \u001b[1;33m-\u001b[0m\u001b[1;36m1\u001b[0m\u001b[1;33m\u001b[0m\u001b[0m\n\u001b[1;32m    199\u001b[0m         \u001b[0mself\u001b[0m\u001b[1;33m.\u001b[0m\u001b[0mpage_index\u001b[0m \u001b[1;33m+=\u001b[0m \u001b[1;36m1\u001b[0m\u001b[1;33m\u001b[0m\u001b[0m\n",
      "\u001b[0;32mC:\\Users\\milen\\Anaconda3\\lib\\site-packages\\tweepy\\cursor.py\u001b[0m in \u001b[0;36mnext\u001b[0;34m(self)\u001b[0m\n\u001b[1;32m    106\u001b[0m \u001b[1;33m\u001b[0m\u001b[0m\n\u001b[1;32m    107\u001b[0m         \u001b[1;32mif\u001b[0m \u001b[0mself\u001b[0m\u001b[1;33m.\u001b[0m\u001b[0mindex\u001b[0m \u001b[1;33m>=\u001b[0m \u001b[0mlen\u001b[0m\u001b[1;33m(\u001b[0m\u001b[0mself\u001b[0m\u001b[1;33m.\u001b[0m\u001b[0mresults\u001b[0m\u001b[1;33m)\u001b[0m \u001b[1;33m-\u001b[0m \u001b[1;36m1\u001b[0m\u001b[1;33m:\u001b[0m\u001b[1;33m\u001b[0m\u001b[0m\n\u001b[0;32m--> 108\u001b[0;31m             \u001b[0mdata\u001b[0m \u001b[1;33m=\u001b[0m \u001b[0mself\u001b[0m\u001b[1;33m.\u001b[0m\u001b[0mmethod\u001b[0m\u001b[1;33m(\u001b[0m\u001b[0mmax_id\u001b[0m\u001b[1;33m=\u001b[0m\u001b[0mself\u001b[0m\u001b[1;33m.\u001b[0m\u001b[0mmax_id\u001b[0m\u001b[1;33m,\u001b[0m \u001b[0mparser\u001b[0m\u001b[1;33m=\u001b[0m\u001b[0mRawParser\u001b[0m\u001b[1;33m(\u001b[0m\u001b[1;33m)\u001b[0m\u001b[1;33m,\u001b[0m \u001b[1;33m*\u001b[0m\u001b[0mself\u001b[0m\u001b[1;33m.\u001b[0m\u001b[0margs\u001b[0m\u001b[1;33m,\u001b[0m \u001b[1;33m**\u001b[0m\u001b[0mself\u001b[0m\u001b[1;33m.\u001b[0m\u001b[0mkargs\u001b[0m\u001b[1;33m)\u001b[0m\u001b[1;33m\u001b[0m\u001b[0m\n\u001b[0m\u001b[1;32m    109\u001b[0m \u001b[1;33m\u001b[0m\u001b[0m\n\u001b[1;32m    110\u001b[0m             \u001b[1;32mif\u001b[0m \u001b[0mhasattr\u001b[0m\u001b[1;33m(\u001b[0m\u001b[0mself\u001b[0m\u001b[1;33m.\u001b[0m\u001b[0mmethod\u001b[0m\u001b[1;33m,\u001b[0m \u001b[1;34m'__self__'\u001b[0m\u001b[1;33m)\u001b[0m\u001b[1;33m:\u001b[0m\u001b[1;33m\u001b[0m\u001b[0m\n",
      "\u001b[0;32mC:\\Users\\milen\\Anaconda3\\lib\\site-packages\\tweepy\\binder.py\u001b[0m in \u001b[0;36m_call\u001b[0;34m(*args, **kwargs)\u001b[0m\n\u001b[1;32m    243\u001b[0m             \u001b[1;32mreturn\u001b[0m \u001b[0mmethod\u001b[0m\u001b[1;33m\u001b[0m\u001b[0m\n\u001b[1;32m    244\u001b[0m         \u001b[1;32melse\u001b[0m\u001b[1;33m:\u001b[0m\u001b[1;33m\u001b[0m\u001b[0m\n\u001b[0;32m--> 245\u001b[0;31m             \u001b[1;32mreturn\u001b[0m \u001b[0mmethod\u001b[0m\u001b[1;33m.\u001b[0m\u001b[0mexecute\u001b[0m\u001b[1;33m(\u001b[0m\u001b[1;33m)\u001b[0m\u001b[1;33m\u001b[0m\u001b[0m\n\u001b[0m\u001b[1;32m    246\u001b[0m \u001b[1;33m\u001b[0m\u001b[0m\n\u001b[1;32m    247\u001b[0m     \u001b[1;31m# Set pagination mode\u001b[0m\u001b[1;33m\u001b[0m\u001b[1;33m\u001b[0m\u001b[0m\n",
      "\u001b[0;32mC:\\Users\\milen\\Anaconda3\\lib\\site-packages\\tweepy\\binder.py\u001b[0m in \u001b[0;36mexecute\u001b[0;34m(self)\u001b[0m\n\u001b[1;32m    227\u001b[0m                     \u001b[1;32mraise\u001b[0m \u001b[0mRateLimitError\u001b[0m\u001b[1;33m(\u001b[0m\u001b[0merror_msg\u001b[0m\u001b[1;33m,\u001b[0m \u001b[0mresp\u001b[0m\u001b[1;33m)\u001b[0m\u001b[1;33m\u001b[0m\u001b[0m\n\u001b[1;32m    228\u001b[0m                 \u001b[1;32melse\u001b[0m\u001b[1;33m:\u001b[0m\u001b[1;33m\u001b[0m\u001b[0m\n\u001b[0;32m--> 229\u001b[0;31m                     \u001b[1;32mraise\u001b[0m \u001b[0mTweepError\u001b[0m\u001b[1;33m(\u001b[0m\u001b[0merror_msg\u001b[0m\u001b[1;33m,\u001b[0m \u001b[0mresp\u001b[0m\u001b[1;33m,\u001b[0m \u001b[0mapi_code\u001b[0m\u001b[1;33m=\u001b[0m\u001b[0mapi_error_code\u001b[0m\u001b[1;33m)\u001b[0m\u001b[1;33m\u001b[0m\u001b[0m\n\u001b[0m\u001b[1;32m    230\u001b[0m \u001b[1;33m\u001b[0m\u001b[0m\n\u001b[1;32m    231\u001b[0m             \u001b[1;31m# Parse the response payload\u001b[0m\u001b[1;33m\u001b[0m\u001b[1;33m\u001b[0m\u001b[0m\n",
      "\u001b[0;31mTweepError\u001b[0m: Twitter error response: status code = 400"
     ]
    }
   ],
   "source": [
    "#Cria um objeto para a captura\n",
    "api = tweepy.API(auth)\n",
    "\n",
    "#Inicia a captura, para mais detalhes: ver a documentação do tweepy\n",
    "i = 1\n",
    "msgs = []\n",
    "for msg in tweepy.Cursor(api.search, q=produto, lang=lang).items():    \n",
    "    msgs.append(msg.text.lower())\n",
    "    i += 1\n",
    "    if i > n:\n",
    "        break\n",
    "\n",
    "#Embaralhando as mensagens para reduzir um possível viés\n",
    "shuffle(msgs)"
   ]
  },
  {
   "cell_type": "markdown",
   "metadata": {},
   "source": [
    "Salvando os dados em uma planilha Excel:"
   ]
  },
  {
   "cell_type": "code",
   "execution_count": 33,
   "metadata": {
    "collapsed": true
   },
   "outputs": [],
   "source": [
    "#Verifica se o arquivo não existe para não substituir um conjunto pronto\n",
    "if not os.path.isfile('./{0}.xlsx'.format(produto)):\n",
    "    \n",
    "    #Abre o arquivo para escrita\n",
    "    writer = pd.ExcelWriter('{0}.xlsx'.format(produto))\n",
    "\n",
    "    #divide o conjunto de mensagens em duas planilhas\n",
    "    dft = pd.DataFrame({'Treinamento' : pd.Series(msgs[:t])})\n",
    "    dft.to_excel(excel_writer = writer, sheet_name = 'Treinamento', index = False)\n",
    "\n",
    "    dfc = pd.DataFrame({'Teste' : pd.Series(msgs[t:])})\n",
    "    dfc.to_excel(excel_writer = writer, sheet_name = 'Teste', index = False)\n",
    "\n",
    "    #fecha o arquivo\n",
    "    writer.save()"
   ]
  },
  {
   "cell_type": "markdown",
   "metadata": {},
   "source": [
    "___\n",
    "## Classificando as Mensagens\n",
    "\n",
    "Agora você deve abrir o arquivo Excel com as mensagens capturadas e classificar na Coluna B se a mensagem é relevante ou não.<br /> \n",
    "Não se esqueça de colocar um nome para a coluna na célula **B1**.<br /><br />\n",
    "Fazer o mesmo na planilha de Controle.\n",
    "\n",
    "___\n",
    "## Montando o Classificador Naive-Bayes\n",
    "\n",
    "Com a base de treinamento montada, comece a desenvolver o classificador. Escreva o seu código abaixo:\n",
    "\n",
    "Opcionalmente: \n",
    "* Limpar as mensagens removendo os caracteres: enter, :, \", ', (, ), etc. Não remover emojis.<br />\n",
    "* Corrigir separação de espaços entre palavras e/ou emojis.\n",
    "* Propor outras limpezas/transformações que não afetem a qualidade da informação.\n",
    "\n"
   ]
  },
  {
   "cell_type": "code",
   "execution_count": 34,
   "metadata": {},
   "outputs": [
    {
     "name": "stdout",
     "output_type": "stream",
     "text": [
      "C:\\Users\\milen\\OneDrive\\Documentos\\2o SEMESTRE\\CDD\\Projeto2-CD\n"
     ]
    }
   ],
   "source": [
    "print(os.getcwd())\n",
    "dados = pd.read_excel('Bradesco.xlsx')"
   ]
  },
  {
   "cell_type": "code",
   "execution_count": 35,
   "metadata": {
    "collapsed": true
   },
   "outputs": [],
   "source": [
    "#dados"
   ]
  },
  {
   "cell_type": "code",
   "execution_count": 36,
   "metadata": {},
   "outputs": [
    {
     "name": "stdout",
     "output_type": "stream",
     "text": [
      "91\n"
     ]
    }
   ],
   "source": [
    "#pegando os dados interessantes para nos\n",
    "dr= dados.Respostas[dados.Relevancia=='r']\n",
    "print(len(dr))\n",
    "probder= 91/300"
   ]
  },
  {
   "cell_type": "code",
   "execution_count": 37,
   "metadata": {},
   "outputs": [
    {
     "name": "stdout",
     "output_type": "stream",
     "text": [
      "209\n"
     ]
    }
   ],
   "source": [
    "di= dados.Respostas[dados.Relevancia=='i']\n",
    "print(len(di))\n",
    "probdei=209/300"
   ]
  },
  {
   "cell_type": "code",
   "execution_count": 38,
   "metadata": {
    "scrolled": true
   },
   "outputs": [
    {
     "name": "stdout",
     "output_type": "stream",
     "text": [
      "1475\n",
      "['já', 'estou', 'cansado', 'de', 'entrar', 'em', 'contato', 'com', 'a', 'ouvidoria', 'do', '@bradesco', 'para', 'solução', 'do', 'meu', 'problema', 'causado', 'pela', 'ineficiência', 'do', 'banco', 'bradesco', 'me', 'ligou', 'oferecendo', 'cartão', 'de', 'crédito', 'e', 'falei', 'que', 'estava', 'desempregado', 'e', 'sem', 'receber', 'renda', 'a', 'atendente', 'desligou', '@bradesco', 'me', 'pedem', 'comprovação', 'alta', 'de', 'renda', 'p/', 'ter', 'o', 'amex', 'tpc', 'p/', 'o', 'cartão', 'negar', 'compras', 'de', 'r$100', 'sugiro', 'por', '1', 'limite', 'visivel', 'pq', 'ta', 'dificil', '@bradesco', 'ja', 'rodei', 'esse', 'app', 'e', 'nao', 'encontro', 'o', 'saldo', 'que', 'investiu', 'se', 'for', 'pra', 'nao', 'ter', 'quero', 'cancelar', 'ne', 'eu', 'dou', 'mas', 'quero', 'receber', 'de', 'volta', 'rs', '@cavacogamer', '@bradesco', 'não', 'demora', 'muito', 'e', 'o', 'bradesco', 'vai', 'falir', 'desse', 'jeito', 'tô', 'tão', 'tisti', 'alguém', 'paga', 'o', 'meu', 'nubank', 'e', 'caduca', 'minha', 'dívida', 'com', 'o', 'bradesco', 'https//tco/5kdncgtma0', 'bradesco', 'é', 'o', 'pior', 'banco', 'pra', 'receber', '😪😪', '@bradesco', 'depois', 'de', 'sugarem', 'até', 'a', 'nossa', 'alma', 'com', 'os', 'juros', 'bancários', 'agora', 'vocês', 'vem', 'aqui', 'querer', 'homenagear', 'nó', 'gaúchos', 'o', 'gerente', 'diz', 'pra', 'usar', 'a', 'sala', 'vip', 'do', '@bradesco', 'em', 'congonhas', 'e', 'nas', 'ultimas', 'duas', 'vezes', 'não', 'tinha', 'nem', 'lugar', 'pra', 'sentar', 'bem', 'vip', 'ui', 'banco', 'do', 'bradesco', 'é', 'uma', 'merda', 'pior', 'banco', 'que', 'tem', 'esse', 'lixo', '😠', 'num', 'vou', 'conseguir', 'malhar', 'hoje', 'pois', 'vou', 'ter', 'q', 'mofar', 'no', 'bradesco', '😤', 'posicione', 'se', '@bradesco', '', 'saia', 'do', 'anonimato', 'da', 'tela', 'do', 'computador', 'e', 'venha', 'para', 'a', 'vida', 'real', 'solucionar', 'meu', 'problema', 'causado', 'pelo', 'banco', '@bradesco', 'ainda', 'nada', 'amiguinhos', 'do', '@bradesco', 'eu', 'sou', 'cliente', 'exclusive', 'pra', 'ter', 'mais', 'facilidade', 'não', 'pra', 'ficar', 'mais', 'difícil', '🙄', 'pq', 'não', 'tem', 'aviso', 'de', 'viagem', 'pelo', 'app', '13', 'minutos', 'esperando', 'um', 'atendimento', 'do', 'bradesco', 'pra', 'desbloquear', 'minha', 'chave', 'de', 'segurança', 'alguém', 'me', 'atende', 'estou', 'pra', 'ver', 'um', 'atendimento', 'pior', 'que', 'o', '@bradesco', 'de', 'bairro', 'novo', 'parece', 'que', 'trabalham', 'obrigado', 'e', 'sem', 'receber', 'vôte', 'que', 'demora', 'do', 'inferno', 'pra', 'responder', 'um', 'tweet', '@bradesco', 'não', 'tem', 'banco', 'melhor', 'que', 'o', 'bradesco', 'rápido', 'e', 'com', 'seriedade', '👏🏻', 'se', 'me', 'perguntarem', 'o', 'que', 'faço', 'da', 'vida', 'vou', 'responder', 'eu', 'passo', 'dia', 'ligando', 'pra', 'centrais', 'de', 'telefone', 'para', 'fazer', 'reclamações', 'alou', 'bradesco', 'net', '@yuricrf07', '@kelvynbraga', 'partiu', 'derrubar', 'qualquer', 'placa', 'do', 'bradesco', 'daí', 'você', 'está', 'pelo', 'segundo', 'dia', 'tentando', 'ligar', 'no', '#bradesco', 'mas', 'para', 'variar', 'eles', 'não', 'atendem', 'dá', 'vontade', 'de', 'cancelar', 'a', 'conta', 'q', 'é', 'antiga', 'alô', '@bradesco', 'queria', 'dizer', 'que', 'quero', 'cancelar', 'meu', 'seguro', 'de', 'vida', 'e', 'quero', 'o', 'reembolso', 'de', 'dois', 'anos', 'descontados', 'da', 'minha', 'conta', '@bradesco', 'ja', 'consegui', 'foram', 'tão', 'rápido', 'pra', 'me', 'responder', 'né', '🙂', 'agr', 'tô', 'bradesco', 'minha', 'senha', 'eh', '36', 'e', 'tá', 'no', '19', 'e', 'lotado', 'de', 'veio', 'vsf', 'e', 'aí', '@bradesco', '', 'quando', 'o', 'minha', 'solicitação', 'será', 'atendida', 'protocolo', 'ouvidoria', '286971446', 'rt', '@ops_vivianne', 'falsidade', 'hoje', 'está', 'igual', 'ao', 'bradesco', 'lado', 'a', 'lado', 'com', 'você', 'a', 'gente', 'começa', 'a', 'perceber', 'que', 'tá', 'ficando', 'velho', 'quando', 'vc', 'fica', '20', '25', 'minutos', 'no', 'telefone', 'com', 'o', 'cartão', 'da', 'bradesco', '🤔😴', '@bradesco', 'eu', 'quero', 'entender', 'cada', 'uma', 'das', 'coisas', 'que', 'eu', 'pago', 'e', 'cada', 'um', 'dos', 'planos', 'que', 'posso', 'ter', 'acesso', 'há', 'pouca', 'inf…', 'https//tco/prwusduck1', 'eu', 'gostava', 'mais', 'quando', 'ia', 'em', 'outras', 'agências', 'do', 'bradescoessa', 'tá', 'muito', 'cheia', 'e', 'vazia', 'ao', 'mesmo', 'tempo', '🤷🏽\\u200d♂️', 'me', 'ajuda', 'ai', '@bradesco', '', 'quero', 'saber', 'sobre', 'uma', 'taxa', 'que', 'desconheço', 'na', 'minha', 'conta', 'bradesco', 'sempre', 'perto', 'de', 'você', '☺', 'slogan', 'que', 'define', 'a', 'amizade…', 'https//tco/wevtqtmlrs', '@lfsnasciment8', 'oi', 'obrigada', 'pelo', 'elogio', 'é', 'ótimo', 'saber', 'que', 'você', 'gostou', 'do', 'método', 'utilizado', 'para', 'realização', 'do', 'serviço', '', 'ter', 'uma', 'mão', 'enorme', 'e', 'tentar', 'sacar', 'dinheiro', 'no', 'caixa', 'do', 'bradesco', 'que', 'missão', 'insuportável', '😡', 'cansada', 'desse', 'bradesco', '', 'só', 'dor', 'de', 'cabeça', 'já', 'o', '@bradesco', 'uma', 'empresa', 'privada', 'que', 'vive', 'do', 'lucro', 'das', 'altas', 'taxas', 'de', 'juros', 'que', 'pagamos', 'sequer', 'se', 'posicionou', 'vergonha', '@bradesco', 'o', 'cliente', 'além', 'de', 'pagar', 'taxas', 'abusivas', 'ainda', 'se', 'depara', 'com', 'a', 'total', 'falta', 'de', 'responsabilidade', 'e', 'respeito', 'do', '@bradesco', 'se', 'você', 'for', 'ao', '@bradesco', 'da', 'mascarenhas', 'leve', 'café', 'e', 'almoço', 'muita', 'gente', 'e', 'atendimento', 'lento', '@lapa182', 'eu', 'tb', 'pô', 'sou', 'bb', 'e', 'nunca', 'deu', 'rolê', 'esse', 'doc', 'já', 'tentei', 'no', 'bradesco', 'tb', 'e', 'não', 'funcionou', 'daí', 'vou', 'ter', 'q', 'ir', 'lá', '😡', 'https//tco/ehd1la89rv', '@bradesco', 'empresa', 'omissa', 'não', 'respeita', 'seus', 'clientes', 'não', 'cumpre', 'prazos', 'pede', '10', 'dias', 'úteis', 'e', 'não', 'resolve', 'em', '100', 'dias', 'úteis', '#vergonha', 'aqui', 'em', 'barra', 'do', 'rocha', 'ta', 'fazendo', 'vergonha', 'a', 'população', 'pagando', 'uma', 'taxa', 'para', 'o', 'bradesco', 'e', 'o', 'bradesco', 'não', 'https//tco/ski7m83zk0', '@lucenadouglas_', 'bradesco', 'é', 'a', 'junção', 'de', 'banco', 'com', 'desconto', 'segura', 'essa', 'saga', 'do', 'bradesco', 'parte', '2', '@bradesco', 'é', 'o', 'mais', 'atualizado', 'tanto', 'o', 'do', 'bradesco', '', 'tanto', 'o', 'web', 'view', '', 'minha', 'conexão', 'é', 'boa', '', '@bradesco', '@alobradesco', 'senhorespoderiam', 'se', 'posicionar', 'como', 'pode', 'continuar', 'sem', 'sistema', 'para', 'consórcio', 'desde', 'dia', '31/08', 'isso', 'é', 'uma', 'vergonha', 'nossa', 'bradesco', 'não', 'dá', 'um', 'ar', 'mais', 'banco', 'sem', 'dúvidas', 'é', 'o', 'pior', 'lugar', 'do', 'mundo', 'agilidade', 'zero', '40', 'min', 'esperando', 'já', 'valeu', 'ein', '@bradesco', 'não', 'tá', 'escrito', 'o', 'quanto', 'eu', 'odeio', 'o', 'bradesco', '@bradesco', 'vocês', 'são', 'muito', 'atenciosos', 'e', 'explicativos', 'pelas', 'redes', 'mas', 'o', 'atendimento', 'telefônico', 'não', 'facilita', '@bradesco', 'não', 'consigo', 'acessar', 'minha', 'conta', 'pelo', 'aplicativo', 'parece', 'que', 'essa', 'atualização', 'complicou', 'tudo', 'aparece', 'assim', 'conheça', 'seu', 'banco', '@bradesco', 'como', 'fazer', 'em', 'pleno', 'sec', '21', 'e', 'o', '0800', 'de', 'vcs', 'não', 'aceita', 'chamada', 'de', 'cel', 'ou', 'tel', 'publico', 'preciso', 'falar', 'com', 'vcs', 'e', 'não', 'consigo', '@bradesco', 'pior', 'banco', 'vontade', 'de', 'passar', 'em', 'frente', 'ao', 'bradesco', 'e', 'soltar', 'uma', 'bomba', 'foda', 'se', '@lucassantosn1', 'mano', 'é', 'o', 'pior', 'app', 'do', 'bradesco', 'mil', 'vezes', 'melhor', 'rt', '@kaizeira', '@bradesco', 'banco', 'lixo', 'do', 'caralho', 'eu', 'gosto', 'muito', 'do', 'bradesco', 'alô', '@bradesco', 'e', 'essa', 'ineficiência', 'toda', 'pra', 'resolver', 'o', 'problema', 'do', 'protocolo', 'na', 'ouvidoria', '286971446', 'estou', 'há', '5', 'meses', 'esperando', 'o', 'retorno', '@bradesco', 'não', 'o', 'atendimento', 'eletrônico', 'não', 'reconhece', 'o', 'comando', 'eu', 'odeio', 'o', 'banco', 'bradesco', 'caralho', 'morra', 'capitalismo', 'desgraçado', '@bradesco', 'só', 'grosseria', 'e', 'má', 'vontade', 'meu', 'sonho', 'resolver', 'minhas', 'coisas', 'pelo', 'fone', 'fácil', 'bradesco', 'sem', 'passar', 'uma', 'vida', 'esperando', 'casaaaaaaa', 'ah', 'não', 'irei', 'mofar', 'no', 'bradesco', 'ainda', '🙁', '@bradesco', 'poxa', 'os', 'desenvolvedores', 'do', 'bradesco', 'são', 'amadores', '😨', 'não', 'pode', 'abrir', 'um', 'chamado', 'para', 'resolver', 'um', 'simples', 'problema', '😠', 'o', 'bradesco', 'tem', 'mais', 'é', 'que', 'se', 'fuder', 'banquinho', 'de', 'merda', 'bando', 'de', 'vagabundo', 'que', 'cobra', 'taxa', 'inexistente', 'pra', 'bater', 'meta', 'vão', 'se', 'fuder', 'na', 'justiça', '@cavacogamer', '@bradesco', 'da', 'a', 'entender', 'q', 'essas', 'agência', 'nao', 'estão', 'nem', 'aí', 'que', 'se', 'foda', 'seus', 'clientes', '-', '@bradesco', 'é', 'vergonhoso', 'um', 'banco', 'onde', 'hajam', 'senhas', 'de', 'atendimento', 'para', 'ricos', 'e', 'para', 'pobres', '#eusounotwitter', 'porque', 'o', '#bradesco', 'só', 'disponibiliza', 'um', 'caixa', 'eletrônico', 'pra', 'depósito', 'em', 'nova', 'iguaçu', 'independente', 'da', 'agência', '#absurdo', 'tanana', 'foi', 'pagar', 'uma', 'conta', 'pra', 'mim', 'lá', 'no', 'bradesco', 'tadinha', 'dela', '💜😏', '@bradesco', 'corumbá', 'ms', 'ficaram', '20', 'reais', 'da', 'aposentadoria', 'da', 'minha', 'mãe', 'lá', 'pq', 'os', 'caixas', 'nunca', 'tem', 'notas', 'de', '20', '10', '5', 'e', '2', 'nunca', 'nunca', 'bradesco', 'só', 'tem', 'app', 'lixo', 'deus', 'me', 'defenderay', '@alcantarabila', 'eu', 'ia', 'falar', 'bradesco', 'tb', 'mas', 'tds', 'as', 'vzs', 'q', 'comecei', 'a', 'usar', 'troquei', 'pra', 'outro', 'logo', 'em', 'seguida', 'então…', 'https//tco/jeazb8kpz8', '@bradesco', 'sendo', 'que', 'já', 'é', 'universitária', 'pressupõe', 'que', 'eu', 'não', 'tenho', 'renda', 'e', 'vocês', 'estão', 'cobrando', 'essas', 'taxas', 'absurdo', 'odeio', 'o', 'bradesco', 'com', 'todas', 'as', 'minhas', 'forças', 'ódio', 'do', 'bradesco', 'na', 'moral', 'serviço', 'do', 'alô', 'bradesco', 'é', 'muito', 'escroto', 'socorro', '@bradesco', 'odeio', 'essa', 'porra', 'de', 'limite', 'doc', 'e', 'ter', 'que', 'falar', 'c', 'o', 'gerenteo', 'dinheiro', 'é', 'meu', 'se', 'eu', 'quiser', 'movimentar', '1', 'mi', 'vc', 'tem', 'que', 'liberar', '@bradesco', 'rt', '@robsonmanu06', '@bradesco', 'esse', 'aplicativo', 'do', 'celular', 'sempre', 'está', 'indisponível', '@bradesco', 'o', 'invest', 'facil', 'quando', 'abri', 'a', 'conta', 'ja', 'tava', 'no', 'pacote', 'so', 'q', 'nao', 'consigo', 'ver', 'nenhum', 'saldo', '@proconspoficial', 'como', 'faço', 'para', 'fazer', 'o', '@bradesco', 'cumprir', 'com', 'seu', 'trabalho', 'afim', 'de', 'resolver', 'a', 'situação', 'do', 'protocolo', 'ouvidoria', '286971446', '@bradesco', 'via', '4004-4436', 'desde', '5a', 'cai', 'na', 'atendente', 'e', 'sou', 'informado', 'que', 'está', 'sem', 'sistema', 'para', 'fazer', 'o', 'abatimento', 'do', 'valor', 'do', 'lance', '😡', 'odeio', 'bradesco', 'com', 'todas', 'minhas', 'forças', 'que', 'banco', 'fdp', '@bradesco', 'vocês', 'investiram', 'meu', 'dinheiro', 'sem', 'a', 'minha', 'permissão', 'é', 'deixaram', 'só', '1', 'real', 'na', 'minha', 'conta', 'como', 'resolvo', 'isso', 'logo', '@bradesco', 'já', 'resolvi', 'já', 'era', 'porque', 'não', 'conseguia', 'abrir', 'a', 'conta', 'sempre', 'alguma', 'coisa', 'que', 'faltava', 'mas', 'ontem', 'consegu…', 'https//tco/vv66ovi5nt', '@bradesco', 'sim', 'pelo', 'site', 'foi', '@bradesco', 'agora', 'eu', 'já', 'paguei', 'o', 'darf', 'não', 'pelo', 'app', 'mas', 'sim', 'pelo', 'site', '10', 'minutos', 'no', 'fone', 'fácil', 'do', '@bradesco', 'e', 'ainda', 'não', 'fui', 'atendido', 'táqueopareo', 'o', '@bradesco', 'ainda', 'não', 'percebeu', 'que', 'o', 'erro', 'que', 'tô', 'mostrando', 'pra', 'eles', 'não', 'é', 'um', 'erro', 'de', 'usuário', 'e', 'sim', 'de', 'desenvolvimento', 'da', 'aplicação', 'uns', 'meses', 'atrás', 'eu', 'reparei', 'que', 'o', 'quando', 'eu', 'vou', 'sacar', 'meu', 'salário', 'sempre', 'tem', 'a', 'menos', 'do', 'que', 'depositam', 'bradesco', 'me', 'comendo', '30', 'conto', 'mês', '👍🏼🤙🏼', 'bradesco', 'soltaaaaaa', 'nosso', 'money', 'kkkkk', 'ow', '@bradesco', 'eu', 'cadastrei', 'a', 'biometria', 'e', 'meu', 'saque', 'ainda', 'tá', 'com', 'limite', 'de', '300', 'vcs', 'são', 'loko', 'meu', 'deus', 'não', 'entendo', 'a', 'dificuldade', 'de', 'uma', 'empresa', 'em', 'assumir', 'que', 'cagou', 'e', 'me', 'devolver', 'a', 'porra', 'do', 'meu', 'dinheiro', '@bradesco', 'quanto', 'tempo', 'mais', 'o', '@bradesco', 'vai', 'levar', 'pra', 'resolver', 'minha', 'situação', 'os', 'famosos', '10', 'dias', 'úteis', 'já', 'passaram', 'de', '100', 'dias', 'úteis']\n"
     ]
    }
   ],
   "source": [
    "dicior={}\n",
    "palavras=[]\n",
    "\n",
    "# limpando\n",
    "for x in dr:\n",
    "    nomes=x.split()\n",
    "    for y in nomes:\n",
    "        p2=[]\n",
    "        for i in y:\n",
    "            if i!= \":\" and i!=\"'\" and i!='\"' and i!=' ' and i!= \",\" and i!= \".\" and i!='?'and i!='!' and i!='(' and i!=')' :\n",
    "                p2.append(i)\n",
    "        a=\"\".join(p2)\n",
    "        palavras.append(a)\n",
    "        if y in dicior:\n",
    "            dicior[y]+=1\n",
    "        else:\n",
    "            dicior[y]=1\n",
    "        \n",
    "            \n",
    "#print(dicior)\n",
    "tr=sum(dicior.values())\n",
    "print(tr)     \n",
    "print(palavras)"
   ]
  },
  {
   "cell_type": "code",
   "execution_count": 39,
   "metadata": {},
   "outputs": [
    {
     "name": "stdout",
     "output_type": "stream",
     "text": [
      "2966\n",
      "4441\n",
      "['bandidos', 'explodem', 'caixas', 'do', 'bradesco', 'em', 'prédio', 'da', 'prefeitura', 'de', 'campina', 'grande', 'no', 'centro', 'da', 'cidade', 'https//tco/pwv2snxcct', 'rt', '@magnopb', 'bandidos', 'explodem', 'caixas', 'do', 'bradesco', 'em', 'prédio', 'da', 'prefeitura', 'de', 'campina', 'grande', 'no', 'centro', 'da', 'cidade', 'https//tco/b4xlbmp4w0', 'h', 'im', 'at', 'bradesco', 'in', 'são', 'paulo', 'sp', 'https//tco/kesmfnei9k', '@undeadstef', 'noooosssa', 'pode', 'colocar', 'bradesco', 'nessa', 'lista', 'também', 'acho', 'que', 'nenhum', 'presta', 'mesmo', '', '@bradesco', 'não', 'caso', 'o', 'banco', 'tenha', 'enviado', 'foi', 'para', 'o', 'meu', 'antigo', 'endereço', 'rt', '@umvesgo', 'e', 'até', 'quem', 'me', 'vê', 'na', 'fila', 'do', 'bradesco', 'sabe', 'que', 'eu', 'te', 'encontrei', '@victorissso', 'infelizmente', 'sim', 'recebi', 'um', 'email', 'hj', 'acho', 'q', 'só', 'bradesco', 'bandeira', 'visa', 'ou', 'seja', 'meu', 'cartão', '@fabioagitadas', 'no', 'momento', 'estamos', 'trabalhando', 'com', 'ambos', 'se', 'seu', 'boleto', 'agora', 'está', 'vindo', 'como', 'bradesco', 'não', 'precisa', 'se', 'preocupar', '', '@butstyles', 'vou', 'pedir', 'que', 'verifiquem', 'o', 'que', 'houve', 'ao', 'transacionar', 'por', 'favor', 'me', 'informe', 'seu', 'telefone', 'com', 'ddd', 'por', 'dm', 'alguém', 'tem', 'conta', 'no', 'bradesco', '', 'bradesco', 'im', 'at', 'bradesco', 'in', 'santo', 'antônio', 'da', 'platina', 'paraná', 'https//tco/eoihwmlzww', '@reehms', 'não', 'tem', 'problema', 'vc', 'tem', 'algum', 'e-mail', '', '@_littlepam', 'olá', 'é', 'possível', 'fazer', 'o', 'aviso', 'de', 'viagem', 'pelo', 'app', 'dentro', 'do', 'ícone', 'de', 'cartões', 'rt', '@vitorianr96', 'explodiram', 'o', 'bradesco', 'e', 'eu', 'to', 'bem', 'chocada', 'não', 'quero', 'bandidagem', 'nessa', 'região', 'não', '#pas', '@bradesco', 'já', 'foi', 'resolvido', 'meu', 'anjo', 'muito', 'obrigada', 'rt', '@bradesco', 'a', 'história', 'de', 'orgulho', 'dos', 'gaúchos', 'vira', 'festa', 'em', 'setembro', 'a', 'semana', 'farroupilha', 'tá', 'chegando', 'vem', 'conhecer', 'mais', 'https//tco/h', '@wonderbruno', 'olá', 'qual', 'é', 'o', 'nome', 'do', 'investimento', 'trabalhadores', 'assinam', 'acordos', 'específicos', 'com', 'o', '#bradesco', 'confira', 'https//tco/lne7ddvdrc', 'https//tco/7rshwkesur', 'rt', '@umvesgo', 'e', 'até', 'quem', 'me', 'vê', 'na', 'fila', 'do', 'bradesco', 'sabe', 'que', 'eu', 'te', 'encontrei', '@aic4r4lho', 'vou', 'pedir', 'p/', 'área', 'responsável', 'verificar', 'o', 'que', 'está', 'acontecendo', 'por', 'favor', 'envie', 'por', 'dm', 'um', 'tel', 'com', 'ddd', 'https//tco/azr1izxd1m', '@guilhermemars_', 'fico', 'à', 'disposição', 'prefeitura', 'do', 'rio', 'marca', 'leilão', 'da', 'folha', 'dos', 'servidores', 'para', 'esta', 'https//tco/gwvk35af4r', 'via', '@jornalextra', 'ganha', 'o', 'bradesco', 'fraude', 'pura', '@brunobtso', 'oi', 'vc', 'pode', 'verificar', 'a', 'possibilidade', 'de', 'aumentar', 'o', 'limite', 'pela', 'central', 'ou', 'se', 'vc', 'tiver', 'conta', 'com', 'a', 'gente', 'com', 'seu', 'gerente', 'im', 'at', 'bradesco', 'in', 'brasília', 'df', 'https//tco/wapz4criw1', '@guilhermemars_', 'vou', 'pedir', 'que', 'verifiquem', 'o', 'cadastro', 'do', 'token', 'para', 'você;', 'por', 'favor', 'me', 'informe', 'seu', 'telefone', 'com', 'ddd', 'por', 'dm', 'rt', '@umvesgo', 'e', 'até', 'quem', 'me', 'vê', 'na', 'fila', 'do', 'bradesco', 'sabe', 'que', 'eu', 'te', 'encontrei', 'rt', '@umvesgo', 'e', 'até', 'quem', 'me', 'vê', 'na', 'fila', 'do', 'bradesco', 'sabe', 'que', 'eu', 'te', 'encontrei', '@cavacogamer', '@bradesco', 'pooooooo', 'bradesco', '@renatin_pereira', 'bradesco', 'rt', '@bradesco', 'a', 'história', 'de', 'orgulho', 'dos', 'gaúchos', 'vira', 'festa', 'em', 'setembro', 'a', 'semana', 'farroupilha', 'tá', 'chegando', 'vem', 'conhecer', 'mais', 'https//tco/h', 'rt', '@bradesco', 'a', 'história', 'de', 'orgulho', 'dos', 'gaúchos', 'vira', 'festa', 'em', 'setembro', 'a', 'semana', 'farroupilha', 'tá', 'chegando', 'vem', 'conhecer', 'mais', 'https//tco/h', 'infomoney', '', 'bradesco', 'estima', 'que', 'ibovespa', 'atingirá', '69000', 'pontos', 'em', '2012', 'rt', '@bradesco', 'a', 'história', 'de', 'orgulho', 'dos', 'gaúchos', 'vira', 'festa', 'em', 'setembro', 'a', 'semana', 'farroupilha', 'tá', 'chegando', 'vem', 'conhecer', 'mais', 'https//tco/h', '@nubankbrasil', 'tira', 'uma', 'duvida', 'no', 'boleto', 'voces', 'trocaram', 'o', 'safra', 'para', 'o', 'bradesco', '$bbdc4', '-', 'bradesco', 'bbdc-n1', '-', 'ata', 'reuniao', 'do', 'conselho', 'de', 'administracao', '-', '29/08/17', 'https//tco/g2prgilf2t', 'rt', '@bradesco', 'a', 'história', 'de', 'orgulho', 'dos', 'gaúchos', 'vira', 'festa', 'em', 'setembro', 'a', 'semana', 'farroupilha', 'tá', 'chegando', 'vem', 'conhecer', 'mais', 'https//tco/h', 'trabalhadores', 'assinam', 'acordos', 'específicos', 'com', 'o', 'bradesco', 'https//tco/ztdzwnyotz', 'https//tco/df20xrahjq', '@bradesco', 'assim', 'que', 'eu', 'receber', 'de', 'novo', 'eu', 'mando', 'pra', 'vocês', 'rt', '@radiojornalamfm', 'posto', 'do', 'bradesco', 'é', 'alvo', 'de', 'explosão', 'nesta', 'terça-feira', 'no', 'agreste', '-', 'https//tco/w5ctfelodi', 'https//tco/gdyozu3oo7', 'rt', '@bradesco', 'a', 'história', 'de', 'orgulho', 'dos', 'gaúchos', 'vira', 'festa', 'em', 'setembro', 'a', 'semana', 'farroupilha', 'tá', 'chegando', 'vem', 'conhecer', 'mais', 'https//tco/h', 'negociação', 'permanente', 'entidades', 'assinam', 'acordos', 'específicos', 'com', 'o', 'bradesco', 'saiba', 'mais', 'https//tco/hay1uz6zcm', 'https//tco/abm3m1p7xl', 'rt', '@bradesco', 'a', 'história', 'de', 'orgulho', 'dos', 'gaúchos', 'vira', 'festa', 'em', 'setembro', 'a', 'semana', 'farroupilha', 'tá', 'chegando', 'vem', 'conhecer', 'mais', 'https//tco/h', 'short', 'interest', 'in', 'banco', 'bradesco', 'sa', '$bbd', 'declines', 'by', '183%', 'https//tco/efiklzaquv', 'rt', '@umvesgo', 'e', 'até', 'quem', 'me', 'vê', 'na', 'fila', 'do', 'bradesco', 'sabe', 'que', 'eu', 'te', 'encontrei', '@_vickcfr', 'olá', 'posso', 'ajudar', 'o', 'que', 'houve', 'rt', '@umvesgo', 'e', 'até', 'quem', 'me', 'vê', 'na', 'fila', 'do', 'bradesco', 'sabe', 'que', 'eu', 'te', 'encontrei', 'acusados', 'de', 'participação', 'no', 'assalto', 'ao', 'bradesco', 'de', 'brejo', 'do', 'cruz', 'são', 'presos', 'https//tco/4en2pzwcw6', 'https//tco/ww4ol4y6q8', 'rt', '@bradesco', 'a', 'história', 'de', 'orgulho', 'dos', 'gaúchos', 'vira', 'festa', 'em', 'setembro', 'a', 'semana', 'farroupilha', 'tá', 'chegando', 'vem', 'conhecer', 'mais', 'https//tco/h', 'rt', '@bradesco', 'a', 'história', 'de', 'orgulho', 'dos', 'gaúchos', 'vira', 'festa', 'em', 'setembro', 'a', 'semana', 'farroupilha', 'tá', 'chegando', 'vem', 'conhecer', 'mais', 'https//tco/h', 'bom', 'dia', '@', 'banco', 'bradesco', 'w/', '@adad_11', '@anderso11834202', '@acaciotimbeta', 'https//tco/rqrt4eg4x5', '@letgirassol', 'olá', 'qual', 'é', 'o', 'nome', 'desse', 'investimento', 'vou', 'abrir', 'uma', 'reclamação', 'envie', 'seu', 'telefone', 'com', 'ddd', 'por', 'dm', 'po', 'https//tco/hc4majt6t9', 'bandidos', 'explodiram', 'a', 'agência', 'do', 'bradesco', 'em', 'umburanas', 'https//tco/5a0kd4y6vj', 'quadrilha', 'explode', 'banco', 'bradesco', 'em', 'itanhandu/mg', '–', 'portal', 'mix', 'vale', '|', '12', '981430089', 'whatsapp', 'https//tco/1b4nzrcuwz', 'bandidos', 'explodem', 'caixas', 'eletrônicos', 'do', 'bradesco', 'dentro', 'da', 'secretaria', 'de', 'finanças', 'da', 'prefeitura', 'de', 'campina', 'grande', 'atenção', 'se', 'vc', 'puder', 'compartilhar', 'e', 'ajudar', 'eu', 'agradeço', 'bradesco', 'agência', '3271-9', 'conta', 'corrente', '557194-4', 'https//tco/pypdjkhndx', 'explosão', 'da', 'agência', 'bancária', 'do', 'bradesco', 'da', 'prefeitura', 'de', 'campina', 'av', 'floriano', 'peixoto', 'https//tco/6nl2ep2qjg', '@beijamimjp', 'o', 'que', 'aconteceu', 'caixa', 'do', 'bradesco', 'é', 'explodido', 'em', 'prédio', 'da', 'antiga', 'prefeitura', 'de', 'cg', '-', 'https//tco/84738nvs9k', 'https//tco/f6ovbjgyiq', '@cardinot', 'bandidos', 'explodem', 'caixa', 'eletrônico', 'de', 'posto', 'de', 'atendimento', 'do', 'bradesco', 'na', 'cidade', 'de', 'feira', 'nova-pe', 'cidade', 'ficou', 'sem', 'banco', 'de', 'vez', 'rt', '@bradesco', 'a', 'história', 'de', 'orgulho', 'dos', 'gaúchos', 'vira', 'festa', 'em', 'setembro', 'a', 'semana', 'farroupilha', 'tá', 'chegando', 'vem', 'conhecer', 'mais', 'https//tco/h', 'rt', '@umvesgo', 'e', 'até', 'quem', 'me', 'vê', 'na', 'fila', 'do', 'bradesco', 'sabe', 'que', 'eu', 'te', 'encontrei', '@gragragragrazi', 'oiie', 'o', 'que', 'aconteceu', '/', '@danniellyarauj0', 'eiii', 'tô', 'aqui', 'na', 'acupuntura', 'aceita', 'bradesco', 'sim', 'rt', '@umvesgo', 'e', 'até', 'quem', 'me', 'vê', 'na', 'fila', 'do', 'bradesco', 'sabe', 'que', 'eu', 'te', 'encontrei', '@vaitomarnocii', 'você', 'já', 'é', 'correntista', 'ou', 'ainda', 'não', 'tem', 'conta', 'rt', '@ex_tasiado', 'eu', 'podia', 'ir', 'no', 'bradesco', 'hoje', 'e', 'descobrir', 'que', 'a', 'conta', 'que', 'eu', 'não', 'to', 'usando', 'tá', 'com', 'milhões', 'short', 'interest', 'in', 'banco', 'bradesco', 'sa', '$bbd', 'declines', 'by', '183%', 'https//tco/4yrmwu33kh', 'im', 'at', 'bradesco', 'in', 'mossoró', 'rio', 'grande', 'do', 'norte', 'https//tco/ewhfrsqaej', 'quinta', '07/09', 'maestro', 'rogério', 'martins', 'presta', 'tributo', 'a', 'elton', 'john', 'no', 'teatro', 'bradesco', 'na', 'barra', 'https//tco/hge9dcrj9t', '@vicctornogueira', 'oi', 'você', 'deve', 'pedir', 'o', 'cancelamento', 'do', 'cartão', 'e', 'o', 'envio', 'de', 'um', 'novo', 'através', 'da', 'central', 'já', 'ligou', 'no', 'fone', 'fácil', 'bancários', 'assinam', 'acordos', 'específicos', 'com', 'o', 'bradesco', 'https//tco/t54uipvkgm', 'https//tco/ushnpkpqm8', '@chatalya', 'você', 'tentou', 'consultar', 'no', 'internet', 'banking', 'na', 'opção', 'investimentos', 'parceria', 'entre', 'sicor-rj', 'e', 'bradesco', 'seguros', 'promove', 'qualificação', 'dos', 'corretores', 'de', 'seguro', 'clique', 'para', 'ver', 'também', '☛', 'https//tco/6mjby4m4ei', 'fui', 'no', 'bradesco', 'hoje', 'abrir', 'uma', 'conta', '🤑', 'alienado', 'esse', 'torcedor', 'do', 'bradesco', 'né', 'ebm', 'não', 'criou', 'apenas', 'a', 'mentalidade', 'derrotada', 'no', 'flamengo', 'criou', 'um', 'exército', 'https//tco/raa4jzh0n2', '@bradesco', 'quando', 'a', 'lava', 'jato', 'vai', 'chegar', 'no', 'sistema', 'financeiro', 'rt', '@blogcarlosmagno', 'bandidos', 'explodem', 'caixas', 'do', 'bradesco', 'em', 'prédio', 'da', 'prefeitura', 'de', 'campina', 'grande', 'no', 'centro', 'da', 'cidade', 'https//tco/lvwa', '@llarisann', 'olá', 'o', 'que', 'houve', 'posso', 'ajudar', 'gente', 'do', 'céu', 'me', 'ajudem', 'a', 'achar', 'o', 'homem', 'da', 'minha', 'vida', 'o', 'nome', 'dele', 'é', 'anderson', 'ele', 'é', 'gerente', 'da', 'agência', 'do', 'bradesco', 'do', 'porto', 'seco', 'pirajá', 'rt', '@hpcharles77', 'alienado', 'esse', 'torcedor', 'do', 'bradesco', 'né', 'ebm', 'não', 'criou', 'apenas', 'a', 'mentalidade', 'derrotada', 'no', 'flamengo', 'criou', 'um', 'exército', 'de', 'zum', '@cbmaggot', 'olá', 'o', 'que', 'aconteceu', 'trabalhadores', 'assinam', 'acordos', 'específicos', 'com', 'o', 'bradesco', 'https//tco/d2kc0zl6pk', 'rt', '@bradesco', 'a', 'história', 'de', 'orgulho', 'dos', 'gaúchos', 'vira', 'festa', 'em', 'setembro', 'a', 'semana', 'farroupilha', 'tá', 'chegando', 'vem', 'conhecer', 'mais', 'https//tco/h', '@blancoovictor', 'fico', 'à', 'disposição', 'por', 'aqui', ';', 'facebook', 'bradesco', 'e', 'bb', 'entram', 'na', 'onda', 'que', 'venham', 'ótimas', 'ideias', 'e', 'projetos', 'https//tco/x0ieztcpxd', 'rt', '@bradesco', 'a', 'história', 'de', 'orgulho', 'dos', 'gaúchos', 'vira', 'festa', 'em', 'setembro', 'a', 'semana', 'farroupilha', 'tá', 'chegando', 'vem', 'conhecer', 'mais', 'https//tco/h', 'ladrões', 'explodem', 'bradesco', 'na', 'prefeitura', 'de', 'campina', 'grande;', 'pm', 'ainda', 'recupera', '15', 'mil', 'reais', '-', 'portal', 'queimadas', 'https//tco/zbdmimihx6', 'rt', '@bradesco', 'a', 'história', 'de', 'orgulho', 'dos', 'gaúchos', 'vira', 'festa', 'em', 'setembro', 'a', 'semana', 'farroupilha', 'tá', 'chegando', 'vem', 'conhecer', 'mais', 'https//tco/h', 'ibovespa', 'caindo', '030%', 'pressionado', 'por', 'itaú', 'bradesco', 'e', 'vale', 'itub4-080%', 'bbdc4-229%', 'vale3-204%', 'ainda', 'falta', 'metade', 'do', 'pregão', 'para', 'mudar', '@cruelcr7', 'se', 'for', 'um', 'cheque', 'ilimitado', 'da', 'bradesco', 'então', 'tu', 'aceita', '@tailumiusti', 'oi', 'vc', 'já', 'recebeu', 'o', 'novo', 'cartão', '@bradesco', 'ajuda', 'na', 'dm', 'im', 'at', 'bradesco', 'in', 'são', 'paulo', 'sp', 'https//tco/9hw05y487c', 'bradesco', 'e', 'cielo', 'firmam', 'parceria', 'com', 'os', 'cartórios', 'https//tco/xdz2wdfeu8', 'posto', 'do', 'bradesco', 'é', 'alvo', 'de', 'explosão', 'nesta', 'madrugada', 'em', 'feira', 'nova', 'detalhes', 'no', 'meu', 'blog', 'https//tco/i3ftxfsrxc', 'rt', '@umvesgo', 'e', 'até', 'quem', 'me', 'vê', 'na', 'fila', 'do', 'bradesco', 'sabe', 'que', 'eu', 'te', 'encontrei', 'rt', '@bradesco', 'a', 'história', 'de', 'orgulho', 'dos', 'gaúchos', 'vira', 'festa', 'em', 'setembro', 'a', 'semana', 'farroupilha', 'tá', 'chegando', 'vem', 'conhecer', 'mais', 'https//tco/h', 'rt', '@francis41849673', 'bradesco', 'vence', 'leilão', 'e', 'com', 'r$', '13', 'bilhão', 'pezão', 'regularizará', 'folhas', 'de', 'maio', 'e', 'junho', 'https//tco/1nsbhhj4nu', 'tenho', 'que', 'passar', 'no', 'bradesco', 'e', 'depois', 'ir', 'no', 'banco', 'do', 'brasil', 'polícia', 'prende', 'dois', 'suspeitos', 'de', 'participação', 'do', 'assalto', 'ao', 'bradesco', 'de', 'brejo', 'do', 'cruz', 'https//tco/vahg60ihf8', 'rt', '@umvesgo', 'e', 'até', 'quem', 'me', 'vê', 'na', 'fila', 'do', 'bradesco', 'sabe', 'que', 'eu', 'te', 'encontrei', '#catracabh', 'de', 'vivaldi', 'à', 'anitta', 'família', 'lima', 'se', 'apresenta', 'no', 'teatro', 'bradesco', 'https//tco/1kqao2xsjn', 'https//tco/5klfw6kshf', '@chatalya', 'qual', 'tipo', 'de', 'investimento', 'você', 'adquiriu', 'por', 'qual', 'mídia', 'foi', 'feito', '@ales_matos', 'você', 'fala', 'do', 'cartão', 'da', 'conta', 'tentou', 'mudar', 'bandeira', 'bancários', 'assinam', 'acordos', 'específicos', 'com', 'o', 'bradesco', 'https//tco/90axmpx0hs', 'https//tco/893aalkzoc', 'rt', '@umvesgo', 'e', 'até', 'quem', 'me', 'vê', 'na', 'fila', 'do', 'bradesco', 'sabe', 'que', 'eu', 'te', 'encontrei', '@brunamrtins', 'olá', 'o', 'que', 'aconteceu', 'vida', 'de', 'adulto', 'é', 'complicado', 'você', 'precisa', 'faltar', 'na', 'faculdade', 'pra', 'ir', 'na', 'sua', 'agência', 'do', 'bradesco', '🙄', 'rt', '@marcelomassaobr', 'im', 'at', 'bradesco', 'in', 'são', 'paulo', 'sp', 'https//tco/9yctk9uudu', 'rt', '@umvesgo', 'e', 'até', 'quem', 'me', 'vê', 'na', 'fila', 'do', 'bradesco', 'sabe', 'que', 'eu', 'te', 'encontrei', 'assinados', '4', 'acordos', 'coletivos', 'aditivos', 'relacionados', 'à', 'direitos', 'específicos', 'conquistados', 'pelos', 'trabalhadores', 'https//tco/xgbdfq7kus', 'rt', '@bradesco', 'a', 'história', 'de', 'orgulho', 'dos', 'gaúchos', 'vira', 'festa', 'em', 'setembro', 'a', 'semana', 'farroupilha', 'tá', 'chegando', 'vem', 'conhecer', 'mais', 'https//tco/h', '@stevenstrogatz', '@jsellenberg', '@luisc', '@bancopaulista', '@bradesco', '@mobil', '@votorantim', '@citibank', '@billgates', '@batinap', 'https//tco/h1yolalwyj', '@bradesco', 'possuo', 'o', 'cartão', 'ativo', 'mas', 'a', 'chave', 'não', '$bbdc4', '-', 'bradesco', 'bbdc-n1', '-', 'ata', 'reuniao', 'do', 'conselho', 'de', 'administracao', '-', '29/08/17', 'https//tco/phrikiikdw', '@sadboydotc0m', 'você', 'conseguiu', 'cancelar', 'o', 'cartão', 'e', 'pedir', 'uma', 'nova', 'via', 'o', 'cartão', 'foi', 'perdido', '@chatalya', 'quando', 'você', 'consulta', 'o', 'saldo', 'em', 'conta', 'ou', 'consulta', 'pelo', 'opção', 'extratos', 'você', 'consegue', 'visualizar', 'o', 'saldo', 'do', 'investimento', '@bradesco', 'posso', 'ir', 'em', 'qualquer', 'agencia', 'solicitar', 'a', 'transferencia', 'do', 'meu', 'salario', 'pra', 'outro', 'banco', 'ou', 'precisa', 'ser', 'na', 'minha', 'rt', '@bradesco', 'a', 'história', 'de', 'orgulho', 'dos', 'gaúchos', 'vira', 'festa', 'em', 'setembro', 'a', 'semana', 'farroupilha', 'tá', 'chegando', 'vem', 'conhecer', 'mais', 'https//tco/h', 'rt', '@umvesgo', 'e', 'até', 'quem', 'me', 'vê', 'na', 'fila', 'do', 'bradesco', 'sabe', 'que', 'eu', 'te', 'encontrei', 'arrebentaram', 'o', 'banco', 'bradesco', 'de', 'itanhandu', 'mundo', 'tá', 'perdido', 'mesmo', '@inezboldrin', 'certo', 'fico', 'à', 'disposição', '', 'bandidos', 'explodem', 'caixas', 'do', 'bradesco', 'em', 'prédio', 'da', 'prefeitura', 'de', 'campina', 'grande', 'no', 'centro', 'da', 'cidade', 'https//tco/5ty7gonix3', '@bradesco_', 'bem', 'eu', 'kkkkkkj', 'im', 'at', 'fundação', 'bradesco', 'w/', '@biapaiiixao', '@allan_vilas', 'https//tco/rlcos0itn8', 'rt', '@bradesco', 'a', 'história', 'de', 'orgulho', 'dos', 'gaúchos', 'vira', 'festa', 'em', 'setembro', 'a', 'semana', 'farroupilha', 'tá', 'chegando', 'vem', 'conhecer', 'mais', 'https//tco/h', 'os', 'cara', 'assaltaram', 'o', 'bradesco', 'pra', 'poder', 'comprar', 'um', 'churros', 'eu', 'pensei', 'que', 'minha', 'conta', 'no', 'bradesco', 'tava', 'negativa', 'e', 'nao', 'tá', 'que', 'felicidade', 'gente', 'asdaisjdosjoifjdosfjk', 'rt', '@umvesgo', 'e', 'até', 'quem', 'me', 'vê', 'na', 'fila', 'do', 'bradesco', 'sabe', 'que', 'eu', 'te', 'encontrei', 'rt', '@joseribeiro1810', '@jornalistavitor', 'aqui', 'em', 'mt', 'deverá', 'chegar', 'uma', 'frente', 'fria', 'no', 'feriado', 'isso', 'significa', 'um', 'ônibus', 'cheio', 'de', 'gaúchos', 'com', 'de', 'vivaldi', 'à', 'anitta', 'família', 'lima', 'se', 'apresenta', 'no', 'teatro', 'bradesco', 'https//tco/snpobknylu', 'via', '@catracalivrebh', 'fui', 'no', 'bradesco', 'atoa', 'bandidos', 'explodem', 'agência', 'do', 'bradesco', 'em', 'campina', 'grande', 'leia', 'mais', 'https//tco/wowwjahbgq', 'rt', '@bradesco', 'a', 'história', 'de', 'orgulho', 'dos', 'gaúchos', 'vira', 'festa', 'em', 'setembro', 'a', 'semana', 'farroupilha', 'tá', 'chegando', 'vem', 'conhecer', 'mais', 'https//tco/h', '@othiagomaia', 'oi', 'a', 'solicitação', 'pode', 'ser', 'feita', 'através', 'do', 'fone', 'fácil', 'ou', 'agência', 'depois', 'que', 'fizer', 'o', 'pedido', 'deve', 'confirmar', 'com', 'a', 'atendente', '+', 'rt', '@bradesco', 'a', 'história', 'de', 'orgulho', 'dos', 'gaúchos', 'vira', 'festa', 'em', 'setembro', 'a', 'semana', 'farroupilha', 'tá', 'chegando', 'vem', 'conhecer', 'mais', 'https//tco/h', '@loongleo', 'olá', 'qual', 'mensagem', 'de', 'erro', 'aparece', 'quando', 'você', 'tenta', 'fazer', 'o', 'serviço', '@sacavalcantte', 'olá', 'o', 'que', 'houve', 'posso', 'ajudar', '🚨🚨explosão', 'de', 'caixas', 'eletrônicos', 'em', '*#itanhandu*', 'hoje', 'as', '430hs', 'banco', 'bradesco', 'foi', 'o', 'alvo', '@jordanhang', 'vou', 'registrar', 'e', 'pedir', 'retorno', 'para', 'você;', 'por', 'favor', 'me', 'informe', 'seu', 'telefone', 'com', 'ddd', 'por', 'dm', '@artursandrin', '@bradesco', 'bom', 'dia', 'encaminhamos', 'as', 'orientações', 'via', 'mensagem', 'privada', '@antonioliii', 'olá', 'o', 'que', 'houve', 'posso', 'ajudar', 'explodiram', 'o', 'bradesco', 'e', 'eu', 'to', 'bem', 'chocada', 'não', 'quero', 'bandidagem', 'nessa', 'região', 'não', '#pas', '@eufrasiox', 'você', 'pediu', 'só', 'o', 'cartão', 'da', 'conta', 'e', 'ao', 'pedir', 'solicitou', 'na', 'agência', 'a', 'liberação', 'da', 'função', 'crédito', 'em', 'qual', 'dia', 'fez', 'isso', '💎', '@', 'bradesco', '—', 'av', 'pres', 'lincoln', 'in', 'são', 'joão', 'de', 'meriti', 'rio', 'de', 'janeiro', 'https//tco/owez87nkva', '@bradesco', 'enviei', 'print', 'por', 'dm', '@bradesco', 'roubaram', 'meu', 'celular', 'aí', 'eu', 'queria', 'reativar', 'a', 'chave', 'só', 'que', 'não', 'da', 'pelo', 'telefone', 'o', 'atendente', 'disse', 'para', 'ir', 'em', 'uma', 'agencia', 'partiu', 'festejar', 'a', 'história', 'da', 'chacina', 'dos', 'lanceiros', 'negros', 'https//tco/m0o0m9fo7w', 'rt', '@bradesco', 'a', 'história', 'de', 'orgulho', 'dos', 'gaúchos', 'vira', 'festa', 'em', 'setembro', 'a', 'semana', 'farroupilha', 'tá', 'chegando', 'vem', 'conhecer', 'mais', 'https//tco/h', '@bancocentralbr', 'pela', 'quadrilha', 'que', 'aplicou', 'o', 'golpe', 'e', 'agora', 'a', 'instituição', 'financeira', '@bradesco', 'foge', 'da', 'responsabilid', 'https//tco/t6jzgkgsp9', '@gerlitou', 'olá', 'o', 'que', 'aconteceu', 'posso', 'ajudar', 'caixa', 'do', 'bradesco', 'é', 'alva', 'da', 'bandidagem', 'desta', 'vez', 'foi', 'dentro', 'do', 'prédio', 'da', 'prefeitura', 'de', 'campina', 'grande', 'https//tco/uurfztpsxh', 'posto', 'do', 'bradesco', 'é', 'alvo', 'de', 'explosão', 'nesta', 'terça-feira', 'no', 'agreste', 'https//tco/vkgypqxrrx', 'via', '@jc_pe', '@reehms', 'posso', 'pedir', 'que', 'nossa', 'equipe', 'verifique', 'qual', 'o', 'seu', 'telefone', 'com', 'ddd', 'por', 'favor', 'envia', 'por', 'dm', '😊', '@jornalistavitor', 'aqui', 'em', 'mt', 'deverá', 'chegar', 'uma', 'frente', 'fria', 'no', 'feriado', 'isso', 'significa', 'um', 'ônibus', 'cheio', 'de', 'gaúchos', 'c', 'https//tco/suotnweajo', 'rt', '@umvesgo', 'e', 'até', 'quem', 'me', 'vê', 'na', 'fila', 'do', 'bradesco', 'sabe', 'que', 'eu', 'te', 'encontrei', 'jovem', 'aprendiz', 'bradesco', '-', 'pré', 'inscrições', '2017', 'https//tco/3kmhlkeznn', 'rt', '@bradesco', 'a', 'história', 'de', 'orgulho', 'dos', 'gaúchos', 'vira', 'festa', 'em', 'setembro', 'a', 'semana', 'farroupilha', 'tá', 'chegando', 'vem', 'conhecer', 'mais', 'https//tco/h', 'rt', '@bradesco', 'a', 'história', 'de', 'orgulho', 'dos', 'gaúchos', 'vira', 'festa', 'em', 'setembro', 'a', 'semana', 'farroupilha', 'tá', 'chegando', 'vem', 'conhecer', 'mais', 'https//tco/h', 'e', 'até', 'quem', 'me', 'vê', 'na', 'fila', 'do', 'bradesco', 'sabe', 'que', 'eu', 'te', 'encontrei', 'rt', '@spbancarios', 'aditivos', 'assinados', 'dizem', 'respeito', 'ao', 'telebanco', 'bradesco', 'financiamentos', 'cipa', 'treinet', 'e', 'ponto', 'eletrônico', 'https//tco/aus', '@bradesco', 'não', 'kkkkkk', '', 'rt', '@umvesgo', 'e', 'até', 'quem', 'me', 'vê', 'na', 'fila', 'do', 'bradesco', 'sabe', 'que', 'eu', 'te', 'encontrei', 'rt', '@hpcharles77', 'alienado', 'esse', 'torcedor', 'do', 'bradesco', 'né', 'ebm', 'não', 'criou', 'apenas', 'a', 'mentalidade', 'derrotada', 'no', 'flamengo', 'criou', 'um', 'exército', 'de', 'zum', 'o', 'que', 'tá', 'acontecendo', 'com', 'o', 'twitter', 'que', 'tá', 'todo', 'mundo', 'respondendoo', 'pessoal', 'exército', 'vigor', 'pm', 'bradesco', 'kkkkkkkk', 'tô', 'rindo', 'mto', 'com', 'isso', '@gabi3_m', 'olá', 'qual', 'serviço/informação', 'você', 'precisa', 'im', 'at', 'bradesco', 'in', 'palmeira', 'pr', 'https//tco/ank5q1vwpr', '@othiagomaia', '+', 'qual', 'será', 'a', 'bandeira', 'enviada', 'se', 'for', 'elo', 'posso', 'verificar', 'a', 'possibilidade', 'de', 'pedir', 'a', 'alteração', 'por', 'aqui', 'os', '#relatórios', 'de', '#recomendação', 'da', '#lojasrenner', 'e', 'do', '#bradesco', 'já', 'estão', 'atualizados', 'confira', 'no', 'módulo', 'empresas', 'im', 'at', 'bradesco', '-', 'ag', 'jaboatão', 'https//tco/ck2tgwich9', '@vaitomarnocii', 'olá', 'você', 'já', 'fez', 'a', 'solicitação', 'através', 'da', 'sua', 'agência', 'rt', '@bradesco', 'a', 'história', 'de', 'orgulho', 'dos', 'gaúchos', 'vira', 'festa', 'em', 'setembro', 'a', 'semana', 'farroupilha', 'tá', 'chegando', 'vem', 'conhecer', 'mais', 'https//tco/h', 'im', 'at', 'bradesco', 'in', 'são', 'paulo', 'sao', 'paulosp', 'https//tco/dyqgouigfd', '@icamiaba_', '@bradesco', 'acabou', 'de', 'acontecer', 'isso', 'comigo', 'mas', 'foi', 'com', 'a', '@caixa', 'quadrilha', 'explode', 'banco', 'bradesco', 'em', 'itanhandu/mg', '–', 'portal', 'mix', 'vale', '|', '12', '981430089', 'whatsapp', 'https//tco/kkm4wrn8qs', 'https//tco/kvnjcscs4x', 'im', 'at', 'bradesco', 'empresas', 'faria', 'lima', 'in', 'sao', 'paulo', 'w/', '@bastosaldemira', '@alex2srj', '@alaisesantos2', '@timbetalinda1', 'https//tco/2mivvqjdvh', 'busco', 'companhia', 'https//tco/sfchtkxxyd', 'rt', '@umvesgo', 'e', 'até', 'quem', 'me', 'vê', 'na', 'fila', 'do', 'bradesco', 'sabe', 'que', 'eu', 'te', 'encontrei', 'crowdfundingdez', 'dias', 'que', 'abalaram', 'o', 'mundowhatsapp', '21-98877-3322instituto', 'ensaio', 'abertocnpj', '10289112/0001-68', 'bradesco', 'ag7049', 'c/c', '1813-9', 'rt', '@bradesco', 'a', 'história', 'de', 'orgulho', 'dos', 'gaúchos', 'vira', 'festa', 'em', 'setembro', 'a', 'semana', 'farroupilha', 'tá', 'chegando', 'vem', 'conhecer', 'mais', 'https//tco/h', 'rt', '@thiagomessiasd', 'im', 'at', 'bradesco', 'in', 'aparecida', 'de', 'goiânia', 'goiás', 'w/', '@amandamaktub', '@andreneres18', '@toninotrolebus', '@aninhavarejao1', 'https//t', 'riquissimo', 'em', 'ny', '@', 'bradesco', 'in', 'são', 'paulo', 'https//tco/toy9appwqf', 'como', 'eu', 'adoro', 'quando', 'o', '@bradesco', 'me', 'cobra', 'por', 'um', 'serviço', 'que', 'eu', 'não', 'solicito', '🙄', 'aditivos', 'assinados', 'dizem', 'respeito', 'ao', 'telebanco', 'bradesco', 'financiamentos', 'cipa', 'treinet', 'e', 'ponto', 'eletrônico', 'https//tco/svff5utm2m', 'rt', '@umvesgo', 'e', 'até', 'quem', 'me', 'vê', 'na', 'fila', 'do', 'bradesco', 'sabe', 'que', 'eu', 'te', 'encontrei', '@bradesco', 'qual', 'o', 'prazo', 'para', 'desbloquear', 'um', 'depósito', 'em', 'cheque', 'planos', 'de', 'saude', 'empresarial', 'bradesco', 'saude', 'https//tco/tfrkm7vfcs', '@bradesco', 'sim', 'é', 'uma', 'conta', 'do', 'itaú', 'rt', '@umvesgo', 'e', 'até', 'quem', 'me', 'vê', 'na', 'fila', 'do', 'bradesco', 'sabe', 'que', 'eu', 'te', 'encontrei', 'rt', '@umvesgo', 'e', 'até', 'quem', 'me', 'vê', 'na', 'fila', 'do', 'bradesco', 'sabe', 'que', 'eu', 'te', 'encontrei', 'rt', '@bradesco', 'a', 'história', 'de', 'orgulho', 'dos', 'gaúchos', 'vira', 'festa', 'em', 'setembro', 'a', 'semana', 'farroupilha', 'tá', 'chegando', 'vem', 'conhecer', 'mais', 'https//tco/h', 'im', 'at', 'agência', 'bradesco', 'in', 'são', 'paulo', 'w/', '@livkannanda', '@amandamelopere2', '@barroso_nessa', '@allannasousa441', '@josyalmeida', 'https//tco/d1mjpppoy2', 'quadrilha', 'explode', 'banco', 'bradesco', 'em', 'itanhandu/mg', 'https//tco/rqdklzbddq', '@tarcisi0404', 'oi', 'posso', 'ajudar', 'o', 'que', 'houve', 'rt', '@bradesco', 'a', 'história', 'de', 'orgulho', 'dos', 'gaúchos', 'vira', 'festa', 'em', 'setembro', 'a', 'semana', 'farroupilha', 'tá', 'chegando', 'vem', 'conhecer', 'mais', 'https//tco/h', 'bancários', 'assinam', 'acordos', 'específicos', 'com', 'o', 'bradesco', 'de', 'blogosfera', 'da', 'rede', 'pt', '-', 'curta', 'nossa', 'página', 'https//tco/hqrqtiyqv9', '@bradesco', 'é', 'sim', 'obrigada', '&lt;3', 'eu', 'podia', 'ir', 'no', 'bradesco', 'hoje', 'e', 'descobrir', 'que', 'a', 'conta', 'que', 'eu', 'não', 'to', 'usando', 'tá', 'com', 'milhões', 'rt', '@bradesco', 'ippon', 'a', 'luta', 'da', 'vida', 'estreia', 'domingo', 'no', '@eespetacular', 'com', 'as', 'técnicas', '@rafaelasilvaa', 'e', 'sarah', 'menezes', 'e', 'promessas', 'do', 'judô', '@nery_mateus', 'outras', 'formas', 'de', 'pagamentodébito', 'em', 'conta', 'bradesco/', 'hsbc', 'santander', 'caixa', 'cartões', 'de', 'débito', 'do', 'https//tco/zvszvla51v', 'posto', 'do', 'bradesco', 'é', 'alvo', 'de', 'explosão', 'nesta', 'terça-feira', 'no', 'agreste', 'https//tco/q7gjkspls4', 'https//tco/fwtul9fpaj', 'im', 'at', 'bradesco', 'in', 'são', 'francisco', 'do', 'conde', 'w/', '@emanuelaesquiv1', 'https//tco/ygt8lezyxl', 'tá', 'chegando', '🙌', 'https//tco/sf52c2q3af', '@bradesco', 'como', 'faço', 'para', 'cancelar', 'um', 'pagamento', 'de', 'um', 'boleto', 'que', 'eu', 'fiz', 'sem', 'querer', 'no', 'modo', 'agendamento', '@chatalya', 'seu', 'investimento', 'possui', 'baixa', 'automática', 'certo', 'bom', 'dia', 'betas', 'vamos', 'trabalhar', '😂😂', '@', 'bradesco', 'núcleo', 'alphaville', 'in', 'barueri', 'sp', 'https//tco/qtmco938qu', '@bradesco', 'já', 'uso', 'em', 'um', 'celular', 'e', 'preciso', 'passar', 'pra', 'outro', 'novo', 'rt', '@bradesco', 'a', 'história', 'de', 'orgulho', 'dos', 'gaúchos', 'vira', 'festa', 'em', 'setembro', 'a', 'semana', 'farroupilha', 'tá', 'chegando', 'vem', 'conhecer', 'mais', 'https//tco/h']\n"
     ]
    }
   ],
   "source": [
    "dicioi={}\n",
    "palavrasi=[]\n",
    "\n",
    "for x in di:\n",
    "    nomes=x.split()\n",
    "    for y in nomes:\n",
    "        p2=[]\n",
    "        for i in y:\n",
    "            if i!= \":\" and i!=\"'\" and i!='\"' and i!=' ' and i!= \",\" and i!= \".\" and i!='?'and i!='!' and i!='(' and i!=')' and i!='…' :\n",
    "                p2.append(i)\n",
    "        a=\"\".join(p2)\n",
    "        palavrasi.append(a)\n",
    "        if y in dicioi:\n",
    "            dicioi[y]+=1\n",
    "        else:\n",
    "            dicioi[y]=1\n",
    "\n",
    "#print(dicioi)\n",
    "ti=sum(dicioi.values())\n",
    "print(ti)\n",
    "t=ti+tr  \n",
    "print(t)\n",
    "print(palavrasi)"
   ]
  },
  {
   "cell_type": "code",
   "execution_count": 40,
   "metadata": {},
   "outputs": [
    {
     "name": "stdout",
     "output_type": "stream",
     "text": [
      "1.7386733795816556e-09\n"
     ]
    }
   ],
   "source": [
    "#probabilidade da frase ser relavante e relevante=\n",
    "#(vezes q a palavra aparece+1)/(palavras relevantes+total de palavras) x a probab da outra palavra em relevante x ....\n",
    "#qual eh maior\n",
    "pfr=1\n",
    "frase=\"bradesco me cansa\"\n",
    "nomes=frase.split()\n",
    "for i in nomes:\n",
    "    if i in dicior:\n",
    "        pa=(dicior[i]+1)/(tr+t)\n",
    "        pfr*=pa\n",
    "    else:\n",
    "        pa=1/(tr+t)\n",
    "        pfr*=pa\n",
    "\n",
    "print(pfr)"
   ]
  },
  {
   "cell_type": "code",
   "execution_count": 41,
   "metadata": {},
   "outputs": [
    {
     "name": "stdout",
     "output_type": "stream",
     "text": [
      "3.218771752973153e-42\n"
     ]
    }
   ],
   "source": [
    "pfi=1\n",
    "frase=\"bradesco me cansa\"\n",
    "for i in frase:\n",
    "    if i in dicioi:\n",
    "        pa= (dicioi[i]+1)/(tr+t)\n",
    "        pfr*=pa\n",
    "    else:\n",
    "        pa=1/(tr+t)\n",
    "        pfi*=pa\n",
    "\n",
    "print(pfi)"
   ]
  },
  {
   "cell_type": "code",
   "execution_count": 42,
   "metadata": {},
   "outputs": [
    {
     "name": "stdout",
     "output_type": "stream",
     "text": [
      "É relevante\n"
     ]
    }
   ],
   "source": [
    "if pfi<pfr:\n",
    "    print('É relevante')\n",
    "else:\n",
    "    print('É irrelevante')"
   ]
  },
  {
   "cell_type": "markdown",
   "metadata": {},
   "source": [
    "___\n",
    "## Verificando a performance\n",
    "\n",
    "Agora você deve testar o seu Classificador com a base de Testes.<br /><br /> \n",
    "\n",
    "Você deve extrair as seguintes medidas:\n",
    "* Porcentagem de positivos falsos (marcados como relevante mas não são relevantes)\n",
    "* Porcentagem de positivos verdadeiros (marcado como relevante e são relevantes)\n",
    "* Porcentagem de negativos verdadeiros (marcado como não relevante e não são relevantes)\n",
    "* Porcentagem de negativos falsos (marcado como não relevante e são relevantes)\n",
    "\n",
    "Opcionalmente:\n",
    "* Criar categorias intermediárias de relevância baseado na diferença de probabilidades. Exemplo: muito relevante, relevante, neutro, irrelevante e muito irrelevante."
   ]
  },
  {
   "cell_type": "code",
   "execution_count": 48,
   "metadata": {
    "scrolled": true
   },
   "outputs": [
    {
     "name": "stdout",
     "output_type": "stream",
     "text": [
      "C:\\Users\\milen\\OneDrive\\Documentos\\2o SEMESTRE\\CDD\\Projeto2-CD\n"
     ]
    }
   ],
   "source": [
    "#fazer uma nov coluna e comparar as colunas\n",
    "print(os.getcwd())\n",
    "dados2 = pd.read_excel('Bradesco.xlsx', 1)"
   ]
  },
  {
   "cell_type": "code",
   "execution_count": 49,
   "metadata": {},
   "outputs": [
    {
     "data": {
      "text/html": [
       "<div>\n",
       "<table border=\"1\" class=\"dataframe\">\n",
       "  <thead>\n",
       "    <tr style=\"text-align: right;\">\n",
       "      <th></th>\n",
       "      <th>Teste</th>\n",
       "      <th>Tweets</th>\n",
       "      <th>Relevancia</th>\n",
       "    </tr>\n",
       "  </thead>\n",
       "  <tbody>\n",
       "    <tr>\n",
       "      <th>0</th>\n",
       "      <td>1</td>\n",
       "      <td>só o bradesco que n vai ter feriadão, q bosta</td>\n",
       "      <td>i</td>\n",
       "    </tr>\n",
       "    <tr>\n",
       "      <th>1</th>\n",
       "      <td>2</td>\n",
       "      <td>novidades bradesco saúde. https://t.co/ndk1na7vag</td>\n",
       "      <td>i</td>\n",
       "    </tr>\n",
       "    <tr>\n",
       "      <th>2</th>\n",
       "      <td>3</td>\n",
       "      <td>são 84 cursos grátis e com certificado da fund...</td>\n",
       "      <td>i</td>\n",
       "    </tr>\n",
       "    <tr>\n",
       "      <th>3</th>\n",
       "      <td>4</td>\n",
       "      <td>@bradesco cheguei 12:05h agência cachambi em f...</td>\n",
       "      <td>i</td>\n",
       "    </tr>\n",
       "    <tr>\n",
       "      <th>4</th>\n",
       "      <td>5</td>\n",
       "      <td>rt @bradesco: a história de orgulho dos gaúcho...</td>\n",
       "      <td>i</td>\n",
       "    </tr>\n",
       "  </tbody>\n",
       "</table>\n",
       "</div>"
      ],
      "text/plain": [
       "   Teste                                             Tweets Relevancia\n",
       "0      1      só o bradesco que n vai ter feriadão, q bosta          i\n",
       "1      2  novidades bradesco saúde. https://t.co/ndk1na7vag          i\n",
       "2      3  são 84 cursos grátis e com certificado da fund...          i\n",
       "3      4  @bradesco cheguei 12:05h agência cachambi em f...          i\n",
       "4      5  rt @bradesco: a história de orgulho dos gaúcho...          i"
      ]
     },
     "execution_count": 49,
     "metadata": {},
     "output_type": "execute_result"
    }
   ],
   "source": [
    "dados2.head()"
   ]
  },
  {
   "cell_type": "code",
   "execution_count": null,
   "metadata": {
    "collapsed": true
   },
   "outputs": [],
   "source": []
  },
  {
   "cell_type": "code",
   "execution_count": null,
   "metadata": {
    "collapsed": true
   },
   "outputs": [],
   "source": []
  },
  {
   "cell_type": "code",
   "execution_count": null,
   "metadata": {
    "collapsed": true
   },
   "outputs": [],
   "source": []
  },
  {
   "cell_type": "markdown",
   "metadata": {
    "collapsed": true
   },
   "source": [
    "___\n",
    "## Concluindo\n",
    "\n",
    "Escreva aqui a sua conclusão.<br /> \n",
    "Faça um comparativo qualitativo sobre as medidas obtidas.<br />\n",
    "Explique como são tratadas as mensagens com dupla negação e sarcasmo.<br />\n",
    "Proponha um plano de expansão. Por que eles devem continuar financiando o seu projeto?<br />\n",
    "\n",
    "Opcionalmente: \n",
    "* Discorrer por que não posso alimentar minha base de Treinamento automaticamente usando o próprio classificador, aplicado a novos tweets.\n",
    "* Propor diferentes cenários de uso para o classificador Naive-Bayes. Cenários sem intersecção com este projeto.\n",
    "* Sugerir e explicar melhorias reais no classificador com indicações concretas de como implementar (não é preciso codificar, mas indicar como fazer e material de pesquisa sobre o assunto).\n"
   ]
  },
  {
   "cell_type": "code",
   "execution_count": null,
   "metadata": {
    "collapsed": true
   },
   "outputs": [],
   "source": []
  }
 ],
 "metadata": {
  "kernelspec": {
   "display_name": "Python 3",
   "language": "python",
   "name": "python3"
  },
  "language_info": {
   "codemirror_mode": {
    "name": "ipython",
    "version": 3
   },
   "file_extension": ".py",
   "mimetype": "text/x-python",
   "name": "python",
   "nbconvert_exporter": "python",
   "pygments_lexer": "ipython3",
   "version": "3.6.0"
  }
 },
 "nbformat": 4,
 "nbformat_minor": 1
}
