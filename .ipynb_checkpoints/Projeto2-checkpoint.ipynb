{
 "cells": [
  {
   "cell_type": "markdown",
   "metadata": {},
   "source": [
    "# Projeto 2 - Classificador Automático de Sentimento\n",
    "\n",
    "Você foi contratado por uma empresa parar analisar como os clientes estão reagindo a um determinado produto no Twitter. A empresa deseja que você crie um programa que irá analisar as mensagens disponíveis e classificará como \"relevante\" ou \"irrelevante\". Com isso ela deseja que mensagens negativas, que denigrem o nome do produto, ou que mereçam destaque, disparem um foco de atenção da área de marketing.<br /><br />\n",
    "Como aluno de Ciência dos Dados, você lembrou do Teorema de Bayes, mais especificamente do Classificador Naive-Bayes, que é largamente utilizado em filtros anti-spam de e-mails. O classificador permite calcular qual a probabilidade de uma mensagem ser relevante dadas as palavras em seu conteúdo.<br /><br />\n",
    "Para realizar o MVP (*minimum viable product*) do projeto, você precisa implementar uma versão do classificador que \"aprende\" o que é relevante com uma base de treinamento e compara a performance dos resultados com uma base de testes.<br /><br />\n",
    "Após validado, o seu protótipo poderá também capturar e classificar automaticamente as mensagens da plataforma.\n",
    "\n",
    "## Informações do Projeto\n",
    "\n",
    "Prazo: 13/Set até às 23:59.<br />\n",
    "Grupo: 1 ou 2 pessoas.<br /><br />\n",
    "Entregáveis via GitHub: \n",
    "* Arquivo notebook com o código do classificador, seguindo as orientações abaixo.\n",
    "* Arquivo Excel com as bases de treinamento e teste totalmente classificado.\n",
    "\n",
    "**NÃO disponibilizar o arquivo com os *access keys/tokens* do Twitter.**\n",
    "\n",
    "\n",
    "### Check 3: \n",
    "\n",
    "Até o dia 06 de Setembro às 23:59, o notebook e o xlsx devem estar no Github com as seguintes evidências: \n",
    "    * Conta no twitter criada.\n",
    "    * Produto escolhido.\n",
    "    * Arquivo Excel contendo a base de treinamento e teste já classificado.\n",
    "    \n",
    "\n",
    "Sugestão de leitura:<br />\n",
    "http://docs.tweepy.org/en/v3.5.0/index.html<br />\n",
    "https://monkeylearn.com/blog/practical-explanation-naive-bayes-classifier/"
   ]
  },
  {
   "cell_type": "markdown",
   "metadata": {},
   "source": [
    "___\n",
    "\n",
    "## Preparando o ambiente\n",
    "\n",
    "Instalando a biblioteca *tweepy* para realizar a conexão com o Twitter:"
   ]
  },
  {
   "cell_type": "code",
   "execution_count": 2,
   "metadata": {
    "collapsed": true
   },
   "outputs": [],
   "source": [
    "%%capture\n",
    "\n",
    "#Instalando o tweepy\n",
    "!pip install tweepy"
   ]
  },
  {
   "cell_type": "markdown",
   "metadata": {},
   "source": [
    "Importando as Bibliotecas que serão utilizadas. Esteja livre para adicionar outras."
   ]
  },
  {
   "cell_type": "code",
   "execution_count": 3,
   "metadata": {
    "collapsed": true
   },
   "outputs": [],
   "source": [
    "import tweepy\n",
    "import math\n",
    "import os.path\n",
    "import pandas as pd\n",
    "import json\n",
    "from random import shuffle"
   ]
  },
  {
   "cell_type": "markdown",
   "metadata": {},
   "source": [
    "___\n",
    "## Autenticando no  Twitter\n",
    "\n",
    "Para realizar a captura dos dados é necessário ter uma conta cadastrada no twitter:\n",
    "\n",
    "* Conta: ***[Preencha aqui o id da sua conta. Ex: @fulano ]***\n",
    "\n",
    "\n",
    "1. Caso ainda não tenha uma: https://twitter.com/signup\n",
    "1. Depois é necessário registrar um app para usar a biblioteca: https://apps.twitter.com/\n",
    "1. Dentro do registro do App, na aba Keys and Access Tokens, anotar os seguintes campos:\n",
    "    1. Consumer Key (API Key)\n",
    "    1. Consumer Secret (API Secret)\n",
    "1. Mais abaixo, gere um Token e anote também:\n",
    "    1. Access Token\n",
    "    1. Access Token Secret\n",
    "    \n",
    "1. Preencha os valores no arquivo \"auth.pass\"\n",
    "\n",
    "**ATENÇÃO**: Nunca divulgue os dados desse arquivo online (GitHub, etc). Ele contém as chaves necessárias para realizar as operações no twitter de forma automática e portanto é equivalente a ser \"hackeado\". De posse desses dados, pessoas mal intencionadas podem fazer todas as operações manuais (tweetar, seguir, bloquear/desbloquear, listar os seguidores, etc). Para efeito do projeto, esse arquivo não precisa ser entregue!!!"
   ]
  },
  {
   "cell_type": "code",
   "execution_count": 4,
   "metadata": {
    "collapsed": true
   },
   "outputs": [],
   "source": [
    "#Dados de autenticação do twitter:\n",
    "\n",
    "#Coloque aqui o identificador da conta no twitter: @dudabicalhocd\n",
    "\n",
    "#leitura do arquivo no formato JSON\n",
    "with open('auth.pass') as fp:    \n",
    "    data = json.load(fp)\n",
    "\n",
    "#Configurando a biblioteca. Não modificar\n",
    "auth = tweepy.OAuthHandler(data['consumer_key'], data['consumer_secret'])\n",
    "auth.set_access_token(data['access_token'], data['access_token_secret'])"
   ]
  },
  {
   "cell_type": "markdown",
   "metadata": {},
   "source": [
    "___\n",
    "## Coletando Dados\n",
    "\n",
    "Agora vamos coletar os dados. Tenha em mente que dependendo do produto escolhido, não haverá uma quantidade significativa de mensagens, ou ainda poder haver muitos retweets.<br /><br /> \n",
    "Configurando:"
   ]
  },
  {
   "cell_type": "code",
   "execution_count": 5,
   "metadata": {
    "collapsed": true
   },
   "outputs": [],
   "source": [
    "#Produto escolhido:\n",
    "produto = 'Bradesco'\n",
    "\n",
    "#Quantidade mínima de mensagens capturadas:\n",
    "n = 500\n",
    "#Quantidade mínima de mensagens para a base de treinamento:\n",
    "t = 300\n",
    "\n",
    "#Filtro de língua, escolha uma na tabela ISO 639-1.\n",
    "lang = 'pt'"
   ]
  },
  {
   "cell_type": "markdown",
   "metadata": {},
   "source": [
    "Capturando os dados do twitter:"
   ]
  },
  {
   "cell_type": "code",
   "execution_count": 6,
   "metadata": {},
   "outputs": [
    {
     "ename": "TweepError",
     "evalue": "Twitter error response: status code = 400",
     "output_type": "error",
     "traceback": [
      "\u001b[0;31m---------------------------------------------------------------------------\u001b[0m",
      "\u001b[0;31mTweepError\u001b[0m                                Traceback (most recent call last)",
      "\u001b[0;32m<ipython-input-6-910742af87dd>\u001b[0m in \u001b[0;36m<module>\u001b[0;34m()\u001b[0m\n\u001b[1;32m      5\u001b[0m \u001b[0mi\u001b[0m \u001b[1;33m=\u001b[0m \u001b[1;36m1\u001b[0m\u001b[1;33m\u001b[0m\u001b[0m\n\u001b[1;32m      6\u001b[0m \u001b[0mmsgs\u001b[0m \u001b[1;33m=\u001b[0m \u001b[1;33m[\u001b[0m\u001b[1;33m]\u001b[0m\u001b[1;33m\u001b[0m\u001b[0m\n\u001b[0;32m----> 7\u001b[0;31m \u001b[1;32mfor\u001b[0m \u001b[0mmsg\u001b[0m \u001b[1;32min\u001b[0m \u001b[0mtweepy\u001b[0m\u001b[1;33m.\u001b[0m\u001b[0mCursor\u001b[0m\u001b[1;33m(\u001b[0m\u001b[0mapi\u001b[0m\u001b[1;33m.\u001b[0m\u001b[0msearch\u001b[0m\u001b[1;33m,\u001b[0m \u001b[0mq\u001b[0m\u001b[1;33m=\u001b[0m\u001b[0mproduto\u001b[0m\u001b[1;33m,\u001b[0m \u001b[0mlang\u001b[0m\u001b[1;33m=\u001b[0m\u001b[0mlang\u001b[0m\u001b[1;33m)\u001b[0m\u001b[1;33m.\u001b[0m\u001b[0mitems\u001b[0m\u001b[1;33m(\u001b[0m\u001b[1;33m)\u001b[0m\u001b[1;33m:\u001b[0m\u001b[1;33m\u001b[0m\u001b[0m\n\u001b[0m\u001b[1;32m      8\u001b[0m     \u001b[0mmsgs\u001b[0m\u001b[1;33m.\u001b[0m\u001b[0mappend\u001b[0m\u001b[1;33m(\u001b[0m\u001b[0mmsg\u001b[0m\u001b[1;33m.\u001b[0m\u001b[0mtext\u001b[0m\u001b[1;33m.\u001b[0m\u001b[0mlower\u001b[0m\u001b[1;33m(\u001b[0m\u001b[1;33m)\u001b[0m\u001b[1;33m)\u001b[0m\u001b[1;33m\u001b[0m\u001b[0m\n\u001b[1;32m      9\u001b[0m     \u001b[0mi\u001b[0m \u001b[1;33m+=\u001b[0m \u001b[1;36m1\u001b[0m\u001b[1;33m\u001b[0m\u001b[0m\n",
      "\u001b[0;32mC:\\Users\\milen\\Anaconda3\\lib\\site-packages\\tweepy\\cursor.py\u001b[0m in \u001b[0;36m__next__\u001b[0;34m(self)\u001b[0m\n\u001b[1;32m     47\u001b[0m \u001b[1;33m\u001b[0m\u001b[0m\n\u001b[1;32m     48\u001b[0m     \u001b[1;32mdef\u001b[0m \u001b[0m__next__\u001b[0m\u001b[1;33m(\u001b[0m\u001b[0mself\u001b[0m\u001b[1;33m)\u001b[0m\u001b[1;33m:\u001b[0m\u001b[1;33m\u001b[0m\u001b[0m\n\u001b[0;32m---> 49\u001b[0;31m         \u001b[1;32mreturn\u001b[0m \u001b[0mself\u001b[0m\u001b[1;33m.\u001b[0m\u001b[0mnext\u001b[0m\u001b[1;33m(\u001b[0m\u001b[1;33m)\u001b[0m\u001b[1;33m\u001b[0m\u001b[0m\n\u001b[0m\u001b[1;32m     50\u001b[0m \u001b[1;33m\u001b[0m\u001b[0m\n\u001b[1;32m     51\u001b[0m     \u001b[1;32mdef\u001b[0m \u001b[0mnext\u001b[0m\u001b[1;33m(\u001b[0m\u001b[0mself\u001b[0m\u001b[1;33m)\u001b[0m\u001b[1;33m:\u001b[0m\u001b[1;33m\u001b[0m\u001b[0m\n",
      "\u001b[0;32mC:\\Users\\milen\\Anaconda3\\lib\\site-packages\\tweepy\\cursor.py\u001b[0m in \u001b[0;36mnext\u001b[0;34m(self)\u001b[0m\n\u001b[1;32m    195\u001b[0m         \u001b[1;32mif\u001b[0m \u001b[0mself\u001b[0m\u001b[1;33m.\u001b[0m\u001b[0mcurrent_page\u001b[0m \u001b[1;32mis\u001b[0m \u001b[1;32mNone\u001b[0m \u001b[1;32mor\u001b[0m \u001b[0mself\u001b[0m\u001b[1;33m.\u001b[0m\u001b[0mpage_index\u001b[0m \u001b[1;33m==\u001b[0m \u001b[0mlen\u001b[0m\u001b[1;33m(\u001b[0m\u001b[0mself\u001b[0m\u001b[1;33m.\u001b[0m\u001b[0mcurrent_page\u001b[0m\u001b[1;33m)\u001b[0m \u001b[1;33m-\u001b[0m \u001b[1;36m1\u001b[0m\u001b[1;33m:\u001b[0m\u001b[1;33m\u001b[0m\u001b[0m\n\u001b[1;32m    196\u001b[0m             \u001b[1;31m# Reached end of current page, get the next page...\u001b[0m\u001b[1;33m\u001b[0m\u001b[1;33m\u001b[0m\u001b[0m\n\u001b[0;32m--> 197\u001b[0;31m             \u001b[0mself\u001b[0m\u001b[1;33m.\u001b[0m\u001b[0mcurrent_page\u001b[0m \u001b[1;33m=\u001b[0m \u001b[0mself\u001b[0m\u001b[1;33m.\u001b[0m\u001b[0mpage_iterator\u001b[0m\u001b[1;33m.\u001b[0m\u001b[0mnext\u001b[0m\u001b[1;33m(\u001b[0m\u001b[1;33m)\u001b[0m\u001b[1;33m\u001b[0m\u001b[0m\n\u001b[0m\u001b[1;32m    198\u001b[0m             \u001b[0mself\u001b[0m\u001b[1;33m.\u001b[0m\u001b[0mpage_index\u001b[0m \u001b[1;33m=\u001b[0m \u001b[1;33m-\u001b[0m\u001b[1;36m1\u001b[0m\u001b[1;33m\u001b[0m\u001b[0m\n\u001b[1;32m    199\u001b[0m         \u001b[0mself\u001b[0m\u001b[1;33m.\u001b[0m\u001b[0mpage_index\u001b[0m \u001b[1;33m+=\u001b[0m \u001b[1;36m1\u001b[0m\u001b[1;33m\u001b[0m\u001b[0m\n",
      "\u001b[0;32mC:\\Users\\milen\\Anaconda3\\lib\\site-packages\\tweepy\\cursor.py\u001b[0m in \u001b[0;36mnext\u001b[0;34m(self)\u001b[0m\n\u001b[1;32m    106\u001b[0m \u001b[1;33m\u001b[0m\u001b[0m\n\u001b[1;32m    107\u001b[0m         \u001b[1;32mif\u001b[0m \u001b[0mself\u001b[0m\u001b[1;33m.\u001b[0m\u001b[0mindex\u001b[0m \u001b[1;33m>=\u001b[0m \u001b[0mlen\u001b[0m\u001b[1;33m(\u001b[0m\u001b[0mself\u001b[0m\u001b[1;33m.\u001b[0m\u001b[0mresults\u001b[0m\u001b[1;33m)\u001b[0m \u001b[1;33m-\u001b[0m \u001b[1;36m1\u001b[0m\u001b[1;33m:\u001b[0m\u001b[1;33m\u001b[0m\u001b[0m\n\u001b[0;32m--> 108\u001b[0;31m             \u001b[0mdata\u001b[0m \u001b[1;33m=\u001b[0m \u001b[0mself\u001b[0m\u001b[1;33m.\u001b[0m\u001b[0mmethod\u001b[0m\u001b[1;33m(\u001b[0m\u001b[0mmax_id\u001b[0m\u001b[1;33m=\u001b[0m\u001b[0mself\u001b[0m\u001b[1;33m.\u001b[0m\u001b[0mmax_id\u001b[0m\u001b[1;33m,\u001b[0m \u001b[0mparser\u001b[0m\u001b[1;33m=\u001b[0m\u001b[0mRawParser\u001b[0m\u001b[1;33m(\u001b[0m\u001b[1;33m)\u001b[0m\u001b[1;33m,\u001b[0m \u001b[1;33m*\u001b[0m\u001b[0mself\u001b[0m\u001b[1;33m.\u001b[0m\u001b[0margs\u001b[0m\u001b[1;33m,\u001b[0m \u001b[1;33m**\u001b[0m\u001b[0mself\u001b[0m\u001b[1;33m.\u001b[0m\u001b[0mkargs\u001b[0m\u001b[1;33m)\u001b[0m\u001b[1;33m\u001b[0m\u001b[0m\n\u001b[0m\u001b[1;32m    109\u001b[0m \u001b[1;33m\u001b[0m\u001b[0m\n\u001b[1;32m    110\u001b[0m             \u001b[1;32mif\u001b[0m \u001b[0mhasattr\u001b[0m\u001b[1;33m(\u001b[0m\u001b[0mself\u001b[0m\u001b[1;33m.\u001b[0m\u001b[0mmethod\u001b[0m\u001b[1;33m,\u001b[0m \u001b[1;34m'__self__'\u001b[0m\u001b[1;33m)\u001b[0m\u001b[1;33m:\u001b[0m\u001b[1;33m\u001b[0m\u001b[0m\n",
      "\u001b[0;32mC:\\Users\\milen\\Anaconda3\\lib\\site-packages\\tweepy\\binder.py\u001b[0m in \u001b[0;36m_call\u001b[0;34m(*args, **kwargs)\u001b[0m\n\u001b[1;32m    243\u001b[0m             \u001b[1;32mreturn\u001b[0m \u001b[0mmethod\u001b[0m\u001b[1;33m\u001b[0m\u001b[0m\n\u001b[1;32m    244\u001b[0m         \u001b[1;32melse\u001b[0m\u001b[1;33m:\u001b[0m\u001b[1;33m\u001b[0m\u001b[0m\n\u001b[0;32m--> 245\u001b[0;31m             \u001b[1;32mreturn\u001b[0m \u001b[0mmethod\u001b[0m\u001b[1;33m.\u001b[0m\u001b[0mexecute\u001b[0m\u001b[1;33m(\u001b[0m\u001b[1;33m)\u001b[0m\u001b[1;33m\u001b[0m\u001b[0m\n\u001b[0m\u001b[1;32m    246\u001b[0m \u001b[1;33m\u001b[0m\u001b[0m\n\u001b[1;32m    247\u001b[0m     \u001b[1;31m# Set pagination mode\u001b[0m\u001b[1;33m\u001b[0m\u001b[1;33m\u001b[0m\u001b[0m\n",
      "\u001b[0;32mC:\\Users\\milen\\Anaconda3\\lib\\site-packages\\tweepy\\binder.py\u001b[0m in \u001b[0;36mexecute\u001b[0;34m(self)\u001b[0m\n\u001b[1;32m    227\u001b[0m                     \u001b[1;32mraise\u001b[0m \u001b[0mRateLimitError\u001b[0m\u001b[1;33m(\u001b[0m\u001b[0merror_msg\u001b[0m\u001b[1;33m,\u001b[0m \u001b[0mresp\u001b[0m\u001b[1;33m)\u001b[0m\u001b[1;33m\u001b[0m\u001b[0m\n\u001b[1;32m    228\u001b[0m                 \u001b[1;32melse\u001b[0m\u001b[1;33m:\u001b[0m\u001b[1;33m\u001b[0m\u001b[0m\n\u001b[0;32m--> 229\u001b[0;31m                     \u001b[1;32mraise\u001b[0m \u001b[0mTweepError\u001b[0m\u001b[1;33m(\u001b[0m\u001b[0merror_msg\u001b[0m\u001b[1;33m,\u001b[0m \u001b[0mresp\u001b[0m\u001b[1;33m,\u001b[0m \u001b[0mapi_code\u001b[0m\u001b[1;33m=\u001b[0m\u001b[0mapi_error_code\u001b[0m\u001b[1;33m)\u001b[0m\u001b[1;33m\u001b[0m\u001b[0m\n\u001b[0m\u001b[1;32m    230\u001b[0m \u001b[1;33m\u001b[0m\u001b[0m\n\u001b[1;32m    231\u001b[0m             \u001b[1;31m# Parse the response payload\u001b[0m\u001b[1;33m\u001b[0m\u001b[1;33m\u001b[0m\u001b[0m\n",
      "\u001b[0;31mTweepError\u001b[0m: Twitter error response: status code = 400"
     ]
    }
   ],
   "source": [
    "#Cria um objeto para a captura\n",
    "api = tweepy.API(auth)\n",
    "\n",
    "#Inicia a captura, para mais detalhes: ver a documentação do tweepy\n",
    "i = 1\n",
    "msgs = []\n",
    "for msg in tweepy.Cursor(api.search, q=produto, lang=lang).items():    \n",
    "    msgs.append(msg.text.lower())\n",
    "    i += 1\n",
    "    if i > n:\n",
    "        break\n",
    "\n",
    "#Embaralhando as mensagens para reduzir um possível viés\n",
    "shuffle(msgs)"
   ]
  },
  {
   "cell_type": "markdown",
   "metadata": {},
   "source": [
    "Salvando os dados em uma planilha Excel:"
   ]
  },
  {
   "cell_type": "code",
   "execution_count": null,
   "metadata": {
    "collapsed": true
   },
   "outputs": [],
   "source": [
    "#Verifica se o arquivo não existe para não substituir um conjunto pronto\n",
    "if not os.path.isfile('./{0}.xlsx'.format(produto)):\n",
    "    \n",
    "    #Abre o arquivo para escrita\n",
    "    writer = pd.ExcelWriter('{0}.xlsx'.format(produto))\n",
    "\n",
    "    #divide o conjunto de mensagens em duas planilhas\n",
    "    dft = pd.DataFrame({'Treinamento' : pd.Series(msgs[:t])})\n",
    "    dft.to_excel(excel_writer = writer, sheet_name = 'Treinamento', index = False)\n",
    "\n",
    "    dfc = pd.DataFrame({'Teste' : pd.Series(msgs[t:])})\n",
    "    dfc.to_excel(excel_writer = writer, sheet_name = 'Teste', index = False)\n",
    "\n",
    "    #fecha o arquivo\n",
    "    writer.save()"
   ]
  },
  {
   "cell_type": "markdown",
   "metadata": {},
   "source": [
    "___\n",
    "## Classificando as Mensagens\n",
    "\n",
    "Agora você deve abrir o arquivo Excel com as mensagens capturadas e classificar na Coluna B se a mensagem é relevante ou não.<br /> \n",
    "Não se esqueça de colocar um nome para a coluna na célula **B1**.<br /><br />\n",
    "Fazer o mesmo na planilha de Controle.\n",
    "\n",
    "___\n",
    "## Montando o Classificador Naive-Bayes\n",
    "\n",
    "Com a base de treinamento montada, comece a desenvolver o classificador. Escreva o seu código abaixo:\n",
    "\n",
    "Opcionalmente: \n",
    "* Limpar as mensagens removendo os caracteres: enter, :, \", ', (, ), etc. Não remover emojis.<br />\n",
    "* Corrigir separação de espaços entre palavras e/ou emojis.\n",
    "* Propor outras limpezas/transformações que não afetem a qualidade da informação.\n",
    "\n"
   ]
  },
  {
   "cell_type": "code",
   "execution_count": 19,
   "metadata": {},
   "outputs": [
    {
     "name": "stdout",
     "output_type": "stream",
     "text": [
      "C:\\Users\\milen\\OneDrive\\Documentos\\2o SEMESTRE\\CDD\\Projeto2-CD\n"
     ]
    }
   ],
   "source": [
    "print(os.getcwd())\n",
    "dados = pd.read_excel('Bradesco.xlsx')"
   ]
  },
  {
   "cell_type": "code",
   "execution_count": 27,
   "metadata": {},
   "outputs": [],
   "source": [
    "#dados"
   ]
  },
  {
   "cell_type": "code",
   "execution_count": 28,
   "metadata": {},
   "outputs": [],
   "source": [
    "#pegando os dados interessantes para nos\n",
    "d= dados.Respostas[dados.Relevancia=='r']\n",
    "#d"
   ]
  },
  {
   "cell_type": "code",
   "execution_count": 29,
   "metadata": {},
   "outputs": [
    {
     "name": "stdout",
     "output_type": "stream",
     "text": [
      "[['já estou cansado de entrar em contato com a ouvidoria do @bradesco para solução do meu problema (causado pela ineficiência do banco)'], ['bradesco me ligou oferecendo cartão de crédito e falei que estava desempregado e sem receber renda.\\n\\na atendente desligou.'], ['@bradesco me pedem comprovação alta de renda p/ ter o amex tpc p/ o cartão negar compras de r$100? sugiro por 1 limite visivel pq ta dificil'], ['@bradesco ja rodei esse app e nao encontro o saldo que investiu, se for pra nao ter quero cancelar ne? eu dou mas quero receber de volta rs'], ['@cavacogamer @bradesco não demora muito e o bradesco vai falir desse jeito'], ['tô tão tisti alguém paga o meu nubank e caduca minha dívida com o bradesco https://t.co/5kdncgtma0'], ['bradesco é o pior banco pra receber 😪😪'], ['@bradesco depois de sugarem até a nossa alma com os juros bancários, agora vocês vem aqui querer homenagear nó gaúchos!!!'], ['o gerente diz pra usar a sala vip do @bradesco em congonhas e nas ultimas duas vezes não tinha nem lugar pra sentar... bem \"vip\"'], ['ui banco do bradesco é uma merda, pior banco que tem esse lixo 😠'], ['num vou conseguir malhar hoje, pois vou ter q mofar no bradesco 😤'], ['posicione se @bradesco , saia do anonimato da tela do computador e venha para a vida real solucionar meu problema (causado pelo banco)'], ['@bradesco ainda nada...'], ['amiguinhos do @bradesco eu sou cliente exclusive pra ter mais facilidade, não pra ficar mais difícil 🙄\\npq não tem aviso de viagem pelo app?'], ['13 minutos esperando um atendimento do bradesco pra desbloquear minha chave de segurança, alguém me atende'], ['estou pra ver um atendimento pior que o @bradesco de bairro novo. parece que trabalham obrigado e sem receber. vôte!'], ['que demora do inferno pra responder um tweet @bradesco'], ['não tem banco melhor que o bradesco, rápido e com seriedade! 👏🏻'], ['se me perguntarem o que faço da vida vou responder: eu passo dia ligando pra centrais de telefone para fazer reclamações, alou bradesco net'], ['@yuricrf07 @kelvynbraga partiu derrubar qualquer placa do bradesco'], ['daí você está pelo segundo dia tentando ligar no #bradesco, mas para variar eles não atendem. dá vontade de cancelar a conta (q é antiga)'], ['alô @bradesco  queria dizer que quero cancelar meu seguro de vida e quero o reembolso de dois anos descontados da minha conta.'], ['@bradesco ja consegui, foram tão rápido pra me responder né 🙂'], ['agr tô bradesco minha senha eh 36 e tá no 19 e lotado de veio, vsf'], ['e aí @bradesco ??? quando o minha solicitação será atendida? protocolo ouvidoria 286971446'], ['rt @ops_vivianne: falsidade hoje está igual ao bradesco, lado a lado com você.'], ['a gente começa a perceber que tá ficando velho, quando vc fica 20, 25 minutos no telefone com o cartão da bradesco 🤔😴'], ['@bradesco eu quero entender cada uma das coisas que eu pago e cada um dos planos que posso ter acesso. há pouca inf… https://t.co/prwusduck1'], ['eu gostava mais quando ia em outras agências do bradesco...essa tá muito cheia e vazia ao mesmo tempo 🤷🏽\\u200d♂️'], ['me ajuda ai @bradesco .   quero saber sobre uma taxa que desconheço na minha conta!'], ['bradesco, sempre perto de você. ☺\\n\\nslogan que define a amizade… https://t.co/wevtqtmlrs'], ['@lfsnasciment8 oi! obrigada pelo elogio! é ótimo saber que você gostou do método utilizado para realização do serviço. :)'], ['ter uma mão enorme e tentar sacar dinheiro no caixa do bradesco! que missão insuportável! 😡'], ['cansada desse bradesco ! só dor de cabeça'], ['já o @bradesco uma empresa privada que vive do lucro das altas taxas de juros que pagamos, sequer se posicionou. vergonha @bradesco'], ['o cliente além de pagar taxas abusivas, ainda se depara com a total falta de responsabilidade e respeito do @bradesco'], ['se você for ao @bradesco da mascarenhas, leve café e almoço, muita gente e atendimento lento.'], ['@lapa182 eu tb pô, sou bb e nunca deu rolê, esse doc já tentei no bradesco tb e não funcionou, daí vou ter q ir lá 😡 https://t.co/ehd1la89rv'], ['@bradesco empresa omissa, não respeita seus clientes, não cumpre prazos, pede 10 dias úteis e não resolve em 100 dias úteis #vergonha'], ['aqui em barra do rocha ta fazendo vergonha a população pagando  uma taxa para o bradesco e o bradesco não... https://t.co/ski7m83zk0'], ['@lucenadouglas_ bradesco é a junção de banco com desconto, segura essa'], ['saga do bradesco, parte 2'], ['@bradesco é o mais atualizado ,tanto o do bradesco , tanto o web view ... minha conexão é boa .'], ['@bradesco @alobradesco senhores,poderiam se posicionar como pode continuar sem sistema para consórcio desde dia 31/08?? isso é uma vergonha!'], ['nossa bradesco não dá um ar mais'], ['banco sem dúvidas é o pior lugar do mundo.. agilidade zero. 40 min esperando já valeu ein @bradesco'], ['não tá escrito o quanto eu odeio o bradesco'], ['@bradesco vocês são muito atenciosos e explicativos pelas redes, mas o atendimento telefônico não facilita.'], ['@bradesco não consigo acessar minha conta pelo aplicativo, parece que essa atualização complicou tudo, aparece assim \"conheça seu banco\"'], ['@bradesco como fazer em pleno sec. 21 e o 0800 de vcs não aceita chamada de cel ou tel publico preciso falar com vcs e não consigo?'], ['@bradesco pior banco'], ['vontade de passar em frente ao bradesco e soltar uma bomba foda se'], ['@lucassantosn1 mano é o pior app! do bradesco mil vezes melhor'], ['rt @kaizeira: @bradesco banco lixo do caralho'], ['eu gosto muito do bradesco'], ['alô @bradesco e essa ineficiência toda pra resolver o problema do protocolo na ouvidoria 286971446, estou há 5 meses esperando o retorno'], ['@bradesco não, o atendimento eletrônico não reconhece o comando'], ['eu odeio o banco bradesco caralho morra capitalismo desgraçado'], ['@bradesco só grosseria e má vontade.'], ['meu sonho resolver minhas coisas pelo fone fácil bradesco sem passar uma vida esperando.'], ['casaaaaaaa. ah não! irei mofar no bradesco ainda 🙁'], ['@bradesco poxa... os desenvolvedores do bradesco são amadores??? 😨 não pode abrir um chamado para resolver um simples problema. 😠'], ['o bradesco tem mais é que se fuder\\nbanquinho de merda bando de vagabundo que cobra taxa inexistente pra bater meta\\nvão se fuder na justiça'], [\"@cavacogamer @bradesco da a entender q essas agência nao estão nem aí... que se foda seus clientes '-'\"], ['@bradesco é vergonhoso um banco onde hajam senhas de atendimento para ricos e para pobres. #eusounotwitter'], ['porque o #bradesco só disponibiliza um caixa eletrônico pra depósito em nova iguaçu? independente da agência\\n#absurdo'], ['tanana foi pagar uma conta pra mim lá no bradesco, tadinha dela 💜😏'], ['@bradesco corumbá ms. ficaram 20 reais da aposentadoria da minha mãe lá pq os caixas nunca tem notas de 20, 10, 5 e 2. nunca nunca.'], ['bradesco só tem app lixo deus me defenderay'], ['@alcantarabila eu ia falar bradesco tb mas tds as vzs q comecei a usar, troquei pra outro logo em seguida... então… https://t.co/jeazb8kpz8'], ['@bradesco sendo que já é universitária, pressupõe que eu não tenho renda, e vocês estão cobrando essas taxas, absurdo.'], ['odeio o bradesco com todas as minhas forças.'], ['ódio do bradesco'], ['na moral serviço do alô bradesco é muito escroto, socorro @bradesco'], ['odeio essa porra de limite doc, e ter que falar c o gerente.o dinheiro é meu, se eu quiser movimentar 1 mi vc tem que liberar @bradesco'], ['rt @robsonmanu06: @bradesco, esse aplicativo do celular, sempre está indisponível'], ['@bradesco o invest facil, quando abri a conta ja tava no pacote, so q nao consigo ver nenhum saldo'], ['@proconspoficial como faço para fazer o @bradesco cumprir com seu trabalho afim de resolver a situação do protocolo ouvidoria 286971446'], ['@bradesco via 4004-4436! desde 5a. cai na atendente e sou informado que está sem sistema para fazer o abatimento do valor do lance. 😡'], ['odeio bradesco com todas minhas forças, que banco fdp'], ['@bradesco vocês investiram meu dinheiro sem a minha permissão, é deixaram só 1 real na minha conta, como resolvo isso logo??'], ['@bradesco já resolvi já, era porque não conseguia abrir a conta, sempre alguma coisa que faltava, mas ontem consegu… https://t.co/vv66ovi5nt'], ['@bradesco sim, pelo site foi.'], ['@bradesco agora? eu já paguei o darf. não pelo app, mas sim pelo site.'], ['10 minutos no \"fone \"fácil\" do @bradesco e ainda não fui atendido. táqueopareo!'], ['o @bradesco ainda não percebeu que o erro que tô mostrando pra eles não é um erro de usuário e sim de desenvolvimento da aplicação.'], ['uns meses atrás eu reparei que o quando eu vou sacar meu salário sempre tem a menos do que depositam, bradesco me comendo 30 conto mês 👍🏼🤙🏼'], ['bradesco soltaaaaaa nosso money kkkkk'], ['ow @bradesco eu cadastrei a biometria e meu saque ainda tá com limite de 300!!!!\\nvcs são loko???'], ['meu deus, não entendo a dificuldade de uma empresa em assumir que cagou e me devolver a porra do meu dinheiro @bradesco'], ['quanto tempo mais o @bradesco vai levar pra resolver minha situação? os famosos \"10 dias úteis\" já passaram de 100 dias úteis']]\n"
     ]
    }
   ],
   "source": [
    "#colocando cada dado em uma lista e esssa lista geral em uma lista maior\n",
    "resp=[]\n",
    "for i in d:\n",
    "    A=[i]\n",
    "    resp.append(A)\n",
    "    \n",
    "print(resp)"
   ]
  },
  {
   "cell_type": "code",
   "execution_count": 40,
   "metadata": {},
   "outputs": [
    {
     "name": "stdout",
     "output_type": "stream",
     "text": [
      "[['já', 'estou', 'cansado', 'de', 'entrar', 'em', 'contato', 'com', 'a', 'ouvidoria', 'do', '@bradesco', 'para', 'solução', 'do', 'meu', 'problema', '(causado', 'pela', 'ineficiência', 'do', 'banco)'], ['bradesco', 'me', 'ligou', 'oferecendo', 'cartão', 'de', 'crédito', 'e', 'falei', 'que', 'estava', 'desempregado', 'e', 'sem', 'receber', 'renda.', 'a', 'atendente', 'desligou.'], ['@bradesco', 'me', 'pedem', 'comprovação', 'alta', 'de', 'renda', 'p/', 'ter', 'o', 'amex', 'tpc', 'p/', 'o', 'cartão', 'negar', 'compras', 'de', 'r$100?', 'sugiro', 'por', '1', 'limite', 'visivel', 'pq', 'ta', 'dificil'], ['@bradesco', 'ja', 'rodei', 'esse', 'app', 'e', 'nao', 'encontro', 'o', 'saldo', 'que', 'investiu,', 'se', 'for', 'pra', 'nao', 'ter', 'quero', 'cancelar', 'ne?', 'eu', 'dou', 'mas', 'quero', 'receber', 'de', 'volta', 'rs'], ['@cavacogamer', '@bradesco', 'não', 'demora', 'muito', 'e', 'o', 'bradesco', 'vai', 'falir', 'desse', 'jeito'], ['tô', 'tão', 'tisti', 'alguém', 'paga', 'o', 'meu', 'nubank', 'e', 'caduca', 'minha', 'dívida', 'com', 'o', 'bradesco', 'https://t.co/5kdncgtma0'], ['bradesco', 'é', 'o', 'pior', 'banco', 'pra', 'receber', '😪😪'], ['@bradesco', 'depois', 'de', 'sugarem', 'até', 'a', 'nossa', 'alma', 'com', 'os', 'juros', 'bancários,', 'agora', 'vocês', 'vem', 'aqui', 'querer', 'homenagear', 'nó', 'gaúchos!!!'], ['o', 'gerente', 'diz', 'pra', 'usar', 'a', 'sala', 'vip', 'do', '@bradesco', 'em', 'congonhas', 'e', 'nas', 'ultimas', 'duas', 'vezes', 'não', 'tinha', 'nem', 'lugar', 'pra', 'sentar...', 'bem', '\"vip\"'], ['ui', 'banco', 'do', 'bradesco', 'é', 'uma', 'merda,', 'pior', 'banco', 'que', 'tem', 'esse', 'lixo', '😠'], ['num', 'vou', 'conseguir', 'malhar', 'hoje,', 'pois', 'vou', 'ter', 'q', 'mofar', 'no', 'bradesco', '😤'], ['posicione', 'se', '@bradesco', ',', 'saia', 'do', 'anonimato', 'da', 'tela', 'do', 'computador', 'e', 'venha', 'para', 'a', 'vida', 'real', 'solucionar', 'meu', 'problema', '(causado', 'pelo', 'banco)'], ['@bradesco', 'ainda', 'nada...'], ['amiguinhos', 'do', '@bradesco', 'eu', 'sou', 'cliente', 'exclusive', 'pra', 'ter', 'mais', 'facilidade,', 'não', 'pra', 'ficar', 'mais', 'difícil', '🙄', 'pq', 'não', 'tem', 'aviso', 'de', 'viagem', 'pelo', 'app?'], ['13', 'minutos', 'esperando', 'um', 'atendimento', 'do', 'bradesco', 'pra', 'desbloquear', 'minha', 'chave', 'de', 'segurança,', 'alguém', 'me', 'atende'], ['estou', 'pra', 'ver', 'um', 'atendimento', 'pior', 'que', 'o', '@bradesco', 'de', 'bairro', 'novo.', 'parece', 'que', 'trabalham', 'obrigado', 'e', 'sem', 'receber.', 'vôte!'], ['que', 'demora', 'do', 'inferno', 'pra', 'responder', 'um', 'tweet', '@bradesco'], ['não', 'tem', 'banco', 'melhor', 'que', 'o', 'bradesco,', 'rápido', 'e', 'com', 'seriedade!', '👏🏻'], ['se', 'me', 'perguntarem', 'o', 'que', 'faço', 'da', 'vida', 'vou', 'responder:', 'eu', 'passo', 'dia', 'ligando', 'pra', 'centrais', 'de', 'telefone', 'para', 'fazer', 'reclamações,', 'alou', 'bradesco', 'net'], ['@yuricrf07', '@kelvynbraga', 'partiu', 'derrubar', 'qualquer', 'placa', 'do', 'bradesco'], ['daí', 'você', 'está', 'pelo', 'segundo', 'dia', 'tentando', 'ligar', 'no', '#bradesco,', 'mas', 'para', 'variar', 'eles', 'não', 'atendem.', 'dá', 'vontade', 'de', 'cancelar', 'a', 'conta', '(q', 'é', 'antiga)'], ['alô', '@bradesco', 'queria', 'dizer', 'que', 'quero', 'cancelar', 'meu', 'seguro', 'de', 'vida', 'e', 'quero', 'o', 'reembolso', 'de', 'dois', 'anos', 'descontados', 'da', 'minha', 'conta.'], ['@bradesco', 'ja', 'consegui,', 'foram', 'tão', 'rápido', 'pra', 'me', 'responder', 'né', '🙂'], ['agr', 'tô', 'bradesco', 'minha', 'senha', 'eh', '36', 'e', 'tá', 'no', '19', 'e', 'lotado', 'de', 'veio,', 'vsf'], ['e', 'aí', '@bradesco', '???', 'quando', 'o', 'minha', 'solicitação', 'será', 'atendida?', 'protocolo', 'ouvidoria', '286971446'], ['rt', '@ops_vivianne:', 'falsidade', 'hoje', 'está', 'igual', 'ao', 'bradesco,', 'lado', 'a', 'lado', 'com', 'você.'], ['a', 'gente', 'começa', 'a', 'perceber', 'que', 'tá', 'ficando', 'velho,', 'quando', 'vc', 'fica', '20,', '25', 'minutos', 'no', 'telefone', 'com', 'o', 'cartão', 'da', 'bradesco', '🤔😴'], ['@bradesco', 'eu', 'quero', 'entender', 'cada', 'uma', 'das', 'coisas', 'que', 'eu', 'pago', 'e', 'cada', 'um', 'dos', 'planos', 'que', 'posso', 'ter', 'acesso.', 'há', 'pouca', 'inf…', 'https://t.co/prwusduck1'], ['eu', 'gostava', 'mais', 'quando', 'ia', 'em', 'outras', 'agências', 'do', 'bradesco...essa', 'tá', 'muito', 'cheia', 'e', 'vazia', 'ao', 'mesmo', 'tempo', '🤷🏽\\u200d♂️'], ['me', 'ajuda', 'ai', '@bradesco', '.', 'quero', 'saber', 'sobre', 'uma', 'taxa', 'que', 'desconheço', 'na', 'minha', 'conta!'], ['bradesco,', 'sempre', 'perto', 'de', 'você.', '☺', 'slogan', 'que', 'define', 'a', 'amizade…', 'https://t.co/wevtqtmlrs'], ['@lfsnasciment8', 'oi!', 'obrigada', 'pelo', 'elogio!', 'é', 'ótimo', 'saber', 'que', 'você', 'gostou', 'do', 'método', 'utilizado', 'para', 'realização', 'do', 'serviço.', ':)'], ['ter', 'uma', 'mão', 'enorme', 'e', 'tentar', 'sacar', 'dinheiro', 'no', 'caixa', 'do', 'bradesco!', 'que', 'missão', 'insuportável!', '😡'], ['cansada', 'desse', 'bradesco', '!', 'só', 'dor', 'de', 'cabeça'], ['já', 'o', '@bradesco', 'uma', 'empresa', 'privada', 'que', 'vive', 'do', 'lucro', 'das', 'altas', 'taxas', 'de', 'juros', 'que', 'pagamos,', 'sequer', 'se', 'posicionou.', 'vergonha', '@bradesco'], ['o', 'cliente', 'além', 'de', 'pagar', 'taxas', 'abusivas,', 'ainda', 'se', 'depara', 'com', 'a', 'total', 'falta', 'de', 'responsabilidade', 'e', 'respeito', 'do', '@bradesco'], ['se', 'você', 'for', 'ao', '@bradesco', 'da', 'mascarenhas,', 'leve', 'café', 'e', 'almoço,', 'muita', 'gente', 'e', 'atendimento', 'lento.'], ['@lapa182', 'eu', 'tb', 'pô,', 'sou', 'bb', 'e', 'nunca', 'deu', 'rolê,', 'esse', 'doc', 'já', 'tentei', 'no', 'bradesco', 'tb', 'e', 'não', 'funcionou,', 'daí', 'vou', 'ter', 'q', 'ir', 'lá', '😡', 'https://t.co/ehd1la89rv'], ['@bradesco', 'empresa', 'omissa,', 'não', 'respeita', 'seus', 'clientes,', 'não', 'cumpre', 'prazos,', 'pede', '10', 'dias', 'úteis', 'e', 'não', 'resolve', 'em', '100', 'dias', 'úteis', '#vergonha'], ['aqui', 'em', 'barra', 'do', 'rocha', 'ta', 'fazendo', 'vergonha', 'a', 'população', 'pagando', 'uma', 'taxa', 'para', 'o', 'bradesco', 'e', 'o', 'bradesco', 'não...', 'https://t.co/ski7m83zk0'], ['@lucenadouglas_', 'bradesco', 'é', 'a', 'junção', 'de', 'banco', 'com', 'desconto,', 'segura', 'essa'], ['saga', 'do', 'bradesco,', 'parte', '2'], ['@bradesco', 'é', 'o', 'mais', 'atualizado', ',tanto', 'o', 'do', 'bradesco', ',', 'tanto', 'o', 'web', 'view', '...', 'minha', 'conexão', 'é', 'boa', '.'], ['@bradesco', '@alobradesco', 'senhores,poderiam', 'se', 'posicionar', 'como', 'pode', 'continuar', 'sem', 'sistema', 'para', 'consórcio', 'desde', 'dia', '31/08??', 'isso', 'é', 'uma', 'vergonha!'], ['nossa', 'bradesco', 'não', 'dá', 'um', 'ar', 'mais'], ['banco', 'sem', 'dúvidas', 'é', 'o', 'pior', 'lugar', 'do', 'mundo..', 'agilidade', 'zero.', '40', 'min', 'esperando', 'já', 'valeu', 'ein', '@bradesco'], ['não', 'tá', 'escrito', 'o', 'quanto', 'eu', 'odeio', 'o', 'bradesco'], ['@bradesco', 'vocês', 'são', 'muito', 'atenciosos', 'e', 'explicativos', 'pelas', 'redes,', 'mas', 'o', 'atendimento', 'telefônico', 'não', 'facilita.'], ['@bradesco', 'não', 'consigo', 'acessar', 'minha', 'conta', 'pelo', 'aplicativo,', 'parece', 'que', 'essa', 'atualização', 'complicou', 'tudo,', 'aparece', 'assim', '\"conheça', 'seu', 'banco\"'], ['@bradesco', 'como', 'fazer', 'em', 'pleno', 'sec.', '21', 'e', 'o', '0800', 'de', 'vcs', 'não', 'aceita', 'chamada', 'de', 'cel', 'ou', 'tel', 'publico', 'preciso', 'falar', 'com', 'vcs', 'e', 'não', 'consigo?'], ['@bradesco', 'pior', 'banco'], ['vontade', 'de', 'passar', 'em', 'frente', 'ao', 'bradesco', 'e', 'soltar', 'uma', 'bomba', 'foda', 'se'], ['@lucassantosn1', 'mano', 'é', 'o', 'pior', 'app!', 'do', 'bradesco', 'mil', 'vezes', 'melhor'], ['rt', '@kaizeira:', '@bradesco', 'banco', 'lixo', 'do', 'caralho'], ['eu', 'gosto', 'muito', 'do', 'bradesco'], ['alô', '@bradesco', 'e', 'essa', 'ineficiência', 'toda', 'pra', 'resolver', 'o', 'problema', 'do', 'protocolo', 'na', 'ouvidoria', '286971446,', 'estou', 'há', '5', 'meses', 'esperando', 'o', 'retorno'], ['@bradesco', 'não,', 'o', 'atendimento', 'eletrônico', 'não', 'reconhece', 'o', 'comando'], ['eu', 'odeio', 'o', 'banco', 'bradesco', 'caralho', 'morra', 'capitalismo', 'desgraçado'], ['@bradesco', 'só', 'grosseria', 'e', 'má', 'vontade.'], ['meu', 'sonho', 'resolver', 'minhas', 'coisas', 'pelo', 'fone', 'fácil', 'bradesco', 'sem', 'passar', 'uma', 'vida', 'esperando.'], ['casaaaaaaa.', 'ah', 'não!', 'irei', 'mofar', 'no', 'bradesco', 'ainda', '🙁'], ['@bradesco', 'poxa...', 'os', 'desenvolvedores', 'do', 'bradesco', 'são', 'amadores???', '😨', 'não', 'pode', 'abrir', 'um', 'chamado', 'para', 'resolver', 'um', 'simples', 'problema.', '😠'], ['o', 'bradesco', 'tem', 'mais', 'é', 'que', 'se', 'fuder', 'banquinho', 'de', 'merda', 'bando', 'de', 'vagabundo', 'que', 'cobra', 'taxa', 'inexistente', 'pra', 'bater', 'meta', 'vão', 'se', 'fuder', 'na', 'justiça'], ['@cavacogamer', '@bradesco', 'da', 'a', 'entender', 'q', 'essas', 'agência', 'nao', 'estão', 'nem', 'aí...', 'que', 'se', 'foda', 'seus', 'clientes', \"'-'\"], ['@bradesco', 'é', 'vergonhoso', 'um', 'banco', 'onde', 'hajam', 'senhas', 'de', 'atendimento', 'para', 'ricos', 'e', 'para', 'pobres.', '#eusounotwitter'], ['porque', 'o', '#bradesco', 'só', 'disponibiliza', 'um', 'caixa', 'eletrônico', 'pra', 'depósito', 'em', 'nova', 'iguaçu?', 'independente', 'da', 'agência', '#absurdo'], ['tanana', 'foi', 'pagar', 'uma', 'conta', 'pra', 'mim', 'lá', 'no', 'bradesco,', 'tadinha', 'dela', '💜😏'], ['@bradesco', 'corumbá', 'ms.', 'ficaram', '20', 'reais', 'da', 'aposentadoria', 'da', 'minha', 'mãe', 'lá', 'pq', 'os', 'caixas', 'nunca', 'tem', 'notas', 'de', '20,', '10,', '5', 'e', '2.', 'nunca', 'nunca.'], ['bradesco', 'só', 'tem', 'app', 'lixo', 'deus', 'me', 'defenderay'], ['@alcantarabila', 'eu', 'ia', 'falar', 'bradesco', 'tb', 'mas', 'tds', 'as', 'vzs', 'q', 'comecei', 'a', 'usar,', 'troquei', 'pra', 'outro', 'logo', 'em', 'seguida...', 'então…', 'https://t.co/jeazb8kpz8'], ['@bradesco', 'sendo', 'que', 'já', 'é', 'universitária,', 'pressupõe', 'que', 'eu', 'não', 'tenho', 'renda,', 'e', 'vocês', 'estão', 'cobrando', 'essas', 'taxas,', 'absurdo.'], ['odeio', 'o', 'bradesco', 'com', 'todas', 'as', 'minhas', 'forças.'], ['ódio', 'do', 'bradesco'], ['na', 'moral', 'serviço', 'do', 'alô', 'bradesco', 'é', 'muito', 'escroto,', 'socorro', '@bradesco'], ['odeio', 'essa', 'porra', 'de', 'limite', 'doc,', 'e', 'ter', 'que', 'falar', 'c', 'o', 'gerente.o', 'dinheiro', 'é', 'meu,', 'se', 'eu', 'quiser', 'movimentar', '1', 'mi', 'vc', 'tem', 'que', 'liberar', '@bradesco'], ['rt', '@robsonmanu06:', '@bradesco,', 'esse', 'aplicativo', 'do', 'celular,', 'sempre', 'está', 'indisponível'], ['@bradesco', 'o', 'invest', 'facil,', 'quando', 'abri', 'a', 'conta', 'ja', 'tava', 'no', 'pacote,', 'so', 'q', 'nao', 'consigo', 'ver', 'nenhum', 'saldo'], ['@proconspoficial', 'como', 'faço', 'para', 'fazer', 'o', '@bradesco', 'cumprir', 'com', 'seu', 'trabalho', 'afim', 'de', 'resolver', 'a', 'situação', 'do', 'protocolo', 'ouvidoria', '286971446'], ['@bradesco', 'via', '4004-4436!', 'desde', '5a.', 'cai', 'na', 'atendente', 'e', 'sou', 'informado', 'que', 'está', 'sem', 'sistema', 'para', 'fazer', 'o', 'abatimento', 'do', 'valor', 'do', 'lance.', '😡'], ['odeio', 'bradesco', 'com', 'todas', 'minhas', 'forças,', 'que', 'banco', 'fdp'], ['@bradesco', 'vocês', 'investiram', 'meu', 'dinheiro', 'sem', 'a', 'minha', 'permissão,', 'é', 'deixaram', 'só', '1', 'real', 'na', 'minha', 'conta,', 'como', 'resolvo', 'isso', 'logo??'], ['@bradesco', 'já', 'resolvi', 'já,', 'era', 'porque', 'não', 'conseguia', 'abrir', 'a', 'conta,', 'sempre', 'alguma', 'coisa', 'que', 'faltava,', 'mas', 'ontem', 'consegu…', 'https://t.co/vv66ovi5nt'], ['@bradesco', 'sim,', 'pelo', 'site', 'foi.'], ['@bradesco', 'agora?', 'eu', 'já', 'paguei', 'o', 'darf.', 'não', 'pelo', 'app,', 'mas', 'sim', 'pelo', 'site.'], ['10', 'minutos', 'no', '\"fone', '\"fácil\"', 'do', '@bradesco', 'e', 'ainda', 'não', 'fui', 'atendido.', 'táqueopareo!'], ['o', '@bradesco', 'ainda', 'não', 'percebeu', 'que', 'o', 'erro', 'que', 'tô', 'mostrando', 'pra', 'eles', 'não', 'é', 'um', 'erro', 'de', 'usuário', 'e', 'sim', 'de', 'desenvolvimento', 'da', 'aplicação.'], ['uns', 'meses', 'atrás', 'eu', 'reparei', 'que', 'o', 'quando', 'eu', 'vou', 'sacar', 'meu', 'salário', 'sempre', 'tem', 'a', 'menos', 'do', 'que', 'depositam,', 'bradesco', 'me', 'comendo', '30', 'conto', 'mês', '👍🏼🤙🏼'], ['bradesco', 'soltaaaaaa', 'nosso', 'money', 'kkkkk'], ['ow', '@bradesco', 'eu', 'cadastrei', 'a', 'biometria', 'e', 'meu', 'saque', 'ainda', 'tá', 'com', 'limite', 'de', '300!!!!', 'vcs', 'são', 'loko???'], ['meu', 'deus,', 'não', 'entendo', 'a', 'dificuldade', 'de', 'uma', 'empresa', 'em', 'assumir', 'que', 'cagou', 'e', 'me', 'devolver', 'a', 'porra', 'do', 'meu', 'dinheiro', '@bradesco'], ['quanto', 'tempo', 'mais', 'o', '@bradesco', 'vai', 'levar', 'pra', 'resolver', 'minha', 'situação?', 'os', 'famosos', '\"10', 'dias', 'úteis\"', 'já', 'passaram', 'de', '100', 'dias', 'úteis']]\n"
     ]
    }
   ],
   "source": [
    "#separando as respostas palavra por palavra, para analisa-las\n",
    "\n",
    "respq=[]\n",
    "for i in (resp):\n",
    "    nomes=i[0].split()\n",
    "    respq.append(nomes)\n",
    "print(respq)"
   ]
  },
  {
   "cell_type": "code",
   "execution_count": 47,
   "metadata": {},
   "outputs": [
    {
     "name": "stdout",
     "output_type": "stream",
     "text": [
      "[['estou', 'cansado', 'entrar', 'contato', 'ouvidoria', '@bradesco', 'para', 'solução', 'problema', '(causado', 'pela', 'ineficiência', 'banco)'], ['bradesco', 'ligou', 'oferecendo', 'cartão', 'crédito', 'falei', 'estava', 'desempregado', 'sem', 'receber', 'renda.', 'atendente', 'desligou.'], ['@bradesco', 'pedem', 'comprovação', 'alta', 'renda', 'amex', 'cartão', 'negar', 'compras', 'r$100?', 'sugiro', 'limite', 'visivel', 'dificil'], ['@bradesco', 'rodei', 'esse', 'app', 'nao', 'encontro', 'saldo', 'investiu,', 'nao', 'quero', 'cancelar', 'quero', 'receber', 'volta'], ['@cavacogamer', '@bradesco', 'demora', 'muito', 'bradesco', 'falir', 'desse', 'jeito'], ['tisti', 'alguém', 'paga', 'nubank', 'caduca', 'minha', 'dívida', 'bradesco', 'https://t.co/5kdncgtma0'], ['bradesco', 'pior', 'banco', 'receber'], ['@bradesco', 'depois', 'sugarem', 'nossa', 'alma', 'juros', 'bancários,', 'agora', 'vocês', 'aqui', 'querer', 'homenagear', 'gaúchos!!!'], ['gerente', 'usar', 'sala', '@bradesco', 'congonhas', 'ultimas', 'duas', 'vezes', 'tinha', 'lugar', 'sentar...', '\"vip\"'], ['banco', 'bradesco', 'merda,', 'pior', 'banco', 'esse', 'lixo'], ['conseguir', 'malhar', 'hoje,', 'pois', 'mofar', 'bradesco'], ['posicione', '@bradesco', 'saia', 'anonimato', 'tela', 'computador', 'venha', 'para', 'vida', 'real', 'solucionar', 'problema', '(causado', 'pelo', 'banco)'], ['@bradesco', 'ainda', 'nada...'], ['amiguinhos', '@bradesco', 'cliente', 'exclusive', 'mais', 'facilidade,', 'ficar', 'mais', 'difícil', 'aviso', 'viagem', 'pelo', 'app?'], ['minutos', 'esperando', 'atendimento', 'bradesco', 'desbloquear', 'minha', 'chave', 'segurança,', 'alguém', 'atende'], ['estou', 'atendimento', 'pior', '@bradesco', 'bairro', 'novo.', 'parece', 'trabalham', 'obrigado', 'sem', 'receber.', 'vôte!'], ['demora', 'inferno', 'responder', 'tweet', '@bradesco'], ['banco', 'melhor', 'bradesco,', 'rápido', 'seriedade!'], ['perguntarem', 'faço', 'vida', 'responder:', 'passo', 'ligando', 'centrais', 'telefone', 'para', 'fazer', 'reclamações,', 'alou', 'bradesco'], ['@yuricrf07', '@kelvynbraga', 'partiu', 'derrubar', 'qualquer', 'placa', 'bradesco'], ['você', 'está', 'pelo', 'segundo', 'tentando', 'ligar', '#bradesco,', 'para', 'variar', 'eles', 'atendem.', 'vontade', 'cancelar', 'conta', 'antiga)'], ['@bradesco', 'queria', 'dizer', 'quero', 'cancelar', 'seguro', 'vida', 'quero', 'reembolso', 'dois', 'anos', 'descontados', 'minha', 'conta.'], ['@bradesco', 'consegui,', 'foram', 'rápido', 'responder'], ['bradesco', 'minha', 'senha', 'lotado', 'veio,'], ['@bradesco', 'quando', 'minha', 'solicitação', 'será', 'atendida?', 'protocolo', 'ouvidoria', '286971446'], ['@ops_vivianne:', 'falsidade', 'hoje', 'está', 'igual', 'bradesco,', 'lado', 'lado', 'você.'], ['gente', 'começa', 'perceber', 'ficando', 'velho,', 'quando', 'fica', 'minutos', 'telefone', 'cartão', 'bradesco'], ['@bradesco', 'quero', 'entender', 'cada', 'coisas', 'pago', 'cada', 'planos', 'posso', 'acesso.', 'pouca', 'inf…', 'https://t.co/prwusduck1'], ['gostava', 'mais', 'quando', 'outras', 'agências', 'bradesco...essa', 'muito', 'cheia', 'vazia', 'mesmo', 'tempo', '🤷🏽\\u200d♂️'], ['ajuda', '@bradesco', 'quero', 'saber', 'sobre', 'taxa', 'desconheço', 'minha', 'conta!'], ['bradesco,', 'sempre', 'perto', 'você.', 'slogan', 'define', 'amizade…', 'https://t.co/wevtqtmlrs'], ['@lfsnasciment8', 'obrigada', 'pelo', 'elogio!', 'ótimo', 'saber', 'você', 'gostou', 'método', 'utilizado', 'para', 'realização', 'serviço.'], ['enorme', 'tentar', 'sacar', 'dinheiro', 'caixa', 'bradesco!', 'missão', 'insuportável!'], ['cansada', 'desse', 'bradesco', 'cabeça'], ['@bradesco', 'empresa', 'privada', 'vive', 'lucro', 'altas', 'taxas', 'juros', 'pagamos,', 'sequer', 'posicionou.', 'vergonha', '@bradesco'], ['cliente', 'além', 'pagar', 'taxas', 'abusivas,', 'ainda', 'depara', 'total', 'falta', 'responsabilidade', 'respeito', '@bradesco'], ['você', '@bradesco', 'mascarenhas,', 'leve', 'café', 'almoço,', 'muita', 'gente', 'atendimento', 'lento.'], ['@lapa182', 'nunca', 'rolê,', 'esse', 'tentei', 'bradesco', 'funcionou,', 'https://t.co/ehd1la89rv'], ['@bradesco', 'empresa', 'omissa,', 'respeita', 'seus', 'clientes,', 'cumpre', 'prazos,', 'pede', 'dias', 'úteis', 'resolve', 'dias', 'úteis', '#vergonha'], ['aqui', 'barra', 'rocha', 'fazendo', 'vergonha', 'população', 'pagando', 'taxa', 'para', 'bradesco', 'bradesco', 'não...', 'https://t.co/ski7m83zk0'], ['@lucenadouglas_', 'bradesco', 'junção', 'banco', 'desconto,', 'segura', 'essa'], ['saga', 'bradesco,', 'parte'], ['@bradesco', 'mais', 'atualizado', ',tanto', 'bradesco', 'tanto', 'view', 'minha', 'conexão'], ['@bradesco', '@alobradesco', 'senhores,poderiam', 'posicionar', 'como', 'pode', 'continuar', 'sem', 'sistema', 'para', 'consórcio', 'desde', '31/08??', 'isso', 'vergonha!'], ['nossa', 'bradesco', 'mais'], ['banco', 'sem', 'dúvidas', 'pior', 'lugar', 'mundo..', 'agilidade', 'zero.', 'esperando', 'valeu', '@bradesco'], ['escrito', 'quanto', 'odeio', 'bradesco'], ['@bradesco', 'vocês', 'muito', 'atenciosos', 'explicativos', 'pelas', 'redes,', 'atendimento', 'telefônico', 'facilita.'], ['@bradesco', 'consigo', 'acessar', 'minha', 'conta', 'pelo', 'aplicativo,', 'parece', 'essa', 'atualização', 'complicou', 'tudo,', 'aparece', 'assim', '\"conheça', 'banco\"'], ['@bradesco', 'como', 'fazer', 'pleno', 'sec.', '0800', 'aceita', 'chamada', 'publico', 'preciso', 'falar', 'consigo?'], ['@bradesco', 'pior', 'banco'], ['vontade', 'passar', 'frente', 'bradesco', 'soltar', 'bomba', 'foda'], ['@lucassantosn1', 'mano', 'pior', 'app!', 'bradesco', 'vezes', 'melhor'], ['@kaizeira:', '@bradesco', 'banco', 'lixo', 'caralho'], ['gosto', 'muito', 'bradesco'], ['@bradesco', 'essa', 'ineficiência', 'toda', 'resolver', 'problema', 'protocolo', 'ouvidoria', '286971446,', 'estou', 'meses', 'esperando', 'retorno'], ['@bradesco', 'não,', 'atendimento', 'eletrônico', 'reconhece', 'comando'], ['odeio', 'banco', 'bradesco', 'caralho', 'morra', 'capitalismo', 'desgraçado'], ['@bradesco', 'grosseria', 'vontade.'], ['sonho', 'resolver', 'minhas', 'coisas', 'pelo', 'fone', 'fácil', 'bradesco', 'sem', 'passar', 'vida', 'esperando.'], ['casaaaaaaa.', 'não!', 'irei', 'mofar', 'bradesco', 'ainda'], ['@bradesco', 'poxa...', 'desenvolvedores', 'bradesco', 'amadores???', 'pode', 'abrir', 'chamado', 'para', 'resolver', 'simples', 'problema.'], ['bradesco', 'mais', 'fuder', 'banquinho', 'merda', 'bando', 'vagabundo', 'cobra', 'taxa', 'inexistente', 'bater', 'meta', 'fuder', 'justiça'], ['@cavacogamer', '@bradesco', 'entender', 'essas', 'agência', 'nao', 'estão', 'aí...', 'foda', 'seus', 'clientes'], ['@bradesco', 'vergonhoso', 'banco', 'onde', 'hajam', 'senhas', 'atendimento', 'para', 'ricos', 'para', 'pobres.', '#eusounotwitter'], ['porque', '#bradesco', 'disponibiliza', 'caixa', 'eletrônico', 'depósito', 'nova', 'iguaçu?', 'independente', 'agência', '#absurdo'], ['tanana', 'pagar', 'conta', 'bradesco,', 'tadinha', 'dela'], ['@bradesco', 'corumbá', 'ficaram', 'reais', 'aposentadoria', 'minha', 'caixas', 'nunca', 'notas', 'nunca', 'nunca.'], ['bradesco', 'app', 'lixo', 'deus', 'defenderay'], ['@alcantarabila', 'falar', 'bradesco', 'comecei', 'usar,', 'troquei', 'outro', 'logo', 'seguida...', 'então…', 'https://t.co/jeazb8kpz8'], ['@bradesco', 'sendo', 'universitária,', 'pressupõe', 'tenho', 'renda,', 'vocês', 'estão', 'cobrando', 'essas', 'taxas,', 'absurdo.'], ['odeio', 'bradesco', 'todas', 'minhas', 'forças.'], ['ódio', 'bradesco'], ['moral', 'serviço', 'bradesco', 'muito', 'escroto,', 'socorro', '@bradesco'], ['odeio', 'essa', 'porra', 'limite', 'doc,', 'falar', 'gerente.o', 'dinheiro', 'meu,', 'quiser', 'movimentar', 'liberar', '@bradesco'], ['@robsonmanu06:', '@bradesco,', 'esse', 'aplicativo', 'celular,', 'sempre', 'está', 'indisponível'], ['@bradesco', 'invest', 'facil,', 'quando', 'abri', 'conta', 'tava', 'pacote,', 'nao', 'consigo', 'nenhum', 'saldo'], ['@proconspoficial', 'como', 'faço', 'para', 'fazer', '@bradesco', 'cumprir', 'trabalho', 'afim', 'resolver', 'situação', 'protocolo', 'ouvidoria', '286971446'], ['@bradesco', '4004-4436!', 'desde', 'atendente', 'informado', 'está', 'sem', 'sistema', 'para', 'fazer', 'abatimento', 'valor', 'lance.'], ['odeio', 'bradesco', 'todas', 'minhas', 'forças,', 'banco'], ['@bradesco', 'vocês', 'investiram', 'dinheiro', 'sem', 'minha', 'permissão,', 'deixaram', 'real', 'minha', 'conta,', 'como', 'resolvo', 'isso', 'logo??'], ['@bradesco', 'resolvi', 'porque', 'conseguia', 'abrir', 'conta,', 'sempre', 'alguma', 'coisa', 'faltava,', 'ontem', 'consegu…', 'https://t.co/vv66ovi5nt'], ['@bradesco', 'sim,', 'pelo', 'site', 'foi.'], ['@bradesco', 'agora?', 'paguei', 'darf.', 'pelo', 'app,', 'sim', 'pelo', 'site.'], ['minutos', '\"fone', '\"fácil\"', '@bradesco', 'ainda', 'atendido.', 'táqueopareo!'], ['@bradesco', 'ainda', 'percebeu', 'erro', 'mostrando', 'eles', 'erro', 'usuário', 'sim', 'desenvolvimento', 'aplicação.'], ['meses', 'atrás', 'reparei', 'quando', 'sacar', 'salário', 'sempre', 'menos', 'depositam,', 'bradesco', 'comendo', 'conto', '👍🏼🤙🏼'], ['bradesco', 'soltaaaaaa', 'nosso', 'money', 'kkkkk'], ['@bradesco', 'cadastrei', 'biometria', 'saque', 'ainda', 'limite', '300!!!!', 'loko???'], ['deus,', 'entendo', 'dificuldade', 'empresa', 'assumir', 'cagou', 'devolver', 'porra', 'dinheiro', '@bradesco'], ['quanto', 'tempo', 'mais', '@bradesco', 'levar', 'resolver', 'minha', 'situação?', 'famosos', 'dias', 'úteis\"', 'passaram', 'dias', 'úteis']]\n"
     ]
    }
   ],
   "source": [
    "#seleconando as palavras importantes\n",
    "\n",
    "resptotal=[]\n",
    "for i in respq:\n",
    "    L=[]\n",
    "    for x in i:\n",
    "        if len(x)<=3 and x!='nao' and x!='sem'and x!='sim' and x!='app':  #removi os emojis tambem, mas nao era pra ter feito isso.\n",
    "            del x\n",
    "        else:\n",
    "            L.append(x)\n",
    "    resptotal.append(L)\n",
    "    \n",
    "print(resptotal)"
   ]
  },
  {
   "cell_type": "code",
   "execution_count": null,
   "metadata": {
    "collapsed": true
   },
   "outputs": [],
   "source": [
    "#ver se a maioria dos comentarios sao bons ou ruins\n",
    "\n",
    "palavrasruins=[] #preencher com palavras que significam algo ruim\n",
    "palavrasboas=[] #preencher com palavras que significam algo bom\n",
    "bom=0\n",
    "ruim=0\n",
    "coisasruins=[]\n",
    "# ver se a pessoa coloca boa e ruim, ou se tem mais ruim que boa como faz?\n",
    "\n",
    "\n",
    "for i in resptotal:\n",
    "    for x in i:\n",
    "        if x in palavrasboas:\n",
    "            bom+=1\n",
    "        if x in palavrasruins:\n",
    "            ruim+=1\n",
    "            coisasruins.append[x]\n",
    "\n",
    "print(bom)\n",
    "print(ruim)\n",
    "\n"
   ]
  },
  {
   "cell_type": "code",
   "execution_count": null,
   "metadata": {
    "collapsed": true
   },
   "outputs": [],
   "source": [
    "#ver porque as pessoas estão reclamando \n",
    "#ver as palavras que se relacionam a cada coisa\n",
    "\n",
    "fila=0\n",
    "ouvidoria=0\n",
    "ineficiência=0\n",
    "\n",
    "for i in coisasruins:\n",
    "    if i== 'fila' and i=='espera': #pensar em mais palavras q se relacionam a cada assunto\n",
    "        fila+=1\n",
    "    if i== 'ouvidoria':\n",
    "        ouvidoria+=1\n",
    "    if i== 'ineficiência':\n",
    "        ineficiência+=1\n",
    "    \n",
    "print(fila)\n",
    "print(ouvidoria)\n",
    "print(ineficiência)"
   ]
  },
  {
   "cell_type": "markdown",
   "metadata": {},
   "source": [
    "___\n",
    "## Verificando a performance\n",
    "\n",
    "Agora você deve testar o seu Classificador com a base de Testes.<br /><br /> \n",
    "\n",
    "Você deve extrair as seguintes medidas:\n",
    "* Porcentagem de positivos falsos (marcados como relevante mas não são relevantes)\n",
    "* Porcentagem de positivos verdadeiros (marcado como relevante e são relevantes)\n",
    "* Porcentagem de negativos verdadeiros (marcado como não relevante e não são relevantes)\n",
    "* Porcentagem de negativos falsos (marcado como não relevante e são relevantes)\n",
    "\n",
    "Opcionalmente:\n",
    "* Criar categorias intermediárias de relevância baseado na diferença de probabilidades. Exemplo: muito relevante, relevante, neutro, irrelevante e muito irrelevante."
   ]
  },
  {
   "cell_type": "code",
   "execution_count": null,
   "metadata": {
    "collapsed": true,
    "scrolled": true
   },
   "outputs": [],
   "source": []
  },
  {
   "cell_type": "markdown",
   "metadata": {
    "collapsed": true
   },
   "source": [
    "___\n",
    "## Concluindo\n",
    "\n",
    "Escreva aqui a sua conclusão.<br /> \n",
    "Faça um comparativo qualitativo sobre as medidas obtidas.<br />\n",
    "Explique como são tratadas as mensagens com dupla negação e sarcasmo.<br />\n",
    "Proponha um plano de expansão. Por que eles devem continuar financiando o seu projeto?<br />\n",
    "\n",
    "Opcionalmente: \n",
    "* Discorrer por que não posso alimentar minha base de Treinamento automaticamente usando o próprio classificador, aplicado a novos tweets.\n",
    "* Propor diferentes cenários de uso para o classificador Naive-Bayes. Cenários sem intersecção com este projeto.\n",
    "* Sugerir e explicar melhorias reais no classificador com indicações concretas de como implementar (não é preciso codificar, mas indicar como fazer e material de pesquisa sobre o assunto).\n"
   ]
  },
  {
   "cell_type": "code",
   "execution_count": null,
   "metadata": {
    "collapsed": true
   },
   "outputs": [],
   "source": []
  }
 ],
 "metadata": {
  "kernelspec": {
   "display_name": "Python 3",
   "language": "python",
   "name": "python3"
  },
  "language_info": {
   "codemirror_mode": {
    "name": "ipython",
    "version": 3
   },
   "file_extension": ".py",
   "mimetype": "text/x-python",
   "name": "python",
   "nbconvert_exporter": "python",
   "pygments_lexer": "ipython3",
   "version": "3.6.0"
  }
 },
 "nbformat": 4,
 "nbformat_minor": 1
}
