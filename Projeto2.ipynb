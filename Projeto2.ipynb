{
 "cells": [
  {
   "cell_type": "markdown",
   "metadata": {},
   "source": [
    "# Projeto 2 - Classificador Automático de Sentimento\n",
    "\n",
    "Você foi contratado por uma empresa parar analisar como os clientes estão reagindo a um determinado produto no Twitter. A empresa deseja que você crie um programa que irá analisar as mensagens disponíveis e classificará como \"relevante\" ou \"irrelevante\". Com isso ela deseja que mensagens negativas, que denigrem o nome do produto, ou que mereçam destaque, disparem um foco de atenção da área de marketing.<br /><br />\n",
    "Como aluno de Ciência dos Dados, você lembrou do Teorema de Bayes, mais especificamente do Classificador Naive-Bayes, que é largamente utilizado em filtros anti-spam de e-mails. O classificador permite calcular qual a probabilidade de uma mensagem ser relevante dadas as palavras em seu conteúdo.<br /><br />\n",
    "Para realizar o MVP (*minimum viable product*) do projeto, você precisa implementar uma versão do classificador que \"aprende\" o que é relevante com uma base de treinamento e compara a performance dos resultados com uma base de testes.<br /><br />\n",
    "Após validado, o seu protótipo poderá também capturar e classificar automaticamente as mensagens da plataforma.\n",
    "\n",
    "## Informações do Projeto\n",
    "\n",
    "Prazo: 13/Set até às 23:59.<br />\n",
    "Grupo: 1 ou 2 pessoas.<br /><br />\n",
    "Entregáveis via GitHub: \n",
    "* Arquivo notebook com o código do classificador, seguindo as orientações abaixo.\n",
    "* Arquivo Excel com as bases de treinamento e teste totalmente classificado.\n",
    "\n",
    "**NÃO disponibilizar o arquivo com os *access keys/tokens* do Twitter.**\n",
    "\n",
    "\n",
    "### Check 3: \n",
    "\n",
    "Até o dia 06 de Setembro às 23:59, o notebook e o xlsx devem estar no Github com as seguintes evidências: \n",
    "    * Conta no twitter criada.\n",
    "    * Produto escolhido.\n",
    "    * Arquivo Excel contendo a base de treinamento e teste já classificado.\n",
    "    \n",
    "\n",
    "Sugestão de leitura:<br />\n",
    "http://docs.tweepy.org/en/v3.5.0/index.html<br />\n",
    "https://monkeylearn.com/blog/practical-explanation-naive-bayes-classifier/"
   ]
  },
  {
   "cell_type": "markdown",
   "metadata": {},
   "source": [
    "___\n",
    "\n",
    "## Preparando o ambiente\n",
    "\n",
    "Instalando a biblioteca *tweepy* para realizar a conexão com o Twitter:"
   ]
  },
  {
   "cell_type": "code",
   "execution_count": 2,
   "metadata": {
    "collapsed": true
   },
   "outputs": [],
   "source": [
    "%%capture\n",
    "\n",
    "#Instalando o tweepy\n",
    "!pip install tweepy"
   ]
  },
  {
   "cell_type": "markdown",
   "metadata": {},
   "source": [
    "Importando as Bibliotecas que serão utilizadas. Esteja livre para adicionar outras."
   ]
  },
  {
   "cell_type": "code",
   "execution_count": 3,
   "metadata": {
    "collapsed": true
   },
   "outputs": [],
   "source": [
    "import tweepy\n",
    "import math\n",
    "import os.path\n",
    "import pandas as pd\n",
    "import json\n",
    "from random import shuffle"
   ]
  },
  {
   "cell_type": "markdown",
   "metadata": {},
   "source": [
    "___\n",
    "## Autenticando no  Twitter\n",
    "\n",
    "Para realizar a captura dos dados é necessário ter uma conta cadastrada no twitter:\n",
    "\n",
    "* Conta: ***[Preencha aqui o id da sua conta. Ex: @fulano ]***\n",
    "\n",
    "\n",
    "1. Caso ainda não tenha uma: https://twitter.com/signup\n",
    "1. Depois é necessário registrar um app para usar a biblioteca: https://apps.twitter.com/\n",
    "1. Dentro do registro do App, na aba Keys and Access Tokens, anotar os seguintes campos:\n",
    "    1. Consumer Key (API Key)\n",
    "    1. Consumer Secret (API Secret)\n",
    "1. Mais abaixo, gere um Token e anote também:\n",
    "    1. Access Token\n",
    "    1. Access Token Secret\n",
    "    \n",
    "1. Preencha os valores no arquivo \"auth.pass\"\n",
    "\n",
    "**ATENÇÃO**: Nunca divulgue os dados desse arquivo online (GitHub, etc). Ele contém as chaves necessárias para realizar as operações no twitter de forma automática e portanto é equivalente a ser \"hackeado\". De posse desses dados, pessoas mal intencionadas podem fazer todas as operações manuais (tweetar, seguir, bloquear/desbloquear, listar os seguidores, etc). Para efeito do projeto, esse arquivo não precisa ser entregue!!!"
   ]
  },
  {
   "cell_type": "code",
   "execution_count": 4,
   "metadata": {
    "collapsed": true
   },
   "outputs": [],
   "source": [
    "#Dados de autenticação do twitter:\n",
    "\n",
    "#Coloque aqui o identificador da conta no twitter: @dudabicalhocd\n",
    "\n",
    "#leitura do arquivo no formato JSON\n",
    "with open('auth.pass') as fp:    \n",
    "    data = json.load(fp)\n",
    "\n",
    "#Configurando a biblioteca. Não modificar\n",
    "auth = tweepy.OAuthHandler(data['consumer_key'], data['consumer_secret'])\n",
    "auth.set_access_token(data['access_token'], data['access_token_secret'])"
   ]
  },
  {
   "cell_type": "markdown",
   "metadata": {},
   "source": [
    "___\n",
    "## Coletando Dados\n",
    "\n",
    "Agora vamos coletar os dados. Tenha em mente que dependendo do produto escolhido, não haverá uma quantidade significativa de mensagens, ou ainda poder haver muitos retweets.<br /><br /> \n",
    "Configurando:"
   ]
  },
  {
   "cell_type": "code",
   "execution_count": 5,
   "metadata": {
    "collapsed": true
   },
   "outputs": [],
   "source": [
    "#Produto escolhido:\n",
    "produto = 'Bradesco'\n",
    "\n",
    "#Quantidade mínima de mensagens capturadas:\n",
    "n = 500\n",
    "#Quantidade mínima de mensagens para a base de treinamento:\n",
    "t = 300\n",
    "\n",
    "#Filtro de língua, escolha uma na tabela ISO 639-1.\n",
    "lang = 'pt'"
   ]
  },
  {
   "cell_type": "markdown",
   "metadata": {},
   "source": [
    "Capturando os dados do twitter:"
   ]
  },
  {
   "cell_type": "code",
   "execution_count": 6,
   "metadata": {},
   "outputs": [
    {
     "ename": "TweepError",
     "evalue": "Twitter error response: status code = 400",
     "output_type": "error",
     "traceback": [
      "\u001b[0;31m---------------------------------------------------------------------------\u001b[0m",
      "\u001b[0;31mTweepError\u001b[0m                                Traceback (most recent call last)",
      "\u001b[0;32m<ipython-input-6-910742af87dd>\u001b[0m in \u001b[0;36m<module>\u001b[0;34m()\u001b[0m\n\u001b[1;32m      5\u001b[0m \u001b[0mi\u001b[0m \u001b[1;33m=\u001b[0m \u001b[1;36m1\u001b[0m\u001b[1;33m\u001b[0m\u001b[0m\n\u001b[1;32m      6\u001b[0m \u001b[0mmsgs\u001b[0m \u001b[1;33m=\u001b[0m \u001b[1;33m[\u001b[0m\u001b[1;33m]\u001b[0m\u001b[1;33m\u001b[0m\u001b[0m\n\u001b[0;32m----> 7\u001b[0;31m \u001b[1;32mfor\u001b[0m \u001b[0mmsg\u001b[0m \u001b[1;32min\u001b[0m \u001b[0mtweepy\u001b[0m\u001b[1;33m.\u001b[0m\u001b[0mCursor\u001b[0m\u001b[1;33m(\u001b[0m\u001b[0mapi\u001b[0m\u001b[1;33m.\u001b[0m\u001b[0msearch\u001b[0m\u001b[1;33m,\u001b[0m \u001b[0mq\u001b[0m\u001b[1;33m=\u001b[0m\u001b[0mproduto\u001b[0m\u001b[1;33m,\u001b[0m \u001b[0mlang\u001b[0m\u001b[1;33m=\u001b[0m\u001b[0mlang\u001b[0m\u001b[1;33m)\u001b[0m\u001b[1;33m.\u001b[0m\u001b[0mitems\u001b[0m\u001b[1;33m(\u001b[0m\u001b[1;33m)\u001b[0m\u001b[1;33m:\u001b[0m\u001b[1;33m\u001b[0m\u001b[0m\n\u001b[0m\u001b[1;32m      8\u001b[0m     \u001b[0mmsgs\u001b[0m\u001b[1;33m.\u001b[0m\u001b[0mappend\u001b[0m\u001b[1;33m(\u001b[0m\u001b[0mmsg\u001b[0m\u001b[1;33m.\u001b[0m\u001b[0mtext\u001b[0m\u001b[1;33m.\u001b[0m\u001b[0mlower\u001b[0m\u001b[1;33m(\u001b[0m\u001b[1;33m)\u001b[0m\u001b[1;33m)\u001b[0m\u001b[1;33m\u001b[0m\u001b[0m\n\u001b[1;32m      9\u001b[0m     \u001b[0mi\u001b[0m \u001b[1;33m+=\u001b[0m \u001b[1;36m1\u001b[0m\u001b[1;33m\u001b[0m\u001b[0m\n",
      "\u001b[0;32mC:\\Users\\milen\\Anaconda3\\lib\\site-packages\\tweepy\\cursor.py\u001b[0m in \u001b[0;36m__next__\u001b[0;34m(self)\u001b[0m\n\u001b[1;32m     47\u001b[0m \u001b[1;33m\u001b[0m\u001b[0m\n\u001b[1;32m     48\u001b[0m     \u001b[1;32mdef\u001b[0m \u001b[0m__next__\u001b[0m\u001b[1;33m(\u001b[0m\u001b[0mself\u001b[0m\u001b[1;33m)\u001b[0m\u001b[1;33m:\u001b[0m\u001b[1;33m\u001b[0m\u001b[0m\n\u001b[0;32m---> 49\u001b[0;31m         \u001b[1;32mreturn\u001b[0m \u001b[0mself\u001b[0m\u001b[1;33m.\u001b[0m\u001b[0mnext\u001b[0m\u001b[1;33m(\u001b[0m\u001b[1;33m)\u001b[0m\u001b[1;33m\u001b[0m\u001b[0m\n\u001b[0m\u001b[1;32m     50\u001b[0m \u001b[1;33m\u001b[0m\u001b[0m\n\u001b[1;32m     51\u001b[0m     \u001b[1;32mdef\u001b[0m \u001b[0mnext\u001b[0m\u001b[1;33m(\u001b[0m\u001b[0mself\u001b[0m\u001b[1;33m)\u001b[0m\u001b[1;33m:\u001b[0m\u001b[1;33m\u001b[0m\u001b[0m\n",
      "\u001b[0;32mC:\\Users\\milen\\Anaconda3\\lib\\site-packages\\tweepy\\cursor.py\u001b[0m in \u001b[0;36mnext\u001b[0;34m(self)\u001b[0m\n\u001b[1;32m    195\u001b[0m         \u001b[1;32mif\u001b[0m \u001b[0mself\u001b[0m\u001b[1;33m.\u001b[0m\u001b[0mcurrent_page\u001b[0m \u001b[1;32mis\u001b[0m \u001b[1;32mNone\u001b[0m \u001b[1;32mor\u001b[0m \u001b[0mself\u001b[0m\u001b[1;33m.\u001b[0m\u001b[0mpage_index\u001b[0m \u001b[1;33m==\u001b[0m \u001b[0mlen\u001b[0m\u001b[1;33m(\u001b[0m\u001b[0mself\u001b[0m\u001b[1;33m.\u001b[0m\u001b[0mcurrent_page\u001b[0m\u001b[1;33m)\u001b[0m \u001b[1;33m-\u001b[0m \u001b[1;36m1\u001b[0m\u001b[1;33m:\u001b[0m\u001b[1;33m\u001b[0m\u001b[0m\n\u001b[1;32m    196\u001b[0m             \u001b[1;31m# Reached end of current page, get the next page...\u001b[0m\u001b[1;33m\u001b[0m\u001b[1;33m\u001b[0m\u001b[0m\n\u001b[0;32m--> 197\u001b[0;31m             \u001b[0mself\u001b[0m\u001b[1;33m.\u001b[0m\u001b[0mcurrent_page\u001b[0m \u001b[1;33m=\u001b[0m \u001b[0mself\u001b[0m\u001b[1;33m.\u001b[0m\u001b[0mpage_iterator\u001b[0m\u001b[1;33m.\u001b[0m\u001b[0mnext\u001b[0m\u001b[1;33m(\u001b[0m\u001b[1;33m)\u001b[0m\u001b[1;33m\u001b[0m\u001b[0m\n\u001b[0m\u001b[1;32m    198\u001b[0m             \u001b[0mself\u001b[0m\u001b[1;33m.\u001b[0m\u001b[0mpage_index\u001b[0m \u001b[1;33m=\u001b[0m \u001b[1;33m-\u001b[0m\u001b[1;36m1\u001b[0m\u001b[1;33m\u001b[0m\u001b[0m\n\u001b[1;32m    199\u001b[0m         \u001b[0mself\u001b[0m\u001b[1;33m.\u001b[0m\u001b[0mpage_index\u001b[0m \u001b[1;33m+=\u001b[0m \u001b[1;36m1\u001b[0m\u001b[1;33m\u001b[0m\u001b[0m\n",
      "\u001b[0;32mC:\\Users\\milen\\Anaconda3\\lib\\site-packages\\tweepy\\cursor.py\u001b[0m in \u001b[0;36mnext\u001b[0;34m(self)\u001b[0m\n\u001b[1;32m    106\u001b[0m \u001b[1;33m\u001b[0m\u001b[0m\n\u001b[1;32m    107\u001b[0m         \u001b[1;32mif\u001b[0m \u001b[0mself\u001b[0m\u001b[1;33m.\u001b[0m\u001b[0mindex\u001b[0m \u001b[1;33m>=\u001b[0m \u001b[0mlen\u001b[0m\u001b[1;33m(\u001b[0m\u001b[0mself\u001b[0m\u001b[1;33m.\u001b[0m\u001b[0mresults\u001b[0m\u001b[1;33m)\u001b[0m \u001b[1;33m-\u001b[0m \u001b[1;36m1\u001b[0m\u001b[1;33m:\u001b[0m\u001b[1;33m\u001b[0m\u001b[0m\n\u001b[0;32m--> 108\u001b[0;31m             \u001b[0mdata\u001b[0m \u001b[1;33m=\u001b[0m \u001b[0mself\u001b[0m\u001b[1;33m.\u001b[0m\u001b[0mmethod\u001b[0m\u001b[1;33m(\u001b[0m\u001b[0mmax_id\u001b[0m\u001b[1;33m=\u001b[0m\u001b[0mself\u001b[0m\u001b[1;33m.\u001b[0m\u001b[0mmax_id\u001b[0m\u001b[1;33m,\u001b[0m \u001b[0mparser\u001b[0m\u001b[1;33m=\u001b[0m\u001b[0mRawParser\u001b[0m\u001b[1;33m(\u001b[0m\u001b[1;33m)\u001b[0m\u001b[1;33m,\u001b[0m \u001b[1;33m*\u001b[0m\u001b[0mself\u001b[0m\u001b[1;33m.\u001b[0m\u001b[0margs\u001b[0m\u001b[1;33m,\u001b[0m \u001b[1;33m**\u001b[0m\u001b[0mself\u001b[0m\u001b[1;33m.\u001b[0m\u001b[0mkargs\u001b[0m\u001b[1;33m)\u001b[0m\u001b[1;33m\u001b[0m\u001b[0m\n\u001b[0m\u001b[1;32m    109\u001b[0m \u001b[1;33m\u001b[0m\u001b[0m\n\u001b[1;32m    110\u001b[0m             \u001b[1;32mif\u001b[0m \u001b[0mhasattr\u001b[0m\u001b[1;33m(\u001b[0m\u001b[0mself\u001b[0m\u001b[1;33m.\u001b[0m\u001b[0mmethod\u001b[0m\u001b[1;33m,\u001b[0m \u001b[1;34m'__self__'\u001b[0m\u001b[1;33m)\u001b[0m\u001b[1;33m:\u001b[0m\u001b[1;33m\u001b[0m\u001b[0m\n",
      "\u001b[0;32mC:\\Users\\milen\\Anaconda3\\lib\\site-packages\\tweepy\\binder.py\u001b[0m in \u001b[0;36m_call\u001b[0;34m(*args, **kwargs)\u001b[0m\n\u001b[1;32m    243\u001b[0m             \u001b[1;32mreturn\u001b[0m \u001b[0mmethod\u001b[0m\u001b[1;33m\u001b[0m\u001b[0m\n\u001b[1;32m    244\u001b[0m         \u001b[1;32melse\u001b[0m\u001b[1;33m:\u001b[0m\u001b[1;33m\u001b[0m\u001b[0m\n\u001b[0;32m--> 245\u001b[0;31m             \u001b[1;32mreturn\u001b[0m \u001b[0mmethod\u001b[0m\u001b[1;33m.\u001b[0m\u001b[0mexecute\u001b[0m\u001b[1;33m(\u001b[0m\u001b[1;33m)\u001b[0m\u001b[1;33m\u001b[0m\u001b[0m\n\u001b[0m\u001b[1;32m    246\u001b[0m \u001b[1;33m\u001b[0m\u001b[0m\n\u001b[1;32m    247\u001b[0m     \u001b[1;31m# Set pagination mode\u001b[0m\u001b[1;33m\u001b[0m\u001b[1;33m\u001b[0m\u001b[0m\n",
      "\u001b[0;32mC:\\Users\\milen\\Anaconda3\\lib\\site-packages\\tweepy\\binder.py\u001b[0m in \u001b[0;36mexecute\u001b[0;34m(self)\u001b[0m\n\u001b[1;32m    227\u001b[0m                     \u001b[1;32mraise\u001b[0m \u001b[0mRateLimitError\u001b[0m\u001b[1;33m(\u001b[0m\u001b[0merror_msg\u001b[0m\u001b[1;33m,\u001b[0m \u001b[0mresp\u001b[0m\u001b[1;33m)\u001b[0m\u001b[1;33m\u001b[0m\u001b[0m\n\u001b[1;32m    228\u001b[0m                 \u001b[1;32melse\u001b[0m\u001b[1;33m:\u001b[0m\u001b[1;33m\u001b[0m\u001b[0m\n\u001b[0;32m--> 229\u001b[0;31m                     \u001b[1;32mraise\u001b[0m \u001b[0mTweepError\u001b[0m\u001b[1;33m(\u001b[0m\u001b[0merror_msg\u001b[0m\u001b[1;33m,\u001b[0m \u001b[0mresp\u001b[0m\u001b[1;33m,\u001b[0m \u001b[0mapi_code\u001b[0m\u001b[1;33m=\u001b[0m\u001b[0mapi_error_code\u001b[0m\u001b[1;33m)\u001b[0m\u001b[1;33m\u001b[0m\u001b[0m\n\u001b[0m\u001b[1;32m    230\u001b[0m \u001b[1;33m\u001b[0m\u001b[0m\n\u001b[1;32m    231\u001b[0m             \u001b[1;31m# Parse the response payload\u001b[0m\u001b[1;33m\u001b[0m\u001b[1;33m\u001b[0m\u001b[0m\n",
      "\u001b[0;31mTweepError\u001b[0m: Twitter error response: status code = 400"
     ]
    }
   ],
   "source": [
    "#Cria um objeto para a captura\n",
    "api = tweepy.API(auth)\n",
    "\n",
    "#Inicia a captura, para mais detalhes: ver a documentação do tweepy\n",
    "i = 1\n",
    "msgs = []\n",
    "for msg in tweepy.Cursor(api.search, q=produto, lang=lang).items():    \n",
    "    msgs.append(msg.text.lower())\n",
    "    i += 1\n",
    "    if i > n:\n",
    "        break\n",
    "\n",
    "#Embaralhando as mensagens para reduzir um possível viés\n",
    "shuffle(msgs)"
   ]
  },
  {
   "cell_type": "markdown",
   "metadata": {},
   "source": [
    "Salvando os dados em uma planilha Excel:"
   ]
  },
  {
   "cell_type": "code",
   "execution_count": null,
   "metadata": {
    "collapsed": true
   },
   "outputs": [],
   "source": [
    "#Verifica se o arquivo não existe para não substituir um conjunto pronto\n",
    "if not os.path.isfile('./{0}.xlsx'.format(produto)):\n",
    "    \n",
    "    #Abre o arquivo para escrita\n",
    "    writer = pd.ExcelWriter('{0}.xlsx'.format(produto))\n",
    "\n",
    "    #divide o conjunto de mensagens em duas planilhas\n",
    "    dft = pd.DataFrame({'Treinamento' : pd.Series(msgs[:t])})\n",
    "    dft.to_excel(excel_writer = writer, sheet_name = 'Treinamento', index = False)\n",
    "\n",
    "    dfc = pd.DataFrame({'Teste' : pd.Series(msgs[t:])})\n",
    "    dfc.to_excel(excel_writer = writer, sheet_name = 'Teste', index = False)\n",
    "\n",
    "    #fecha o arquivo\n",
    "    writer.save()"
   ]
  },
  {
   "cell_type": "markdown",
   "metadata": {},
   "source": [
    "___\n",
    "## Classificando as Mensagens\n",
    "\n",
    "Agora você deve abrir o arquivo Excel com as mensagens capturadas e classificar na Coluna B se a mensagem é relevante ou não.<br /> \n",
    "Não se esqueça de colocar um nome para a coluna na célula **B1**.<br /><br />\n",
    "Fazer o mesmo na planilha de Controle.\n",
    "\n",
    "___\n",
    "## Montando o Classificador Naive-Bayes\n",
    "\n",
    "Com a base de treinamento montada, comece a desenvolver o classificador. Escreva o seu código abaixo:\n",
    "\n",
    "Opcionalmente: \n",
    "* Limpar as mensagens removendo os caracteres: enter, :, \", ', (, ), etc. Não remover emojis.<br />\n",
    "* Corrigir separação de espaços entre palavras e/ou emojis.\n",
    "* Propor outras limpezas/transformações que não afetem a qualidade da informação.\n",
    "\n"
   ]
  },
  {
   "cell_type": "code",
   "execution_count": 7,
   "metadata": {},
   "outputs": [
    {
     "name": "stdout",
     "output_type": "stream",
     "text": [
      "C:\\Users\\milen\\OneDrive\\Documentos\\2o SEMESTRE\\CDD\\Projeto2-CD\n"
     ]
    }
   ],
   "source": [
    "print(os.getcwd())\n",
    "dados = pd.read_excel('Bradesco.xlsx')"
   ]
  },
  {
   "cell_type": "code",
   "execution_count": 8,
   "metadata": {
    "collapsed": true
   },
   "outputs": [],
   "source": [
    "#dados"
   ]
  },
  {
   "cell_type": "code",
   "execution_count": 9,
   "metadata": {},
   "outputs": [
    {
     "name": "stdout",
     "output_type": "stream",
     "text": [
      "91\n"
     ]
    }
   ],
   "source": [
    "#pegando os dados interessantes para nos\n",
    "dr= dados.Respostas[dados.Relevancia=='r']\n",
    "print(len(dr))\n",
    "probder= 91/300"
   ]
  },
  {
   "cell_type": "code",
   "execution_count": 10,
   "metadata": {},
   "outputs": [
    {
     "name": "stdout",
     "output_type": "stream",
     "text": [
      "209\n"
     ]
    }
   ],
   "source": [
    "di=dados.Respostas[dados.Relevancia=='i']\n",
    "print(len(di))\n",
    "probdei=209/300"
   ]
  },
  {
   "cell_type": "code",
   "execution_count": 11,
   "metadata": {
    "scrolled": true
   },
   "outputs": [
    {
     "name": "stdout",
     "output_type": "stream",
     "text": [
      "1475\n",
      "['já', 'estou', 'cansado', 'de', 'entrar', 'em', 'contato', 'com', 'a', 'ouvidoria', 'do', '@bradesco', 'para', 'solução', 'do', 'meu', 'problema', 'causado', 'pela', 'ineficiência', 'do', 'banco', 'bradesco', 'me', 'ligou', 'oferecendo', 'cartão', 'de', 'crédito', 'e', 'falei', 'que', 'estava', 'desempregado', 'e', 'sem', 'receber', 'renda', 'a', 'atendente', 'desligou', '@bradesco', 'me', 'pedem', 'comprovação', 'alta', 'de', 'renda', 'p/', 'ter', 'o', 'amex', 'tpc', 'p/', 'o', 'cartão', 'negar', 'compras', 'de', 'r$100', 'sugiro', 'por', '1', 'limite', 'visivel', 'pq', 'ta', 'dificil', '@bradesco', 'ja', 'rodei', 'esse', 'app', 'e', 'nao', 'encontro', 'o', 'saldo', 'que', 'investiu', 'se', 'for', 'pra', 'nao', 'ter', 'quero', 'cancelar', 'ne', 'eu', 'dou', 'mas', 'quero', 'receber', 'de', 'volta', 'rs', '@cavacogamer', '@bradesco', 'não', 'demora', 'muito', 'e', 'o', 'bradesco', 'vai', 'falir', 'desse', 'jeito', 'tô', 'tão', 'tisti', 'alguém', 'paga', 'o', 'meu', 'nubank', 'e', 'caduca', 'minha', 'dívida', 'com', 'o', 'bradesco', 'https//tco/5kdncgtma0', 'bradesco', 'é', 'o', 'pior', 'banco', 'pra', 'receber', '😪😪', '@bradesco', 'depois', 'de', 'sugarem', 'até', 'a', 'nossa', 'alma', 'com', 'os', 'juros', 'bancários', 'agora', 'vocês', 'vem', 'aqui', 'querer', 'homenagear', 'nó', 'gaúchos', 'o', 'gerente', 'diz', 'pra', 'usar', 'a', 'sala', 'vip', 'do', '@bradesco', 'em', 'congonhas', 'e', 'nas', 'ultimas', 'duas', 'vezes', 'não', 'tinha', 'nem', 'lugar', 'pra', 'sentar', 'bem', 'vip', 'ui', 'banco', 'do', 'bradesco', 'é', 'uma', 'merda', 'pior', 'banco', 'que', 'tem', 'esse', 'lixo', '😠', 'num', 'vou', 'conseguir', 'malhar', 'hoje', 'pois', 'vou', 'ter', 'q', 'mofar', 'no', 'bradesco', '😤', 'posicione', 'se', '@bradesco', '', 'saia', 'do', 'anonimato', 'da', 'tela', 'do', 'computador', 'e', 'venha', 'para', 'a', 'vida', 'real', 'solucionar', 'meu', 'problema', 'causado', 'pelo', 'banco', '@bradesco', 'ainda', 'nada', 'amiguinhos', 'do', '@bradesco', 'eu', 'sou', 'cliente', 'exclusive', 'pra', 'ter', 'mais', 'facilidade', 'não', 'pra', 'ficar', 'mais', 'difícil', '🙄', 'pq', 'não', 'tem', 'aviso', 'de', 'viagem', 'pelo', 'app', '13', 'minutos', 'esperando', 'um', 'atendimento', 'do', 'bradesco', 'pra', 'desbloquear', 'minha', 'chave', 'de', 'segurança', 'alguém', 'me', 'atende', 'estou', 'pra', 'ver', 'um', 'atendimento', 'pior', 'que', 'o', '@bradesco', 'de', 'bairro', 'novo', 'parece', 'que', 'trabalham', 'obrigado', 'e', 'sem', 'receber', 'vôte', 'que', 'demora', 'do', 'inferno', 'pra', 'responder', 'um', 'tweet', '@bradesco', 'não', 'tem', 'banco', 'melhor', 'que', 'o', 'bradesco', 'rápido', 'e', 'com', 'seriedade', '👏🏻', 'se', 'me', 'perguntarem', 'o', 'que', 'faço', 'da', 'vida', 'vou', 'responder', 'eu', 'passo', 'dia', 'ligando', 'pra', 'centrais', 'de', 'telefone', 'para', 'fazer', 'reclamações', 'alou', 'bradesco', 'net', '@yuricrf07', '@kelvynbraga', 'partiu', 'derrubar', 'qualquer', 'placa', 'do', 'bradesco', 'daí', 'você', 'está', 'pelo', 'segundo', 'dia', 'tentando', 'ligar', 'no', '#bradesco', 'mas', 'para', 'variar', 'eles', 'não', 'atendem', 'dá', 'vontade', 'de', 'cancelar', 'a', 'conta', 'q', 'é', 'antiga', 'alô', '@bradesco', 'queria', 'dizer', 'que', 'quero', 'cancelar', 'meu', 'seguro', 'de', 'vida', 'e', 'quero', 'o', 'reembolso', 'de', 'dois', 'anos', 'descontados', 'da', 'minha', 'conta', '@bradesco', 'ja', 'consegui', 'foram', 'tão', 'rápido', 'pra', 'me', 'responder', 'né', '🙂', 'agr', 'tô', 'bradesco', 'minha', 'senha', 'eh', '36', 'e', 'tá', 'no', '19', 'e', 'lotado', 'de', 'veio', 'vsf', 'e', 'aí', '@bradesco', '', 'quando', 'o', 'minha', 'solicitação', 'será', 'atendida', 'protocolo', 'ouvidoria', '286971446', 'rt', '@ops_vivianne', 'falsidade', 'hoje', 'está', 'igual', 'ao', 'bradesco', 'lado', 'a', 'lado', 'com', 'você', 'a', 'gente', 'começa', 'a', 'perceber', 'que', 'tá', 'ficando', 'velho', 'quando', 'vc', 'fica', '20', '25', 'minutos', 'no', 'telefone', 'com', 'o', 'cartão', 'da', 'bradesco', '🤔😴', '@bradesco', 'eu', 'quero', 'entender', 'cada', 'uma', 'das', 'coisas', 'que', 'eu', 'pago', 'e', 'cada', 'um', 'dos', 'planos', 'que', 'posso', 'ter', 'acesso', 'há', 'pouca', 'inf…', 'https//tco/prwusduck1', 'eu', 'gostava', 'mais', 'quando', 'ia', 'em', 'outras', 'agências', 'do', 'bradescoessa', 'tá', 'muito', 'cheia', 'e', 'vazia', 'ao', 'mesmo', 'tempo', '🤷🏽\\u200d♂️', 'me', 'ajuda', 'ai', '@bradesco', '', 'quero', 'saber', 'sobre', 'uma', 'taxa', 'que', 'desconheço', 'na', 'minha', 'conta', 'bradesco', 'sempre', 'perto', 'de', 'você', '☺', 'slogan', 'que', 'define', 'a', 'amizade…', 'https//tco/wevtqtmlrs', '@lfsnasciment8', 'oi', 'obrigada', 'pelo', 'elogio', 'é', 'ótimo', 'saber', 'que', 'você', 'gostou', 'do', 'método', 'utilizado', 'para', 'realização', 'do', 'serviço', '', 'ter', 'uma', 'mão', 'enorme', 'e', 'tentar', 'sacar', 'dinheiro', 'no', 'caixa', 'do', 'bradesco', 'que', 'missão', 'insuportável', '😡', 'cansada', 'desse', 'bradesco', '', 'só', 'dor', 'de', 'cabeça', 'já', 'o', '@bradesco', 'uma', 'empresa', 'privada', 'que', 'vive', 'do', 'lucro', 'das', 'altas', 'taxas', 'de', 'juros', 'que', 'pagamos', 'sequer', 'se', 'posicionou', 'vergonha', '@bradesco', 'o', 'cliente', 'além', 'de', 'pagar', 'taxas', 'abusivas', 'ainda', 'se', 'depara', 'com', 'a', 'total', 'falta', 'de', 'responsabilidade', 'e', 'respeito', 'do', '@bradesco', 'se', 'você', 'for', 'ao', '@bradesco', 'da', 'mascarenhas', 'leve', 'café', 'e', 'almoço', 'muita', 'gente', 'e', 'atendimento', 'lento', '@lapa182', 'eu', 'tb', 'pô', 'sou', 'bb', 'e', 'nunca', 'deu', 'rolê', 'esse', 'doc', 'já', 'tentei', 'no', 'bradesco', 'tb', 'e', 'não', 'funcionou', 'daí', 'vou', 'ter', 'q', 'ir', 'lá', '😡', 'https//tco/ehd1la89rv', '@bradesco', 'empresa', 'omissa', 'não', 'respeita', 'seus', 'clientes', 'não', 'cumpre', 'prazos', 'pede', '10', 'dias', 'úteis', 'e', 'não', 'resolve', 'em', '100', 'dias', 'úteis', '#vergonha', 'aqui', 'em', 'barra', 'do', 'rocha', 'ta', 'fazendo', 'vergonha', 'a', 'população', 'pagando', 'uma', 'taxa', 'para', 'o', 'bradesco', 'e', 'o', 'bradesco', 'não', 'https//tco/ski7m83zk0', '@lucenadouglas_', 'bradesco', 'é', 'a', 'junção', 'de', 'banco', 'com', 'desconto', 'segura', 'essa', 'saga', 'do', 'bradesco', 'parte', '2', '@bradesco', 'é', 'o', 'mais', 'atualizado', 'tanto', 'o', 'do', 'bradesco', '', 'tanto', 'o', 'web', 'view', '', 'minha', 'conexão', 'é', 'boa', '', '@bradesco', '@alobradesco', 'senhorespoderiam', 'se', 'posicionar', 'como', 'pode', 'continuar', 'sem', 'sistema', 'para', 'consórcio', 'desde', 'dia', '31/08', 'isso', 'é', 'uma', 'vergonha', 'nossa', 'bradesco', 'não', 'dá', 'um', 'ar', 'mais', 'banco', 'sem', 'dúvidas', 'é', 'o', 'pior', 'lugar', 'do', 'mundo', 'agilidade', 'zero', '40', 'min', 'esperando', 'já', 'valeu', 'ein', '@bradesco', 'não', 'tá', 'escrito', 'o', 'quanto', 'eu', 'odeio', 'o', 'bradesco', '@bradesco', 'vocês', 'são', 'muito', 'atenciosos', 'e', 'explicativos', 'pelas', 'redes', 'mas', 'o', 'atendimento', 'telefônico', 'não', 'facilita', '@bradesco', 'não', 'consigo', 'acessar', 'minha', 'conta', 'pelo', 'aplicativo', 'parece', 'que', 'essa', 'atualização', 'complicou', 'tudo', 'aparece', 'assim', 'conheça', 'seu', 'banco', '@bradesco', 'como', 'fazer', 'em', 'pleno', 'sec', '21', 'e', 'o', '0800', 'de', 'vcs', 'não', 'aceita', 'chamada', 'de', 'cel', 'ou', 'tel', 'publico', 'preciso', 'falar', 'com', 'vcs', 'e', 'não', 'consigo', '@bradesco', 'pior', 'banco', 'vontade', 'de', 'passar', 'em', 'frente', 'ao', 'bradesco', 'e', 'soltar', 'uma', 'bomba', 'foda', 'se', '@lucassantosn1', 'mano', 'é', 'o', 'pior', 'app', 'do', 'bradesco', 'mil', 'vezes', 'melhor', 'rt', '@kaizeira', '@bradesco', 'banco', 'lixo', 'do', 'caralho', 'eu', 'gosto', 'muito', 'do', 'bradesco', 'alô', '@bradesco', 'e', 'essa', 'ineficiência', 'toda', 'pra', 'resolver', 'o', 'problema', 'do', 'protocolo', 'na', 'ouvidoria', '286971446', 'estou', 'há', '5', 'meses', 'esperando', 'o', 'retorno', '@bradesco', 'não', 'o', 'atendimento', 'eletrônico', 'não', 'reconhece', 'o', 'comando', 'eu', 'odeio', 'o', 'banco', 'bradesco', 'caralho', 'morra', 'capitalismo', 'desgraçado', '@bradesco', 'só', 'grosseria', 'e', 'má', 'vontade', 'meu', 'sonho', 'resolver', 'minhas', 'coisas', 'pelo', 'fone', 'fácil', 'bradesco', 'sem', 'passar', 'uma', 'vida', 'esperando', 'casaaaaaaa', 'ah', 'não', 'irei', 'mofar', 'no', 'bradesco', 'ainda', '🙁', '@bradesco', 'poxa', 'os', 'desenvolvedores', 'do', 'bradesco', 'são', 'amadores', '😨', 'não', 'pode', 'abrir', 'um', 'chamado', 'para', 'resolver', 'um', 'simples', 'problema', '😠', 'o', 'bradesco', 'tem', 'mais', 'é', 'que', 'se', 'fuder', 'banquinho', 'de', 'merda', 'bando', 'de', 'vagabundo', 'que', 'cobra', 'taxa', 'inexistente', 'pra', 'bater', 'meta', 'vão', 'se', 'fuder', 'na', 'justiça', '@cavacogamer', '@bradesco', 'da', 'a', 'entender', 'q', 'essas', 'agência', 'nao', 'estão', 'nem', 'aí', 'que', 'se', 'foda', 'seus', 'clientes', '-', '@bradesco', 'é', 'vergonhoso', 'um', 'banco', 'onde', 'hajam', 'senhas', 'de', 'atendimento', 'para', 'ricos', 'e', 'para', 'pobres', '#eusounotwitter', 'porque', 'o', '#bradesco', 'só', 'disponibiliza', 'um', 'caixa', 'eletrônico', 'pra', 'depósito', 'em', 'nova', 'iguaçu', 'independente', 'da', 'agência', '#absurdo', 'tanana', 'foi', 'pagar', 'uma', 'conta', 'pra', 'mim', 'lá', 'no', 'bradesco', 'tadinha', 'dela', '💜😏', '@bradesco', 'corumbá', 'ms', 'ficaram', '20', 'reais', 'da', 'aposentadoria', 'da', 'minha', 'mãe', 'lá', 'pq', 'os', 'caixas', 'nunca', 'tem', 'notas', 'de', '20', '10', '5', 'e', '2', 'nunca', 'nunca', 'bradesco', 'só', 'tem', 'app', 'lixo', 'deus', 'me', 'defenderay', '@alcantarabila', 'eu', 'ia', 'falar', 'bradesco', 'tb', 'mas', 'tds', 'as', 'vzs', 'q', 'comecei', 'a', 'usar', 'troquei', 'pra', 'outro', 'logo', 'em', 'seguida', 'então…', 'https//tco/jeazb8kpz8', '@bradesco', 'sendo', 'que', 'já', 'é', 'universitária', 'pressupõe', 'que', 'eu', 'não', 'tenho', 'renda', 'e', 'vocês', 'estão', 'cobrando', 'essas', 'taxas', 'absurdo', 'odeio', 'o', 'bradesco', 'com', 'todas', 'as', 'minhas', 'forças', 'ódio', 'do', 'bradesco', 'na', 'moral', 'serviço', 'do', 'alô', 'bradesco', 'é', 'muito', 'escroto', 'socorro', '@bradesco', 'odeio', 'essa', 'porra', 'de', 'limite', 'doc', 'e', 'ter', 'que', 'falar', 'c', 'o', 'gerenteo', 'dinheiro', 'é', 'meu', 'se', 'eu', 'quiser', 'movimentar', '1', 'mi', 'vc', 'tem', 'que', 'liberar', '@bradesco', 'rt', '@robsonmanu06', '@bradesco', 'esse', 'aplicativo', 'do', 'celular', 'sempre', 'está', 'indisponível', '@bradesco', 'o', 'invest', 'facil', 'quando', 'abri', 'a', 'conta', 'ja', 'tava', 'no', 'pacote', 'so', 'q', 'nao', 'consigo', 'ver', 'nenhum', 'saldo', '@proconspoficial', 'como', 'faço', 'para', 'fazer', 'o', '@bradesco', 'cumprir', 'com', 'seu', 'trabalho', 'afim', 'de', 'resolver', 'a', 'situação', 'do', 'protocolo', 'ouvidoria', '286971446', '@bradesco', 'via', '4004-4436', 'desde', '5a', 'cai', 'na', 'atendente', 'e', 'sou', 'informado', 'que', 'está', 'sem', 'sistema', 'para', 'fazer', 'o', 'abatimento', 'do', 'valor', 'do', 'lance', '😡', 'odeio', 'bradesco', 'com', 'todas', 'minhas', 'forças', 'que', 'banco', 'fdp', '@bradesco', 'vocês', 'investiram', 'meu', 'dinheiro', 'sem', 'a', 'minha', 'permissão', 'é', 'deixaram', 'só', '1', 'real', 'na', 'minha', 'conta', 'como', 'resolvo', 'isso', 'logo', '@bradesco', 'já', 'resolvi', 'já', 'era', 'porque', 'não', 'conseguia', 'abrir', 'a', 'conta', 'sempre', 'alguma', 'coisa', 'que', 'faltava', 'mas', 'ontem', 'consegu…', 'https//tco/vv66ovi5nt', '@bradesco', 'sim', 'pelo', 'site', 'foi', '@bradesco', 'agora', 'eu', 'já', 'paguei', 'o', 'darf', 'não', 'pelo', 'app', 'mas', 'sim', 'pelo', 'site', '10', 'minutos', 'no', 'fone', 'fácil', 'do', '@bradesco', 'e', 'ainda', 'não', 'fui', 'atendido', 'táqueopareo', 'o', '@bradesco', 'ainda', 'não', 'percebeu', 'que', 'o', 'erro', 'que', 'tô', 'mostrando', 'pra', 'eles', 'não', 'é', 'um', 'erro', 'de', 'usuário', 'e', 'sim', 'de', 'desenvolvimento', 'da', 'aplicação', 'uns', 'meses', 'atrás', 'eu', 'reparei', 'que', 'o', 'quando', 'eu', 'vou', 'sacar', 'meu', 'salário', 'sempre', 'tem', 'a', 'menos', 'do', 'que', 'depositam', 'bradesco', 'me', 'comendo', '30', 'conto', 'mês', '👍🏼🤙🏼', 'bradesco', 'soltaaaaaa', 'nosso', 'money', 'kkkkk', 'ow', '@bradesco', 'eu', 'cadastrei', 'a', 'biometria', 'e', 'meu', 'saque', 'ainda', 'tá', 'com', 'limite', 'de', '300', 'vcs', 'são', 'loko', 'meu', 'deus', 'não', 'entendo', 'a', 'dificuldade', 'de', 'uma', 'empresa', 'em', 'assumir', 'que', 'cagou', 'e', 'me', 'devolver', 'a', 'porra', 'do', 'meu', 'dinheiro', '@bradesco', 'quanto', 'tempo', 'mais', 'o', '@bradesco', 'vai', 'levar', 'pra', 'resolver', 'minha', 'situação', 'os', 'famosos', '10', 'dias', 'úteis', 'já', 'passaram', 'de', '100', 'dias', 'úteis']\n"
     ]
    }
   ],
   "source": [
    "dicior={}\n",
    "palavras=[]\n",
    "\n",
    "# limpando\n",
    "for x in dr:\n",
    "    nomes=x.split()\n",
    "    for y in nomes:\n",
    "        p2=[]\n",
    "        for i in y:\n",
    "            if i!= \":\" and i!=\"'\" and i!='\"' and i!=' ' and i!= \",\" and i!= \".\" and i!='?'and i!='!' and i!='(' and i!=')' :\n",
    "                p2.append(i)\n",
    "        a=\"\".join(p2)\n",
    "        palavras.append(a)\n",
    "        if y in dicior:\n",
    "            dicior[y]+=1\n",
    "        else:\n",
    "            dicior[y]=1\n",
    "        \n",
    "            \n",
    "#print(dicior)\n",
    "tr=sum(dicior.values())\n",
    "print(tr)     \n",
    "print(palavras)"
   ]
  },
  {
   "cell_type": "code",
   "execution_count": 12,
   "metadata": {},
   "outputs": [
    {
     "name": "stdout",
     "output_type": "stream",
     "text": [
      "{'bandidos': 8, 'explodem': 8, 'caixas': 6, 'do': 65, 'bradesco': 102, 'em': 50, 'prédio': 6, 'da': 31, 'prefeitura': 10, 'de': 80, 'campina': 8, 'grande,': 4, 'no': 33, 'centro': 4, 'cidade:…': 2, 'https://t.co/pwv2snxcct': 1, 'rt': 60, '@magnopb:': 1, 'cidade:': 2, 'https://t.co/b4xlbmp4w0': 1, 'h…': 1, \"i'm\": 14, 'at': 14, 'in': 17, 'são': 9, 'paulo,': 4, 'sp': 3, 'https://t.co/kesmfnei9k': 1, '@undeadstef': 1, 'noooosssa,': 1, 'pode': 3, 'colocar': 1, 'nessa': 3, 'lista': 1, 'também!': 1, 'acho': 2, 'que': 55, 'nenhum': 1, 'presta': 2, 'mesmo': 2, ':(': 1, '@bradesco': 21, 'não,': 1, 'caso': 1, 'o': 55, 'banco': 12, 'tenha': 1, 'enviado': 1, 'foi': 7, 'para': 10, 'meu': 6, 'antigo': 1, 'endereço.': 1, '@umvesgo:': 20, 'e': 45, 'até': 21, 'quem': 21, 'me': 26, 'vê': 21, 'na': 32, 'fila': 21, 'sabe': 21, 'eu': 36, 'te': 21, 'encontrei': 21, '@victorissso': 1, 'infelizmente': 1, 'sim,': 2, 'recebi': 1, 'um': 15, 'email': 1, 'hj': 1, 'q': 1, 'só': 3, 'bandeira': 2, 'visa': 1, 'ou': 5, 'seja': 1, 'cartão': 7, '@fabioagitadas': 1, 'momento': 1, 'estamos': 1, 'trabalhando': 1, 'com': 25, 'ambos!': 1, 'se': 8, 'seu': 8, 'boleto': 3, 'agora': 2, 'está': 2, 'vindo': 1, 'como': 3, 'bradesco,': 5, 'não': 16, 'precisa': 3, 'preocupar': 1, ':)': 3, '@butstyles': 1, 'vou': 5, 'pedir': 9, 'verifiquem': 2, 'houve': 1, 'ao': 6, 'transacionar.': 1, 'por': 17, 'favor,': 2, 'informe': 3, 'telefone': 5, 'ddd': 4, 'dm.': 3, 'alguém': 1, 'tem': 4, 'conta': 10, '?': 1, 'santo': 1, 'antônio': 1, 'platina,': 1, 'paraná': 1, 'https://t.co/eoihwmlzww': 1, '@reehms': 2, 'problema,': 1, 'vc': 5, 'algum': 1, 'e-mail?': 1, '@_littlepam': 1, 'olá!': 13, 'é': 15, 'possível': 1, 'fazer': 2, 'aviso': 1, 'viagem': 1, 'pelo': 3, 'app': 1, 'dentro': 3, 'ícone': 1, 'cartões.': 1, '@vitorianr96:': 1, 'explodiram': 3, 'to': 4, 'bem': 3, 'chocada,': 2, 'quero': 2, 'bandidagem': 3, 'região': 2, '#pas': 2, 'já': 7, 'resolvido': 1, 'anjo': 1, 'muito': 1, 'obrigada': 2, '@bradesco:': 28, 'a': 79, 'história': 28, 'orgulho': 27, 'dos': 30, 'gaúchos': 27, 'vira': 27, 'festa': 27, 'setembro.': 27, 'semana': 27, 'farroupilha': 27, 'tá': 33, 'chegando!': 27, 'vem': 27, 'conhecer': 27, 'mais:': 28, 'https://t.co/h…': 27, '@wonderbruno': 1, 'qual': 10, 'nome': 3, 'investimento?': 3, 'trabalhadores': 3, 'assinam': 7, 'acordos': 8, 'específicos': 8, '#bradesco.': 1, 'confira:': 1, 'https://t.co/lne7ddvdrc': 1, 'https://t.co/7rshwkesur': 1, '@aic4r4lho': 1, 'p/': 1, 'área': 1, 'responsável': 1, 'verificar': 3, 'acontecendo.': 1, 'envie': 2, 'dm': 4, 'tel': 1, 'ddd.': 1, 'https://t.co/azr1izxd1m': 1, '@guilhermemars_': 2, 'fico': 3, 'à': 6, 'disposição!': 1, 'rio': 3, 'marca': 1, 'leilão': 2, 'folha': 1, 'servidores': 1, 'esta...': 1, 'https://t.co/gwvk35af4r': 1, 'via': 4, '@jornalextra': 1, 'ganha': 1, 'fraude': 1, 'pura': 1, '@brunobtso': 1, 'oi!': 5, 'possibilidade': 2, 'aumentar': 1, 'limite': 1, 'pela': 2, 'central': 1, 'ou,': 1, 'tiver': 1, 'gente,': 1, 'gerente.': 1, 'brasília,': 1, 'df': 1, 'https://t.co/wapz4criw1': 1, 'cadastro': 1, 'token': 1, 'você;': 2, 'favor': 2, '@cavacogamer': 1, 'pooooooo': 1, 'bradesco...': 1, '@renatin_pereira': 1, 'bradesco?': 2, 'infomoney': 1, '::': 1, 'estima': 1, 'ibovespa': 2, 'atingirá': 1, '69.000': 1, 'pontos': 1, '2012': 1, '@nubankbrasil': 1, 'tira': 1, 'uma': 8, 'duvida..': 1, 'voces': 1, 'trocaram': 1, 'safra': 1, '$bbdc4': 2, '-': 12, '(bbdc-n1)': 2, 'ata': 2, 'reuniao': 2, 'conselho': 2, 'administracao': 2, '29/08/17': 2, 'https://t.co/g2prgilf2t': 1, 'bradesco.': 2, 'https://t.co/ztdzwnyotz': 1, 'https://t.co/df20xrahjq': 1, 'assim': 1, 'receber': 1, 'novo,': 1, 'mando': 1, 'pra': 5, 'vocês': 1, '@radiojornalamfm:': 1, 'posto': 5, 'alvo': 4, 'explosão': 5, 'nesta': 4, 'terça-feira': 3, 'agreste': 3, 'https://t.co/w5ctfelodi': 1, 'https://t.co/gdyozu3oo7': 1, 'negociação': 1, 'permanente': 1, 'entidades': 1, 'saiba': 1, 'https://t.co/hay1uz6zcm': 1, 'https://t.co/abm3m1p7xl': 1, 'short': 2, 'interest': 2, 'sa': 2, '$bbd': 2, 'declines': 2, 'by': 2, '18.3%': 2, 'https://t.co/efiklzaquv': 1, '@_vickcfr': 1, 'posso': 9, 'ajudar?': 6, 'houve?': 5, 'acusados': 1, 'participação': 2, 'assalto': 2, 'brejo': 2, 'cruz': 2, 'presos': 1, 'https://t.co/4en2pzwcw6': 1, 'https://t.co/ww4ol4y6q8': 1, 'bom': 3, 'dia': 3, '(@': 4, 'w/': 6, '@adad_11': 1, '@anderso11834202': 1, '@acaciotimbeta)': 1, 'https://t.co/rqrt4eg4x5': 1, '@letgirassol': 1, 'desse': 1, 'abrir': 2, 'reclamação.': 1, 'dm,': 1, 'po…': 1, 'https://t.co/hc4majt6t9': 1, 'agência': 8, 'umburanas': 1, 'https://t.co/5a0kd4y6vj': 1, 'quadrilha': 4, 'explode': 3, 'itanhandu/mg': 3, '–': 2, 'portal': 3, 'mix': 2, 'vale': 2, '|': 2, '12': 2, '981430089': 2, '(whatsapp)': 2, 'https://t.co/1b4nzrcuwz': 1, 'eletrônicos': 2, 'secretaria': 1, 'finanças': 1, 'grande.': 1, 'atenção': 1, 'puder': 1, 'compartilhar': 1, 'ajudar': 1, 'agradeço!': 1, '3271-9': 1, 'corrente': 1, '557194-4...': 1, 'https://t.co/pypdjkhndx': 1, 'bancária': 1, 'campina,': 1, 'av': 1, 'floriano': 1, 'peixoto.': 1, 'https://t.co/6nl2ep2qjg': 1, '@beijamimjp': 1, 'aconteceu?': 5, 'caixa': 3, 'explodido': 1, 'antiga': 1, 'cg': 1, 'https://t.co/84738nvs9k': 1, 'https://t.co/f6ovbjgyiq': 1, '@cardinot': 1, 'eletrônico': 1, 'atendimento': 1, 'cidade': 2, 'feira': 2, 'nova-pe.,': 1, 'ficou': 1, 'sem': 2, 'vez!': 1, '@gragragragrazi': 1, 'oiie!': 1, ':/': 1, '@danniellyarauj0': 1, 'eiii': 1, 'tô': 2, 'aqui': 4, 'acupuntura,': 1, 'aceita': 1, 'sim': 2, '@vaitomarnocii': 2, 'você': 13, 'correntista?': 1, 'ainda': 3, 'conta?': 2, '@ex_tasiado:': 1, 'podia': 2, 'ir': 6, 'hoje': 4, 'descobrir': 2, 'usando': 2, 'milhões': 2, 'https://t.co/4yrmwu33kh': 1, 'mossoró,': 1, 'grande': 2, 'norte': 1, 'https://t.co/ewhfrsqaej': 1, 'quinta': 1, '(07/09):': 1, 'maestro': 1, 'rogério': 1, 'martins': 1, 'tributo': 1, 'elton': 1, 'john': 1, 'teatro': 3, 'barra!…': 1, 'https://t.co/hge9dcrj9t': 1, '@vicctornogueira': 1, 'deve': 2, 'cancelamento': 1, 'envio': 1, 'novo': 2, 'através': 3, 'central.': 1, 'ligou': 1, 'fone': 2, 'fácil?': 1, 'bancários': 2, 'https://t.co/t54uipvkgm': 1, 'https://t.co/ushnpkpqm8': 1, '@chatalya': 4, 'tentou': 2, 'consultar': 1, 'internet': 1, 'banking': 1, 'opção': 2, '\"investimentos\"?': 1, 'parceria': 2, 'entre': 1, 'sicor-rj': 1, 'seguros': 1, 'promove': 1, 'qualificação': 1, 'corretores': 1, 'seguro.': 1, 'clique': 1, 'ver': 1, 'também': 1, '☛': 1, 'https://t.co/6mjby4m4ei': 1, 'fui': 2, '🤑': 1, 'alienado': 3, 'esse': 3, 'torcedor': 3, 'né?': 3, 'ebm': 3, 'criou': 6, 'apenas': 3, 'mentalidade': 3, 'derrotada': 3, 'flamengo,': 3, 'exército…': 1, 'https://t.co/raa4jzh0n2': 1, 'quando': 4, 'lava': 1, 'jato': 1, 'vai': 1, 'chegar': 3, 'sistema': 1, 'financeiro?': 1, '@blogcarlosmagno:': 1, 'https://t.co/lvwa…': 1, '@llarisann': 1, 'gente': 2, 'céu': 1, 'ajudem': 1, 'achar': 1, 'homem': 1, 'minha': 2, 'vida': 2, 'dele': 1, 'anderson': 1, 'ele': 1, 'gerente': 1, 'porto': 1, 'seco': 1, 'pirajá': 1, '@hpcharles77:': 2, 'exército': 2, 'zum…': 2, '@cbmaggot': 1, 'https://t.co/d2kc0zl6pk': 1, '@blancoovictor': 1, 'disposição': 2, ';)': 1, 'facebook,': 1, 'bb': 1, 'entram': 1, \"'onda',\": 1, 'venham': 1, 'ótimas': 1, 'ideias': 1, 'projetos.': 1, 'https://t.co/x0ieztcpxd': 1, 'ladrões': 1, 'grande;': 1, 'pm': 1, 'recupera': 1, '15': 1, 'mil': 1, 'reais': 1, 'queimadas': 1, 'https://t.co/zbdmimihx6': 1, 'caindo': 1, '0,30%,': 1, 'pressionado': 1, 'itaú,': 1, 'vale:': 1, 'itub4,-0,80%': 1, 'bbdc4,-2,29%': 1, 'vale3,-2,04%': 1, 'falta': 1, 'metade': 1, 'pregão': 1, 'mudar': 2, '@cruelcr7': 1, 'for': 2, 'cheque': 1, 'ilimitado': 1, 'então': 1, 'tu': 1, 'aceita?': 1, '@tailumiusti': 1, 'recebeu': 1, 'cartão?': 1, 'ajuda': 1, 'https://t.co/9hw05y487c': 1, 'cielo': 1, 'firmam': 1, 'os': 3, 'cartórios...': 1, 'https://t.co/xdz2wdfeu8': 1, 'madrugada': 1, 'nova.': 1, 'detalhes': 1, 'blog...': 1, 'https://t.co/i3ftxfsrxc': 1, '@francis41849673:': 1, 'vence': 1, 'e,': 1, 'r$': 1, '1,3': 1, 'bilhão,': 1, 'pezão': 1, 'regularizará': 1, 'folhas': 1, 'maio': 1, 'junho': 1, 'https://t.co/1nsbhhj4nu': 1, 'tenho': 1, 'passar': 2, 'depois': 2, 'brasil': 1, 'polícia': 1, 'prende': 1, 'dois': 1, 'suspeitos': 1, 'https://t.co/vahg60ihf8': 1, '#catracabh': 1, 'vivaldi': 2, 'anitta,': 2, 'família': 2, 'lima': 3, 'apresenta': 2, 'https://t.co/1kqao2xsjn': 1, 'https://t.co/5klfw6kshf': 1, 'tipo': 1, 'investimento': 2, 'adquiriu?': 1, 'mídia': 1, 'feito?': 1, '@ales_matos': 1, 'fala': 1, 'bandeira?': 1, 'https://t.co/90axmpx0hs': 1, 'https://t.co/893aalkzoc': 1, '@brunamrtins': 1, 'adulto': 1, 'complicado...': 1, 'faltar': 1, 'faculdade': 1, 'sua': 2, '🙄': 2, '@marcelomassaobr:': 1, 'https://t.co/9yctk9uudu': 1, 'assinados': 3, '4': 1, 'coletivos': 1, 'aditivos': 3, 'relacionados': 1, 'direitos': 1, 'conquistados': 1, 'pelos': 1, 'trabalhadores.': 1, 'https://t.co/xgbdfq7kus': 1, '@stevenstrogatz': 1, '@jsellenberg': 1, '@luisc': 1, '@bancopaulista': 1, '@mobil': 1, '@votorantim': 1, '@citibank': 1, '@billgates': 1, '@batinap…': 1, 'https://t.co/h1yolalwyj': 1, 'possuo': 1, 'ativo': 1, 'mas': 2, 'chave': 2, 'https://t.co/phrikiikdw': 1, '@sadboydotc0m': 1, 'conseguiu': 1, 'cancelar': 2, 'nova': 1, 'via?': 1, 'perdido?': 1, 'consulta': 2, 'saldo': 2, 'conta,': 1, '\"extratos\",': 1, 'consegue': 1, 'visualizar': 1, 'qualquer': 1, 'agencia': 2, 'solicitar': 1, 'transferencia': 1, 'salario': 1, 'outro': 2, 'ser': 2, 'minha?': 1, 'arrebentaram': 1, 'itanhandu..': 1, 'mundo': 2, 'perdido': 1, '@inezboldrin': 1, 'certo!': 1, 'https://t.co/5ty7gonix3': 1, '@bradesco_': 1, 'kkkkkkj': 1, 'fundação': 1, '@biapaiiixao': 1, '@allan_vilas': 1, 'https://t.co/rlcos0itn8': 1, 'cara': 1, 'assaltaram': 1, 'poder': 1, 'comprar': 1, 'churros': 1, 'pensei': 1, 'tava': 1, 'negativa': 1, 'nao': 1, 'tá,': 1, 'felicidade,': 1, 'asdaisjdosjoifjdosfjk': 1, '@joseribeiro1810:': 1, '@jornalistavitor': 2, 'mt': 2, 'deverá': 2, 'frente': 2, 'fria': 2, 'feriado.': 2, 'isso': 3, 'significa,': 2, 'ônibus': 2, 'cheio': 2, 'gaúchos,': 2, 'com…': 1, 'https://t.co/snpobknylu': 1, '@catracalivrebh': 1, 'atoa': 1, 'leia': 1, 'mais:...': 1, 'https://t.co/wowwjahbgq': 1, '@othiagomaia': 2, 'solicitação': 2, 'feita': 1, 'fácil': 1, 'agência.': 1, 'fizer': 1, 'pedido': 1, 'confirmar': 1, 'atendente': 2, '(+)': 2, '@loongleo': 1, 'mensagem': 2, 'erro': 1, 'aparece': 1, 'tenta': 1, 'serviço?': 1, '@sacavalcantte': 1, '🚨🚨explosão': 1, '*#itanhandu*,': 1, 'as': 3, '4:30hs!': 1, 'alvo...': 1, '@jordanhang': 1, 'registrar': 1, 'retorno': 1, '@artursandrin': 1, 'dia!': 1, 'encaminhamos': 1, 'orientações': 1, 'privada.': 1, '@antonioliii': 1, '@eufrasiox': 1, 'pediu': 1, 'solicitou': 1, 'liberação': 1, 'função': 1, 'crédito?': 1, 'fez': 2, 'isso?': 1, '💎': 1, '—': 1, 'av.': 1, 'pres.': 1, 'lincoln': 1, 'joão': 1, 'meriti,': 1, 'janeiro)': 1, 'https://t.co/owez87nkva': 1, 'enviei': 1, 'print': 1, 'roubaram': 1, 'celular,': 1, 'aí': 1, 'queria': 1, 'reativar': 1, 'telefone,': 1, 'disse': 1, 'partiu': 1, 'festejar': 1, 'chacina': 1, 'lanceiros': 1, 'negros': 1, 'https://t.co/m0o0m9fo7w': 1, '@bancocentralbr': 1, 'aplicou': 1, 'golpe': 1, 'instituição': 1, 'financeira': 1, 'foge': 1, 'responsabilid…': 1, 'https://t.co/t6jzgkgsp9': 1, '@gerlitou': 1, 'alva': 1, 'desta': 1, 'vez': 1, 'grande…': 1, 'https://t.co/uurfztpsxh': 1, 'https://t.co/vkgypqxrrx': 1, '@jc_pe': 1, 'nossa': 2, 'equipe': 1, 'verifique.': 1, 'ddd,': 1, 'favor?': 1, 'envia': 1, '😊': 1, 'c…': 1, 'https://t.co/suotnweajo': 1, 'jovem': 1, 'aprendiz': 1, 'pré': 1, 'inscrições': 1, '2017': 1, 'https://t.co/3kmhlkeznn': 1, '@spbancarios:': 1, 'dizem': 2, 'respeito': 2, 'telebanco,': 2, 'financiamentos,': 2, 'cipa': 2, 'treinet': 2, 'ponto': 2, 'eletrônico.': 1, 'https://t.co/aus…': 1, 'kkkkkk': 1, '):': 1, 'acontecendo': 1, 'twitter': 1, 'todo': 1, 'respondendoo': 1, 'pessoal??': 1, 'exército,': 1, 'vigor,': 1, 'pm,': 1, 'kkkkkkkk': 1, 'rindo': 1, 'mto': 1, 'isso!!': 1, '@gabi3_m': 1, 'serviço/informação': 1, 'precisa?': 1, 'palmeira,': 1, 'pr': 1, 'https://t.co/ank5q1vwpr': 1, 'será': 1, 'enviada,': 1, 'elo,': 1, 'alteração': 1, 'aqui.': 1, '#relatórios': 1, '#recomendação': 1, '#lojasrenner': 1, '#bradesco': 1, 'estão': 1, 'atualizados.': 1, 'confira': 1, 'módulo': 1, 'empresas.': 1, 'ag.': 1, 'jaboatão': 1, 'https://t.co/ck2tgwich9': 1, 'agência?': 1, 'sao': 2, 'paulo,sp': 1, 'https://t.co/dyqgouigfd': 1, '@icamiaba_': 1, 'acabou': 1, 'acontecer': 1, 'comigo,': 1, '@caixa': 1, 'https://t.co/kkm4wrn8qs': 1, 'https://t.co/kvnjcscs4x': 1, 'empresas': 1, 'faria': 1, 'paulo': 2, '@bastosaldemira': 1, '@alex2srj': 1, '@alaisesantos2': 1, '@timbetalinda1': 1, 'https://t.co/2mivvqjdvh': 1, 'busco': 1, 'companhia': 1, 'https://t.co/sfchtkxxyd': 1, 'crowdfunding\":dez': 1, 'dias': 1, 'abalaram': 1, 'mundo\".whatsapp': 1, '(21-98877-3322)instituto': 1, 'ensaio': 1, 'abertocnpj': 1, '10289112/0001-68': 1, 'ag7049': 1, 'c/c': 1, '1813-9': 1, '@thiagomessiasd:': 1, 'aparecida': 1, 'goiânia,': 1, 'goiás': 1, '@amandamaktub': 1, '@andreneres18': 1, '@toninotrolebus': 1, '@aninhavarejao1': 1, 'https://t…': 1, 'riquissimo': 1, 'ny': 1, 'paulo)': 1, 'https://t.co/toy9appwqf': 1, 'adoro': 1, 'cobra': 1, 'serviço': 1, 'solicito': 1, 'eletrônico.…': 1, 'https://t.co/svff5utm2m': 1, 'prazo': 1, 'desbloquear': 1, 'depósito': 1, 'cheque?': 1, 'planos': 1, 'saude': 1, 'empresarial': 1, 'saude.': 1, 'https://t.co/tfrkm7vfcs': 1, 'itaú': 1, '@livkannanda': 1, '@amandamelopere2': 1, '@barroso_nessa': 1, '@allannasousa441': 1, '@josyalmeida': 1, 'https://t.co/d1mjpppoy2': 1, 'https://t.co/rqdklzbddq': 1, '@tarcisi0404': 1, '\"bancários': 1, 'bradesco\",': 1, 'blogosfera': 1, 'rede': 1, 'pt': 1, 'curta': 1, 'página:...': 1, 'https://t.co/hqrqtiyqv9': 1, '&lt;3': 1, '\"ippon:': 1, 'luta': 1, 'vida\"': 1, 'estreia': 1, 'domingo': 1, '@eespetacular,': 1, 'técnicas': 1, '@rafaelasilvaa': 1, 'sarah': 1, 'menezes': 1, 'promessas': 1, 'judô.…': 1, '@nery_mateus': 1, '...outras': 1, 'formas': 1, 'pagamento:débito': 1, '(bradesco/': 1, 'hsbc,': 1, 'santander,': 1, 'caixa),': 1, 'cartões': 1, 'débito': 1, 'do…': 1, 'https://t.co/zvszvla51v': 1, 'https://t.co/q7gjkspls4': 1, 'https://t.co/fwtul9fpaj': 1, 'francisco': 1, 'conde': 1, '@emanuelaesquiv1': 1, 'https://t.co/ygt8lezyxl': 1, 'chegando': 1, '🙌': 1, 'https://t.co/sf52c2q3af': 1, 'faço': 1, 'pagamento': 1, 'fiz': 1, 'querer': 1, 'modo': 1, 'agendamento?': 1, 'possui': 1, 'baixa': 1, 'automática,': 1, 'certo?': 1, 'betas..': 1, 'vamos': 1, 'trabalhar?': 1, '😂😂': 1, 'núcleo': 1, 'alphaville': 1, 'barueri,': 1, 'sp)': 1, 'https://t.co/qtmco938qu': 1, 'uso': 1, 'celular': 1, 'preciso': 1, 'novo!': 1}\n",
      "2966\n",
      "4441\n",
      "['bandidos', 'explodem', 'caixas', 'do', 'bradesco', 'em', 'prédio', 'da', 'prefeitura', 'de', 'campina', 'grande', 'no', 'centro', 'da', 'cidade…', 'https//tco/pwv2snxcct', 'rt', '@magnopb', 'bandidos', 'explodem', 'caixas', 'do', 'bradesco', 'em', 'prédio', 'da', 'prefeitura', 'de', 'campina', 'grande', 'no', 'centro', 'da', 'cidade', 'https//tco/b4xlbmp4w0', 'h…', 'im', 'at', 'bradesco', 'in', 'são', 'paulo', 'sp', 'https//tco/kesmfnei9k', '@undeadstef', 'noooosssa', 'pode', 'colocar', 'bradesco', 'nessa', 'lista', 'também', 'acho', 'que', 'nenhum', 'presta', 'mesmo', '', '@bradesco', 'não', 'caso', 'o', 'banco', 'tenha', 'enviado', 'foi', 'para', 'o', 'meu', 'antigo', 'endereço', 'rt', '@umvesgo', 'e', 'até', 'quem', 'me', 'vê', 'na', 'fila', 'do', 'bradesco', 'sabe', 'que', 'eu', 'te', 'encontrei', '@victorissso', 'infelizmente', 'sim', 'recebi', 'um', 'email', 'hj', 'acho', 'q', 'só', 'bradesco', 'bandeira', 'visa', 'ou', 'seja', 'meu', 'cartão', '@fabioagitadas', 'no', 'momento', 'estamos', 'trabalhando', 'com', 'ambos', 'se', 'seu', 'boleto', 'agora', 'está', 'vindo', 'como', 'bradesco', 'não', 'precisa', 'se', 'preocupar', '', '@butstyles', 'vou', 'pedir', 'que', 'verifiquem', 'o', 'que', 'houve', 'ao', 'transacionar', 'por', 'favor', 'me', 'informe', 'seu', 'telefone', 'com', 'ddd', 'por', 'dm', 'alguém', 'tem', 'conta', 'no', 'bradesco', '', 'bradesco', 'im', 'at', 'bradesco', 'in', 'santo', 'antônio', 'da', 'platina', 'paraná', 'https//tco/eoihwmlzww', '@reehms', 'não', 'tem', 'problema', 'vc', 'tem', 'algum', 'e-mail', '', '@_littlepam', 'olá', 'é', 'possível', 'fazer', 'o', 'aviso', 'de', 'viagem', 'pelo', 'app', 'dentro', 'do', 'ícone', 'de', 'cartões', 'rt', '@vitorianr96', 'explodiram', 'o', 'bradesco', 'e', 'eu', 'to', 'bem', 'chocada', 'não', 'quero', 'bandidagem', 'nessa', 'região', 'não', '#pas', '@bradesco', 'já', 'foi', 'resolvido', 'meu', 'anjo', 'muito', 'obrigada', 'rt', '@bradesco', 'a', 'história', 'de', 'orgulho', 'dos', 'gaúchos', 'vira', 'festa', 'em', 'setembro', 'a', 'semana', 'farroupilha', 'tá', 'chegando', 'vem', 'conhecer', 'mais', 'https//tco/h…', '@wonderbruno', 'olá', 'qual', 'é', 'o', 'nome', 'do', 'investimento', 'trabalhadores', 'assinam', 'acordos', 'específicos', 'com', 'o', '#bradesco', 'confira', 'https//tco/lne7ddvdrc', 'https//tco/7rshwkesur', 'rt', '@umvesgo', 'e', 'até', 'quem', 'me', 'vê', 'na', 'fila', 'do', 'bradesco', 'sabe', 'que', 'eu', 'te', 'encontrei', '@aic4r4lho', 'vou', 'pedir', 'p/', 'área', 'responsável', 'verificar', 'o', 'que', 'está', 'acontecendo', 'por', 'favor', 'envie', 'por', 'dm', 'um', 'tel', 'com', 'ddd', 'https//tco/azr1izxd1m', '@guilhermemars_', 'fico', 'à', 'disposição', 'prefeitura', 'do', 'rio', 'marca', 'leilão', 'da', 'folha', 'dos', 'servidores', 'para', 'esta', 'https//tco/gwvk35af4r', 'via', '@jornalextra', 'ganha', 'o', 'bradesco', 'fraude', 'pura', '@brunobtso', 'oi', 'vc', 'pode', 'verificar', 'a', 'possibilidade', 'de', 'aumentar', 'o', 'limite', 'pela', 'central', 'ou', 'se', 'vc', 'tiver', 'conta', 'com', 'a', 'gente', 'com', 'seu', 'gerente', 'im', 'at', 'bradesco', 'in', 'brasília', 'df', 'https//tco/wapz4criw1', '@guilhermemars_', 'vou', 'pedir', 'que', 'verifiquem', 'o', 'cadastro', 'do', 'token', 'para', 'você;', 'por', 'favor', 'me', 'informe', 'seu', 'telefone', 'com', 'ddd', 'por', 'dm', 'rt', '@umvesgo', 'e', 'até', 'quem', 'me', 'vê', 'na', 'fila', 'do', 'bradesco', 'sabe', 'que', 'eu', 'te', 'encontrei', 'rt', '@umvesgo', 'e', 'até', 'quem', 'me', 'vê', 'na', 'fila', 'do', 'bradesco', 'sabe', 'que', 'eu', 'te', 'encontrei', '@cavacogamer', '@bradesco', 'pooooooo', 'bradesco', '@renatin_pereira', 'bradesco', 'rt', '@bradesco', 'a', 'história', 'de', 'orgulho', 'dos', 'gaúchos', 'vira', 'festa', 'em', 'setembro', 'a', 'semana', 'farroupilha', 'tá', 'chegando', 'vem', 'conhecer', 'mais', 'https//tco/h…', 'rt', '@bradesco', 'a', 'história', 'de', 'orgulho', 'dos', 'gaúchos', 'vira', 'festa', 'em', 'setembro', 'a', 'semana', 'farroupilha', 'tá', 'chegando', 'vem', 'conhecer', 'mais', 'https//tco/h…', 'infomoney', '', 'bradesco', 'estima', 'que', 'ibovespa', 'atingirá', '69000', 'pontos', 'em', '2012', 'rt', '@bradesco', 'a', 'história', 'de', 'orgulho', 'dos', 'gaúchos', 'vira', 'festa', 'em', 'setembro', 'a', 'semana', 'farroupilha', 'tá', 'chegando', 'vem', 'conhecer', 'mais', 'https//tco/h…', '@nubankbrasil', 'tira', 'uma', 'duvida', 'no', 'boleto', 'voces', 'trocaram', 'o', 'safra', 'para', 'o', 'bradesco', '$bbdc4', '-', 'bradesco', 'bbdc-n1', '-', 'ata', 'reuniao', 'do', 'conselho', 'de', 'administracao', '-', '29/08/17', 'https//tco/g2prgilf2t', 'rt', '@bradesco', 'a', 'história', 'de', 'orgulho', 'dos', 'gaúchos', 'vira', 'festa', 'em', 'setembro', 'a', 'semana', 'farroupilha', 'tá', 'chegando', 'vem', 'conhecer', 'mais', 'https//tco/h…', 'trabalhadores', 'assinam', 'acordos', 'específicos', 'com', 'o', 'bradesco', 'https//tco/ztdzwnyotz', 'https//tco/df20xrahjq', '@bradesco', 'assim', 'que', 'eu', 'receber', 'de', 'novo', 'eu', 'mando', 'pra', 'vocês', 'rt', '@radiojornalamfm', 'posto', 'do', 'bradesco', 'é', 'alvo', 'de', 'explosão', 'nesta', 'terça-feira', 'no', 'agreste', '-', 'https//tco/w5ctfelodi', 'https//tco/gdyozu3oo7', 'rt', '@bradesco', 'a', 'história', 'de', 'orgulho', 'dos', 'gaúchos', 'vira', 'festa', 'em', 'setembro', 'a', 'semana', 'farroupilha', 'tá', 'chegando', 'vem', 'conhecer', 'mais', 'https//tco/h…', 'negociação', 'permanente', 'entidades', 'assinam', 'acordos', 'específicos', 'com', 'o', 'bradesco', 'saiba', 'mais', 'https//tco/hay1uz6zcm', 'https//tco/abm3m1p7xl', 'rt', '@bradesco', 'a', 'história', 'de', 'orgulho', 'dos', 'gaúchos', 'vira', 'festa', 'em', 'setembro', 'a', 'semana', 'farroupilha', 'tá', 'chegando', 'vem', 'conhecer', 'mais', 'https//tco/h…', 'short', 'interest', 'in', 'banco', 'bradesco', 'sa', '$bbd', 'declines', 'by', '183%', 'https//tco/efiklzaquv', 'rt', '@umvesgo', 'e', 'até', 'quem', 'me', 'vê', 'na', 'fila', 'do', 'bradesco', 'sabe', 'que', 'eu', 'te', 'encontrei', '@_vickcfr', 'olá', 'posso', 'ajudar', 'o', 'que', 'houve', 'rt', '@umvesgo', 'e', 'até', 'quem', 'me', 'vê', 'na', 'fila', 'do', 'bradesco', 'sabe', 'que', 'eu', 'te', 'encontrei', 'acusados', 'de', 'participação', 'no', 'assalto', 'ao', 'bradesco', 'de', 'brejo', 'do', 'cruz', 'são', 'presos', 'https//tco/4en2pzwcw6', 'https//tco/ww4ol4y6q8', 'rt', '@bradesco', 'a', 'história', 'de', 'orgulho', 'dos', 'gaúchos', 'vira', 'festa', 'em', 'setembro', 'a', 'semana', 'farroupilha', 'tá', 'chegando', 'vem', 'conhecer', 'mais', 'https//tco/h…', 'rt', '@bradesco', 'a', 'história', 'de', 'orgulho', 'dos', 'gaúchos', 'vira', 'festa', 'em', 'setembro', 'a', 'semana', 'farroupilha', 'tá', 'chegando', 'vem', 'conhecer', 'mais', 'https//tco/h…', 'bom', 'dia', '@', 'banco', 'bradesco', 'w/', '@adad_11', '@anderso11834202', '@acaciotimbeta', 'https//tco/rqrt4eg4x5', '@letgirassol', 'olá', 'qual', 'é', 'o', 'nome', 'desse', 'investimento', 'vou', 'abrir', 'uma', 'reclamação', 'envie', 'seu', 'telefone', 'com', 'ddd', 'por', 'dm', 'po…', 'https//tco/hc4majt6t9', 'bandidos', 'explodiram', 'a', 'agência', 'do', 'bradesco', 'em', 'umburanas', 'https//tco/5a0kd4y6vj', 'quadrilha', 'explode', 'banco', 'bradesco', 'em', 'itanhandu/mg', '–', 'portal', 'mix', 'vale', '|', '12', '981430089', 'whatsapp', 'https//tco/1b4nzrcuwz', 'bandidos', 'explodem', 'caixas', 'eletrônicos', 'do', 'bradesco', 'dentro', 'da', 'secretaria', 'de', 'finanças', 'da', 'prefeitura', 'de', 'campina', 'grande', 'atenção', 'se', 'vc', 'puder', 'compartilhar', 'e', 'ajudar', 'eu', 'agradeço', 'bradesco', 'agência', '3271-9', 'conta', 'corrente', '557194-4', 'https//tco/pypdjkhndx', 'explosão', 'da', 'agência', 'bancária', 'do', 'bradesco', 'da', 'prefeitura', 'de', 'campina', 'av', 'floriano', 'peixoto', 'https//tco/6nl2ep2qjg', '@beijamimjp', 'o', 'que', 'aconteceu', 'caixa', 'do', 'bradesco', 'é', 'explodido', 'em', 'prédio', 'da', 'antiga', 'prefeitura', 'de', 'cg', '-', 'https//tco/84738nvs9k', 'https//tco/f6ovbjgyiq', '@cardinot', 'bandidos', 'explodem', 'caixa', 'eletrônico', 'de', 'posto', 'de', 'atendimento', 'do', 'bradesco', 'na', 'cidade', 'de', 'feira', 'nova-pe', 'cidade', 'ficou', 'sem', 'banco', 'de', 'vez', 'rt', '@bradesco', 'a', 'história', 'de', 'orgulho', 'dos', 'gaúchos', 'vira', 'festa', 'em', 'setembro', 'a', 'semana', 'farroupilha', 'tá', 'chegando', 'vem', 'conhecer', 'mais', 'https//tco/h…', 'rt', '@umvesgo', 'e', 'até', 'quem', 'me', 'vê', 'na', 'fila', 'do', 'bradesco', 'sabe', 'que', 'eu', 'te', 'encontrei', '@gragragragrazi', 'oiie', 'o', 'que', 'aconteceu', '/', '@danniellyarauj0', 'eiii', 'tô', 'aqui', 'na', 'acupuntura', 'aceita', 'bradesco', 'sim', 'rt', '@umvesgo', 'e', 'até', 'quem', 'me', 'vê', 'na', 'fila', 'do', 'bradesco', 'sabe', 'que', 'eu', 'te', 'encontrei', '@vaitomarnocii', 'você', 'já', 'é', 'correntista', 'ou', 'ainda', 'não', 'tem', 'conta', 'rt', '@ex_tasiado', 'eu', 'podia', 'ir', 'no', 'bradesco', 'hoje', 'e', 'descobrir', 'que', 'a', 'conta', 'que', 'eu', 'não', 'to', 'usando', 'tá', 'com', 'milhões', 'short', 'interest', 'in', 'banco', 'bradesco', 'sa', '$bbd', 'declines', 'by', '183%', 'https//tco/4yrmwu33kh', 'im', 'at', 'bradesco', 'in', 'mossoró', 'rio', 'grande', 'do', 'norte', 'https//tco/ewhfrsqaej', 'quinta', '07/09', 'maestro', 'rogério', 'martins', 'presta', 'tributo', 'a', 'elton', 'john', 'no', 'teatro', 'bradesco', 'na', 'barra…', 'https//tco/hge9dcrj9t', '@vicctornogueira', 'oi', 'você', 'deve', 'pedir', 'o', 'cancelamento', 'do', 'cartão', 'e', 'o', 'envio', 'de', 'um', 'novo', 'através', 'da', 'central', 'já', 'ligou', 'no', 'fone', 'fácil', 'bancários', 'assinam', 'acordos', 'específicos', 'com', 'o', 'bradesco', 'https//tco/t54uipvkgm', 'https//tco/ushnpkpqm8', '@chatalya', 'você', 'tentou', 'consultar', 'no', 'internet', 'banking', 'na', 'opção', 'investimentos', 'parceria', 'entre', 'sicor-rj', 'e', 'bradesco', 'seguros', 'promove', 'qualificação', 'dos', 'corretores', 'de', 'seguro', 'clique', 'para', 'ver', 'também', '☛', 'https//tco/6mjby4m4ei', 'fui', 'no', 'bradesco', 'hoje', 'abrir', 'uma', 'conta', '🤑', 'alienado', 'esse', 'torcedor', 'do', 'bradesco', 'né', 'ebm', 'não', 'criou', 'apenas', 'a', 'mentalidade', 'derrotada', 'no', 'flamengo', 'criou', 'um', 'exército…', 'https//tco/raa4jzh0n2', '@bradesco', 'quando', 'a', 'lava', 'jato', 'vai', 'chegar', 'no', 'sistema', 'financeiro', 'rt', '@blogcarlosmagno', 'bandidos', 'explodem', 'caixas', 'do', 'bradesco', 'em', 'prédio', 'da', 'prefeitura', 'de', 'campina', 'grande', 'no', 'centro', 'da', 'cidade', 'https//tco/lvwa…', '@llarisann', 'olá', 'o', 'que', 'houve', 'posso', 'ajudar', 'gente', 'do', 'céu', 'me', 'ajudem', 'a', 'achar', 'o', 'homem', 'da', 'minha', 'vida', 'o', 'nome', 'dele', 'é', 'anderson', 'ele', 'é', 'gerente', 'da', 'agência', 'do', 'bradesco', 'do', 'porto', 'seco', 'pirajá', 'rt', '@hpcharles77', 'alienado', 'esse', 'torcedor', 'do', 'bradesco', 'né', 'ebm', 'não', 'criou', 'apenas', 'a', 'mentalidade', 'derrotada', 'no', 'flamengo', 'criou', 'um', 'exército', 'de', 'zum…', '@cbmaggot', 'olá', 'o', 'que', 'aconteceu', 'trabalhadores', 'assinam', 'acordos', 'específicos', 'com', 'o', 'bradesco', 'https//tco/d2kc0zl6pk', 'rt', '@bradesco', 'a', 'história', 'de', 'orgulho', 'dos', 'gaúchos', 'vira', 'festa', 'em', 'setembro', 'a', 'semana', 'farroupilha', 'tá', 'chegando', 'vem', 'conhecer', 'mais', 'https//tco/h…', '@blancoovictor', 'fico', 'à', 'disposição', 'por', 'aqui', ';', 'facebook', 'bradesco', 'e', 'bb', 'entram', 'na', 'onda', 'que', 'venham', 'ótimas', 'ideias', 'e', 'projetos', 'https//tco/x0ieztcpxd', 'rt', '@bradesco', 'a', 'história', 'de', 'orgulho', 'dos', 'gaúchos', 'vira', 'festa', 'em', 'setembro', 'a', 'semana', 'farroupilha', 'tá', 'chegando', 'vem', 'conhecer', 'mais', 'https//tco/h…', 'ladrões', 'explodem', 'bradesco', 'na', 'prefeitura', 'de', 'campina', 'grande;', 'pm', 'ainda', 'recupera', '15', 'mil', 'reais', '-', 'portal', 'queimadas', 'https//tco/zbdmimihx6', 'rt', '@bradesco', 'a', 'história', 'de', 'orgulho', 'dos', 'gaúchos', 'vira', 'festa', 'em', 'setembro', 'a', 'semana', 'farroupilha', 'tá', 'chegando', 'vem', 'conhecer', 'mais', 'https//tco/h…', 'ibovespa', 'caindo', '030%', 'pressionado', 'por', 'itaú', 'bradesco', 'e', 'vale', 'itub4-080%', 'bbdc4-229%', 'vale3-204%', 'ainda', 'falta', 'metade', 'do', 'pregão', 'para', 'mudar', '@cruelcr7', 'se', 'for', 'um', 'cheque', 'ilimitado', 'da', 'bradesco', 'então', 'tu', 'aceita', '@tailumiusti', 'oi', 'vc', 'já', 'recebeu', 'o', 'novo', 'cartão', '@bradesco', 'ajuda', 'na', 'dm', 'im', 'at', 'bradesco', 'in', 'são', 'paulo', 'sp', 'https//tco/9hw05y487c', 'bradesco', 'e', 'cielo', 'firmam', 'parceria', 'com', 'os', 'cartórios', 'https//tco/xdz2wdfeu8', 'posto', 'do', 'bradesco', 'é', 'alvo', 'de', 'explosão', 'nesta', 'madrugada', 'em', 'feira', 'nova', 'detalhes', 'no', 'meu', 'blog', 'https//tco/i3ftxfsrxc', 'rt', '@umvesgo', 'e', 'até', 'quem', 'me', 'vê', 'na', 'fila', 'do', 'bradesco', 'sabe', 'que', 'eu', 'te', 'encontrei', 'rt', '@bradesco', 'a', 'história', 'de', 'orgulho', 'dos', 'gaúchos', 'vira', 'festa', 'em', 'setembro', 'a', 'semana', 'farroupilha', 'tá', 'chegando', 'vem', 'conhecer', 'mais', 'https//tco/h…', 'rt', '@francis41849673', 'bradesco', 'vence', 'leilão', 'e', 'com', 'r$', '13', 'bilhão', 'pezão', 'regularizará', 'folhas', 'de', 'maio', 'e', 'junho', 'https//tco/1nsbhhj4nu', 'tenho', 'que', 'passar', 'no', 'bradesco', 'e', 'depois', 'ir', 'no', 'banco', 'do', 'brasil', 'polícia', 'prende', 'dois', 'suspeitos', 'de', 'participação', 'do', 'assalto', 'ao', 'bradesco', 'de', 'brejo', 'do', 'cruz', 'https//tco/vahg60ihf8', 'rt', '@umvesgo', 'e', 'até', 'quem', 'me', 'vê', 'na', 'fila', 'do', 'bradesco', 'sabe', 'que', 'eu', 'te', 'encontrei', '#catracabh', 'de', 'vivaldi', 'à', 'anitta', 'família', 'lima', 'se', 'apresenta', 'no', 'teatro', 'bradesco', 'https//tco/1kqao2xsjn', 'https//tco/5klfw6kshf', '@chatalya', 'qual', 'tipo', 'de', 'investimento', 'você', 'adquiriu', 'por', 'qual', 'mídia', 'foi', 'feito', '@ales_matos', 'você', 'fala', 'do', 'cartão', 'da', 'conta', 'tentou', 'mudar', 'bandeira', 'bancários', 'assinam', 'acordos', 'específicos', 'com', 'o', 'bradesco', 'https//tco/90axmpx0hs', 'https//tco/893aalkzoc', 'rt', '@umvesgo', 'e', 'até', 'quem', 'me', 'vê', 'na', 'fila', 'do', 'bradesco', 'sabe', 'que', 'eu', 'te', 'encontrei', '@brunamrtins', 'olá', 'o', 'que', 'aconteceu', 'vida', 'de', 'adulto', 'é', 'complicado', 'você', 'precisa', 'faltar', 'na', 'faculdade', 'pra', 'ir', 'na', 'sua', 'agência', 'do', 'bradesco', '🙄', 'rt', '@marcelomassaobr', 'im', 'at', 'bradesco', 'in', 'são', 'paulo', 'sp', 'https//tco/9yctk9uudu', 'rt', '@umvesgo', 'e', 'até', 'quem', 'me', 'vê', 'na', 'fila', 'do', 'bradesco', 'sabe', 'que', 'eu', 'te', 'encontrei', 'assinados', '4', 'acordos', 'coletivos', 'aditivos', 'relacionados', 'à', 'direitos', 'específicos', 'conquistados', 'pelos', 'trabalhadores', 'https//tco/xgbdfq7kus', 'rt', '@bradesco', 'a', 'história', 'de', 'orgulho', 'dos', 'gaúchos', 'vira', 'festa', 'em', 'setembro', 'a', 'semana', 'farroupilha', 'tá', 'chegando', 'vem', 'conhecer', 'mais', 'https//tco/h…', '@stevenstrogatz', '@jsellenberg', '@luisc', '@bancopaulista', '@bradesco', '@mobil', '@votorantim', '@citibank', '@billgates', '@batinap…', 'https//tco/h1yolalwyj', '@bradesco', 'possuo', 'o', 'cartão', 'ativo', 'mas', 'a', 'chave', 'não', '$bbdc4', '-', 'bradesco', 'bbdc-n1', '-', 'ata', 'reuniao', 'do', 'conselho', 'de', 'administracao', '-', '29/08/17', 'https//tco/phrikiikdw', '@sadboydotc0m', 'você', 'conseguiu', 'cancelar', 'o', 'cartão', 'e', 'pedir', 'uma', 'nova', 'via', 'o', 'cartão', 'foi', 'perdido', '@chatalya', 'quando', 'você', 'consulta', 'o', 'saldo', 'em', 'conta', 'ou', 'consulta', 'pelo', 'opção', 'extratos', 'você', 'consegue', 'visualizar', 'o', 'saldo', 'do', 'investimento', '@bradesco', 'posso', 'ir', 'em', 'qualquer', 'agencia', 'solicitar', 'a', 'transferencia', 'do', 'meu', 'salario', 'pra', 'outro', 'banco', 'ou', 'precisa', 'ser', 'na', 'minha', 'rt', '@bradesco', 'a', 'história', 'de', 'orgulho', 'dos', 'gaúchos', 'vira', 'festa', 'em', 'setembro', 'a', 'semana', 'farroupilha', 'tá', 'chegando', 'vem', 'conhecer', 'mais', 'https//tco/h…', 'rt', '@umvesgo', 'e', 'até', 'quem', 'me', 'vê', 'na', 'fila', 'do', 'bradesco', 'sabe', 'que', 'eu', 'te', 'encontrei', 'arrebentaram', 'o', 'banco', 'bradesco', 'de', 'itanhandu', 'mundo', 'tá', 'perdido', 'mesmo', '@inezboldrin', 'certo', 'fico', 'à', 'disposição', '', 'bandidos', 'explodem', 'caixas', 'do', 'bradesco', 'em', 'prédio', 'da', 'prefeitura', 'de', 'campina', 'grande', 'no', 'centro', 'da', 'cidade…', 'https//tco/5ty7gonix3', '@bradesco_', 'bem', 'eu', 'kkkkkkj', 'im', 'at', 'fundação', 'bradesco', 'w/', '@biapaiiixao', '@allan_vilas', 'https//tco/rlcos0itn8', 'rt', '@bradesco', 'a', 'história', 'de', 'orgulho', 'dos', 'gaúchos', 'vira', 'festa', 'em', 'setembro', 'a', 'semana', 'farroupilha', 'tá', 'chegando', 'vem', 'conhecer', 'mais', 'https//tco/h…', 'os', 'cara', 'assaltaram', 'o', 'bradesco', 'pra', 'poder', 'comprar', 'um', 'churros', 'eu', 'pensei', 'que', 'minha', 'conta', 'no', 'bradesco', 'tava', 'negativa', 'e', 'nao', 'tá', 'que', 'felicidade', 'gente', 'asdaisjdosjoifjdosfjk', 'rt', '@umvesgo', 'e', 'até', 'quem', 'me', 'vê', 'na', 'fila', 'do', 'bradesco', 'sabe', 'que', 'eu', 'te', 'encontrei', 'rt', '@joseribeiro1810', '@jornalistavitor', 'aqui', 'em', 'mt', 'deverá', 'chegar', 'uma', 'frente', 'fria', 'no', 'feriado', 'isso', 'significa', 'um', 'ônibus', 'cheio', 'de', 'gaúchos', 'com…', 'de', 'vivaldi', 'à', 'anitta', 'família', 'lima', 'se', 'apresenta', 'no', 'teatro', 'bradesco', 'https//tco/snpobknylu', 'via', '@catracalivrebh', 'fui', 'no', 'bradesco', 'atoa', 'bandidos', 'explodem', 'agência', 'do', 'bradesco', 'em', 'campina', 'grande', 'leia', 'mais', 'https//tco/wowwjahbgq', 'rt', '@bradesco', 'a', 'história', 'de', 'orgulho', 'dos', 'gaúchos', 'vira', 'festa', 'em', 'setembro', 'a', 'semana', 'farroupilha', 'tá', 'chegando', 'vem', 'conhecer', 'mais', 'https//tco/h…', '@othiagomaia', 'oi', 'a', 'solicitação', 'pode', 'ser', 'feita', 'através', 'do', 'fone', 'fácil', 'ou', 'agência', 'depois', 'que', 'fizer', 'o', 'pedido', 'deve', 'confirmar', 'com', 'a', 'atendente', '+', 'rt', '@bradesco', 'a', 'história', 'de', 'orgulho', 'dos', 'gaúchos', 'vira', 'festa', 'em', 'setembro', 'a', 'semana', 'farroupilha', 'tá', 'chegando', 'vem', 'conhecer', 'mais', 'https//tco/h…', '@loongleo', 'olá', 'qual', 'mensagem', 'de', 'erro', 'aparece', 'quando', 'você', 'tenta', 'fazer', 'o', 'serviço', '@sacavalcantte', 'olá', 'o', 'que', 'houve', 'posso', 'ajudar', '🚨🚨explosão', 'de', 'caixas', 'eletrônicos', 'em', '*#itanhandu*', 'hoje', 'as', '430hs', 'banco', 'bradesco', 'foi', 'o', 'alvo', '@jordanhang', 'vou', 'registrar', 'e', 'pedir', 'retorno', 'para', 'você;', 'por', 'favor', 'me', 'informe', 'seu', 'telefone', 'com', 'ddd', 'por', 'dm', '@artursandrin', '@bradesco', 'bom', 'dia', 'encaminhamos', 'as', 'orientações', 'via', 'mensagem', 'privada', '@antonioliii', 'olá', 'o', 'que', 'houve', 'posso', 'ajudar', 'explodiram', 'o', 'bradesco', 'e', 'eu', 'to', 'bem', 'chocada', 'não', 'quero', 'bandidagem', 'nessa', 'região', 'não', '#pas', '@eufrasiox', 'você', 'pediu', 'só', 'o', 'cartão', 'da', 'conta', 'e', 'ao', 'pedir', 'solicitou', 'na', 'agência', 'a', 'liberação', 'da', 'função', 'crédito', 'em', 'qual', 'dia', 'fez', 'isso', '💎', '@', 'bradesco', '—', 'av', 'pres', 'lincoln', 'in', 'são', 'joão', 'de', 'meriti', 'rio', 'de', 'janeiro', 'https//tco/owez87nkva', '@bradesco', 'enviei', 'print', 'por', 'dm', '@bradesco', 'roubaram', 'meu', 'celular', 'aí', 'eu', 'queria', 'reativar', 'a', 'chave', 'só', 'que', 'não', 'da', 'pelo', 'telefone', 'o', 'atendente', 'disse', 'para', 'ir', 'em', 'uma', 'agencia', 'partiu', 'festejar', 'a', 'história', 'da', 'chacina', 'dos', 'lanceiros', 'negros', 'https//tco/m0o0m9fo7w', 'rt', '@bradesco', 'a', 'história', 'de', 'orgulho', 'dos', 'gaúchos', 'vira', 'festa', 'em', 'setembro', 'a', 'semana', 'farroupilha', 'tá', 'chegando', 'vem', 'conhecer', 'mais', 'https//tco/h…', '@bancocentralbr', 'pela', 'quadrilha', 'que', 'aplicou', 'o', 'golpe', 'e', 'agora', 'a', 'instituição', 'financeira', '@bradesco', 'foge', 'da', 'responsabilid…', 'https//tco/t6jzgkgsp9', '@gerlitou', 'olá', 'o', 'que', 'aconteceu', 'posso', 'ajudar', 'caixa', 'do', 'bradesco', 'é', 'alva', 'da', 'bandidagem', 'desta', 'vez', 'foi', 'dentro', 'do', 'prédio', 'da', 'prefeitura', 'de', 'campina', 'grande…', 'https//tco/uurfztpsxh', 'posto', 'do', 'bradesco', 'é', 'alvo', 'de', 'explosão', 'nesta', 'terça-feira', 'no', 'agreste', 'https//tco/vkgypqxrrx', 'via', '@jc_pe', '@reehms', 'posso', 'pedir', 'que', 'nossa', 'equipe', 'verifique', 'qual', 'o', 'seu', 'telefone', 'com', 'ddd', 'por', 'favor', 'envia', 'por', 'dm', '😊', '@jornalistavitor', 'aqui', 'em', 'mt', 'deverá', 'chegar', 'uma', 'frente', 'fria', 'no', 'feriado', 'isso', 'significa', 'um', 'ônibus', 'cheio', 'de', 'gaúchos', 'c…', 'https//tco/suotnweajo', 'rt', '@umvesgo', 'e', 'até', 'quem', 'me', 'vê', 'na', 'fila', 'do', 'bradesco', 'sabe', 'que', 'eu', 'te', 'encontrei', 'jovem', 'aprendiz', 'bradesco', '-', 'pré', 'inscrições', '2017', 'https//tco/3kmhlkeznn', 'rt', '@bradesco', 'a', 'história', 'de', 'orgulho', 'dos', 'gaúchos', 'vira', 'festa', 'em', 'setembro', 'a', 'semana', 'farroupilha', 'tá', 'chegando', 'vem', 'conhecer', 'mais', 'https//tco/h…', 'rt', '@bradesco', 'a', 'história', 'de', 'orgulho', 'dos', 'gaúchos', 'vira', 'festa', 'em', 'setembro', 'a', 'semana', 'farroupilha', 'tá', 'chegando', 'vem', 'conhecer', 'mais', 'https//tco/h…', 'e', 'até', 'quem', 'me', 'vê', 'na', 'fila', 'do', 'bradesco', 'sabe', 'que', 'eu', 'te', 'encontrei', 'rt', '@spbancarios', 'aditivos', 'assinados', 'dizem', 'respeito', 'ao', 'telebanco', 'bradesco', 'financiamentos', 'cipa', 'treinet', 'e', 'ponto', 'eletrônico', 'https//tco/aus…', '@bradesco', 'não', 'kkkkkk', '', 'rt', '@umvesgo', 'e', 'até', 'quem', 'me', 'vê', 'na', 'fila', 'do', 'bradesco', 'sabe', 'que', 'eu', 'te', 'encontrei', 'rt', '@hpcharles77', 'alienado', 'esse', 'torcedor', 'do', 'bradesco', 'né', 'ebm', 'não', 'criou', 'apenas', 'a', 'mentalidade', 'derrotada', 'no', 'flamengo', 'criou', 'um', 'exército', 'de', 'zum…', 'o', 'que', 'tá', 'acontecendo', 'com', 'o', 'twitter', 'que', 'tá', 'todo', 'mundo', 'respondendoo', 'pessoal', 'exército', 'vigor', 'pm', 'bradesco', 'kkkkkkkk', 'tô', 'rindo', 'mto', 'com', 'isso', '@gabi3_m', 'olá', 'qual', 'serviço/informação', 'você', 'precisa', 'im', 'at', 'bradesco', 'in', 'palmeira', 'pr', 'https//tco/ank5q1vwpr', '@othiagomaia', '+', 'qual', 'será', 'a', 'bandeira', 'enviada', 'se', 'for', 'elo', 'posso', 'verificar', 'a', 'possibilidade', 'de', 'pedir', 'a', 'alteração', 'por', 'aqui', 'os', '#relatórios', 'de', '#recomendação', 'da', '#lojasrenner', 'e', 'do', '#bradesco', 'já', 'estão', 'atualizados', 'confira', 'no', 'módulo', 'empresas', 'im', 'at', 'bradesco', '-', 'ag', 'jaboatão', 'https//tco/ck2tgwich9', '@vaitomarnocii', 'olá', 'você', 'já', 'fez', 'a', 'solicitação', 'através', 'da', 'sua', 'agência', 'rt', '@bradesco', 'a', 'história', 'de', 'orgulho', 'dos', 'gaúchos', 'vira', 'festa', 'em', 'setembro', 'a', 'semana', 'farroupilha', 'tá', 'chegando', 'vem', 'conhecer', 'mais', 'https//tco/h…', 'im', 'at', 'bradesco', 'in', 'são', 'paulo', 'sao', 'paulosp', 'https//tco/dyqgouigfd', '@icamiaba_', '@bradesco', 'acabou', 'de', 'acontecer', 'isso', 'comigo', 'mas', 'foi', 'com', 'a', '@caixa', 'quadrilha', 'explode', 'banco', 'bradesco', 'em', 'itanhandu/mg', '–', 'portal', 'mix', 'vale', '|', '12', '981430089', 'whatsapp', 'https//tco/kkm4wrn8qs', 'https//tco/kvnjcscs4x', 'im', 'at', 'bradesco', 'empresas', 'faria', 'lima', 'in', 'sao', 'paulo', 'w/', '@bastosaldemira', '@alex2srj', '@alaisesantos2', '@timbetalinda1', 'https//tco/2mivvqjdvh', 'busco', 'companhia', 'https//tco/sfchtkxxyd', 'rt', '@umvesgo', 'e', 'até', 'quem', 'me', 'vê', 'na', 'fila', 'do', 'bradesco', 'sabe', 'que', 'eu', 'te', 'encontrei', 'crowdfundingdez', 'dias', 'que', 'abalaram', 'o', 'mundowhatsapp', '21-98877-3322instituto', 'ensaio', 'abertocnpj', '10289112/0001-68', 'bradesco', 'ag7049', 'c/c', '1813-9', 'rt', '@bradesco', 'a', 'história', 'de', 'orgulho', 'dos', 'gaúchos', 'vira', 'festa', 'em', 'setembro', 'a', 'semana', 'farroupilha', 'tá', 'chegando', 'vem', 'conhecer', 'mais', 'https//tco/h…', 'rt', '@thiagomessiasd', 'im', 'at', 'bradesco', 'in', 'aparecida', 'de', 'goiânia', 'goiás', 'w/', '@amandamaktub', '@andreneres18', '@toninotrolebus', '@aninhavarejao1', 'https//t…', 'riquissimo', 'em', 'ny', '@', 'bradesco', 'in', 'são', 'paulo', 'https//tco/toy9appwqf', 'como', 'eu', 'adoro', 'quando', 'o', '@bradesco', 'me', 'cobra', 'por', 'um', 'serviço', 'que', 'eu', 'não', 'solicito', '🙄', 'aditivos', 'assinados', 'dizem', 'respeito', 'ao', 'telebanco', 'bradesco', 'financiamentos', 'cipa', 'treinet', 'e', 'ponto', 'eletrônico…', 'https//tco/svff5utm2m', 'rt', '@umvesgo', 'e', 'até', 'quem', 'me', 'vê', 'na', 'fila', 'do', 'bradesco', 'sabe', 'que', 'eu', 'te', 'encontrei', '@bradesco', 'qual', 'o', 'prazo', 'para', 'desbloquear', 'um', 'depósito', 'em', 'cheque', 'planos', 'de', 'saude', 'empresarial', 'bradesco', 'saude', 'https//tco/tfrkm7vfcs', '@bradesco', 'sim', 'é', 'uma', 'conta', 'do', 'itaú', 'rt', '@umvesgo', 'e', 'até', 'quem', 'me', 'vê', 'na', 'fila', 'do', 'bradesco', 'sabe', 'que', 'eu', 'te', 'encontrei', 'rt', '@umvesgo', 'e', 'até', 'quem', 'me', 'vê', 'na', 'fila', 'do', 'bradesco', 'sabe', 'que', 'eu', 'te', 'encontrei', 'rt', '@bradesco', 'a', 'história', 'de', 'orgulho', 'dos', 'gaúchos', 'vira', 'festa', 'em', 'setembro', 'a', 'semana', 'farroupilha', 'tá', 'chegando', 'vem', 'conhecer', 'mais', 'https//tco/h…', 'im', 'at', 'agência', 'bradesco', 'in', 'são', 'paulo', 'w/', '@livkannanda', '@amandamelopere2', '@barroso_nessa', '@allannasousa441', '@josyalmeida', 'https//tco/d1mjpppoy2', 'quadrilha', 'explode', 'banco', 'bradesco', 'em', 'itanhandu/mg', 'https//tco/rqdklzbddq', '@tarcisi0404', 'oi', 'posso', 'ajudar', 'o', 'que', 'houve', 'rt', '@bradesco', 'a', 'história', 'de', 'orgulho', 'dos', 'gaúchos', 'vira', 'festa', 'em', 'setembro', 'a', 'semana', 'farroupilha', 'tá', 'chegando', 'vem', 'conhecer', 'mais', 'https//tco/h…', 'bancários', 'assinam', 'acordos', 'específicos', 'com', 'o', 'bradesco', 'de', 'blogosfera', 'da', 'rede', 'pt', '-', 'curta', 'nossa', 'página', 'https//tco/hqrqtiyqv9', '@bradesco', 'é', 'sim', 'obrigada', '&lt;3', 'eu', 'podia', 'ir', 'no', 'bradesco', 'hoje', 'e', 'descobrir', 'que', 'a', 'conta', 'que', 'eu', 'não', 'to', 'usando', 'tá', 'com', 'milhões', 'rt', '@bradesco', 'ippon', 'a', 'luta', 'da', 'vida', 'estreia', 'domingo', 'no', '@eespetacular', 'com', 'as', 'técnicas', '@rafaelasilvaa', 'e', 'sarah', 'menezes', 'e', 'promessas', 'do', 'judô…', '@nery_mateus', 'outras', 'formas', 'de', 'pagamentodébito', 'em', 'conta', 'bradesco/', 'hsbc', 'santander', 'caixa', 'cartões', 'de', 'débito', 'do…', 'https//tco/zvszvla51v', 'posto', 'do', 'bradesco', 'é', 'alvo', 'de', 'explosão', 'nesta', 'terça-feira', 'no', 'agreste', 'https//tco/q7gjkspls4', 'https//tco/fwtul9fpaj', 'im', 'at', 'bradesco', 'in', 'são', 'francisco', 'do', 'conde', 'w/', '@emanuelaesquiv1', 'https//tco/ygt8lezyxl', 'tá', 'chegando', '🙌', 'https//tco/sf52c2q3af', '@bradesco', 'como', 'faço', 'para', 'cancelar', 'um', 'pagamento', 'de', 'um', 'boleto', 'que', 'eu', 'fiz', 'sem', 'querer', 'no', 'modo', 'agendamento', '@chatalya', 'seu', 'investimento', 'possui', 'baixa', 'automática', 'certo', 'bom', 'dia', 'betas', 'vamos', 'trabalhar', '😂😂', '@', 'bradesco', 'núcleo', 'alphaville', 'in', 'barueri', 'sp', 'https//tco/qtmco938qu', '@bradesco', 'já', 'uso', 'em', 'um', 'celular', 'e', 'preciso', 'passar', 'pra', 'outro', 'novo', 'rt', '@bradesco', 'a', 'história', 'de', 'orgulho', 'dos', 'gaúchos', 'vira', 'festa', 'em', 'setembro', 'a', 'semana', 'farroupilha', 'tá', 'chegando', 'vem', 'conhecer', 'mais', 'https//tco/h…']\n"
     ]
    }
   ],
   "source": [
    "dicioi={}\n",
    "palavrasi=[]\n",
    "\n",
    "for x in di:\n",
    "    nomes=x.split()\n",
    "    for y in nomes:\n",
    "        p2=[]\n",
    "        for i in y:\n",
    "            if i!= \":\" and i!=\"'\" and i!='\"' and i!=' ' and i!= \",\" and i!= \".\" and i!='?'and i!='!' and i!='(' and i!=')' :\n",
    "                p2.append(i)\n",
    "        a=\"\".join(p2)\n",
    "        palavrasi.append(a)\n",
    "        if y in dicioi:\n",
    "            dicioi[y]+=1\n",
    "        else:\n",
    "            dicioi[y]=1\n",
    "\n",
    "print(dicioi)\n",
    "ti=sum(dicioi.values())\n",
    "print(ti)\n",
    "t=ti+tr  \n",
    "print(t)\n",
    "print(palavrasi)"
   ]
  },
  {
   "cell_type": "code",
   "execution_count": null,
   "metadata": {
    "collapsed": true
   },
   "outputs": [],
   "source": [
    "#probabilidade da frase ser relavante e relevante=\n",
    "#(vezes q a palavra aparece+1)/(palavras relevantes+total de palavras) x a probab da outra palavra em relevante x ....\n",
    "#qual eh maior\n",
    "pfr=1\n",
    "frase=\"bradesco me cansa\"\n",
    "nomes=frase.split()\n",
    "for i in nomes:\n",
    "    if i in dicior:\n",
    "        pa=(dicior[i]+1)/(tr+t)\n",
    "        pfr*=pa\n",
    "    else:\n",
    "        pa=1/(tr+t)\n",
    "        pfr*=pa\n",
    "\n",
    "print(pfr)"
   ]
  },
  {
   "cell_type": "code",
   "execution_count": null,
   "metadata": {
    "collapsed": true
   },
   "outputs": [],
   "source": [
    "pfi=1\n",
    "frase=\"bradesco me cansa\"\n",
    "for i in frase:\n",
    "    if i in dicioi:\n",
    "        pa= (dicioi[i]+1)/(tr+t)\n",
    "        pfr*=pa\n",
    "    else:\n",
    "        pa=1/(tr+t)\n",
    "        pfi*=pa\n",
    "\n",
    "print(pfi)"
   ]
  },
  {
   "cell_type": "code",
   "execution_count": null,
   "metadata": {
    "collapsed": true
   },
   "outputs": [],
   "source": [
    "if pfi<pfr:\n",
    "    print('É relevante')\n",
    "else:\n",
    "    print('É irrelevante')"
   ]
  },
  {
   "cell_type": "code",
   "execution_count": null,
   "metadata": {
    "collapsed": true
   },
   "outputs": [],
   "source": [
    "#seleconando as palavras importantes\n",
    "\n",
    "resptotal=[]\n",
    "for i in respq:\n",
    "    L=[]\n",
    "    for x in i:\n",
    "        if len(x)<=3 and x!='nao' and x!='sem'and x!='sim' and x!='app':  #removi os emojis tambem, mas nao era pra ter feito isso.\n",
    "            del x\n",
    "        else:\n",
    "            L.append(x)\n",
    "    resptotal.append(L)\n",
    "    \n",
    "print(resptotal)"
   ]
  },
  {
   "cell_type": "code",
   "execution_count": null,
   "metadata": {
    "collapsed": true
   },
   "outputs": [],
   "source": [
    "#ver porque as pessoas estão reclamando \n",
    "#ver as palavras que se relacionam a cada coisa\n",
    "\n",
    "fila=0\n",
    "ouvidoria=0\n",
    "ineficiência=0\n",
    "\n",
    "for i in coisasruins:\n",
    "    if i== 'fila' and i=='espera': #pensar em mais palavras q se relacionam a cada assunto\n",
    "        fila+=1\n",
    "    if i== 'ouvidoria':\n",
    "        ouvidoria+=1\n",
    "    if i== 'ineficiência':\n",
    "        ineficiência+=1\n",
    "    \n",
    "#print(fila)\n",
    "#print(ouvidoria)\n",
    "#print(ineficiência)"
   ]
  },
  {
   "cell_type": "markdown",
   "metadata": {},
   "source": [
    "___\n",
    "## Verificando a performance\n",
    "\n",
    "Agora você deve testar o seu Classificador com a base de Testes.<br /><br /> \n",
    "\n",
    "Você deve extrair as seguintes medidas:\n",
    "* Porcentagem de positivos falsos (marcados como relevante mas não são relevantes)\n",
    "* Porcentagem de positivos verdadeiros (marcado como relevante e são relevantes)\n",
    "* Porcentagem de negativos verdadeiros (marcado como não relevante e não são relevantes)\n",
    "* Porcentagem de negativos falsos (marcado como não relevante e são relevantes)\n",
    "\n",
    "Opcionalmente:\n",
    "* Criar categorias intermediárias de relevância baseado na diferença de probabilidades. Exemplo: muito relevante, relevante, neutro, irrelevante e muito irrelevante."
   ]
  },
  {
   "cell_type": "code",
   "execution_count": null,
   "metadata": {
    "collapsed": true,
    "scrolled": true
   },
   "outputs": [],
   "source": [
    "#fazer uma nov coluna e comparar as colunas"
   ]
  },
  {
   "cell_type": "markdown",
   "metadata": {
    "collapsed": true
   },
   "source": [
    "___\n",
    "## Concluindo\n",
    "\n",
    "Escreva aqui a sua conclusão.<br /> \n",
    "Faça um comparativo qualitativo sobre as medidas obtidas.<br />\n",
    "Explique como são tratadas as mensagens com dupla negação e sarcasmo.<br />\n",
    "Proponha um plano de expansão. Por que eles devem continuar financiando o seu projeto?<br />\n",
    "\n",
    "Opcionalmente: \n",
    "* Discorrer por que não posso alimentar minha base de Treinamento automaticamente usando o próprio classificador, aplicado a novos tweets.\n",
    "* Propor diferentes cenários de uso para o classificador Naive-Bayes. Cenários sem intersecção com este projeto.\n",
    "* Sugerir e explicar melhorias reais no classificador com indicações concretas de como implementar (não é preciso codificar, mas indicar como fazer e material de pesquisa sobre o assunto).\n"
   ]
  },
  {
   "cell_type": "code",
   "execution_count": null,
   "metadata": {
    "collapsed": true
   },
   "outputs": [],
   "source": []
  }
 ],
 "metadata": {
  "kernelspec": {
   "display_name": "Python 3",
   "language": "python",
   "name": "python3"
  },
  "language_info": {
   "codemirror_mode": {
    "name": "ipython",
    "version": 3
   },
   "file_extension": ".py",
   "mimetype": "text/x-python",
   "name": "python",
   "nbconvert_exporter": "python",
   "pygments_lexer": "ipython3",
   "version": "3.6.0"
  }
 },
 "nbformat": 4,
 "nbformat_minor": 1
}
