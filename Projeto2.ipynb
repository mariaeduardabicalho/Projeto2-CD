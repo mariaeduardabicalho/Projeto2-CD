{
 "cells": [
  {
   "cell_type": "markdown",
   "metadata": {},
   "source": [
    "# Projeto 2 - Classificador Automático de Sentimento\n",
    "\n",
    "Você foi contratado por uma empresa parar analisar como os clientes estão reagindo a um determinado produto no Twitter. A empresa deseja que você crie um programa que irá analisar as mensagens disponíveis e classificará como \"relevante\" ou \"irrelevante\". Com isso ela deseja que mensagens negativas, que denigrem o nome do produto, ou que mereçam destaque, disparem um foco de atenção da área de marketing.<br /><br />\n",
    "Como aluno de Ciência dos Dados, você lembrou do Teorema de Bayes, mais especificamente do Classificador Naive-Bayes, que é largamente utilizado em filtros anti-spam de e-mails. O classificador permite calcular qual a probabilidade de uma mensagem ser relevante dadas as palavras em seu conteúdo.<br /><br />\n",
    "Para realizar o MVP (*minimum viable product*) do projeto, você precisa implementar uma versão do classificador que \"aprende\" o que é relevante com uma base de treinamento e compara a performance dos resultados com uma base de testes.<br /><br />\n",
    "Após validado, o seu protótipo poderá também capturar e classificar automaticamente as mensagens da plataforma.\n",
    "\n",
    "## Informações do Projeto\n",
    "\n",
    "Prazo: 13/Set até às 23:59.<br />\n",
    "Grupo: 1 ou 2 pessoas.<br /><br />\n",
    "Entregáveis via GitHub: \n",
    "* Arquivo notebook com o código do classificador, seguindo as orientações abaixo.\n",
    "* Arquivo Excel com as bases de treinamento e teste totalmente classificado.\n",
    "\n",
    "**NÃO disponibilizar o arquivo com os *access keys/tokens* do Twitter.**\n",
    "\n",
    "\n",
    "### Check 3: \n",
    "\n",
    "Até o dia 06 de Setembro às 23:59, o notebook e o xlsx devem estar no Github com as seguintes evidências: \n",
    "    * Conta no twitter criada.\n",
    "    * Produto escolhido.\n",
    "    * Arquivo Excel contendo a base de treinamento e teste já classificado.\n",
    "    \n",
    "\n",
    "Sugestão de leitura:<br />\n",
    "http://docs.tweepy.org/en/v3.5.0/index.html<br />\n",
    "https://monkeylearn.com/blog/practical-explanation-naive-bayes-classifier/"
   ]
  },
  {
   "cell_type": "markdown",
   "metadata": {},
   "source": [
    "___\n",
    "\n",
    "## Preparando o ambiente\n",
    "\n",
    "Instalando a biblioteca *tweepy* para realizar a conexão com o Twitter:"
   ]
  },
  {
   "cell_type": "code",
   "execution_count": 3,
   "metadata": {
    "collapsed": true
   },
   "outputs": [],
   "source": [
    "%%capture\n",
    "\n",
    "#Instalando o tweepy\n",
    "!pip install tweepy"
   ]
  },
  {
   "cell_type": "markdown",
   "metadata": {},
   "source": [
    "Importando as Bibliotecas que serão utilizadas. Esteja livre para adicionar outras."
   ]
  },
  {
   "cell_type": "code",
   "execution_count": 4,
   "metadata": {
    "collapsed": true
   },
   "outputs": [],
   "source": [
    "import tweepy\n",
    "import math\n",
    "import os.path\n",
    "import pandas as pd\n",
    "import json\n",
    "from random import shuffle"
   ]
  },
  {
   "cell_type": "markdown",
   "metadata": {},
   "source": [
    "___\n",
    "## Autenticando no  Twitter\n",
    "\n",
    "Para realizar a captura dos dados é necessário ter uma conta cadastrada no twitter:\n",
    "\n",
    "* Conta: ***[Preencha aqui o id da sua conta. Ex: @fulano ]***\n",
    "\n",
    "\n",
    "1. Caso ainda não tenha uma: https://twitter.com/signup\n",
    "1. Depois é necessário registrar um app para usar a biblioteca: https://apps.twitter.com/\n",
    "1. Dentro do registro do App, na aba Keys and Access Tokens, anotar os seguintes campos:\n",
    "    1. Consumer Key (API Key)\n",
    "    1. Consumer Secret (API Secret)\n",
    "1. Mais abaixo, gere um Token e anote também:\n",
    "    1. Access Token\n",
    "    1. Access Token Secret\n",
    "    \n",
    "1. Preencha os valores no arquivo \"auth.pass\"\n",
    "\n",
    "**ATENÇÃO**: Nunca divulgue os dados desse arquivo online (GitHub, etc). Ele contém as chaves necessárias para realizar as operações no twitter de forma automática e portanto é equivalente a ser \"hackeado\". De posse desses dados, pessoas mal intencionadas podem fazer todas as operações manuais (tweetar, seguir, bloquear/desbloquear, listar os seguidores, etc). Para efeito do projeto, esse arquivo não precisa ser entregue!!!"
   ]
  },
  {
   "cell_type": "code",
   "execution_count": 5,
   "metadata": {
    "collapsed": true
   },
   "outputs": [],
   "source": [
    "#Dados de autenticação do twitter:\n",
    "\n",
    "#Coloque aqui o identificador da conta no twitter: @dudabicalhocd\n",
    "\n",
    "#leitura do arquivo no formato JSON\n",
    "with open('auth.pass') as fp:    \n",
    "    data = json.load(fp)\n",
    "\n",
    "#Configurando a biblioteca. Não modificar\n",
    "auth = tweepy.OAuthHandler(data['consumer_key'], data['consumer_secret'])\n",
    "auth.set_access_token(data['access_token'], data['access_token_secret'])"
   ]
  },
  {
   "cell_type": "markdown",
   "metadata": {},
   "source": [
    "___\n",
    "## Coletando Dados\n",
    "\n",
    "Agora vamos coletar os dados. Tenha em mente que dependendo do produto escolhido, não haverá uma quantidade significativa de mensagens, ou ainda poder haver muitos retweets.<br /><br /> \n",
    "Configurando:"
   ]
  },
  {
   "cell_type": "code",
   "execution_count": 6,
   "metadata": {
    "collapsed": true
   },
   "outputs": [],
   "source": [
    "#Produto escolhido:\n",
    "produto = 'Bradesco'\n",
    "\n",
    "#Quantidade mínima de mensagens capturadas:\n",
    "n = 500\n",
    "#Quantidade mínima de mensagens para a base de treinamento:\n",
    "t = 300\n",
    "\n",
    "#Filtro de língua, escolha uma na tabela ISO 639-1.\n",
    "lang = 'pt'"
   ]
  },
  {
   "cell_type": "markdown",
   "metadata": {},
   "source": [
    "Capturando os dados do twitter:"
   ]
  },
  {
   "cell_type": "code",
   "execution_count": 7,
   "metadata": {},
   "outputs": [
    {
     "ename": "TweepError",
     "evalue": "Twitter error response: status code = 400",
     "output_type": "error",
     "traceback": [
      "\u001b[0;31m---------------------------------------------------------------------------\u001b[0m",
      "\u001b[0;31mTweepError\u001b[0m                                Traceback (most recent call last)",
      "\u001b[0;32m<ipython-input-7-910742af87dd>\u001b[0m in \u001b[0;36m<module>\u001b[0;34m()\u001b[0m\n\u001b[1;32m      5\u001b[0m \u001b[0mi\u001b[0m \u001b[1;33m=\u001b[0m \u001b[1;36m1\u001b[0m\u001b[1;33m\u001b[0m\u001b[0m\n\u001b[1;32m      6\u001b[0m \u001b[0mmsgs\u001b[0m \u001b[1;33m=\u001b[0m \u001b[1;33m[\u001b[0m\u001b[1;33m]\u001b[0m\u001b[1;33m\u001b[0m\u001b[0m\n\u001b[0;32m----> 7\u001b[0;31m \u001b[1;32mfor\u001b[0m \u001b[0mmsg\u001b[0m \u001b[1;32min\u001b[0m \u001b[0mtweepy\u001b[0m\u001b[1;33m.\u001b[0m\u001b[0mCursor\u001b[0m\u001b[1;33m(\u001b[0m\u001b[0mapi\u001b[0m\u001b[1;33m.\u001b[0m\u001b[0msearch\u001b[0m\u001b[1;33m,\u001b[0m \u001b[0mq\u001b[0m\u001b[1;33m=\u001b[0m\u001b[0mproduto\u001b[0m\u001b[1;33m,\u001b[0m \u001b[0mlang\u001b[0m\u001b[1;33m=\u001b[0m\u001b[0mlang\u001b[0m\u001b[1;33m)\u001b[0m\u001b[1;33m.\u001b[0m\u001b[0mitems\u001b[0m\u001b[1;33m(\u001b[0m\u001b[1;33m)\u001b[0m\u001b[1;33m:\u001b[0m\u001b[1;33m\u001b[0m\u001b[0m\n\u001b[0m\u001b[1;32m      8\u001b[0m     \u001b[0mmsgs\u001b[0m\u001b[1;33m.\u001b[0m\u001b[0mappend\u001b[0m\u001b[1;33m(\u001b[0m\u001b[0mmsg\u001b[0m\u001b[1;33m.\u001b[0m\u001b[0mtext\u001b[0m\u001b[1;33m.\u001b[0m\u001b[0mlower\u001b[0m\u001b[1;33m(\u001b[0m\u001b[1;33m)\u001b[0m\u001b[1;33m)\u001b[0m\u001b[1;33m\u001b[0m\u001b[0m\n\u001b[1;32m      9\u001b[0m     \u001b[0mi\u001b[0m \u001b[1;33m+=\u001b[0m \u001b[1;36m1\u001b[0m\u001b[1;33m\u001b[0m\u001b[0m\n",
      "\u001b[0;32mC:\\Users\\milen\\Anaconda3\\lib\\site-packages\\tweepy\\cursor.py\u001b[0m in \u001b[0;36m__next__\u001b[0;34m(self)\u001b[0m\n\u001b[1;32m     47\u001b[0m \u001b[1;33m\u001b[0m\u001b[0m\n\u001b[1;32m     48\u001b[0m     \u001b[1;32mdef\u001b[0m \u001b[0m__next__\u001b[0m\u001b[1;33m(\u001b[0m\u001b[0mself\u001b[0m\u001b[1;33m)\u001b[0m\u001b[1;33m:\u001b[0m\u001b[1;33m\u001b[0m\u001b[0m\n\u001b[0;32m---> 49\u001b[0;31m         \u001b[1;32mreturn\u001b[0m \u001b[0mself\u001b[0m\u001b[1;33m.\u001b[0m\u001b[0mnext\u001b[0m\u001b[1;33m(\u001b[0m\u001b[1;33m)\u001b[0m\u001b[1;33m\u001b[0m\u001b[0m\n\u001b[0m\u001b[1;32m     50\u001b[0m \u001b[1;33m\u001b[0m\u001b[0m\n\u001b[1;32m     51\u001b[0m     \u001b[1;32mdef\u001b[0m \u001b[0mnext\u001b[0m\u001b[1;33m(\u001b[0m\u001b[0mself\u001b[0m\u001b[1;33m)\u001b[0m\u001b[1;33m:\u001b[0m\u001b[1;33m\u001b[0m\u001b[0m\n",
      "\u001b[0;32mC:\\Users\\milen\\Anaconda3\\lib\\site-packages\\tweepy\\cursor.py\u001b[0m in \u001b[0;36mnext\u001b[0;34m(self)\u001b[0m\n\u001b[1;32m    195\u001b[0m         \u001b[1;32mif\u001b[0m \u001b[0mself\u001b[0m\u001b[1;33m.\u001b[0m\u001b[0mcurrent_page\u001b[0m \u001b[1;32mis\u001b[0m \u001b[1;32mNone\u001b[0m \u001b[1;32mor\u001b[0m \u001b[0mself\u001b[0m\u001b[1;33m.\u001b[0m\u001b[0mpage_index\u001b[0m \u001b[1;33m==\u001b[0m \u001b[0mlen\u001b[0m\u001b[1;33m(\u001b[0m\u001b[0mself\u001b[0m\u001b[1;33m.\u001b[0m\u001b[0mcurrent_page\u001b[0m\u001b[1;33m)\u001b[0m \u001b[1;33m-\u001b[0m \u001b[1;36m1\u001b[0m\u001b[1;33m:\u001b[0m\u001b[1;33m\u001b[0m\u001b[0m\n\u001b[1;32m    196\u001b[0m             \u001b[1;31m# Reached end of current page, get the next page...\u001b[0m\u001b[1;33m\u001b[0m\u001b[1;33m\u001b[0m\u001b[0m\n\u001b[0;32m--> 197\u001b[0;31m             \u001b[0mself\u001b[0m\u001b[1;33m.\u001b[0m\u001b[0mcurrent_page\u001b[0m \u001b[1;33m=\u001b[0m \u001b[0mself\u001b[0m\u001b[1;33m.\u001b[0m\u001b[0mpage_iterator\u001b[0m\u001b[1;33m.\u001b[0m\u001b[0mnext\u001b[0m\u001b[1;33m(\u001b[0m\u001b[1;33m)\u001b[0m\u001b[1;33m\u001b[0m\u001b[0m\n\u001b[0m\u001b[1;32m    198\u001b[0m             \u001b[0mself\u001b[0m\u001b[1;33m.\u001b[0m\u001b[0mpage_index\u001b[0m \u001b[1;33m=\u001b[0m \u001b[1;33m-\u001b[0m\u001b[1;36m1\u001b[0m\u001b[1;33m\u001b[0m\u001b[0m\n\u001b[1;32m    199\u001b[0m         \u001b[0mself\u001b[0m\u001b[1;33m.\u001b[0m\u001b[0mpage_index\u001b[0m \u001b[1;33m+=\u001b[0m \u001b[1;36m1\u001b[0m\u001b[1;33m\u001b[0m\u001b[0m\n",
      "\u001b[0;32mC:\\Users\\milen\\Anaconda3\\lib\\site-packages\\tweepy\\cursor.py\u001b[0m in \u001b[0;36mnext\u001b[0;34m(self)\u001b[0m\n\u001b[1;32m    106\u001b[0m \u001b[1;33m\u001b[0m\u001b[0m\n\u001b[1;32m    107\u001b[0m         \u001b[1;32mif\u001b[0m \u001b[0mself\u001b[0m\u001b[1;33m.\u001b[0m\u001b[0mindex\u001b[0m \u001b[1;33m>=\u001b[0m \u001b[0mlen\u001b[0m\u001b[1;33m(\u001b[0m\u001b[0mself\u001b[0m\u001b[1;33m.\u001b[0m\u001b[0mresults\u001b[0m\u001b[1;33m)\u001b[0m \u001b[1;33m-\u001b[0m \u001b[1;36m1\u001b[0m\u001b[1;33m:\u001b[0m\u001b[1;33m\u001b[0m\u001b[0m\n\u001b[0;32m--> 108\u001b[0;31m             \u001b[0mdata\u001b[0m \u001b[1;33m=\u001b[0m \u001b[0mself\u001b[0m\u001b[1;33m.\u001b[0m\u001b[0mmethod\u001b[0m\u001b[1;33m(\u001b[0m\u001b[0mmax_id\u001b[0m\u001b[1;33m=\u001b[0m\u001b[0mself\u001b[0m\u001b[1;33m.\u001b[0m\u001b[0mmax_id\u001b[0m\u001b[1;33m,\u001b[0m \u001b[0mparser\u001b[0m\u001b[1;33m=\u001b[0m\u001b[0mRawParser\u001b[0m\u001b[1;33m(\u001b[0m\u001b[1;33m)\u001b[0m\u001b[1;33m,\u001b[0m \u001b[1;33m*\u001b[0m\u001b[0mself\u001b[0m\u001b[1;33m.\u001b[0m\u001b[0margs\u001b[0m\u001b[1;33m,\u001b[0m \u001b[1;33m**\u001b[0m\u001b[0mself\u001b[0m\u001b[1;33m.\u001b[0m\u001b[0mkargs\u001b[0m\u001b[1;33m)\u001b[0m\u001b[1;33m\u001b[0m\u001b[0m\n\u001b[0m\u001b[1;32m    109\u001b[0m \u001b[1;33m\u001b[0m\u001b[0m\n\u001b[1;32m    110\u001b[0m             \u001b[1;32mif\u001b[0m \u001b[0mhasattr\u001b[0m\u001b[1;33m(\u001b[0m\u001b[0mself\u001b[0m\u001b[1;33m.\u001b[0m\u001b[0mmethod\u001b[0m\u001b[1;33m,\u001b[0m \u001b[1;34m'__self__'\u001b[0m\u001b[1;33m)\u001b[0m\u001b[1;33m:\u001b[0m\u001b[1;33m\u001b[0m\u001b[0m\n",
      "\u001b[0;32mC:\\Users\\milen\\Anaconda3\\lib\\site-packages\\tweepy\\binder.py\u001b[0m in \u001b[0;36m_call\u001b[0;34m(*args, **kwargs)\u001b[0m\n\u001b[1;32m    243\u001b[0m             \u001b[1;32mreturn\u001b[0m \u001b[0mmethod\u001b[0m\u001b[1;33m\u001b[0m\u001b[0m\n\u001b[1;32m    244\u001b[0m         \u001b[1;32melse\u001b[0m\u001b[1;33m:\u001b[0m\u001b[1;33m\u001b[0m\u001b[0m\n\u001b[0;32m--> 245\u001b[0;31m             \u001b[1;32mreturn\u001b[0m \u001b[0mmethod\u001b[0m\u001b[1;33m.\u001b[0m\u001b[0mexecute\u001b[0m\u001b[1;33m(\u001b[0m\u001b[1;33m)\u001b[0m\u001b[1;33m\u001b[0m\u001b[0m\n\u001b[0m\u001b[1;32m    246\u001b[0m \u001b[1;33m\u001b[0m\u001b[0m\n\u001b[1;32m    247\u001b[0m     \u001b[1;31m# Set pagination mode\u001b[0m\u001b[1;33m\u001b[0m\u001b[1;33m\u001b[0m\u001b[0m\n",
      "\u001b[0;32mC:\\Users\\milen\\Anaconda3\\lib\\site-packages\\tweepy\\binder.py\u001b[0m in \u001b[0;36mexecute\u001b[0;34m(self)\u001b[0m\n\u001b[1;32m    227\u001b[0m                     \u001b[1;32mraise\u001b[0m \u001b[0mRateLimitError\u001b[0m\u001b[1;33m(\u001b[0m\u001b[0merror_msg\u001b[0m\u001b[1;33m,\u001b[0m \u001b[0mresp\u001b[0m\u001b[1;33m)\u001b[0m\u001b[1;33m\u001b[0m\u001b[0m\n\u001b[1;32m    228\u001b[0m                 \u001b[1;32melse\u001b[0m\u001b[1;33m:\u001b[0m\u001b[1;33m\u001b[0m\u001b[0m\n\u001b[0;32m--> 229\u001b[0;31m                     \u001b[1;32mraise\u001b[0m \u001b[0mTweepError\u001b[0m\u001b[1;33m(\u001b[0m\u001b[0merror_msg\u001b[0m\u001b[1;33m,\u001b[0m \u001b[0mresp\u001b[0m\u001b[1;33m,\u001b[0m \u001b[0mapi_code\u001b[0m\u001b[1;33m=\u001b[0m\u001b[0mapi_error_code\u001b[0m\u001b[1;33m)\u001b[0m\u001b[1;33m\u001b[0m\u001b[0m\n\u001b[0m\u001b[1;32m    230\u001b[0m \u001b[1;33m\u001b[0m\u001b[0m\n\u001b[1;32m    231\u001b[0m             \u001b[1;31m# Parse the response payload\u001b[0m\u001b[1;33m\u001b[0m\u001b[1;33m\u001b[0m\u001b[0m\n",
      "\u001b[0;31mTweepError\u001b[0m: Twitter error response: status code = 400"
     ]
    }
   ],
   "source": [
    "#Cria um objeto para a captura\n",
    "api = tweepy.API(auth)\n",
    "\n",
    "#Inicia a captura, para mais detalhes: ver a documentação do tweepy\n",
    "i = 1\n",
    "msgs = []\n",
    "for msg in tweepy.Cursor(api.search, q=produto, lang=lang).items():    \n",
    "    msgs.append(msg.text.lower())\n",
    "    i += 1\n",
    "    if i > n:\n",
    "        break\n",
    "\n",
    "#Embaralhando as mensagens para reduzir um possível viés\n",
    "shuffle(msgs)"
   ]
  },
  {
   "cell_type": "markdown",
   "metadata": {},
   "source": [
    "Salvando os dados em uma planilha Excel:"
   ]
  },
  {
   "cell_type": "code",
   "execution_count": null,
   "metadata": {
    "collapsed": true
   },
   "outputs": [],
   "source": [
    "#Verifica se o arquivo não existe para não substituir um conjunto pronto\n",
    "if not os.path.isfile('./{0}.xlsx'.format(produto)):\n",
    "    \n",
    "    #Abre o arquivo para escrita\n",
    "    writer = pd.ExcelWriter('{0}.xlsx'.format(produto))\n",
    "\n",
    "    #divide o conjunto de mensagens em duas planilhas\n",
    "    dft = pd.DataFrame({'Treinamento' : pd.Series(msgs[:t])})\n",
    "    dft.to_excel(excel_writer = writer, sheet_name = 'Treinamento', index = False)\n",
    "\n",
    "    dfc = pd.DataFrame({'Teste' : pd.Series(msgs[t:])})\n",
    "    dfc.to_excel(excel_writer = writer, sheet_name = 'Teste', index = False)\n",
    "\n",
    "    #fecha o arquivo\n",
    "    writer.save()"
   ]
  },
  {
   "cell_type": "markdown",
   "metadata": {},
   "source": [
    "___\n",
    "## Classificando as Mensagens\n",
    "\n",
    "Agora você deve abrir o arquivo Excel com as mensagens capturadas e classificar na Coluna B se a mensagem é relevante ou não.<br /> \n",
    "Não se esqueça de colocar um nome para a coluna na célula **B1**.<br /><br />\n",
    "Fazer o mesmo na planilha de Controle.\n",
    "\n",
    "___\n",
    "## Montando o Classificador Naive-Bayes\n",
    "\n",
    "Com a base de treinamento montada, comece a desenvolver o classificador. Escreva o seu código abaixo:\n",
    "\n",
    "Opcionalmente: \n",
    "* Limpar as mensagens removendo os caracteres: enter, :, \", ', (, ), etc. Não remover emojis.<br />\n",
    "* Corrigir separação de espaços entre palavras e/ou emojis.\n",
    "* Propor outras limpezas/transformações que não afetem a qualidade da informação.\n",
    "\n"
   ]
  },
  {
   "cell_type": "code",
   "execution_count": 167,
   "metadata": {},
   "outputs": [
    {
     "name": "stdout",
     "output_type": "stream",
     "text": [
      "C:\\Users\\milen\\OneDrive\\Documentos\\2o SEMESTRE\\CDD\\Projeto2-CD\n"
     ]
    }
   ],
   "source": [
    "print(os.getcwd())\n",
    "dados = pd.read_excel('Bradesco.xlsx')"
   ]
  },
  {
   "cell_type": "code",
   "execution_count": 168,
   "metadata": {},
   "outputs": [],
   "source": [
    "#dados\n"
   ]
  },
  {
   "cell_type": "code",
   "execution_count": 169,
   "metadata": {},
   "outputs": [
    {
     "name": "stdout",
     "output_type": "stream",
     "text": [
      "91\n"
     ]
    }
   ],
   "source": [
    "#pegando os dados interessantes para nos\n",
    "dr= dados.Respostas[dados.Relevancia=='r']\n",
    "print(len(dr))\n",
    "probder= 91/300"
   ]
  },
  {
   "cell_type": "code",
   "execution_count": 170,
   "metadata": {},
   "outputs": [
    {
     "name": "stdout",
     "output_type": "stream",
     "text": [
      "209\n"
     ]
    }
   ],
   "source": [
    "di= dados.Respostas[dados.Relevancia=='i']\n",
    "print(len(di))\n",
    "probdei=209/300"
   ]
  },
  {
   "cell_type": "code",
   "execution_count": 171,
   "metadata": {
    "scrolled": true
   },
   "outputs": [
    {
     "name": "stdout",
     "output_type": "stream",
     "text": [
      "606\n",
      "['já', 'estou', 'cansado', 'de', 'entrar', 'em', 'contato', 'com', 'a', 'ouvidoria', 'do', '', 'para', 'solução', 'do', 'meu', 'problema', 'causado', 'pela', 'ineficiência', 'do', 'banco', 'bradesco', 'me', 'ligou', 'oferecendo', 'cartão', 'de', 'crédito', 'e', 'falei', 'que', 'estava', 'desempregado', 'e', 'sem', 'receber', 'renda', 'a', 'atendente', 'desligou', '', 'me', 'pedem', 'comprovação', 'alta', 'de', 'renda', 'p/', 'ter', 'o', 'amex', 'tpc', 'p/', 'o', 'cartão', 'negar', 'compras', 'de', 'r$100', 'sugiro', 'por', '1', 'limite', 'visivel', 'pq', 'ta', 'dificil', '', 'ja', 'rodei', 'esse', 'app', 'e', 'nao', 'encontro', 'o', 'saldo', 'que', 'investiu', 'se', 'for', 'pra', 'nao', 'ter', 'quero', 'cancelar', 'ne', 'eu', 'dou', 'mas', 'quero', 'receber', 'de', 'volta', 'rs', '', '', 'não', 'demora', 'muito', 'e', 'o', 'bradesco', 'vai', 'falir', 'desse', 'jeito', 'tô', 'tão', 'tisti', 'alguém', 'paga', 'o', 'meu', 'nubank', 'e', 'caduca', 'minha', 'dívida', 'com', 'o', 'bradesco', '', 'bradesco', 'é', 'o', 'pior', 'banco', 'pra', 'receber', '😪😪', '', 'depois', 'de', 'sugarem', 'até', 'a', 'nossa', 'alma', 'com', 'os', 'juros', 'bancários', 'agora', 'vocês', 'vem', 'aqui', 'querer', 'homenagear', 'nó', 'gaúchos', 'o', 'gerente', 'diz', 'pra', 'usar', 'a', 'sala', 'vip', 'do', '', 'em', 'congonhas', 'e', 'nas', 'ultimas', 'duas', 'vezes', 'não', 'tinha', 'nem', 'lugar', 'pra', 'sentar', 'bem', 'vip', 'ui', 'banco', 'do', 'bradesco', 'é', 'uma', 'merda', 'pior', 'banco', 'que', 'tem', 'esse', 'lixo', '😠', 'num', 'vou', 'conseguir', 'malhar', 'hoje', 'pois', 'vou', 'ter', 'q', 'mofar', 'no', 'bradesco', '😤', 'posicione', 'se', '', '', 'saia', 'do', 'anonimato', 'da', 'tela', 'do', 'computador', 'e', 'venha', 'para', 'a', 'vida', 'real', 'solucionar', 'meu', 'problema', 'causado', 'pelo', 'banco', '', 'ainda', 'nada', 'amiguinhos', 'do', '', 'eu', 'sou', 'cliente', 'exclusive', 'pra', 'ter', 'mais', 'facilidade', 'não', 'pra', 'ficar', 'mais', 'difícil', '🙄', 'pq', 'não', 'tem', 'aviso', 'de', 'viagem', 'pelo', 'app', '13', 'minutos', 'esperando', 'um', 'atendimento', 'do', 'bradesco', 'pra', 'desbloquear', 'minha', 'chave', 'de', 'segurança', 'alguém', 'me', 'atende', 'estou', 'pra', 'ver', 'um', 'atendimento', 'pior', 'que', 'o', '', 'de', 'bairro', 'novo', 'parece', 'que', 'trabalham', 'obrigado', 'e', 'sem', 'receber', 'vôte', 'que', 'demora', 'do', 'inferno', 'pra', 'responder', 'um', 'tweet', '', 'não', 'tem', 'banco', 'melhor', 'que', 'o', 'bradesco', 'rápido', 'e', 'com', 'seriedade', '👏🏻', 'se', 'me', 'perguntarem', 'o', 'que', 'faço', 'da', 'vida', 'vou', 'responder', 'eu', 'passo', 'dia', 'ligando', 'pra', 'centrais', 'de', 'telefone', 'para', 'fazer', 'reclamações', 'alou', 'bradesco', 'net', '', '', 'partiu', 'derrubar', 'qualquer', 'placa', 'do', 'bradesco', 'daí', 'você', 'está', 'pelo', 'segundo', 'dia', 'tentando', 'ligar', 'no', '#bradesco', 'mas', 'para', 'variar', 'eles', 'não', 'atendem', 'dá', 'vontade', 'de', 'cancelar', 'a', 'conta', 'q', 'é', 'antiga', 'alô', '', 'queria', 'dizer', 'que', 'quero', 'cancelar', 'meu', 'seguro', 'de', 'vida', 'e', 'quero', 'o', 'reembolso', 'de', 'dois', 'anos', 'descontados', 'da', 'minha', 'conta', '', 'ja', 'consegui', 'foram', 'tão', 'rápido', 'pra', 'me', 'responder', 'né', '🙂', 'agr', 'tô', 'bradesco', 'minha', 'senha', 'eh', '36', 'e', 'tá', 'no', '19', 'e', 'lotado', 'de', 'veio', 'vsf', 'e', 'aí', '', '', 'quando', 'o', 'minha', 'solicitação', 'será', 'atendida', 'protocolo', 'ouvidoria', '286971446', 'rt', '', 'falsidade', 'hoje', 'está', 'igual', 'ao', 'bradesco', 'lado', 'a', 'lado', 'com', 'você', 'a', 'gente', 'começa', 'a', 'perceber', 'que', 'tá', 'ficando', 'velho', 'quando', 'vc', 'fica', '20', '25', 'minutos', 'no', 'telefone', 'com', 'o', 'cartão', 'da', 'bradesco', '🤔😴', '', 'eu', 'quero', 'entender', 'cada', 'uma', 'das', 'coisas', 'que', 'eu', 'pago', 'e', 'cada', 'um', 'dos', 'planos', 'que', 'posso', 'ter', 'acesso', 'há', 'pouca', 'inf…', '', 'eu', 'gostava', 'mais', 'quando', 'ia', 'em', 'outras', 'agências', 'do', 'bradescoessa', 'tá', 'muito', 'cheia', 'e', 'vazia', 'ao', 'mesmo', 'tempo', '🤷🏽\\u200d♂️', 'me', 'ajuda', 'ai', '', '', 'quero', 'saber', 'sobre', 'uma', 'taxa', 'que', 'desconheço', 'na', 'minha', 'conta', 'bradesco', 'sempre', 'perto', 'de', 'você', '☺', 'slogan', 'que', 'define', 'a', 'amizade…', '', '', 'oi', 'obrigada', 'pelo', 'elogio', 'é', 'ótimo', 'saber', 'que', 'você', 'gostou', 'do', 'método', 'utilizado', 'para', 'realização', 'do', 'serviço', '', 'ter', 'uma', 'mão', 'enorme', 'e', 'tentar', 'sacar', 'dinheiro', 'no', 'caixa', 'do', 'bradesco', 'que', 'missão', 'insuportável', '😡', 'cansada', 'desse', 'bradesco', '', 'só', 'dor', 'de', 'cabeça', 'já', 'o', '', 'uma', 'empresa', 'privada', 'que', 'vive', 'do', 'lucro', 'das', 'altas', 'taxas', 'de', 'juros', 'que', 'pagamos', 'sequer', 'se', 'posicionou', 'vergonha', '', 'o', 'cliente', 'além', 'de', 'pagar', 'taxas', 'abusivas', 'ainda', 'se', 'depara', 'com', 'a', 'total', 'falta', 'de', 'responsabilidade', 'e', 'respeito', 'do', '', 'se', 'você', 'for', 'ao', '', 'da', 'mascarenhas', 'leve', 'café', 'e', 'almoço', 'muita', 'gente', 'e', 'atendimento', 'lento', '', 'eu', 'tb', 'pô', 'sou', 'bb', 'e', 'nunca', 'deu', 'rolê', 'esse', 'doc', 'já', 'tentei', 'no', 'bradesco', 'tb', 'e', 'não', 'funcionou', 'daí', 'vou', 'ter', 'q', 'ir', 'lá', '😡', '', '', 'empresa', 'omissa', 'não', 'respeita', 'seus', 'clientes', 'não', 'cumpre', 'prazos', 'pede', '10', 'dias', 'úteis', 'e', 'não', 'resolve', 'em', '100', 'dias', 'úteis', '#vergonha', 'aqui', 'em', 'barra', 'do', 'rocha', 'ta', 'fazendo', 'vergonha', 'a', 'população', 'pagando', 'uma', 'taxa', 'para', 'o', 'bradesco', 'e', 'o', 'bradesco', 'não', '', '', 'bradesco', 'é', 'a', 'junção', 'de', 'banco', 'com', 'desconto', 'segura', 'essa', 'saga', 'do', 'bradesco', 'parte', '2', '', 'é', 'o', 'mais', 'atualizado', 'tanto', 'o', 'do', 'bradesco', '', 'tanto', 'o', 'web', 'view', '', 'minha', 'conexão', 'é', 'boa', '', '', '', 'senhorespoderiam', 'se', 'posicionar', 'como', 'pode', 'continuar', 'sem', 'sistema', 'para', 'consórcio', 'desde', 'dia', '31/08', 'isso', 'é', 'uma', 'vergonha', 'nossa', 'bradesco', 'não', 'dá', 'um', 'ar', 'mais', 'banco', 'sem', 'dúvidas', 'é', 'o', 'pior', 'lugar', 'do', 'mundo', 'agilidade', 'zero', '40', 'min', 'esperando', 'já', 'valeu', 'ein', '', 'não', 'tá', 'escrito', 'o', 'quanto', 'eu', 'odeio', 'o', 'bradesco', '', 'vocês', 'são', 'muito', 'atenciosos', 'e', 'explicativos', 'pelas', 'redes', 'mas', 'o', 'atendimento', 'telefônico', 'não', 'facilita', '', 'não', 'consigo', 'acessar', 'minha', 'conta', 'pelo', 'aplicativo', 'parece', 'que', 'essa', 'atualização', 'complicou', 'tudo', 'aparece', 'assim', 'conheça', 'seu', 'banco', '', 'como', 'fazer', 'em', 'pleno', 'sec', '21', 'e', 'o', '0800', 'de', 'vcs', 'não', 'aceita', 'chamada', 'de', 'cel', 'ou', 'tel', 'publico', 'preciso', 'falar', 'com', 'vcs', 'e', 'não', 'consigo', '', 'pior', 'banco', 'vontade', 'de', 'passar', 'em', 'frente', 'ao', 'bradesco', 'e', 'soltar', 'uma', 'bomba', 'foda', 'se', '', 'mano', 'é', 'o', 'pior', 'app', 'do', 'bradesco', 'mil', 'vezes', 'melhor', 'rt', '', '', 'banco', 'lixo', 'do', 'caralho', 'eu', 'gosto', 'muito', 'do', 'bradesco', 'alô', '', 'e', 'essa', 'ineficiência', 'toda', 'pra', 'resolver', 'o', 'problema', 'do', 'protocolo', 'na', 'ouvidoria', '286971446', 'estou', 'há', '5', 'meses', 'esperando', 'o', 'retorno', '', 'não', 'o', 'atendimento', 'eletrônico', 'não', 'reconhece', 'o', 'comando', 'eu', 'odeio', 'o', 'banco', 'bradesco', 'caralho', 'morra', 'capitalismo', 'desgraçado', '', 'só', 'grosseria', 'e', 'má', 'vontade', 'meu', 'sonho', 'resolver', 'minhas', 'coisas', 'pelo', 'fone', 'fácil', 'bradesco', 'sem', 'passar', 'uma', 'vida', 'esperando', 'casaaaaaaa', 'ah', 'não', 'irei', 'mofar', 'no', 'bradesco', 'ainda', '🙁', '', 'poxa', 'os', 'desenvolvedores', 'do', 'bradesco', 'são', 'amadores', '😨', 'não', 'pode', 'abrir', 'um', 'chamado', 'para', 'resolver', 'um', 'simples', 'problema', '😠', 'o', 'bradesco', 'tem', 'mais', 'é', 'que', 'se', 'fuder', 'banquinho', 'de', 'merda', 'bando', 'de', 'vagabundo', 'que', 'cobra', 'taxa', 'inexistente', 'pra', 'bater', 'meta', 'vão', 'se', 'fuder', 'na', 'justiça', '', '', 'da', 'a', 'entender', 'q', 'essas', 'agência', 'nao', 'estão', 'nem', 'aí', 'que', 'se', 'foda', 'seus', 'clientes', '-', '', 'é', 'vergonhoso', 'um', 'banco', 'onde', 'hajam', 'senhas', 'de', 'atendimento', 'para', 'ricos', 'e', 'para', 'pobres', '#eusounotwitter', 'porque', 'o', '#bradesco', 'só', 'disponibiliza', 'um', 'caixa', 'eletrônico', 'pra', 'depósito', 'em', 'nova', 'iguaçu', 'independente', 'da', 'agência', '#absurdo', 'tanana', 'foi', 'pagar', 'uma', 'conta', 'pra', 'mim', 'lá', 'no', 'bradesco', 'tadinha', 'dela', '💜😏', '', 'corumbá', 'ms', 'ficaram', '20', 'reais', 'da', 'aposentadoria', 'da', 'minha', 'mãe', 'lá', 'pq', 'os', 'caixas', 'nunca', 'tem', 'notas', 'de', '20', '10', '5', 'e', '2', 'nunca', 'nunca', 'bradesco', 'só', 'tem', 'app', 'lixo', 'deus', 'me', 'defenderay', '', 'eu', 'ia', 'falar', 'bradesco', 'tb', 'mas', 'tds', 'as', 'vzs', 'q', 'comecei', 'a', 'usar', 'troquei', 'pra', 'outro', 'logo', 'em', 'seguida', 'então…', '', '', 'sendo', 'que', 'já', 'é', 'universitária', 'pressupõe', 'que', 'eu', 'não', 'tenho', 'renda', 'e', 'vocês', 'estão', 'cobrando', 'essas', 'taxas', 'absurdo', 'odeio', 'o', 'bradesco', 'com', 'todas', 'as', 'minhas', 'forças', 'ódio', 'do', 'bradesco', 'na', 'moral', 'serviço', 'do', 'alô', 'bradesco', 'é', 'muito', 'escroto', 'socorro', '', 'odeio', 'essa', 'porra', 'de', 'limite', 'doc', 'e', 'ter', 'que', 'falar', 'c', 'o', 'gerenteo', 'dinheiro', 'é', 'meu', 'se', 'eu', 'quiser', 'movimentar', '1', 'mi', 'vc', 'tem', 'que', 'liberar', '', 'rt', '', '', 'esse', 'aplicativo', 'do', 'celular', 'sempre', 'está', 'indisponível', '', 'o', 'invest', 'facil', 'quando', 'abri', 'a', 'conta', 'ja', 'tava', 'no', 'pacote', 'so', 'q', 'nao', 'consigo', 'ver', 'nenhum', 'saldo', '', 'como', 'faço', 'para', 'fazer', 'o', '', 'cumprir', 'com', 'seu', 'trabalho', 'afim', 'de', 'resolver', 'a', 'situação', 'do', 'protocolo', 'ouvidoria', '286971446', '', 'via', '4004-4436', 'desde', '5a', 'cai', 'na', 'atendente', 'e', 'sou', 'informado', 'que', 'está', 'sem', 'sistema', 'para', 'fazer', 'o', 'abatimento', 'do', 'valor', 'do', 'lance', '😡', 'odeio', 'bradesco', 'com', 'todas', 'minhas', 'forças', 'que', 'banco', 'fdp', '', 'vocês', 'investiram', 'meu', 'dinheiro', 'sem', 'a', 'minha', 'permissão', 'é', 'deixaram', 'só', '1', 'real', 'na', 'minha', 'conta', 'como', 'resolvo', 'isso', 'logo', '', 'já', 'resolvi', 'já', 'era', 'porque', 'não', 'conseguia', 'abrir', 'a', 'conta', 'sempre', 'alguma', 'coisa', 'que', 'faltava', 'mas', 'ontem', 'consegu…', '', '', 'sim', 'pelo', 'site', 'foi', '', 'agora', 'eu', 'já', 'paguei', 'o', 'darf', 'não', 'pelo', 'app', 'mas', 'sim', 'pelo', 'site', '10', 'minutos', 'no', 'fone', 'fácil', 'do', '', 'e', 'ainda', 'não', 'fui', 'atendido', 'táqueopareo', 'o', '', 'ainda', 'não', 'percebeu', 'que', 'o', 'erro', 'que', 'tô', 'mostrando', 'pra', 'eles', 'não', 'é', 'um', 'erro', 'de', 'usuário', 'e', 'sim', 'de', 'desenvolvimento', 'da', 'aplicação', 'uns', 'meses', 'atrás', 'eu', 'reparei', 'que', 'o', 'quando', 'eu', 'vou', 'sacar', 'meu', 'salário', 'sempre', 'tem', 'a', 'menos', 'do', 'que', 'depositam', 'bradesco', 'me', 'comendo', '30', 'conto', 'mês', '👍🏼🤙🏼', 'bradesco', 'soltaaaaaa', 'nosso', 'money', 'kkkkk', 'ow', '', 'eu', 'cadastrei', 'a', 'biometria', 'e', 'meu', 'saque', 'ainda', 'tá', 'com', 'limite', 'de', '300', 'vcs', 'são', 'loko', 'meu', 'deus', 'não', 'entendo', 'a', 'dificuldade', 'de', 'uma', 'empresa', 'em', 'assumir', 'que', 'cagou', 'e', 'me', 'devolver', 'a', 'porra', 'do', 'meu', 'dinheiro', '', 'quanto', 'tempo', 'mais', 'o', '', 'vai', 'levar', 'pra', 'resolver', 'minha', 'situação', 'os', 'famosos', '10', 'dias', 'úteis', 'já', 'passaram', 'de', '100', 'dias', 'úteis']\n"
     ]
    }
   ],
   "source": [
    "dicior={}\n",
    "palavras=[]\n",
    "Desconsiderar=0\n",
    "# limpando\n",
    "for x in dr:\n",
    "    nomes=x.split()\n",
    "    for y in nomes:\n",
    "        p2=[]\n",
    "        if y[0]=='h' and y[1]=='t':\n",
    "            y='.'\n",
    "            Desconsiderar+=1\n",
    "        if y[0]== '@':\n",
    "            y='.'\n",
    "            Desconsiderar+=1\n",
    "        for i in y : \n",
    "            if i!= \":\" and i!=\"'\" and i!='\"' and i!=' ' and i!= \",\" and i!= \".\" and i!='?'and i!='!' and i!='(' and i!=')' :\n",
    "                p2.append(i)\n",
    "        a=\"\".join(p2)\n",
    "        palavras.append(a)\n",
    "        if x in dicior:\n",
    "            dicior[y]+=1\n",
    "        else:\n",
    "            dicior[y]=1\n",
    "        \n",
    "            \n",
    "#print(dicior)\n",
    "tr=sum(dicior.values())-Desconsiderar\n",
    "print(tr)     \n",
    "print(palavras)"
   ]
  },
  {
   "cell_type": "code",
   "execution_count": 172,
   "metadata": {},
   "outputs": [
    {
     "name": "stdout",
     "output_type": "stream",
     "text": [
      "{'bandidos': 8, 'explodem': 8, 'caixas': 6, 'do': 65, 'bradesco': 102, 'em': 50, 'prédio': 6, 'da': 31, 'prefeitura': 10, 'de': 80, 'campina': 8, 'grande,': 4, 'no': 33, 'centro': 4, 'cidade:…': 2, '.': 279, 'rt': 60, 'cidade:': 2, 'h…': 1, \"i'm\": 14, 'at': 14, 'in': 17, 'são': 9, 'paulo,': 4, 'sp': 3, 'noooosssa,': 1, 'pode': 3, 'colocar': 1, 'nessa': 3, 'lista': 1, 'também!': 1, 'acho': 2, 'que': 55, 'nenhum': 1, 'presta': 2, 'mesmo': 2, ':(': 1, 'não,': 1, 'caso': 1, 'o': 55, 'banco': 12, 'tenha': 1, 'enviado': 1, 'foi': 7, 'para': 10, 'meu': 6, 'antigo': 1, 'endereço.': 1, 'e': 45, 'até': 21, 'quem': 21, 'me': 26, 'vê': 21, 'na': 32, 'fila': 21, 'sabe': 21, 'eu': 36, 'te': 21, 'encontrei': 21, 'infelizmente': 1, 'sim,': 2, 'recebi': 1, 'um': 15, 'email': 1, 'hj': 1, 'q': 1, 'só': 3, 'bandeira': 2, 'visa': 1, 'ou': 5, 'seja': 1, 'cartão': 7, 'momento': 1, 'estamos': 1, 'trabalhando': 1, 'com': 25, 'ambos!': 1, 'se': 8, 'seu': 8, 'boleto': 3, 'agora': 2, 'está': 2, 'vindo': 1, 'como': 3, 'bradesco,': 5, 'não': 16, 'precisa': 3, 'preocupar': 1, ':)': 3, 'vou': 5, 'pedir': 9, 'verifiquem': 2, 'houve': 1, 'ao': 6, 'transacionar.': 1, 'por': 17, 'favor,': 2, 'informe': 3, 'telefone': 5, 'ddd': 4, 'dm.': 3, 'alguém': 1, 'tem': 4, 'conta': 10, '?': 1, 'santo': 1, 'antônio': 1, 'platina,': 1, 'paraná': 1, 'problema,': 1, 'vc': 5, 'algum': 1, 'e-mail?': 1, 'olá!': 13, 'é': 15, 'possível': 1, 'fazer': 2, 'aviso': 1, 'viagem': 1, 'pelo': 3, 'app': 1, 'dentro': 3, 'ícone': 1, 'cartões.': 1, 'explodiram': 3, 'to': 4, 'bem': 3, 'chocada,': 2, 'quero': 2, 'bandidagem': 3, 'região': 2, '#pas': 2, 'já': 7, 'resolvido': 1, 'anjo': 1, 'muito': 1, 'obrigada': 2, 'a': 79, 'história': 28, 'orgulho': 27, 'dos': 30, 'gaúchos': 27, 'vira': 27, 'festa': 27, 'setembro.': 27, 'semana': 27, 'farroupilha': 27, 'tá': 33, 'chegando!': 27, 'vem': 27, 'conhecer': 27, 'mais:': 28, 'qual': 10, 'nome': 3, 'investimento?': 3, 'trabalhadores': 3, 'assinam': 7, 'acordos': 8, 'específicos': 8, '#bradesco.': 1, 'confira:': 1, 'p/': 1, 'área': 1, 'responsável': 1, 'verificar': 3, 'acontecendo.': 1, 'envie': 2, 'dm': 4, 'tel': 1, 'ddd.': 1, 'fico': 3, 'à': 6, 'disposição!': 1, 'rio': 3, 'marca': 1, 'leilão': 2, 'folha': 1, 'servidores': 1, 'esta...': 1, 'via': 4, 'ganha': 1, 'fraude': 1, 'pura': 1, 'oi!': 5, 'possibilidade': 2, 'aumentar': 1, 'limite': 1, 'pela': 2, 'central': 1, 'ou,': 1, 'tiver': 1, 'gente,': 1, 'gerente.': 1, 'brasília,': 1, 'df': 1, 'cadastro': 1, 'token': 1, 'você;': 2, 'favor': 2, 'pooooooo': 1, 'bradesco...': 1, 'bradesco?': 2, 'infomoney': 1, '::': 1, 'estima': 1, 'ibovespa': 2, 'atingirá': 1, '69.000': 1, 'pontos': 1, '2012': 1, 'tira': 1, 'uma': 8, 'duvida..': 1, 'voces': 1, 'trocaram': 1, 'safra': 1, '$bbdc4': 2, '-': 12, '(bbdc-n1)': 2, 'ata': 2, 'reuniao': 2, 'conselho': 2, 'administracao': 2, '29/08/17': 2, 'bradesco.': 2, 'assim': 1, 'receber': 1, 'novo,': 1, 'mando': 1, 'pra': 5, 'vocês': 1, 'posto': 5, 'alvo': 4, 'explosão': 5, 'nesta': 4, 'terça-feira': 3, 'agreste': 3, 'negociação': 1, 'permanente': 1, 'entidades': 1, 'saiba': 1, 'short': 2, 'interest': 2, 'sa': 2, '$bbd': 2, 'declines': 2, 'by': 2, '18.3%': 2, 'posso': 9, 'ajudar?': 6, 'houve?': 5, 'acusados': 1, 'participação': 2, 'assalto': 2, 'brejo': 2, 'cruz': 2, 'presos': 1, 'bom': 3, 'dia': 3, '(@': 4, 'w/': 6, 'desse': 1, 'abrir': 2, 'reclamação.': 1, 'dm,': 1, 'po…': 1, 'agência': 8, 'umburanas': 1, 'quadrilha': 4, 'explode': 3, 'itanhandu/mg': 3, '–': 2, 'portal': 3, 'mix': 2, 'vale': 2, '|': 2, '12': 2, '981430089': 2, '(whatsapp)': 2, 'eletrônicos': 2, 'secretaria': 1, 'finanças': 1, 'grande.': 1, 'atenção': 1, 'puder': 1, 'compartilhar': 1, 'ajudar': 1, 'agradeço!': 1, '3271-9': 1, 'corrente': 1, '557194-4...': 1, 'bancária': 1, 'campina,': 1, 'av': 1, 'floriano': 1, 'peixoto.': 1, 'aconteceu?': 5, 'caixa': 3, 'explodido': 1, 'antiga': 1, 'cg': 1, 'eletrônico': 1, 'atendimento': 1, 'cidade': 2, 'feira': 2, 'nova-pe.,': 1, 'ficou': 1, 'sem': 2, 'vez!': 1, 'oiie!': 1, ':/': 1, 'eiii': 1, 'tô': 2, 'aqui': 4, 'acupuntura,': 1, 'aceita': 1, 'sim': 2, 'você': 13, 'correntista?': 1, 'ainda': 3, 'conta?': 2, 'podia': 2, 'ir': 6, 'hoje': 4, 'descobrir': 2, 'usando': 2, 'milhões': 2, 'mossoró,': 1, 'grande': 2, 'norte': 1, 'quinta': 1, '(07/09):': 1, 'maestro': 1, 'rogério': 1, 'martins': 1, 'tributo': 1, 'elton': 1, 'john': 1, 'teatro': 3, 'barra!…': 1, 'deve': 2, 'cancelamento': 1, 'envio': 1, 'novo': 2, 'através': 3, 'central.': 1, 'ligou': 1, 'fone': 2, 'fácil?': 1, 'bancários': 2, 'tentou': 2, 'consultar': 1, 'internet': 1, 'banking': 1, 'opção': 2, '\"investimentos\"?': 1, 'parceria': 2, 'entre': 1, 'sicor-rj': 1, 'seguros': 1, 'promove': 1, 'qualificação': 1, 'corretores': 1, 'seguro.': 1, 'clique': 1, 'ver': 1, 'também': 1, '☛': 1, 'fui': 2, '🤑': 1, 'alienado': 3, 'esse': 3, 'torcedor': 3, 'né?': 3, 'ebm': 3, 'criou': 6, 'apenas': 3, 'mentalidade': 3, 'derrotada': 3, 'flamengo,': 3, 'exército…': 1, 'quando': 4, 'lava': 1, 'jato': 1, 'vai': 1, 'chegar': 3, 'sistema': 1, 'financeiro?': 1, 'gente': 2, 'céu': 1, 'ajudem': 1, 'achar': 1, 'homem': 1, 'minha': 2, 'vida': 2, 'dele': 1, 'anderson': 1, 'ele': 1, 'gerente': 1, 'porto': 1, 'seco': 1, 'pirajá': 1, 'exército': 2, 'zum…': 2, 'disposição': 2, ';)': 1, 'facebook,': 1, 'bb': 1, 'entram': 1, \"'onda',\": 1, 'venham': 1, 'ótimas': 1, 'ideias': 1, 'projetos.': 1, 'ladrões': 1, 'grande;': 1, 'pm': 1, 'recupera': 1, '15': 1, 'mil': 1, 'reais': 1, 'queimadas': 1, 'caindo': 1, '0,30%,': 1, 'pressionado': 1, 'itaú,': 1, 'vale:': 1, 'itub4,-0,80%': 1, 'bbdc4,-2,29%': 1, 'vale3,-2,04%': 1, 'falta': 1, 'metade': 1, 'pregão': 1, 'mudar': 2, 'for': 2, 'cheque': 1, 'ilimitado': 1, 'então': 1, 'tu': 1, 'aceita?': 1, 'recebeu': 1, 'cartão?': 1, 'ajuda': 1, 'cielo': 1, 'firmam': 1, 'os': 3, 'cartórios...': 1, 'madrugada': 1, 'nova.': 1, 'detalhes': 1, 'blog...': 1, 'vence': 1, 'e,': 1, 'r$': 1, '1,3': 1, 'bilhão,': 1, 'pezão': 1, 'regularizará': 1, 'folhas': 1, 'maio': 1, 'junho': 1, 'tenho': 1, 'passar': 2, 'depois': 2, 'brasil': 1, 'polícia': 1, 'prende': 1, 'dois': 1, 'suspeitos': 1, '#catracabh': 1, 'vivaldi': 2, 'anitta,': 2, 'família': 2, 'lima': 3, 'apresenta': 2, 'tipo': 1, 'investimento': 2, 'adquiriu?': 1, 'mídia': 1, 'feito?': 1, 'fala': 1, 'bandeira?': 1, 'adulto': 1, 'complicado...': 1, 'faltar': 1, 'faculdade': 1, 'sua': 2, '🙄': 2, 'assinados': 3, '4': 1, 'coletivos': 1, 'aditivos': 3, 'relacionados': 1, 'direitos': 1, 'conquistados': 1, 'pelos': 1, 'trabalhadores.': 1, 'possuo': 1, 'ativo': 1, 'mas': 2, 'chave': 2, 'conseguiu': 1, 'cancelar': 2, 'nova': 1, 'via?': 1, 'perdido?': 1, 'consulta': 2, 'saldo': 2, 'conta,': 1, '\"extratos\",': 1, 'consegue': 1, 'visualizar': 1, 'qualquer': 1, 'agencia': 2, 'solicitar': 1, 'transferencia': 1, 'salario': 1, 'outro': 2, 'ser': 2, 'minha?': 1, 'arrebentaram': 1, 'itanhandu..': 1, 'mundo': 2, 'perdido': 1, 'certo!': 1, 'kkkkkkj': 1, 'fundação': 1, 'cara': 1, 'assaltaram': 1, 'poder': 1, 'comprar': 1, 'churros': 1, 'pensei': 1, 'tava': 1, 'negativa': 1, 'nao': 1, 'tá,': 1, 'felicidade,': 1, 'asdaisjdosjoifjdosfjk': 1, 'mt': 2, 'deverá': 2, 'frente': 2, 'fria': 2, 'feriado.': 2, 'isso': 3, 'significa,': 2, 'ônibus': 2, 'cheio': 2, 'gaúchos,': 2, 'com…': 1, 'atoa': 1, 'leia': 1, 'mais:...': 1, 'solicitação': 2, 'feita': 1, 'fácil': 1, 'agência.': 1, 'fizer': 1, 'pedido': 1, 'confirmar': 1, 'atendente': 2, '(+)': 2, 'mensagem': 2, 'erro': 1, 'aparece': 1, 'tenta': 1, 'serviço?': 1, '🚨🚨explosão': 1, '*#itanhandu*,': 1, 'as': 3, '4:30hs!': 1, 'alvo...': 1, 'registrar': 1, 'retorno': 1, 'dia!': 1, 'encaminhamos': 1, 'orientações': 1, 'privada.': 1, 'pediu': 1, 'solicitou': 1, 'liberação': 1, 'função': 1, 'crédito?': 1, 'fez': 2, 'isso?': 1, '💎': 1, '—': 1, 'av.': 1, 'pres.': 1, 'lincoln': 1, 'joão': 1, 'meriti,': 1, 'janeiro)': 1, 'enviei': 1, 'print': 1, 'roubaram': 1, 'celular,': 1, 'aí': 1, 'queria': 1, 'reativar': 1, 'telefone,': 1, 'disse': 1, 'partiu': 1, 'festejar': 1, 'chacina': 1, 'lanceiros': 1, 'negros': 1, 'aplicou': 1, 'golpe': 1, 'instituição': 1, 'financeira': 1, 'foge': 1, 'responsabilid…': 1, 'alva': 1, 'desta': 1, 'vez': 1, 'grande…': 1, 'nossa': 2, 'equipe': 1, 'verifique.': 1, 'ddd,': 1, 'favor?': 1, 'envia': 1, '😊': 1, 'c…': 1, 'jovem': 1, 'aprendiz': 1, 'pré': 1, 'inscrições': 1, '2017': 1, 'dizem': 2, 'respeito': 2, 'telebanco,': 2, 'financiamentos,': 2, 'cipa': 2, 'treinet': 2, 'ponto': 2, 'eletrônico.': 1, 'kkkkkk': 1, '):': 1, 'acontecendo': 1, 'twitter': 1, 'todo': 1, 'respondendoo': 1, 'pessoal??': 1, 'exército,': 1, 'vigor,': 1, 'pm,': 1, 'kkkkkkkk': 1, 'rindo': 1, 'mto': 1, 'isso!!': 1, 'serviço/informação': 1, 'precisa?': 1, 'palmeira,': 1, 'pr': 1, 'será': 1, 'enviada,': 1, 'elo,': 1, 'alteração': 1, 'aqui.': 1, '#relatórios': 1, '#recomendação': 1, '#lojasrenner': 1, '#bradesco': 1, 'estão': 1, 'atualizados.': 1, 'confira': 1, 'módulo': 1, 'empresas.': 1, 'ag.': 1, 'jaboatão': 1, 'agência?': 1, 'sao': 2, 'paulo,sp': 1, 'acabou': 1, 'acontecer': 1, 'comigo,': 1, 'empresas': 1, 'faria': 1, 'paulo': 2, 'busco': 1, 'companhia': 1, 'crowdfunding\":dez': 1, 'dias': 1, 'abalaram': 1, 'mundo\".whatsapp': 1, '(21-98877-3322)instituto': 1, 'ensaio': 1, 'abertocnpj': 1, '10289112/0001-68': 1, 'ag7049': 1, 'c/c': 1, '1813-9': 1, 'aparecida': 1, 'goiânia,': 1, 'goiás': 1, 'riquissimo': 1, 'ny': 1, 'paulo)': 1, 'adoro': 1, 'cobra': 1, 'serviço': 1, 'solicito': 1, 'eletrônico.…': 1, 'prazo': 1, 'desbloquear': 1, 'depósito': 1, 'cheque?': 1, 'planos': 1, 'saude': 1, 'empresarial': 1, 'saude.': 1, 'itaú': 1, '\"bancários': 1, 'bradesco\",': 1, 'blogosfera': 1, 'rede': 1, 'pt': 1, 'curta': 1, 'página:...': 1, '&lt;3': 1, '\"ippon:': 1, 'luta': 1, 'vida\"': 1, 'estreia': 1, 'domingo': 1, 'técnicas': 1, 'sarah': 1, 'menezes': 1, 'promessas': 1, 'judô.…': 1, '...outras': 1, 'formas': 1, 'pagamento:débito': 1, '(bradesco/': 1, 'hsbc,': 1, 'santander,': 1, 'caixa),': 1, 'cartões': 1, 'débito': 1, 'do…': 1, 'francisco': 1, 'conde': 1, 'chegando': 1, '🙌': 1, 'faço': 1, 'pagamento': 1, 'fiz': 1, 'querer': 1, 'modo': 1, 'agendamento?': 1, 'possui': 1, 'baixa': 1, 'automática,': 1, 'certo?': 1, 'betas..': 1, 'vamos': 1, 'trabalhar?': 1, '😂😂': 1, 'núcleo': 1, 'alphaville': 1, 'barueri,': 1, 'sp)': 1, 'uso': 1, 'celular': 1, 'preciso': 1, 'novo!': 1}\n",
      "2687\n"
     ]
    }
   ],
   "source": [
    "dicioi={}\n",
    "palavrasi=[]\n",
    "Desconsiderari=0\n",
    "for x in di:\n",
    "    nomes=x.split()\n",
    "    for y in nomes:\n",
    "        p2=[]\n",
    "        if y[0]=='h' and y[1]=='t':\n",
    "            y='.'\n",
    "            Desconsiderari+=1\n",
    "        if y[0]== '@':\n",
    "            y='.'\n",
    "            Desconsiderari+=1  \n",
    "        for i in y:\n",
    "            if i!= \":\" and i!=\"'\" and i!='\"' and i!=' ' and i!= \",\" and i!= \".\" and i!='?'and i!='!' and i!='(' and i!=')' and i!='…' :\n",
    "                p2.append(i)\n",
    "        a=\"\".join(p2)\n",
    "        palavrasi.append(a)\n",
    "        if y in dicioi:\n",
    "            dicioi[y]+=1\n",
    "        else:\n",
    "            dicioi[y]=1\n",
    "\n",
    "print(dicioi)\n",
    "ti=sum(dicioi.values())-Desconsiderari\n",
    "print(ti)\n",
    "#print(palavrasi)"
   ]
  },
  {
   "cell_type": "code",
   "execution_count": 173,
   "metadata": {},
   "outputs": [
    {
     "name": "stdout",
     "output_type": "stream",
     "text": [
      "1295\n"
     ]
    }
   ],
   "source": [
    "soma=len(dicioi)\n",
    "for i in dicior:\n",
    "    if i in dicioi:\n",
    "        soma+=0\n",
    "    else:\n",
    "        soma+=1\n",
    "\n",
    "t=soma \n",
    "print(t)"
   ]
  },
  {
   "cell_type": "code",
   "execution_count": 174,
   "metadata": {},
   "outputs": [
    {
     "name": "stdout",
     "output_type": "stream",
     "text": [
      "0.0005260389268805891\n"
     ]
    }
   ],
   "source": [
    "#probabilidade da frase ser relavante e relevante=\n",
    "#(vezes q a palavra aparece+1)/(palavras relevantes+total de palavras) x a probab da outra palavra em relevante x ....\n",
    "#qual eh maior\n",
    "frase=\"ruim\"\n",
    "def probabr(frase,dicior,tr,t):\n",
    "    nomes=frase.split()\n",
    "    pfr=1\n",
    "    for i in nomes:\n",
    "        if i in dicior:\n",
    "            pa=(dicior[i]+1)/(tr+t)\n",
    "            pfr*=pa\n",
    "        else:\n",
    "            pa=1/(tr+t)\n",
    "            pfr*=pa\n",
    "    return pfr\n",
    "    \n",
    "print(probabr(frase,dicior,tr,t))"
   ]
  },
  {
   "cell_type": "code",
   "execution_count": 175,
   "metadata": {},
   "outputs": [
    {
     "name": "stdout",
     "output_type": "stream",
     "text": [
      "0.00025113008538422905\n"
     ]
    }
   ],
   "source": [
    "\n",
    "frase=\"ruim\"\n",
    "def probabi(frase,dicioi,ti,t):\n",
    "    nomes=frase.split()\n",
    "    pfi=1\n",
    "    for i in nomes:\n",
    "        if i in dicioi:\n",
    "            pa= (dicioi[i]+1)/(ti+t)\n",
    "            pfi*=pa\n",
    "        else:\n",
    "            pa=1/(ti+t)\n",
    "            pfi*=pa\n",
    "    return pfi\n",
    "print(probabi(frase,dicioi,ti,t))"
   ]
  },
  {
   "cell_type": "code",
   "execution_count": 176,
   "metadata": {},
   "outputs": [
    {
     "name": "stdout",
     "output_type": "stream",
     "text": [
      "É relevante\n"
     ]
    }
   ],
   "source": [
    "if probabi(frase,dicioi,ti,t)<probabr(frase,dicior,tr,t):\n",
    "    print('É relevante')\n",
    "else:\n",
    "    print('É irrelevante')"
   ]
  },
  {
   "cell_type": "markdown",
   "metadata": {},
   "source": [
    "___\n",
    "## Verificando a performance\n",
    "\n",
    "Agora você deve testar o seu Classificador com a base de Testes.<br /><br /> \n",
    "\n",
    "Você deve extrair as seguintes medidas:\n",
    "* Porcentagem de positivos falsos (marcados como relevante mas não são relevantes)\n",
    "* Porcentagem de positivos verdadeiros (marcado como relevante e são relevantes)\n",
    "* Porcentagem de negativos verdadeiros (marcado como não relevante e não são relevantes)\n",
    "* Porcentagem de negativos falsos (marcado como não relevante e são relevantes)\n",
    "\n",
    "Opcionalmente:\n",
    "* Criar categorias intermediárias de relevância baseado na diferença de probabilidades. Exemplo: muito relevante, relevante, neutro, irrelevante e muito irrelevante."
   ]
  },
  {
   "cell_type": "code",
   "execution_count": 177,
   "metadata": {
    "scrolled": true
   },
   "outputs": [
    {
     "name": "stdout",
     "output_type": "stream",
     "text": [
      "C:\\Users\\milen\\OneDrive\\Documentos\\2o SEMESTRE\\CDD\\Projeto2-CD\n"
     ]
    }
   ],
   "source": [
    "#fazer uma nov coluna e comparar as colunas\n",
    "print(os.getcwd())\n",
    "dados2 = pd.read_excel('Bradesco.xlsx', 1)"
   ]
  },
  {
   "cell_type": "code",
   "execution_count": 178,
   "metadata": {},
   "outputs": [
    {
     "name": "stdout",
     "output_type": "stream",
     "text": [
      "0          só o bradesco que n vai ter feriadão, q bosta\n",
      "1      novidades bradesco saúde. https://t.co/ndk1na7vag\n",
      "2      são 84 cursos grátis e com certificado da fund...\n",
      "3      @bradesco cheguei 12:05h agência cachambi em f...\n",
      "4      rt @bradesco: a história de orgulho dos gaúcho...\n",
      "5      eu oficialmente detesto o bradesco e essa agên...\n",
      "6      humilhada na chuva na porta do bradesco com um...\n",
      "7      @marcosrebello01 olá! por favor, nos passe ess...\n",
      "8      rt @bradesco: a história de orgulho dos gaúcho...\n",
      "9      meninas que confundem santander com bradesco s...\n",
      "10     vontade de tomar um chima pqp https://t.co/5g3...\n",
      "11     o banco do br ia voltar essa semana, aí explod...\n",
      "12     rt @marcelomassaobr: i'm at banco bradesco in ...\n",
      "13     salgueiro-pe: bandidos sequestram gerente admi...\n",
      "14     rt @bradesco: a história de orgulho dos gaúcho...\n",
      "15                      @oiayres olá! o que foi cobrado?\n",
      "16     rt @bradesco: a história de orgulho dos gaúcho...\n",
      "17     @bradesco bloquear e pedir uma nova via do meu...\n",
      "18     polícia prende dois suspeitos de participação ...\n",
      "19     @_musselli bradesco poupança salva o mc de cad...\n",
      "20     tentei sacar dinheiro no @bradesco mais de qui...\n",
      "21     $bbdc4+A23:A141 - bradesco (bbdc-n1) - ata reu...\n",
      "22     uma youtuber que despreza a tv não tem um cont...\n",
      "23     @bradesco olá, o nome é investifacil. tentei c...\n",
      "24                    @tridestilada oi! o que aconteceu?\n",
      "25     rt @umvesgo: e até quem me vê na fila do brade...\n",
      "26     ex-bancários do bec assinam acordo com o brade...\n",
      "27     @bradesco pq não tem se passou o mês tirando m...\n",
      "28     umburanas: com suspeita de vandalismo, dupla a...\n",
      "29     rt @umvesgo: e até quem me vê na fila do brade...\n",
      "                             ...                        \n",
      "170    @bradesco 🤔 \"ícone cartões\" https://t.co/b2cc0...\n",
      "171                  que saudade https://t.co/60yc5d7utp\n",
      "172         se eu pudesse explodir o bradesco eu faria 😒\n",
      "173    rt @bradesco: a história de orgulho dos gaúcho...\n",
      "174    @loongleo pelo site foi possível pagar o valor...\n",
      "175           sdds do meu rs ❤💚💛 https://t.co/sydtbp66jd\n",
      "176    @lucaasrf olá! qual a descrição do investiment...\n",
      "177    @fbnonato é conta do bradesco e em dinheiro me...\n",
      "178        @tomlopesx vc conseguiu falar na sua agência?\n",
      "179          @bradesco só conta salário e conta poupança\n",
      "180    rt @umvesgo: e até quem me vê na fila do brade...\n",
      "181    aposentados,pensionistas de órgãos federais  f...\n",
      "182    sempre que venho no bradesco eu passo raiva, m...\n",
      "183    rt @bradesco: a história de orgulho dos gaúcho...\n",
      "184    rt @cut_brasil: assinados 4 acordos coletivos ...\n",
      "185    bandidos roubam agência do bradesco no centro ...\n",
      "186     grcas a deus o ap do bradesco voltou a funcionar\n",
      "187    explosão da agência bancária do  bradesco da p...\n",
      "188    rt @gilbertosix: @bradesco @umcartao quem vai ...\n",
      "189    #timbeta #betaajudabeta #timbetaajudatimbeta #...\n",
      "190    @nery_mateus ...bradesco visa e mastercard e v...\n",
      "191    que isso @bradesco  eu que agradeço! ❤ https:/...\n",
      "192    rt @umvesgo: e até quem me vê na fila do brade...\n",
      "193    num aguento mais me estressar com o bradesco!!...\n",
      "194    acho incrivel a propaganda do bradesco que te ...\n",
      "195    rt @bradesco: a história de orgulho dos gaúcho...\n",
      "196    @bradesco minha conta é universitária, não ten...\n",
      "197    rt @rodpocket: adoçante\\n\\nbradesco\\ncc 770-6\\...\n",
      "198    não existe um banco com sistema mais \"indispon...\n",
      "199    bandidos explodem agência do bradesco na prefe...\n",
      "Name: Tweets, dtype: object\n"
     ]
    }
   ],
   "source": [
    "dados2.head()\n",
    "d2= dados2.Tweets\n",
    "dad2=dados2.Relevancia\n",
    "print(d2)"
   ]
  },
  {
   "cell_type": "code",
   "execution_count": 179,
   "metadata": {},
   "outputs": [
    {
     "name": "stdout",
     "output_type": "stream",
     "text": [
      "137\n",
      "18\n",
      "3\n",
      "42\n",
      "-----\n",
      "200\n"
     ]
    }
   ],
   "source": [
    "Relevancia2=[]\n",
    "ii=0\n",
    "ir=0\n",
    "rr=0\n",
    "ri=0\n",
    "\n",
    "for i in d2:\n",
    "    pi= probabi(i,dicioi,ti,t)\n",
    "    pr= probabr(i,dicior,tr,t)\n",
    "    if pi<pr:\n",
    "        Relevancia2.append('r')\n",
    "    else:\n",
    "        Relevancia2.append('i')\n",
    "\n",
    "Relevancia=[]\n",
    "for i in dad2:\n",
    "    Relevancia.append(i)\n",
    "    \n",
    "    \n",
    "for x in range(len(Relevancia2)):\n",
    "    if Relevancia[x]=='i' and Relevancia2[x]=='i':\n",
    "        ii+=1\n",
    "    if Relevancia[x]=='i' and Relevancia2[x]=='r':\n",
    "        ir+=1\n",
    "    if Relevancia[x]=='r' and Relevancia2[x]=='r':\n",
    "        rr+=1\n",
    "    if Relevancia[x]=='r' and Relevancia2[x]=='i':\n",
    "        ri+=1\n",
    "            \n",
    "\n",
    "print(ii)\n",
    "print(ir)\n",
    "print(rr)\n",
    "print(ri)\n",
    "\n",
    "print('-----')\n",
    "print(ii+ir+rr+ri)\n",
    "\n"
   ]
  },
  {
   "cell_type": "code",
   "execution_count": 186,
   "metadata": {},
   "outputs": [
    {
     "name": "stdout",
     "output_type": "stream",
     "text": [
      "pri =\n",
      "93.33333333333333\n",
      "prr =\n",
      "6.666666666666667\n",
      "pii =\n",
      "88.38709677419355\n",
      "pir =\n",
      "11.612903225806452\n"
     ]
    }
   ],
   "source": [
    "#Porcentagem de positivos falsos (marcados como relevante mas não são relevantes)\n",
    "pri=ri/45 *100\n",
    "print('pri =')\n",
    "print(pri)\n",
    "#Porcentagem de positivos verdadeiros (marcado como relevante e são relevantes)\n",
    "prr=rr/45*100\n",
    "print('prr =')\n",
    "print(prr)\n",
    "#Porcentagem de negativos verdadeiros (marcado como não relevante e não são relevantes)\n",
    "pii=ii/155*100\n",
    "print('pii =')\n",
    "print(pii)\n",
    "#Porcentagem de negativos falsos (marcado como não relevante e são relevantes)\n",
    "pir=ir/155*100\n",
    "print('pir =')\n",
    "print(pir)"
   ]
  },
  {
   "cell_type": "markdown",
   "metadata": {
    "collapsed": true
   },
   "source": [
    "___\n",
    "## Concluindo\n",
    "\n",
    "Escreva aqui a sua conclusão.<br /> \n",
    "Faça um comparativo qualitativo sobre as medidas obtidas.<br />\n",
    "Explique como são tratadas as mensagens com dupla negação e sarcasmo.<br />\n",
    "Proponha um plano de expansão. Por que eles devem continuar financiando o seu projeto?<br />\n",
    "\n",
    "Opcionalmente: \n",
    "* Discorrer por que não posso alimentar minha base de Treinamento automaticamente usando o próprio classificador, aplicado a novos tweets.\n",
    "* Propor diferentes cenários de uso para o classificador Naive-Bayes. Cenários sem intersecção com este projeto.\n",
    "* Sugerir e explicar melhorias reais no classificador com indicações concretas de como implementar (não é preciso codificar, mas indicar como fazer e material de pesquisa sobre o assunto).\n"
   ]
  },
  {
   "cell_type": "code",
   "execution_count": null,
   "metadata": {
    "collapsed": true
   },
   "outputs": [],
   "source": []
  }
 ],
 "metadata": {
  "kernelspec": {
   "display_name": "Python 3",
   "language": "python",
   "name": "python3"
  },
  "language_info": {
   "codemirror_mode": {
    "name": "ipython",
    "version": 3
   },
   "file_extension": ".py",
   "mimetype": "text/x-python",
   "name": "python",
   "nbconvert_exporter": "python",
   "pygments_lexer": "ipython3",
   "version": "3.6.0"
  }
 },
 "nbformat": 4,
 "nbformat_minor": 1
}
